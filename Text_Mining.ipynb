{
 "cells": [
  {
   "cell_type": "code",
   "execution_count": 140,
   "metadata": {},
   "outputs": [
    {
     "name": "stdout",
     "output_type": "stream",
     "text": [
      "Note: you may need to restart the kernel to use updated packages.Requirement already satisfied: requests in c:\\users\\fanti\\appdata\\local\\programs\\python\\python312\\lib\\site-packages (2.32.3)\n",
      "Requirement already satisfied: charset-normalizer<4,>=2 in c:\\users\\fanti\\appdata\\local\\programs\\python\\python312\\lib\\site-packages (from requests) (3.4.0)\n",
      "Requirement already satisfied: idna<4,>=2.5 in c:\\users\\fanti\\appdata\\local\\programs\\python\\python312\\lib\\site-packages (from requests) (3.10)\n",
      "Requirement already satisfied: urllib3<3,>=1.21.1 in c:\\users\\fanti\\appdata\\local\\programs\\python\\python312\\lib\\site-packages (from requests) (2.2.3)\n",
      "Requirement already satisfied: certifi>=2017.4.17 in c:\\users\\fanti\\appdata\\local\\programs\\python\\python312\\lib\\site-packages (from requests) (2024.8.30)\n",
      "\n"
     ]
    },
    {
     "name": "stderr",
     "output_type": "stream",
     "text": [
      "\n",
      "[notice] A new release of pip is available: 24.2 -> 24.3.1\n",
      "[notice] To update, run: python.exe -m pip install --upgrade pip\n"
     ]
    }
   ],
   "source": [
    "pip install requests"
   ]
  },
  {
   "cell_type": "code",
   "execution_count": 141,
   "metadata": {},
   "outputs": [
    {
     "name": "stdout",
     "output_type": "stream",
     "text": [
      "Requirement already satisfied: beautifulsoup4 in c:\\users\\fanti\\appdata\\local\\programs\\python\\python312\\lib\\site-packages (4.12.3)\n",
      "Requirement already satisfied: soupsieve>1.2 in c:\\users\\fanti\\appdata\\local\\programs\\python\\python312\\lib\\site-packages (from beautifulsoup4) (2.6)\n",
      "Note: you may need to restart the kernel to use updated packages.\n"
     ]
    },
    {
     "name": "stderr",
     "output_type": "stream",
     "text": [
      "\n",
      "[notice] A new release of pip is available: 24.2 -> 24.3.1\n",
      "[notice] To update, run: python.exe -m pip install --upgrade pip\n"
     ]
    }
   ],
   "source": [
    "pip install beautifulsoup4\n"
   ]
  },
  {
   "cell_type": "code",
   "execution_count": 142,
   "metadata": {},
   "outputs": [
    {
     "name": "stdout",
     "output_type": "stream",
     "text": [
      "Requirement already satisfied: wordcloud in c:\\users\\fanti\\appdata\\local\\programs\\python\\python312\\lib\\site-packages (1.9.4)\n",
      "Requirement already satisfied: numpy>=1.6.1 in c:\\users\\fanti\\appdata\\local\\programs\\python\\python312\\lib\\site-packages (from wordcloud) (2.1.2)\n",
      "Requirement already satisfied: pillow in c:\\users\\fanti\\appdata\\local\\programs\\python\\python312\\lib\\site-packages (from wordcloud) (11.0.0)\n",
      "Requirement already satisfied: matplotlib in c:\\users\\fanti\\appdata\\local\\programs\\python\\python312\\lib\\site-packages (from wordcloud) (3.9.2)\n",
      "Requirement already satisfied: contourpy>=1.0.1 in c:\\users\\fanti\\appdata\\local\\programs\\python\\python312\\lib\\site-packages (from matplotlib->wordcloud) (1.3.0)\n",
      "Requirement already satisfied: cycler>=0.10 in c:\\users\\fanti\\appdata\\local\\programs\\python\\python312\\lib\\site-packages (from matplotlib->wordcloud) (0.12.1)\n",
      "Requirement already satisfied: fonttools>=4.22.0 in c:\\users\\fanti\\appdata\\local\\programs\\python\\python312\\lib\\site-packages (from matplotlib->wordcloud) (4.54.1)\n",
      "Requirement already satisfied: kiwisolver>=1.3.1 in c:\\users\\fanti\\appdata\\local\\programs\\python\\python312\\lib\\site-packages (from matplotlib->wordcloud) (1.4.7)\n",
      "Requirement already satisfied: packaging>=20.0 in c:\\users\\fanti\\appdata\\local\\programs\\python\\python312\\lib\\site-packages (from matplotlib->wordcloud) (24.1)\n",
      "Requirement already satisfied: pyparsing>=2.3.1 in c:\\users\\fanti\\appdata\\local\\programs\\python\\python312\\lib\\site-packages (from matplotlib->wordcloud) (3.2.0)\n",
      "Requirement already satisfied: python-dateutil>=2.7 in c:\\users\\fanti\\appdata\\local\\programs\\python\\python312\\lib\\site-packages (from matplotlib->wordcloud) (2.9.0.post0)\n",
      "Requirement already satisfied: six>=1.5 in c:\\users\\fanti\\appdata\\local\\programs\\python\\python312\\lib\\site-packages (from python-dateutil>=2.7->matplotlib->wordcloud) (1.16.0)\n",
      "Note: you may need to restart the kernel to use updated packages.\n"
     ]
    },
    {
     "name": "stderr",
     "output_type": "stream",
     "text": [
      "\n",
      "[notice] A new release of pip is available: 24.2 -> 24.3.1\n",
      "[notice] To update, run: python.exe -m pip install --upgrade pip\n"
     ]
    }
   ],
   "source": [
    "pip install wordcloud\n"
   ]
  },
  {
   "cell_type": "code",
   "execution_count": 143,
   "metadata": {},
   "outputs": [
    {
     "name": "stdout",
     "output_type": "stream",
     "text": [
      "Requirement already satisfied: plotly in c:\\users\\fanti\\appdata\\local\\programs\\python\\python312\\lib\\site-packages (5.24.1)\n",
      "Requirement already satisfied: tenacity>=6.2.0 in c:\\users\\fanti\\appdata\\local\\programs\\python\\python312\\lib\\site-packages (from plotly) (9.0.0)\n",
      "Requirement already satisfied: packaging in c:\\users\\fanti\\appdata\\local\\programs\\python\\python312\\lib\\site-packages (from plotly) (24.1)\n",
      "Note: you may need to restart the kernel to use updated packages.\n"
     ]
    },
    {
     "name": "stderr",
     "output_type": "stream",
     "text": [
      "\n",
      "[notice] A new release of pip is available: 24.2 -> 24.3.1\n",
      "[notice] To update, run: python.exe -m pip install --upgrade pip\n"
     ]
    }
   ],
   "source": [
    "pip install plotly\n"
   ]
  },
  {
   "cell_type": "code",
   "execution_count": 144,
   "metadata": {},
   "outputs": [
    {
     "name": "stdout",
     "output_type": "stream",
     "text": [
      "Requirement already satisfied: nbformat in c:\\users\\fanti\\appdata\\local\\programs\\python\\python312\\lib\\site-packages (5.10.4)\n",
      "Requirement already satisfied: fastjsonschema>=2.15 in c:\\users\\fanti\\appdata\\local\\programs\\python\\python312\\lib\\site-packages (from nbformat) (2.21.1)\n",
      "Requirement already satisfied: jsonschema>=2.6 in c:\\users\\fanti\\appdata\\local\\programs\\python\\python312\\lib\\site-packages (from nbformat) (4.23.0)\n",
      "Requirement already satisfied: jupyter-core!=5.0.*,>=4.12 in c:\\users\\fanti\\appdata\\local\\programs\\python\\python312\\lib\\site-packages (from nbformat) (5.7.2)\n",
      "Requirement already satisfied: traitlets>=5.1 in c:\\users\\fanti\\appdata\\local\\programs\\python\\python312\\lib\\site-packages (from nbformat) (5.14.3)\n",
      "Requirement already satisfied: attrs>=22.2.0 in c:\\users\\fanti\\appdata\\local\\programs\\python\\python312\\lib\\site-packages (from jsonschema>=2.6->nbformat) (24.2.0)\n",
      "Requirement already satisfied: jsonschema-specifications>=2023.03.6 in c:\\users\\fanti\\appdata\\local\\programs\\python\\python312\\lib\\site-packages (from jsonschema>=2.6->nbformat) (2024.10.1)\n",
      "Requirement already satisfied: referencing>=0.28.4 in c:\\users\\fanti\\appdata\\local\\programs\\python\\python312\\lib\\site-packages (from jsonschema>=2.6->nbformat) (0.35.1)\n",
      "Requirement already satisfied: rpds-py>=0.7.1 in c:\\users\\fanti\\appdata\\local\\programs\\python\\python312\\lib\\site-packages (from jsonschema>=2.6->nbformat) (0.22.3)\n",
      "Requirement already satisfied: platformdirs>=2.5 in c:\\users\\fanti\\appdata\\local\\programs\\python\\python312\\lib\\site-packages (from jupyter-core!=5.0.*,>=4.12->nbformat) (4.3.6)\n",
      "Requirement already satisfied: pywin32>=300 in c:\\users\\fanti\\appdata\\local\\programs\\python\\python312\\lib\\site-packages (from jupyter-core!=5.0.*,>=4.12->nbformat) (308)\n",
      "Note: you may need to restart the kernel to use updated packages.\n"
     ]
    },
    {
     "name": "stderr",
     "output_type": "stream",
     "text": [
      "\n",
      "[notice] A new release of pip is available: 24.2 -> 24.3.1\n",
      "[notice] To update, run: python.exe -m pip install --upgrade pip\n"
     ]
    }
   ],
   "source": [
    "pip install --upgrade nbformat\n"
   ]
  },
  {
   "cell_type": "markdown",
   "metadata": {},
   "source": []
  },
  {
   "cell_type": "markdown",
   "metadata": {},
   "source": [
    "\n",
    "\n",
    "# Lien_article_Texte_Mining :\n",
    " https://www.cnews.fr/france/2024-12-03/arnaque-la-copie-de-cb-attention-cette-escroquerie-qui-touche-de-nombreux-francais\n",
    "\n",
    " # Date de publication:\n",
    " le 3 décembre 2024 \n",
    "\n",
    " # site de publication:\n",
    " CNEWS\n",
    "\n",
    " # Résumé de l'article:\n",
    " Cet article informe sur le démantèlement, en novembre 2024, d'un réseau de fraudeurs spécialisés dans le « skimming » à Toulouse. Cette technique permet de cloner des cartes bancaires en manipulant des terminaux de paiement pour accéder aux comptes des victimes. Les cartes clonées servent à des achats en ligne sur des sites à faible sécurité ou leurs données sont revendues. Malgré une baisse signalée du skimming en France, la Fédération bancaire recommande une vigilance accrue des comptes pour détecter toute fraude\n",
    "\n"
   ]
  },
  {
   "cell_type": "markdown",
   "metadata": {},
   "source": [
    "Etape du Texte_Mining de notre data_text"
   ]
  },
  {
   "cell_type": "markdown",
   "metadata": {},
   "source": [
    "Etape du Pré-processing\n",
    "\n",
    "Import des librairies utiles "
   ]
  },
  {
   "cell_type": "code",
   "execution_count": 145,
   "metadata": {},
   "outputs": [],
   "source": [
    "# Pour le data management \n",
    "import pandas as pd\n",
    "import numpy as np\n",
    "\n",
    "# Pour le pré processing\n",
    "from unidecode import unidecode\n",
    "import re\n",
    "from nltk.stem import SnowballStemmer\n",
    "from nltk.corpus import stopwords\n",
    "import nltk\n",
    "\n",
    "# Les bigrammes\n",
    "from collections import Counter\n",
    "from nltk.util import ngrams\n",
    "from collections import defaultdict\n",
    "\n",
    "# Pour la vectorisation\n",
    "from sklearn.feature_extraction.text import TfidfVectorizer \n",
    "\n",
    "# Pour la modélisation\n",
    "from sklearn.model_selection import train_test_split\n",
    "from sklearn.metrics import f1_score, recall_score, precision_score\n",
    "\n",
    "from sklearn.naive_bayes import GaussianNB"
   ]
  },
  {
   "cell_type": "markdown",
   "metadata": {},
   "source": [
    "1.Découverte et exploration des données\n",
    "  1.1. Import de la l'article à partir de telechargement en fichier text"
   ]
  },
  {
   "cell_type": "markdown",
   "metadata": {},
   "source": [
    "1.Extraction de la data_texte"
   ]
  },
  {
   "cell_type": "code",
   "execution_count": null,
   "metadata": {},
   "outputs": [
    {
     "name": "stdout",
     "output_type": "stream",
     "text": [
      "Texte extrait avec succès.\n"
     ]
    }
   ],
   "source": [
    "# Chemin du fichier texte\n",
    "#file_path = r\"C:\\Users\\fanti\\Music\\universite paris-sorbonne\\DataManagementAvecPandas\\Projet_data_management\\Arnaque à la copie de CB _ attention à cette escroquerie qui a touché de nombreux français.txt\"\n",
    "\n",
    "# Lecture du fichier texte\n",
    "with open(file_path, \"r\", encoding=\"utf-8\") as file:\n",
    "    article_text = file.read()\n",
    "print(\"Texte extrait avec succès.\")\n",
    "\n"
   ]
  },
  {
   "cell_type": "markdown",
   "metadata": {},
   "source": [
    "nettoyage du html article2"
   ]
  },
  {
   "cell_type": "code",
   "execution_count": null,
   "metadata": {},
   "outputs": [],
   "source": []
  },
  {
   "cell_type": "markdown",
   "metadata": {},
   "source": [
    "Exploration de nos données texte"
   ]
  },
  {
   "cell_type": "code",
   "execution_count": 147,
   "metadata": {},
   "outputs": [
    {
     "data": {
      "text/plain": [
       "22231"
      ]
     },
     "execution_count": 147,
     "metadata": {},
     "output_type": "execute_result"
    }
   ],
   "source": [
    "# determinons la longueur de data  brutes (sans traitement)\n",
    "len(article_text)\n",
    "\n",
    "# nos data texte contient 22 231 caractères(y compris espace , ponctuation etc)"
   ]
  },
  {
   "cell_type": "code",
   "execution_count": 148,
   "metadata": {},
   "outputs": [
    {
     "data": {
      "text/plain": [
       "['<https://www.cnews.fr/rechercher>',\n",
       " 'CNEWS',\n",
       " '|',\n",
       " 'Actualités,',\n",
       " 'Infos',\n",
       " 'et',\n",
       " 'News',\n",
       " 'en',\n",
       " 'direct',\n",
       " 'vidéo',\n",
       " 'et',\n",
       " 'replay',\n",
       " '<https://',\n",
       " 'www.cnews.fr/>',\n",
       " '*',\n",
       " 'Les',\n",
       " 'replays',\n",
       " '<https://www.cnews.fr/les-replays>',\n",
       " '*',\n",
       " 'Les',\n",
       " 'podcasts',\n",
       " '<https://www.cnews.fr/les-podcasts>',\n",
       " 'Thèmes',\n",
       " '*',\n",
       " 'Faits',\n",
       " 'divers',\n",
       " '<https://www.cnews.fr/faits-divers>',\n",
       " '*',\n",
       " 'Colère',\n",
       " 'des',\n",
       " 'agriculteurs',\n",
       " '<https://www.cnews.fr/agriculture>',\n",
       " '*',\n",
       " 'Proche-Orient',\n",
       " '<https://www.cnews.fr/proche-orient>',\n",
       " '*',\n",
       " 'Politique',\n",
       " '<https://www.cnews.fr/politique>',\n",
       " '*',\n",
       " 'France',\n",
       " '<https://www.cnews.fr/france>',\n",
       " '*',\n",
       " 'Monde',\n",
       " '<https://www.cnews.fr/monde>',\n",
       " '*',\n",
       " 'Paris',\n",
       " '<https://www.cnews.fr/paris>',\n",
       " '*',\n",
       " 'Culture',\n",
       " '<https://www.cnews.fr/culture>',\n",
       " '*',\n",
       " 'Divertissement',\n",
       " '<https://www.cnews.fr/divertissement>',\n",
       " '*',\n",
       " 'People',\n",
       " '<https://www.cnews.fr/people>',\n",
       " '*',\n",
       " 'Vie',\n",
       " 'numérique',\n",
       " '<https://www.cnews.fr/vie-numerique>',\n",
       " '*',\n",
       " 'Sport',\n",
       " '<https://www.cnews.fr/sport>',\n",
       " '*',\n",
       " 'Lifestyle',\n",
       " '<https://www.cnews.fr/lifestyle>',\n",
       " '*',\n",
       " 'Beauté',\n",
       " '<https://www.cnews.fr/beaute>',\n",
       " '*',\n",
       " 'Environnement',\n",
       " '<https://www.cnews.fr/environnement>',\n",
       " '*',\n",
       " 'Faits',\n",
       " 'divers',\n",
       " '<https://www.cnews.fr/faits-divers>',\n",
       " '*',\n",
       " 'Insolite',\n",
       " '<https://www.cnews.fr/insolite>',\n",
       " '*',\n",
       " 'Jeux',\n",
       " 'vidéo',\n",
       " '<https://www.cnews.fr/jeux-video>',\n",
       " '*',\n",
       " 'Nutrition',\n",
       " '<https://www.cnews.fr/nutrition>',\n",
       " '*',\n",
       " 'Santé',\n",
       " '<https://www.cnews.fr/sante>',\n",
       " '*',\n",
       " 'Science',\n",
       " '<https://www.cnews.fr/science>',\n",
       " '*',\n",
       " 'Le',\n",
       " 'corner',\n",
       " 'partenaires',\n",
       " '<https://www.cnews.fr/le-corner-partenaires>',\n",
       " '*',\n",
       " 'Météo',\n",
       " '<https://www.cnews.fr/meteo>',\n",
       " '*',\n",
       " 'Astrologie',\n",
       " '<https://www.cnews.fr/astrologie>',\n",
       " '*',\n",
       " 'Jeux',\n",
       " '<https://www.cnews.fr/jeux/tous-les-jeux>',\n",
       " '*',\n",
       " 'Loto',\n",
       " '<https://www.cnews.fr/loto>',\n",
       " '*',\n",
       " 'Programme',\n",
       " 'TV',\n",
       " 'TNT',\n",
       " '<https://www.cnews.fr/programme-tv-tnt>',\n",
       " '*',\n",
       " 'Facebook',\n",
       " '<https://www.facebook.com/CNEWSofficiel>',\n",
       " '*',\n",
       " 'Instagram',\n",
       " '<https://www.instagram.com/cnewsofficiel>',\n",
       " '*',\n",
       " 'Twitter',\n",
       " '<https://twitter.com/CNEWS>',\n",
       " 'Dernière',\n",
       " 'minute',\n",
       " '<https://www.cnews.fr/le-direct>',\n",
       " 'Previous',\n",
       " '17h26',\n",
       " 'Noël',\n",
       " '2024',\n",
       " ':',\n",
       " 'les',\n",
       " 'beaux',\n",
       " 'livres',\n",
       " 'à',\n",
       " 'offrir',\n",
       " 'aux',\n",
       " 'fous',\n",
       " 'de',\n",
       " 'sport',\n",
       " '<https://www.cnews.fr/culture/2024-12-04/noel-2024-les-beaux-livres-',\n",
       " 'offrir-aux-fous-de-sport-1586511>',\n",
       " '17h24',\n",
       " 'Astéroïde',\n",
       " 'en',\n",
       " 'Sibérie',\n",
       " ':',\n",
       " 'les',\n",
       " 'images',\n",
       " 'impressionnant']"
      ]
     },
     "execution_count": 148,
     "metadata": {},
     "output_type": "execute_result"
    }
   ],
   "source": [
    "article_text[:2000].split()"
   ]
  },
  {
   "cell_type": "code",
   "execution_count": 149,
   "metadata": {},
   "outputs": [
    {
     "data": {
      "text/plain": [
       "str"
      ]
     },
     "execution_count": 149,
     "metadata": {},
     "output_type": "execute_result"
    }
   ],
   "source": [
    "# verifions que le contenu de notre données est du type string\n",
    "\n",
    "type(article_text)"
   ]
  },
  {
   "cell_type": "markdown",
   "metadata": {},
   "source": [
    "Je selectionne les lignes "
   ]
  },
  {
   "cell_type": "markdown",
   "metadata": {},
   "source": [
    "2.Prétraitement du texte\n",
    "Nettoyage du texte pour supprimer les caractères inutiles, suppression des accents et des stopwords\n"
   ]
  },
  {
   "cell_type": "code",
   "execution_count": 150,
   "metadata": {},
   "outputs": [
    {
     "name": "stderr",
     "output_type": "stream",
     "text": [
      "[nltk_data] Downloading package stopwords to\n",
      "[nltk_data]     C:\\Users\\fanti\\AppData\\Roaming\\nltk_data...\n",
      "[nltk_data]   Package stopwords is already up-to-date!\n"
     ]
    }
   ],
   "source": [
    "\n",
    "nltk.download('stopwords') # téléchargement du package depuis la bibliothèque NLTK(Natural language Toolkit)\n",
    "stop_words = set(stopwords.words('french'))  #  je charge la ligne des  stopwords pour la langue française\n"
   ]
  },
  {
   "cell_type": "code",
   "execution_count": 151,
   "metadata": {},
   "outputs": [
    {
     "name": "stdout",
     "output_type": "stream",
     "text": [
      "{'on', 'que', 'serez', 'aies', 'es', 'étaient', 'ces', 'pas', 'aurez', 'ou', 'des', 'ton', 'sa', 'eut', 'est', 'serons', 'étions', 'sera', 'ayants', 'mes', 'avons', 'eût', 'ses', 'furent', 'aurais', 'avions', 'n', 'du', 'leur', 'tes', 'étiez', 'étés', 'ce', 'auras', 'soyez', 'aie', 'as', 'étantes', 'mon', 'eux', 'serions', 'ai', 'me', 'eûmes', 'ma', 'avaient', 'suis', 'sommes', 'aurions', 'fussent', 'eurent', 'sois', 'vous', 'notre', 'à', 'eu', 'étée', 'était', 'ayantes', 'je', 'qu', 'te', 'c', 'avec', 'êtes', 'eusses', 'ayant', 'auraient', 'fussions', 'dans', 'fûtes', 'ne', 'auront', 'toi', 'aurait', 'eûtes', 'sur', 'fussiez', 'mais', 'm', 'les', 'aurons', 'étant', 'le', 'd', 'sont', 'aurai', 'votre', 'de', 'fus', 'un', 'auriez', 'une', 'ayons', 'eussions', 'fut', 'eues', 'ils', 'même', 'serait', 'eus', 'aura', 'vos', 'et', 'par', 'il', 'tu', 'nos', 'l', 'avez', 'étants', 'eussiez', 'aux', 'seront', 'étais', 'avait', 'lui', 'qui', 't', 'été', 'étées', 'moi', 'se', 'serai', 'y', 'son', 'la', 'serais', 'seraient', 'au', 'avais', 'aient', 'fusse', 'j', 'ait', 'eue', 'ont', 'seras', 'fût', 'elle', 's', 'fûmes', 'soyons', 'fusses', 'soit', 'soient', 'ayez', 'ta', 'eussent', 'ayante', 'nous', 'eusse', 'étante', 'en', 'seriez', 'pour', 'aviez'}\n"
     ]
    }
   ],
   "source": [
    "print(stop_words)"
   ]
  },
  {
   "cell_type": "markdown",
   "metadata": {},
   "source": [
    "Après le chargement de la liste des mots inutiles (stop_words) pour notre analyse textuelle, nous constatons qu'elle contient un total de 157 termes."
   ]
  },
  {
   "cell_type": "code",
   "execution_count": 152,
   "metadata": {},
   "outputs": [
    {
     "name": "stdout",
     "output_type": "stream",
     "text": [
      "157\n"
     ]
    }
   ],
   "source": [
    "print( len(stop_words))"
   ]
  },
  {
   "cell_type": "markdown",
   "metadata": {},
   "source": [
    "3. passons à  l'étape du pré-procéssing de notre data_texte"
   ]
  },
  {
   "cell_type": "code",
   "execution_count": 153,
   "metadata": {},
   "outputs": [
    {
     "name": "stdout",
     "output_type": "stream",
     "text": [
      "Texte nettoyé avec succès.\n"
     ]
    }
   ],
   "source": [
    "# étape du pré-processing\n",
    "\n",
    "\n",
    "def preprocess_text(text):\n",
    "    text = text.lower()  # Conversion en minuscules\n",
    "    text = unidecode(text)  # Suppression des accents\n",
    "    text = re.sub(r'http\\S+', '', text)  # Suppression des URL\n",
    "    text = re.sub(r'[^a-z\\s]', '', text)  # Suppression des caractères spéciaux\n",
    "    text = re.sub(r'\\b\\w{1,2}\\b', '', text)  # Suppression des mots très courts (1-2 lettres)\n",
    "    text = re.sub(r'\\s+', ' ', text)  # Suppression des espaces multiples\n",
    "    words = text.split()  # Tokenisation\n",
    "    words = [word for word in words if word not in stop_words]  # Suppression des stopwords\n",
    "    return ' '.join(words).split()\n",
    "\n",
    "# Appliquer le nettoyage avancé\n",
    "cleaned_text = preprocess_text(article_text)\n",
    "print(\"Texte nettoyé avec succès.\")\n",
    "\n"
   ]
  },
  {
   "cell_type": "code",
   "execution_count": 154,
   "metadata": {},
   "outputs": [
    {
     "data": {
      "text/plain": [
       "['cnews',\n",
       " 'actualites',\n",
       " 'infos',\n",
       " 'news',\n",
       " 'direct',\n",
       " 'video',\n",
       " 'replay',\n",
       " 'wwwcnewsfr',\n",
       " 'replays',\n",
       " 'podcasts',\n",
       " 'themes',\n",
       " 'faits',\n",
       " 'divers',\n",
       " 'colere',\n",
       " 'agriculteurs',\n",
       " 'procheorient',\n",
       " 'politique',\n",
       " 'france',\n",
       " 'monde',\n",
       " 'paris',\n",
       " 'culture',\n",
       " 'divertissement',\n",
       " 'people',\n",
       " 'vie',\n",
       " 'numerique',\n",
       " 'sport',\n",
       " 'lifestyle',\n",
       " 'beaute',\n",
       " 'environnement',\n",
       " 'faits',\n",
       " 'divers',\n",
       " 'insolite',\n",
       " 'jeux',\n",
       " 'video',\n",
       " 'nutrition',\n",
       " 'sante',\n",
       " 'science',\n",
       " 'corner',\n",
       " 'partenaires',\n",
       " 'meteo',\n",
       " 'astrologie',\n",
       " 'jeux',\n",
       " 'loto',\n",
       " 'programme',\n",
       " 'tnt',\n",
       " 'facebook',\n",
       " 'instagram',\n",
       " 'twitter',\n",
       " 'derniere',\n",
       " 'minute',\n",
       " 'previous',\n",
       " 'noel',\n",
       " 'beaux',\n",
       " 'livres',\n",
       " 'offrir',\n",
       " 'fous',\n",
       " 'sport',\n",
       " 'offrirauxfousdesport',\n",
       " 'asteroide',\n",
       " 'siberie',\n",
       " 'images',\n",
       " 'impressionnantes',\n",
       " 'meteore',\n",
       " 'avant',\n",
       " 'impact',\n",
       " 'video',\n",
       " 'impressionnantesdumeteoreavantsonimpactvideo',\n",
       " 'vents',\n",
       " 'violents',\n",
       " 'voici',\n",
       " 'departements',\n",
       " 'places',\n",
       " 'vigilance',\n",
       " 'jaune',\n",
       " 'jeudi',\n",
       " 'departementsplacesenvigilancejaunecejeudi',\n",
       " 'iran',\n",
       " 'prix',\n",
       " 'nobel',\n",
       " 'paix',\n",
       " 'narges',\n",
       " 'mohammadi',\n",
       " 'sort',\n",
       " 'temporairement',\n",
       " 'prison',\n",
       " 'raisons',\n",
       " 'sante',\n",
       " 'nargesmohammadisorttemporairementdeprisonpour',\n",
       " 'francais',\n",
       " 'posent',\n",
       " 'tous',\n",
       " 'meme',\n",
       " 'question',\n",
       " 'largent',\n",
       " 'tonne',\n",
       " 'marine',\n",
       " 'pen',\n",
       " 'avant',\n",
       " 'vote',\n",
       " 'motions',\n",
       " 'memequestionouvalargenttonnemarinelepen',\n",
       " 'noel',\n",
       " 'beaux',\n",
       " 'livres',\n",
       " 'offrir',\n",
       " 'fous',\n",
       " 'sport',\n",
       " 'offrirauxfousdesport',\n",
       " 'asteroide',\n",
       " 'siberie',\n",
       " 'images',\n",
       " 'impressionnantes',\n",
       " 'meteore',\n",
       " 'avant',\n",
       " 'impact',\n",
       " 'video',\n",
       " 'impressionnantesdumeteoreavantsonimpactvideo',\n",
       " 'vents',\n",
       " 'violents',\n",
       " 'voici',\n",
       " 'departements',\n",
       " 'places',\n",
       " 'vigilance',\n",
       " 'jaune',\n",
       " 'jeudi',\n",
       " 'departementsplacesenvigilancejaunecejeudi',\n",
       " 'iran',\n",
       " 'prix',\n",
       " 'nobel',\n",
       " 'paix',\n",
       " 'narges',\n",
       " 'mohammadi',\n",
       " 'sort',\n",
       " 'temporairement',\n",
       " 'prison',\n",
       " 'raisons',\n",
       " 'sante',\n",
       " 'nargesmohammadisorttemporairementdeprisonpour',\n",
       " 'francais',\n",
       " 'posent',\n",
       " 'tous',\n",
       " 'meme',\n",
       " 'question',\n",
       " 'largent',\n",
       " 'tonne',\n",
       " 'marine',\n",
       " 'pen',\n",
       " 'avant',\n",
       " 'vote',\n",
       " 'motions',\n",
       " 'memequestionouvalargenttonnemarinelepen',\n",
       " 'noel',\n",
       " 'beaux',\n",
       " 'livres',\n",
       " 'offrir',\n",
       " 'fous',\n",
       " 'sport',\n",
       " 'offrirauxfousdesport',\n",
       " 'asteroide',\n",
       " 'siberie',\n",
       " 'images',\n",
       " 'impressionnantes',\n",
       " 'meteore',\n",
       " 'avant',\n",
       " 'impact',\n",
       " 'video',\n",
       " 'impressionnantesdumeteoreavantsonimpactvideo',\n",
       " 'vents',\n",
       " 'violents',\n",
       " 'voici',\n",
       " 'departements',\n",
       " 'places',\n",
       " 'vigilance',\n",
       " 'jaune',\n",
       " 'jeudi',\n",
       " 'departementsplacesenvigilancejaunecejeudi',\n",
       " 'next',\n",
       " 'direct',\n",
       " 'midi',\n",
       " 'news',\n",
       " 'minutes',\n",
       " 'info',\n",
       " 'punchline',\n",
       " 'face',\n",
       " 'linfo',\n",
       " 'derniere',\n",
       " 'minute',\n",
       " 'direct',\n",
       " 'suivre',\n",
       " 'motions',\n",
       " 'censure',\n",
       " 'faits',\n",
       " 'divers',\n",
       " 'politique',\n",
       " 'procheorient',\n",
       " 'france',\n",
       " 'paris',\n",
       " 'sport',\n",
       " 'football',\n",
       " 'divertissement',\n",
       " 'partager',\n",
       " 'wwwcnewsfrfrancearnaquelacopiedecbattentioncette',\n",
       " 'escroqueriequitouchedenombreux',\n",
       " 'francaistarnaquecalacopiedecbaattentioncacetteescroqueriequiatouchcadenombreuxfrancaais',\n",
       " 'tweet',\n",
       " 'arnaque',\n",
       " 'copie',\n",
       " 'attention',\n",
       " 'cette',\n",
       " 'escroquerie',\n",
       " 'touche',\n",
       " 'nombreux',\n",
       " 'francais',\n",
       " 'terminal',\n",
       " 'carte',\n",
       " 'bancaire',\n",
       " 'donnees',\n",
       " 'bancaires',\n",
       " 'peuvent',\n",
       " 'etre',\n",
       " 'fois',\n",
       " 'volees',\n",
       " 'revendues',\n",
       " 'tomek',\n",
       " 'pixabay',\n",
       " 'partager',\n",
       " 'wwwfacebookcomsharersharerphpu',\n",
       " 'francearnaquelacopiedecbattentioncetteescroquerie',\n",
       " 'quitouchedenombreux',\n",
       " 'francaistarnaquecalacopiedecbaattentioncacetteescroqueriequiatouchcadenombreuxfrancaais',\n",
       " 'tweet',\n",
       " 'cnews',\n",
       " 'publie',\n",
       " 'mis',\n",
       " 'jour',\n",
       " 'region',\n",
       " 'toulouse',\n",
       " 'trois',\n",
       " 'individus',\n",
       " 'ete',\n",
       " 'arretes',\n",
       " 'courant',\n",
       " 'novembre',\n",
       " 'pratique',\n",
       " 'skimming',\n",
       " 'methode',\n",
       " 'fraude',\n",
       " 'bancaire',\n",
       " 'touche',\n",
       " 'beaucoup',\n",
       " 'francais',\n",
       " 'dernieres',\n",
       " 'annees',\n",
       " 'quoi',\n",
       " 'consistet',\n",
       " 'operation',\n",
       " 'reussie',\n",
       " 'cote',\n",
       " 'toulouse',\n",
       " 'lantenne',\n",
       " 'cyber',\n",
       " 'section',\n",
       " 'recherches',\n",
       " 'demantele',\n",
       " 'reseau',\n",
       " 'descroquerie',\n",
       " 'carte',\n",
       " 'bancaire',\n",
       " 'annonce',\n",
       " 'gendarmerie',\n",
       " 'samedi',\n",
       " 'novembre',\n",
       " 'accuses',\n",
       " 'etaient',\n",
       " 'passes',\n",
       " 'expert',\n",
       " 'pratique',\n",
       " 'skimming',\n",
       " 'apres',\n",
       " 'larrestation',\n",
       " 'trois',\n",
       " 'ressortissants',\n",
       " 'lest',\n",
       " 'region',\n",
       " 'toulouse',\n",
       " 'fraude',\n",
       " 'carte',\n",
       " 'bancaire',\n",
       " 'autorites',\n",
       " 'alertent',\n",
       " 'skimming',\n",
       " 'toulouse',\n",
       " 'actu',\n",
       " 'toulouseunreseaudeskimmingdemantelecestquoicetteescroquerie',\n",
       " 'surlescartesbancaireshtml',\n",
       " 'lescroquerie',\n",
       " 'skimming',\n",
       " 'consiste',\n",
       " 'cloner',\n",
       " 'carte',\n",
       " 'bancaire',\n",
       " 'trafiquant',\n",
       " 'piratant',\n",
       " 'terminaux',\n",
       " 'paiement',\n",
       " 'lesquels',\n",
       " 'cette',\n",
       " 'carte',\n",
       " 'peut',\n",
       " 'etre',\n",
       " 'inseree',\n",
       " 'comme',\n",
       " 'distributeurs',\n",
       " 'billets',\n",
       " 'automates',\n",
       " 'stationservice',\n",
       " 'explique',\n",
       " 'gendarmerie',\n",
       " 'nationale',\n",
       " 'donnees',\n",
       " 'ensuite',\n",
       " 'dupliquees',\n",
       " 'autre',\n",
       " 'carte',\n",
       " 'puce',\n",
       " 'permettant',\n",
       " 'ainsi',\n",
       " 'dacceder',\n",
       " 'comptes',\n",
       " 'bancaires',\n",
       " 'relies',\n",
       " 'carte',\n",
       " 'majorite',\n",
       " 'cas',\n",
       " 'fraudeurs',\n",
       " 'trafiquent',\n",
       " 'terminaux',\n",
       " 'paiements',\n",
       " 'comme',\n",
       " 'distributeurs',\n",
       " 'billets',\n",
       " 'encore',\n",
       " 'automates',\n",
       " 'installes',\n",
       " 'stationsservices',\n",
       " 'afin',\n",
       " 'copier',\n",
       " 'donnees',\n",
       " 'bancaires',\n",
       " 'bande',\n",
       " 'magnetique',\n",
       " 'elles',\n",
       " 'ensuite',\n",
       " 'transferees',\n",
       " 'autre',\n",
       " 'puce',\n",
       " 'agit',\n",
       " 'comme',\n",
       " 'copie',\n",
       " 'carte',\n",
       " 'skimmer',\n",
       " 'materiel',\n",
       " 'glissant',\n",
       " 'fente',\n",
       " 'dun',\n",
       " 'automate',\n",
       " 'tout',\n",
       " 'laissant',\n",
       " 'lespace',\n",
       " 'quune',\n",
       " 'carte',\n",
       " 'bancaire',\n",
       " 'puisse',\n",
       " 'etre',\n",
       " 'glissee',\n",
       " 'naturellement',\n",
       " 'indiquaient',\n",
       " 'lobservatoire',\n",
       " 'securite',\n",
       " 'moyens',\n",
       " 'paiement',\n",
       " 'osmp',\n",
       " 'copie',\n",
       " 'donnees',\n",
       " 'bancaires',\n",
       " 'nempeche',\n",
       " 'bon',\n",
       " 'fonctionnement',\n",
       " 'carte',\n",
       " 'donnees',\n",
       " 'revendues',\n",
       " 'cartes',\n",
       " 'copiees',\n",
       " 'peuvent',\n",
       " 'etre',\n",
       " 'utilisees',\n",
       " 'distances',\n",
       " 'sites',\n",
       " 'commerces',\n",
       " 'plus',\n",
       " 'souvent',\n",
       " 'noneuropeens',\n",
       " 'pays',\n",
       " 'systeme',\n",
       " 'dauthentification',\n",
       " 'titulaire',\n",
       " 'carte',\n",
       " 'nest',\n",
       " 'actif',\n",
       " 'donnees',\n",
       " 'peuvent',\n",
       " 'egalement',\n",
       " 'etre',\n",
       " 'revendues',\n",
       " 'lespayslesplusconcerneseneurope',\n",
       " 'meme',\n",
       " 'sujetfraude',\n",
       " 'carte',\n",
       " 'bancaire',\n",
       " 'voici',\n",
       " 'pays',\n",
       " 'plus',\n",
       " 'concernes',\n",
       " 'europelire',\n",
       " 'lacartebancairevoicilespayslesplusconcerneseneurope',\n",
       " 'meme',\n",
       " 'federation',\n",
       " 'francaise',\n",
       " 'bancaire',\n",
       " 'fbf',\n",
       " 'indique',\n",
       " 'skimming',\n",
       " 'baisse',\n",
       " 'france',\n",
       " 'conseille',\n",
       " 'surveiller',\n",
       " 'comptes',\n",
       " 'bancaires',\n",
       " 'frequemment',\n",
       " 'prevenir',\n",
       " 'fraudes',\n",
       " 'fraude',\n",
       " 'bancaire',\n",
       " 'wwwcnewsfrcartebancairevol',\n",
       " 'suivre',\n",
       " 'aussi',\n",
       " 'enedis',\n",
       " 'attention',\n",
       " 'compteurs',\n",
       " 'linky',\n",
       " 'feront',\n",
       " 'lobjet',\n",
       " 'controles',\n",
       " 'surprises',\n",
       " 'compteurslinkyferontlobjetdecontrolessurprises',\n",
       " 'carte',\n",
       " 'vitale',\n",
       " 'tout',\n",
       " 'changer',\n",
       " 'changeren',\n",
       " 'fraude',\n",
       " 'millions',\n",
       " 'deuros',\n",
       " 'insolvable',\n",
       " 'couple',\n",
       " 'touchait',\n",
       " 'aides',\n",
       " 'sociales',\n",
       " 'etait',\n",
       " 'millionnaire',\n",
       " 'insolvablelecouplequitouchaitdesaidessociales',\n",
       " 'francearnaquelacopiedecbattentioncetteescroquerie',\n",
       " 'quitouchedenombreux',\n",
       " 'francaistarnaquecalacopiedecbaattentioncacetteescroqueriequiatouchcadenombreuxfrancaais',\n",
       " 'ailleurs',\n",
       " 'web',\n",
       " 'contenus',\n",
       " 'sponsorises',\n",
       " 'templatecolorboxutmsourcecnews',\n",
       " 'cnewsutmmediumreferralutmcontentthumbnails',\n",
       " 'bbelowarticlethumbnailsunitcontenus',\n",
       " 'sponsorises',\n",
       " 'popuptaboolacomfrtemplatecolorboxutmsourcecnews',\n",
       " 'cnewsutmmediumreferralutmcontentthumbnails',\n",
       " 'bbelowarticlethumbnailsunit',\n",
       " 'contenus',\n",
       " 'selectionnes',\n",
       " 'templatecolorboxutmsourcecnews',\n",
       " 'cnewsutmmediumreferralutmcontentthumbnails',\n",
       " 'bbelowarticlethumbnailsunitcontenus',\n",
       " 'selectionnes',\n",
       " 'popuptaboolacomfrtemplatecolorboxutmsourcecnews',\n",
       " 'cnewsutmmediumreferralutmcontentthumbnails',\n",
       " 'bbelowarticlethumbnailsunit',\n",
       " 'utmsourcetbutmmediumcpcutmcampaigngutfdkutmtermcnews',\n",
       " 'cnewsutmcontenttgibnnbdigwshmpfiaiylgdqywdzkvrieycrruyotwnvppwlmlivsgatbtblcigibnnbdigwshmpfiaiylgdqywdzkvrieycrruyotwnvppwlmlivsgtblcigibnnbdigwshmpfiaiylgdqywdzkvrieycrruyotwnvppwlmlivsgnutritionnistes',\n",
       " 'astuce',\n",
       " 'eliminer',\n",
       " 'graisse',\n",
       " 'abdominale',\n",
       " 'prendre',\n",
       " 'avant',\n",
       " 'petitdejeunernva',\n",
       " 'savoir',\n",
       " 'plus',\n",
       " 'utmsourcetbutmmediumcpcutmcampaigngutfdkutmtermcnews',\n",
       " 'cnewsutmcontenttgibnnbdigwshmpfiaiylgdqywdzkvrieycrruyotwnvppwlmlivsgatbtblcigibnnbdigwshmpfiaiylgdqywdzkvrieycrruyotwnvppwlmlivsgtblcigibnnbdigwshmpfiaiylgdqywdzkvrieycrruyotwnvppwlmlivsg',\n",
       " 'annuler',\n",
       " 'utmsourcetbutmcampaigntbdkfutmtermcnews',\n",
       " 'cnewsutmcontenttgibnnbdigwshmpfiaiylgdqywdzkvrieycsfwopjsmtnkcmlivsgatbtblcigibnnbdigwshmpfiaiylgdqywdzkvrieycsfwopjsmtnkcmlivsgtblcigibnnbdigwshmpfiaiylgdqywdzkvrieycsfwopjsmtnkcmlivsgneuropathie',\n",
       " 'insupportable',\n",
       " 'essayez',\n",
       " 'cette',\n",
       " 'astuce',\n",
       " 'simple',\n",
       " 'change',\n",
       " 'toutsb',\n",
       " 'savoir',\n",
       " 'plus',\n",
       " 'utmsourcetbutmcampaigntbdkfutmtermcnews',\n",
       " 'cnewsutmcontenttgibnnbdigwshmpfiaiylgdqywdzkvrieycsfwopjsmtnkcmlivsgatbtblcigibnnbdigwshmpfiaiylgdqywdzkvrieycsfwopjsmtnkcmlivsgtblcigibnnbdigwshmpfiaiylgdqywdzkvrieycsfwopjsmtnkcmlivsg',\n",
       " 'annuler',\n",
       " 'utmsourcetbutmmediumcpcutmcampaigngutfdkutmtermcnews',\n",
       " 'cnewsutmcontenttgibnnbdigwshmpfiaiylgdqywdzkvrieycrruyoicbotldhrsvmlivsgatbtblcigibnnbdigwshmpfiaiylgdqywdzkvrieycrruyoicbotldhrsvmlivsgtblcigibnnbdigwshmpfiaiylgdqywdzkvrieycrruyoicbotldhrsvmlivsgtrop',\n",
       " 'graisse',\n",
       " 'ventre',\n",
       " 'geste',\n",
       " 'simple',\n",
       " 'avant',\n",
       " 'petit',\n",
       " 'dejeunernutravya',\n",
       " 'savoir',\n",
       " 'plus',\n",
       " 'utmsourcetbutmmediumcpcutmcampaigngutfdkutmtermcnews',\n",
       " 'cnewsutmcontenttgibnnbdigwshmpfiaiylgdqywdzkvrieycrruyoicbotldhrsvmlivsgatbtblcigibnnbdigwshmpfiaiylgdqywdzkvrieycrruyoicbotldhrsvmlivsgtblcigibnnbdigwshmpfiaiylgdqywdzkvrieycrruyoicbotldhrsvmlivsg',\n",
       " 'annuler',\n",
       " 'dasoptfpoposlapsllonatsptabkididkpsalescodecvdposnattabotbclickidgibnnbdigwshmpfiaiylgdqywdzkvrieycireoiyeyjbhtyamlivsgtblcigibnnbdigwshmpfiaiylgdqywdzkvrieycireoiyeyjbhtyamlivsgtblcigibnnbdigwshmpfiaiylgdqywdzkvrieycireoiyeyjbhtyamlivsgdurdur',\n",
       " 'daller',\n",
       " 'toilettes',\n",
       " 'faites',\n",
       " 'ceci',\n",
       " 'jour',\n",
       " 'avant',\n",
       " 'petit',\n",
       " 'dejeunerscience',\n",
       " 'actualite',\n",
       " 'annuler',\n",
       " 'sitecnews',\n",
       " 'cnewssiteidtitleplusdepiqcbbresdedoigtfrcaquentespourlasurveillancedelaglyccamieplatformdesktopcampaignidcampaignitemidthumbnail',\n",
       " 'piqures',\n",
       " 'doigt',\n",
       " 'frequentes',\n",
       " 'surveillance',\n",
       " 'glycemiesherum',\n",
       " 'savoir',\n",
       " 'plus',\n",
       " 'sitecnews',\n",
       " 'cnewssiteidtitleplusdepiqcbbresdedoigtfrcaquentespourlasurveillancedelaglyccamieplatformdesktopcampaignidcampaignitemidthumbnail',\n",
       " 'annuler',\n",
       " 'clickidgibnnbdigwshmpfiaiylgdqywdzkvrieyduogcoryqyymvcgwatcrositecnewscnewsthumbnail',\n",
       " 'seniors',\n",
       " 'sarrachent',\n",
       " 'chaussures',\n",
       " 'concues',\n",
       " 'articulations',\n",
       " 'revue',\n",
       " 'confort',\n",
       " 'annuler',\n",
       " 'taboola',\n",
       " 'templatecolorboxutmsourcecnews',\n",
       " 'cnewsutmmediumreferralutmcontentthumbnails',\n",
       " 'bbelowarticlethumbnailsunitpar',\n",
       " 'taboola',\n",
       " 'popuptaboolacomfrtemplatecolorboxutmsourcecnews',\n",
       " 'cnewsutmmediumreferralutmcontentthumbnails',\n",
       " 'bbelowarticlethumbnailsunit',\n",
       " 'dernieres',\n",
       " 'actualites',\n",
       " 'iran',\n",
       " 'prix',\n",
       " 'nobel',\n",
       " 'paix',\n",
       " 'narges',\n",
       " 'mohammadi',\n",
       " 'sort',\n",
       " 'temporairement',\n",
       " 'prison',\n",
       " 'raisons',\n",
       " 'sante',\n",
       " 'nargesmohammadisorttemporairementdeprisonpour',\n",
       " 'francais',\n",
       " 'posent',\n",
       " 'tous',\n",
       " 'meme',\n",
       " 'question',\n",
       " 'largent',\n",
       " 'tonne',\n",
       " 'marine',\n",
       " 'pen',\n",
       " 'avant',\n",
       " 'vote',\n",
       " 'motions',\n",
       " 'censure',\n",
       " 'memequestionouvalargenttonnemarinelepen',\n",
       " 'noel',\n",
       " 'beaux',\n",
       " 'livres',\n",
       " 'offrir',\n",
       " 'fous',\n",
       " 'sport',\n",
       " 'offrirauxfousdesport',\n",
       " 'asteroide',\n",
       " 'siberie',\n",
       " 'images',\n",
       " 'impressionnantes',\n",
       " 'meteore',\n",
       " 'avant',\n",
       " 'impact',\n",
       " 'video',\n",
       " 'impressionnantesdumeteoreavantsonimpactvideo',\n",
       " 'vents',\n",
       " 'violents',\n",
       " 'voici',\n",
       " 'departements',\n",
       " 'places',\n",
       " 'vigilance',\n",
       " 'jaune',\n",
       " 'jeudi',\n",
       " 'departementsplacesenvigilancejaunecejeudi',\n",
       " 'neigeverglas',\n",
       " 'voici',\n",
       " 'departements',\n",
       " 'places',\n",
       " 'vigilance',\n",
       " 'jaune',\n",
       " 'jeudi',\n",
       " 'departementsplacesenvigilancejaunecejeudi',\n",
       " 'prince',\n",
       " 'andrew',\n",
       " 'duc',\n",
       " 'dyork',\n",
       " 'plus',\n",
       " 'isole',\n",
       " 'jamais',\n",
       " 'depuis',\n",
       " 'frere',\n",
       " 'charles',\n",
       " 'iii',\n",
       " 'coupe',\n",
       " 'allocation',\n",
       " 'annuelle',\n",
       " 'isolequejamaisdepuisquesonfrerecharlesiii',\n",
       " 'plus',\n",
       " 'darticles',\n",
       " 'belgique',\n",
       " 'devient',\n",
       " 'premier',\n",
       " 'pays',\n",
       " 'monde',\n",
       " 'permettre',\n",
       " 'travailleurs',\n",
       " 'travailleuses',\n",
       " 'sexe',\n",
       " 'signer',\n",
       " 'contrat',\n",
       " 'travail',\n",
       " 'paysaumondepermettreauxtravailleurset',\n",
       " 'terminal',\n",
       " 'carte',\n",
       " 'bancaire',\n",
       " 'arnaque',\n",
       " 'copie',\n",
       " 'attention',\n",
       " 'cette',\n",
       " 'escroquerie',\n",
       " 'touche',\n",
       " 'nombreux',\n",
       " 'francais',\n",
       " 'attentioncetteescroqueriequitouchedenombreuxfrancais',\n",
       " 'voici',\n",
       " 'pays',\n",
       " 'plus',\n",
       " 'endettes',\n",
       " 'monde',\n",
       " 'endettesaumonde',\n",
       " 'tout',\n",
       " 'parti',\n",
       " 'dune',\n",
       " 'decision',\n",
       " 'larbitre',\n",
       " 'morgue',\n",
       " 'pleine',\n",
       " 'moins',\n",
       " 'morts',\n",
       " 'match',\n",
       " 'foot',\n",
       " 'tourne',\n",
       " 'carnage',\n",
       " 'guinee',\n",
       " 'larbitrelamorgueestpleineaumoinsmortsun',\n",
       " 'greve',\n",
       " 'decembre',\n",
       " 'ecoles',\n",
       " 'hopitaux',\n",
       " 'transports',\n",
       " 'perturbations',\n",
       " 'prevoir',\n",
       " 'jeudi',\n",
       " 'hopitauxtransportscesperturbationsprevoircejeudi',\n",
       " 'accueil',\n",
       " 'suiveznous',\n",
       " 'facebook',\n",
       " 'instagram',\n",
       " 'twitter',\n",
       " 'tiktok',\n",
       " 'mentions',\n",
       " 'legales',\n",
       " 'politique',\n",
       " 'cookies',\n",
       " 'gestion',\n",
       " 'cookies',\n",
       " 'javascriptdidomipreferencesshow',\n",
       " 'cgu',\n",
       " 'actualite',\n",
       " 'mots',\n",
       " 'croises',\n",
       " 'mots',\n",
       " 'fleches',\n",
       " 'solitaire',\n",
       " 'sudoku',\n",
       " 'programme',\n",
       " 'devenir',\n",
       " 'annonceur',\n",
       " 'devenirannonceurcommuniquersurcnews',\n",
       " 'flux',\n",
       " 'rss',\n",
       " 'resultats',\n",
       " 'elections',\n",
       " 'legislatives',\n",
       " 'electionsresultatslegislatives']"
      ]
     },
     "execution_count": 154,
     "metadata": {},
     "output_type": "execute_result"
    }
   ],
   "source": [
    "cleaned_text"
   ]
  },
  {
   "cell_type": "markdown",
   "metadata": {},
   "source": [
    "Après la phase du pré_processing, le texte a été considérablement nettoyé, passant de 216532 termes bruts à seulement 6515 mots significatifs prêts pour l'analyse."
   ]
  },
  {
   "cell_type": "code",
   "execution_count": 155,
   "metadata": {},
   "outputs": [
    {
     "name": "stdout",
     "output_type": "stream",
     "text": [
      "Longueur des données brutes (concaténées) : 22231 caractères.\n",
      "Nombre de mots après prétraitement : 740 mots.\n"
     ]
    }
   ],
   "source": [
    "\n",
    "print(f\"Longueur des données brutes (concaténées) : {len(article_text)} caractères.\")\n",
    "print(f\"Nombre de mots après prétraitement : {len(cleaned_text)} mots.\")"
   ]
  },
  {
   "cell_type": "code",
   "execution_count": null,
   "metadata": {},
   "outputs": [],
   "source": []
  },
  {
   "cell_type": "markdown",
   "metadata": {},
   "source": [
    "4.Phase de vectorisation\n",
    "\n",
    " Nous avons opter pour la technique de vectorisation tf-idf(Term-Frequency-Inverse Document Frequency), elle va nous permet de pondérer la frequence la fréquence de nos tokens en fonction de son importance relative . \n",
    "\n",
    " On calculera donc le score de chacun des mots dans notre (cleaned_text)\n"
   ]
  },
  {
   "cell_type": "code",
   "execution_count": 156,
   "metadata": {},
   "outputs": [],
   "source": [
    "from sklearn.feature_extraction.text import TfidfVectorizer\n",
    "\n",
    "\n",
    "tfidf_vectorizer = TfidfVectorizer()\n",
    "tfidf_matrix = tfidf_vectorizer.fit_transform([' '.join(cleaned_text)])\n",
    "tfidf_df = pd.DataFrame(\n",
    "    tfidf_matrix.toarray(),\n",
    "    columns=tfidf_vectorizer.get_feature_names_out()\n",
    ")\n"
   ]
  },
  {
   "cell_type": "code",
   "execution_count": 157,
   "metadata": {},
   "outputs": [
    {
     "data": {
      "text/plain": [
       "<bound method IndexOpsMixin.tolist of Index(['abdominale', 'accueil', 'accuses', 'actif', 'actu', 'actualite',\n",
       "       'actualites', 'afin', 'agit', 'agriculteurs',\n",
       "       ...\n",
       "       'violents', 'vitale', 'voici', 'volees', 'vote', 'web', 'wwwcnewsfr',\n",
       "       'wwwcnewsfrcartebancairevol',\n",
       "       'wwwcnewsfrfrancearnaquelacopiedecbattentioncette',\n",
       "       'wwwfacebookcomsharersharerphpu'],\n",
       "      dtype='object', length=426)>"
      ]
     },
     "execution_count": 157,
     "metadata": {},
     "output_type": "execute_result"
    }
   ],
   "source": [
    "tfidf_df.columns.to_list"
   ]
  },
  {
   "cell_type": "code",
   "execution_count": 158,
   "metadata": {},
   "outputs": [
    {
     "name": "stdout",
     "output_type": "stream",
     "text": [
      "   abdominale   accueil   accuses     actif      actu  actualite  actualites  \\\n",
      "0    0.021233  0.021233  0.021233  0.021233  0.021233   0.042467    0.042467   \n",
      "\n",
      "       afin      agit  agriculteurs     aides  ailleurs     ainsi  alertent  \\\n",
      "0  0.021233  0.021233      0.021233  0.021233  0.021233  0.021233  0.021233   \n",
      "\n",
      "   allocation    andrew    annees   annonce  annonceur  annuelle  annuler  \\\n",
      "0    0.021233  0.021233  0.021233  0.021233   0.021233  0.021233   0.1274   \n",
      "\n",
      "      apres   arnaque   arretes  articulations  asteroide  astrologie  \\\n",
      "0  0.021233  0.042467  0.021233       0.021233   0.084934    0.021233   \n",
      "\n",
      "     astuce  attention  attentioncetteescroqueriequitouchedenombreuxfrancais  \\\n",
      "0  0.042467     0.0637                                           0.021233      \n",
      "\n",
      "      aussi  automate  automates  autorites     autre     avant    baisse  \\\n",
      "0  0.021233  0.021233   0.042467   0.021233  0.042467  0.212334  0.021233   \n",
      "\n",
      "   bancaire  bancaires     bande  bbelowarticlethumbnailsunit  \\\n",
      "0  0.212334   0.106167  0.021233                       0.0637   \n",
      "\n",
      "   bbelowarticlethumbnailsunitcontenus  bbelowarticlethumbnailsunitpar  \\\n",
      "0                             0.042467                        0.021233   \n",
      "\n",
      "   beaucoup    beaute     beaux  belgique   billets       bon   carnage  \\\n",
      "0  0.021233  0.021233  0.084934  0.021233  0.042467  0.021233  0.021233   \n",
      "\n",
      "      carte    cartes       cas      ceci   censure     cette       cgu  \\\n",
      "0  0.297267  0.021233  0.021233  0.021233  0.042467  0.084934  0.021233   \n",
      "\n",
      "     change   changer  changeren   charles  chaussures  \\\n",
      "0  0.021233  0.021233   0.021233  0.021233    0.021233   \n",
      "\n",
      "   clickidgibnnbdigwshmpfiaiylgdqywdzkvrieyduogcoryqyymvcgwatcrositecnewscnewsthumbnail  \\\n",
      "0                                           0.021233                                      \n",
      "\n",
      "     cloner     cnews  \\\n",
      "0  0.021233  0.042467   \n",
      "\n",
      "   cnewssiteidtitleplusdepiqcbbresdedoigtfrcaquentespourlasurveillancedelaglyccamieplatformdesktopcampaignidcampaignitemidthumbnail  \\\n",
      "0                                           0.042467                                                                                  \n",
      "\n",
      "   cnewsutmcontenttgibnnbdigwshmpfiaiylgdqywdzkvrieycrruyoicbotldhrsvmlivsgatbtblcigibnnbdigwshmpfiaiylgdqywdzkvrieycrruyoicbotldhrsvmlivsgtblcigibnnbdigwshmpfiaiylgdqywdzkvrieycrruyoicbotldhrsvmlivsg  \\\n",
      "0                                           0.021233                                                                                                                                                       \n",
      "\n",
      "   cnewsutmcontenttgibnnbdigwshmpfiaiylgdqywdzkvrieycrruyoicbotldhrsvmlivsgatbtblcigibnnbdigwshmpfiaiylgdqywdzkvrieycrruyoicbotldhrsvmlivsgtblcigibnnbdigwshmpfiaiylgdqywdzkvrieycrruyoicbotldhrsvmlivsgtrop  \\\n",
      "0                                           0.021233                                                                                                                                                           \n",
      "\n",
      "   cnewsutmcontenttgibnnbdigwshmpfiaiylgdqywdzkvrieycrruyotwnvppwlmlivsgatbtblcigibnnbdigwshmpfiaiylgdqywdzkvrieycrruyotwnvppwlmlivsgtblcigibnnbdigwshmpfiaiylgdqywdzkvrieycrruyotwnvppwlmlivsg  \\\n",
      "0                                           0.021233                                                                                                                                              \n",
      "\n",
      "   cnewsutmcontenttgibnnbdigwshmpfiaiylgdqywdzkvrieycrruyotwnvppwlmlivsgatbtblcigibnnbdigwshmpfiaiylgdqywdzkvrieycrruyotwnvppwlmlivsgtblcigibnnbdigwshmpfiaiylgdqywdzkvrieycrruyotwnvppwlmlivsgnutritionnistes  \\\n",
      "0                                           0.021233                                                                                                                                                             \n",
      "\n",
      "   cnewsutmcontenttgibnnbdigwshmpfiaiylgdqywdzkvrieycsfwopjsmtnkcmlivsgatbtblcigibnnbdigwshmpfiaiylgdqywdzkvrieycsfwopjsmtnkcmlivsgtblcigibnnbdigwshmpfiaiylgdqywdzkvrieycsfwopjsmtnkcmlivsg  \\\n",
      "0                                           0.021233                                                                                                                                           \n",
      "\n",
      "   cnewsutmcontenttgibnnbdigwshmpfiaiylgdqywdzkvrieycsfwopjsmtnkcmlivsgatbtblcigibnnbdigwshmpfiaiylgdqywdzkvrieycsfwopjsmtnkcmlivsgtblcigibnnbdigwshmpfiaiylgdqywdzkvrieycsfwopjsmtnkcmlivsgneuropathie  \\\n",
      "0                                           0.021233                                                                                                                                                      \n",
      "\n",
      "   cnewsutmmediumreferralutmcontentthumbnails    colere   comme  commerces  \\\n",
      "0                                      0.1274  0.021233  0.0637   0.021233   \n",
      "\n",
      "    comptes  compteurs  compteurslinkyferontlobjetdecontrolessurprises  \\\n",
      "0  0.042467   0.021233                                        0.021233   \n",
      "\n",
      "   concernes   concues   confort  conseille  consiste  consistet  contenus  \\\n",
      "0   0.021233  0.021233  0.021233   0.021233  0.021233   0.021233  0.042467   \n",
      "\n",
      "    contrat  controles   cookies     copie   copiees    copier    corner  \\\n",
      "0  0.021233   0.021233  0.042467  0.084934  0.021233  0.021233  0.021233   \n",
      "\n",
      "       cote     coupe    couple   courant   croises   culture     cyber  \\\n",
      "0  0.021233  0.021233  0.021233  0.021233  0.021233  0.021233  0.021233   \n",
      "\n",
      "   dacceder    daller  darticles  \\\n",
      "0  0.021233  0.021233   0.021233   \n",
      "\n",
      "   dasoptfpoposlapsllonatsptabkididkpsalescodecvdposnattabotbclickidgibnnbdigwshmpfiaiylgdqywdzkvrieycireoiyeyjbhtyamlivsgtblcigibnnbdigwshmpfiaiylgdqywdzkvrieycireoiyeyjbhtyamlivsgtblcigibnnbdigwshmpfiaiylgdqywdzkvrieycireoiyeyjbhtyamlivsgdurdur  \\\n",
      "0                                           0.021233                                                                                                                                                                                                     \n",
      "\n",
      "   dauthentification  decembre  decision  dejeunernutravya  dejeunerscience  \\\n",
      "0           0.021233  0.021233  0.021233          0.021233         0.021233   \n",
      "\n",
      "   demantele  departements  departementsplacesenvigilancejaunecejeudi  \\\n",
      "0   0.021233      0.106167                                   0.106167   \n",
      "\n",
      "     depuis  derniere  dernieres  descroquerie    deuros   devenir  \\\n",
      "0  0.021233  0.042467   0.042467      0.021233  0.021233  0.021233   \n",
      "\n",
      "   devenirannonceurcommuniquersurcnews   devient  direct  distances  \\\n",
      "0                             0.021233  0.021233  0.0637   0.021233   \n",
      "\n",
      "   distributeurs  divers  divertissement     doigt  donnees       duc  \\\n",
      "0       0.042467  0.0637        0.042467  0.021233   0.1274  0.021233   \n",
      "\n",
      "        dun      dune  dupliquees     dyork    ecoles  egalement  elections  \\\n",
      "0  0.021233  0.021233    0.021233  0.021233  0.021233   0.021233   0.021233   \n",
      "\n",
      "   electionsresultatslegislatives  eliminer     elles    encore  endettes  \\\n",
      "0                        0.021233  0.021233  0.021233  0.021233  0.021233   \n",
      "\n",
      "   endettesaumonde    enedis   ensuite  environnement  escroquerie  \\\n",
      "0         0.021233  0.021233  0.042467       0.021233     0.042467   \n",
      "\n",
      "   escroqueriequitouchedenombreux   essayez   etaient     etait       ete  \\\n",
      "0                        0.021233  0.021233  0.021233  0.021233  0.021233   \n",
      "\n",
      "       etre  europelire    expert  explique      face  facebook    faites  \\\n",
      "0  0.106167    0.021233  0.021233  0.021233  0.021233  0.042467  0.021233   \n",
      "\n",
      "    faits       fbf  federation     fente    feront   fleches      flux  \\\n",
      "0  0.0637  0.021233    0.021233  0.021233  0.021233  0.021233  0.021233   \n",
      "\n",
      "       fois  fonctionnement      foot  football      fous  francais  \\\n",
      "0  0.021233        0.021233  0.021233  0.021233  0.084934    0.1274   \n",
      "\n",
      "   francaise  \\\n",
      "0   0.021233   \n",
      "\n",
      "   francaistarnaquecalacopiedecbaattentioncacetteescroqueriequiatouchcadenombreuxfrancaais  \\\n",
      "0                                             0.0637                                         \n",
      "\n",
      "   france  francearnaquelacopiedecbattentioncetteescroquerie    fraude  \\\n",
      "0  0.0637                                           0.042467  0.084934   \n",
      "\n",
      "    fraudes  fraudeurs  frequemment  frequentes     frere  gendarmerie  \\\n",
      "0  0.021233   0.021233     0.021233    0.021233  0.021233     0.042467   \n",
      "\n",
      "      geste   gestion  glissant   glissee  glycemiesherum   graisse     greve  \\\n",
      "0  0.021233  0.021233  0.021233  0.021233        0.021233  0.042467  0.021233   \n",
      "\n",
      "     guinee  hopitaux  hopitauxtransportscesperturbationsprevoircejeudi  \\\n",
      "0  0.021233  0.021233                                          0.021233   \n",
      "\n",
      "        iii    images    impact  impressionnantes  \\\n",
      "0  0.021233  0.084934  0.084934          0.084934   \n",
      "\n",
      "   impressionnantesdumeteoreavantsonimpactvideo  indiquaient   indique  \\\n",
      "0                                      0.084934     0.021233  0.021233   \n",
      "\n",
      "   individus      info     infos   inseree  insolite  insolvable  \\\n",
      "0   0.021233  0.021233  0.021233  0.021233  0.021233    0.021233   \n",
      "\n",
      "   insolvablelecouplequitouchaitdesaidessociales  instagram  installes  \\\n",
      "0                                       0.021233   0.042467   0.021233   \n",
      "\n",
      "   insupportable    iran     isole  isolequejamaisdepuisquesonfrerecharlesiii  \\\n",
      "0       0.021233  0.0637  0.021233                                   0.021233   \n",
      "\n",
      "     jamais     jaune  javascriptdidomipreferencesshow   jeudi      jeux  \\\n",
      "0  0.021233  0.106167                         0.021233  0.1274  0.042467   \n",
      "\n",
      "       jour  lacartebancairevoicilespayslesplusconcerneseneurope  laissant  \\\n",
      "0  0.042467                                           0.021233    0.021233   \n",
      "\n",
      "   lantenne  larbitre  larbitrelamorgueestpleineaumoinsmortsun  largent  \\\n",
      "0  0.021233  0.021233                                 0.021233   0.0637   \n",
      "\n",
      "   larrestation   legales  legislatives  lescroquerie   lespace  \\\n",
      "0      0.021233  0.021233      0.021233      0.021233  0.021233   \n",
      "\n",
      "   lespayslesplusconcerneseneurope  lesquels      lest  lifestyle     linfo  \\\n",
      "0                         0.021233  0.021233  0.021233   0.021233  0.021233   \n",
      "\n",
      "      linky    livres    lobjet  lobservatoire      loto  magnetique  \\\n",
      "0  0.021233  0.084934  0.021233       0.021233  0.021233    0.021233   \n",
      "\n",
      "   majorite  marine     match  materiel      meme  \\\n",
      "0  0.021233  0.0637  0.021233  0.021233  0.106167   \n",
      "\n",
      "   memequestionouvalargenttonnemarinelepen  mentions     meteo   meteore  \\\n",
      "0                                   0.0637  0.021233  0.021233  0.084934   \n",
      "\n",
      "    methode      midi  millionnaire  millions    minute   minutes       mis  \\\n",
      "0  0.021233  0.021233      0.021233  0.021233  0.042467  0.021233  0.021233   \n",
      "\n",
      "   mohammadi     moins   monde    morgue     morts   motions      mots  \\\n",
      "0     0.0637  0.021233  0.0637  0.021233  0.021233  0.084934  0.042467   \n",
      "\n",
      "     moyens  narges  nargesmohammadisorttemporairementdeprisonpour  nationale  \\\n",
      "0  0.021233  0.0637                                         0.0637   0.021233   \n",
      "\n",
      "   naturellement  neigeverglas  nempeche      nest      news      next  \\\n",
      "0       0.021233      0.021233  0.021233  0.021233  0.042467  0.021233   \n",
      "\n",
      "    nobel      noel  nombreux  noneuropeens  novembre  numerique  nutrition  \\\n",
      "0  0.0637  0.084934  0.042467      0.021233  0.042467   0.021233   0.021233   \n",
      "\n",
      "     offrir  offrirauxfousdesport  operation      osmp  paiement  paiements  \\\n",
      "0  0.084934              0.084934   0.021233  0.021233  0.042467   0.021233   \n",
      "\n",
      "     paix     paris  partager  partenaires     parti    passes      pays  \\\n",
      "0  0.0637  0.042467  0.042467     0.021233  0.021233  0.021233  0.084934   \n",
      "\n",
      "   paysaumondepermettreauxtravailleurset     pen    people  permettant  \\\n",
      "0                               0.021233  0.0637  0.021233    0.021233   \n",
      "\n",
      "   permettre  perturbations     petit  petitdejeunernva      peut  peuvent  \\\n",
      "0   0.021233       0.021233  0.042467          0.021233  0.021233   0.0637   \n",
      "\n",
      "    piqures  piratant   pixabay    places    pleine    plus  podcasts  \\\n",
      "0  0.021233  0.021233  0.021233  0.106167  0.021233  0.1911  0.021233   \n",
      "\n",
      "   politique  popuptaboolacomfrtemplatecolorboxutmsourcecnews  posent  \\\n",
      "0     0.0637                                           0.0637  0.0637   \n",
      "\n",
      "   pratique   premier   prendre  prevenir  previous   prevoir    prince  \\\n",
      "0  0.042467  0.021233  0.021233  0.021233  0.021233  0.021233  0.021233   \n",
      "\n",
      "   prison    prix  procheorient  programme    publie      puce    puisse  \\\n",
      "0  0.0637  0.0637      0.042467   0.042467  0.021233  0.042467  0.021233   \n",
      "\n",
      "   punchline  question  quitouchedenombreux      quoi     quune  raisons  \\\n",
      "0   0.021233    0.0637             0.042467  0.021233  0.021233   0.0637   \n",
      "\n",
      "   recherches    region    relies    replay   replays    reseau  \\\n",
      "0    0.021233  0.042467  0.021233  0.021233  0.021233  0.021233   \n",
      "\n",
      "   ressortissants  resultats   reussie  revendues     revue       rss  \\\n",
      "0        0.021233   0.021233  0.021233     0.0637  0.021233  0.021233   \n",
      "\n",
      "     samedi     sante  sarrachent    savoir   science   section  securite  \\\n",
      "0  0.021233  0.084934    0.021233  0.084934  0.021233  0.021233  0.021233   \n",
      "\n",
      "   selectionnes   seniors      sexe   siberie    signer    simple  sitecnews  \\\n",
      "0      0.042467  0.021233  0.021233  0.084934  0.021233  0.042467   0.042467   \n",
      "\n",
      "      sites   skimmer  skimming  sociales  solitaire    sort   souvent  \\\n",
      "0  0.021233  0.021233  0.106167  0.021233   0.021233  0.0637  0.021233   \n",
      "\n",
      "   sponsorises   sport  stationservice  stationsservices    sudoku  \\\n",
      "0     0.042467  0.1274        0.021233          0.021233  0.021233   \n",
      "\n",
      "   suiveznous    suivre  sujetfraude  surlescartesbancaireshtml  surprises  \\\n",
      "0    0.021233  0.042467     0.021233                   0.021233   0.021233   \n",
      "\n",
      "   surveillance  surveiller   systeme   taboola  \\\n",
      "0      0.021233    0.021233  0.021233  0.042467   \n",
      "\n",
      "   templatecolorboxutmsourcecnews  temporairement  terminal  terminaux  \\\n",
      "0                          0.0637          0.0637  0.042467   0.042467   \n",
      "\n",
      "     themes    tiktok  titulaire       tnt  toilettes     tomek   tonne  \\\n",
      "0  0.021233  0.021233   0.021233  0.021233   0.021233  0.021233  0.0637   \n",
      "\n",
      "   touchait  touche  toulouse  \\\n",
      "0  0.021233  0.0637  0.084934   \n",
      "\n",
      "   toulouseunreseaudeskimmingdemantelecestquoicetteescroquerie    tourne  \\\n",
      "0                                           0.021233            0.021233   \n",
      "\n",
      "     tous    tout    toutsb  trafiquant  trafiquent  transferees  transports  \\\n",
      "0  0.0637  0.0637  0.021233    0.021233    0.021233     0.021233    0.021233   \n",
      "\n",
      "    travail  travailleurs  travailleuses     trois     tweet   twitter  \\\n",
      "0  0.021233      0.021233       0.021233  0.042467  0.042467  0.042467   \n",
      "\n",
      "   utilisees  utmsourcetbutmcampaigntbdkfutmtermcnews  \\\n",
      "0   0.021233                                 0.042467   \n",
      "\n",
      "   utmsourcetbutmmediumcpcutmcampaigngutfdkutmtermcnews    ventre     vents  \\\n",
      "0                                           0.084934     0.021233  0.084934   \n",
      "\n",
      "    video       vie  vigilance  violents    vitale     voici    volees  \\\n",
      "0  0.1274  0.021233   0.106167  0.084934  0.021233  0.148634  0.021233   \n",
      "\n",
      "     vote       web  wwwcnewsfr  wwwcnewsfrcartebancairevol  \\\n",
      "0  0.0637  0.021233    0.021233                    0.021233   \n",
      "\n",
      "   wwwcnewsfrfrancearnaquelacopiedecbattentioncette  \\\n",
      "0                                          0.021233   \n",
      "\n",
      "   wwwfacebookcomsharersharerphpu  \n",
      "0                        0.021233  \n"
     ]
    }
   ],
   "source": [
    "# affichage de la frequence du IF-IDF par colonne\n",
    "pd.set_option(\"display.max_columns\", None)  \n",
    "pd.set_option(\"display.width\", None)       \n",
    "print(tfidf_df)"
   ]
  },
  {
   "cell_type": "markdown",
   "metadata": {},
   "source": [
    "Après le filtrage par TF-IDF , nous allons compter le nombre d'occurrence de chaque mots\n",
    "des mots importants retenu par colonne "
   ]
  },
  {
   "cell_type": "code",
   "execution_count": 159,
   "metadata": {},
   "outputs": [],
   "source": [
    "# Filtrons les mots-clés\n",
    "\n",
    "filtered_tfidf_df = tfidf_df[[col for col in tfidf_df.columns ]]\n",
    "\n",
    "\n"
   ]
  },
  {
   "cell_type": "code",
   "execution_count": 160,
   "metadata": {},
   "outputs": [
    {
     "name": "stdout",
     "output_type": "stream",
     "text": [
      "   abdominale   accueil   accuses     actif      actu  actualite  actualites  \\\n",
      "0    0.021233  0.021233  0.021233  0.021233  0.021233   0.042467    0.042467   \n",
      "\n",
      "       afin      agit  agriculteurs     aides  ailleurs     ainsi  alertent  \\\n",
      "0  0.021233  0.021233      0.021233  0.021233  0.021233  0.021233  0.021233   \n",
      "\n",
      "   allocation    andrew    annees   annonce  annonceur  annuelle  annuler  \\\n",
      "0    0.021233  0.021233  0.021233  0.021233   0.021233  0.021233   0.1274   \n",
      "\n",
      "      apres   arnaque   arretes  articulations  asteroide  astrologie  \\\n",
      "0  0.021233  0.042467  0.021233       0.021233   0.084934    0.021233   \n",
      "\n",
      "     astuce  attention  attentioncetteescroqueriequitouchedenombreuxfrancais  \\\n",
      "0  0.042467     0.0637                                           0.021233      \n",
      "\n",
      "      aussi  automate  automates  autorites     autre     avant    baisse  \\\n",
      "0  0.021233  0.021233   0.042467   0.021233  0.042467  0.212334  0.021233   \n",
      "\n",
      "   bancaire  bancaires     bande  bbelowarticlethumbnailsunit  \\\n",
      "0  0.212334   0.106167  0.021233                       0.0637   \n",
      "\n",
      "   bbelowarticlethumbnailsunitcontenus  bbelowarticlethumbnailsunitpar  \\\n",
      "0                             0.042467                        0.021233   \n",
      "\n",
      "   beaucoup    beaute     beaux  belgique   billets       bon   carnage  \\\n",
      "0  0.021233  0.021233  0.084934  0.021233  0.042467  0.021233  0.021233   \n",
      "\n",
      "      carte    cartes       cas      ceci   censure     cette       cgu  \\\n",
      "0  0.297267  0.021233  0.021233  0.021233  0.042467  0.084934  0.021233   \n",
      "\n",
      "     change   changer  changeren   charles  chaussures  \\\n",
      "0  0.021233  0.021233   0.021233  0.021233    0.021233   \n",
      "\n",
      "   clickidgibnnbdigwshmpfiaiylgdqywdzkvrieyduogcoryqyymvcgwatcrositecnewscnewsthumbnail  \\\n",
      "0                                           0.021233                                      \n",
      "\n",
      "     cloner     cnews  \\\n",
      "0  0.021233  0.042467   \n",
      "\n",
      "   cnewssiteidtitleplusdepiqcbbresdedoigtfrcaquentespourlasurveillancedelaglyccamieplatformdesktopcampaignidcampaignitemidthumbnail  \\\n",
      "0                                           0.042467                                                                                  \n",
      "\n",
      "   cnewsutmcontenttgibnnbdigwshmpfiaiylgdqywdzkvrieycrruyoicbotldhrsvmlivsgatbtblcigibnnbdigwshmpfiaiylgdqywdzkvrieycrruyoicbotldhrsvmlivsgtblcigibnnbdigwshmpfiaiylgdqywdzkvrieycrruyoicbotldhrsvmlivsg  \\\n",
      "0                                           0.021233                                                                                                                                                       \n",
      "\n",
      "   cnewsutmcontenttgibnnbdigwshmpfiaiylgdqywdzkvrieycrruyoicbotldhrsvmlivsgatbtblcigibnnbdigwshmpfiaiylgdqywdzkvrieycrruyoicbotldhrsvmlivsgtblcigibnnbdigwshmpfiaiylgdqywdzkvrieycrruyoicbotldhrsvmlivsgtrop  \\\n",
      "0                                           0.021233                                                                                                                                                           \n",
      "\n",
      "   cnewsutmcontenttgibnnbdigwshmpfiaiylgdqywdzkvrieycrruyotwnvppwlmlivsgatbtblcigibnnbdigwshmpfiaiylgdqywdzkvrieycrruyotwnvppwlmlivsgtblcigibnnbdigwshmpfiaiylgdqywdzkvrieycrruyotwnvppwlmlivsg  \\\n",
      "0                                           0.021233                                                                                                                                              \n",
      "\n",
      "   cnewsutmcontenttgibnnbdigwshmpfiaiylgdqywdzkvrieycrruyotwnvppwlmlivsgatbtblcigibnnbdigwshmpfiaiylgdqywdzkvrieycrruyotwnvppwlmlivsgtblcigibnnbdigwshmpfiaiylgdqywdzkvrieycrruyotwnvppwlmlivsgnutritionnistes  \\\n",
      "0                                           0.021233                                                                                                                                                             \n",
      "\n",
      "   cnewsutmcontenttgibnnbdigwshmpfiaiylgdqywdzkvrieycsfwopjsmtnkcmlivsgatbtblcigibnnbdigwshmpfiaiylgdqywdzkvrieycsfwopjsmtnkcmlivsgtblcigibnnbdigwshmpfiaiylgdqywdzkvrieycsfwopjsmtnkcmlivsg  \\\n",
      "0                                           0.021233                                                                                                                                           \n",
      "\n",
      "   cnewsutmcontenttgibnnbdigwshmpfiaiylgdqywdzkvrieycsfwopjsmtnkcmlivsgatbtblcigibnnbdigwshmpfiaiylgdqywdzkvrieycsfwopjsmtnkcmlivsgtblcigibnnbdigwshmpfiaiylgdqywdzkvrieycsfwopjsmtnkcmlivsgneuropathie  \\\n",
      "0                                           0.021233                                                                                                                                                      \n",
      "\n",
      "   cnewsutmmediumreferralutmcontentthumbnails    colere   comme  commerces  \\\n",
      "0                                      0.1274  0.021233  0.0637   0.021233   \n",
      "\n",
      "    comptes  compteurs  compteurslinkyferontlobjetdecontrolessurprises  \\\n",
      "0  0.042467   0.021233                                        0.021233   \n",
      "\n",
      "   concernes   concues   confort  conseille  consiste  consistet  contenus  \\\n",
      "0   0.021233  0.021233  0.021233   0.021233  0.021233   0.021233  0.042467   \n",
      "\n",
      "    contrat  controles   cookies     copie   copiees    copier    corner  \\\n",
      "0  0.021233   0.021233  0.042467  0.084934  0.021233  0.021233  0.021233   \n",
      "\n",
      "       cote     coupe    couple   courant   croises   culture     cyber  \\\n",
      "0  0.021233  0.021233  0.021233  0.021233  0.021233  0.021233  0.021233   \n",
      "\n",
      "   dacceder    daller  darticles  \\\n",
      "0  0.021233  0.021233   0.021233   \n",
      "\n",
      "   dasoptfpoposlapsllonatsptabkididkpsalescodecvdposnattabotbclickidgibnnbdigwshmpfiaiylgdqywdzkvrieycireoiyeyjbhtyamlivsgtblcigibnnbdigwshmpfiaiylgdqywdzkvrieycireoiyeyjbhtyamlivsgtblcigibnnbdigwshmpfiaiylgdqywdzkvrieycireoiyeyjbhtyamlivsgdurdur  \\\n",
      "0                                           0.021233                                                                                                                                                                                                     \n",
      "\n",
      "   dauthentification  decembre  decision  dejeunernutravya  dejeunerscience  \\\n",
      "0           0.021233  0.021233  0.021233          0.021233         0.021233   \n",
      "\n",
      "   demantele  departements  departementsplacesenvigilancejaunecejeudi  \\\n",
      "0   0.021233      0.106167                                   0.106167   \n",
      "\n",
      "     depuis  derniere  dernieres  descroquerie    deuros   devenir  \\\n",
      "0  0.021233  0.042467   0.042467      0.021233  0.021233  0.021233   \n",
      "\n",
      "   devenirannonceurcommuniquersurcnews   devient  direct  distances  \\\n",
      "0                             0.021233  0.021233  0.0637   0.021233   \n",
      "\n",
      "   distributeurs  divers  divertissement     doigt  donnees       duc  \\\n",
      "0       0.042467  0.0637        0.042467  0.021233   0.1274  0.021233   \n",
      "\n",
      "        dun      dune  dupliquees     dyork    ecoles  egalement  elections  \\\n",
      "0  0.021233  0.021233    0.021233  0.021233  0.021233   0.021233   0.021233   \n",
      "\n",
      "   electionsresultatslegislatives  eliminer     elles    encore  endettes  \\\n",
      "0                        0.021233  0.021233  0.021233  0.021233  0.021233   \n",
      "\n",
      "   endettesaumonde    enedis   ensuite  environnement  escroquerie  \\\n",
      "0         0.021233  0.021233  0.042467       0.021233     0.042467   \n",
      "\n",
      "   escroqueriequitouchedenombreux   essayez   etaient     etait       ete  \\\n",
      "0                        0.021233  0.021233  0.021233  0.021233  0.021233   \n",
      "\n",
      "       etre  europelire    expert  explique      face  facebook    faites  \\\n",
      "0  0.106167    0.021233  0.021233  0.021233  0.021233  0.042467  0.021233   \n",
      "\n",
      "    faits       fbf  federation     fente    feront   fleches      flux  \\\n",
      "0  0.0637  0.021233    0.021233  0.021233  0.021233  0.021233  0.021233   \n",
      "\n",
      "       fois  fonctionnement      foot  football      fous  francais  \\\n",
      "0  0.021233        0.021233  0.021233  0.021233  0.084934    0.1274   \n",
      "\n",
      "   francaise  \\\n",
      "0   0.021233   \n",
      "\n",
      "   francaistarnaquecalacopiedecbaattentioncacetteescroqueriequiatouchcadenombreuxfrancaais  \\\n",
      "0                                             0.0637                                         \n",
      "\n",
      "   france  francearnaquelacopiedecbattentioncetteescroquerie    fraude  \\\n",
      "0  0.0637                                           0.042467  0.084934   \n",
      "\n",
      "    fraudes  fraudeurs  frequemment  frequentes     frere  gendarmerie  \\\n",
      "0  0.021233   0.021233     0.021233    0.021233  0.021233     0.042467   \n",
      "\n",
      "      geste   gestion  glissant   glissee  glycemiesherum   graisse     greve  \\\n",
      "0  0.021233  0.021233  0.021233  0.021233        0.021233  0.042467  0.021233   \n",
      "\n",
      "     guinee  hopitaux  hopitauxtransportscesperturbationsprevoircejeudi  \\\n",
      "0  0.021233  0.021233                                          0.021233   \n",
      "\n",
      "        iii    images    impact  impressionnantes  \\\n",
      "0  0.021233  0.084934  0.084934          0.084934   \n",
      "\n",
      "   impressionnantesdumeteoreavantsonimpactvideo  indiquaient   indique  \\\n",
      "0                                      0.084934     0.021233  0.021233   \n",
      "\n",
      "   individus      info     infos   inseree  insolite  insolvable  \\\n",
      "0   0.021233  0.021233  0.021233  0.021233  0.021233    0.021233   \n",
      "\n",
      "   insolvablelecouplequitouchaitdesaidessociales  instagram  installes  \\\n",
      "0                                       0.021233   0.042467   0.021233   \n",
      "\n",
      "   insupportable    iran     isole  isolequejamaisdepuisquesonfrerecharlesiii  \\\n",
      "0       0.021233  0.0637  0.021233                                   0.021233   \n",
      "\n",
      "     jamais     jaune  javascriptdidomipreferencesshow   jeudi      jeux  \\\n",
      "0  0.021233  0.106167                         0.021233  0.1274  0.042467   \n",
      "\n",
      "       jour  lacartebancairevoicilespayslesplusconcerneseneurope  laissant  \\\n",
      "0  0.042467                                           0.021233    0.021233   \n",
      "\n",
      "   lantenne  larbitre  larbitrelamorgueestpleineaumoinsmortsun  largent  \\\n",
      "0  0.021233  0.021233                                 0.021233   0.0637   \n",
      "\n",
      "   larrestation   legales  legislatives  lescroquerie   lespace  \\\n",
      "0      0.021233  0.021233      0.021233      0.021233  0.021233   \n",
      "\n",
      "   lespayslesplusconcerneseneurope  lesquels      lest  lifestyle     linfo  \\\n",
      "0                         0.021233  0.021233  0.021233   0.021233  0.021233   \n",
      "\n",
      "      linky    livres    lobjet  lobservatoire      loto  magnetique  \\\n",
      "0  0.021233  0.084934  0.021233       0.021233  0.021233    0.021233   \n",
      "\n",
      "   majorite  marine     match  materiel      meme  \\\n",
      "0  0.021233  0.0637  0.021233  0.021233  0.106167   \n",
      "\n",
      "   memequestionouvalargenttonnemarinelepen  mentions     meteo   meteore  \\\n",
      "0                                   0.0637  0.021233  0.021233  0.084934   \n",
      "\n",
      "    methode      midi  millionnaire  millions    minute   minutes       mis  \\\n",
      "0  0.021233  0.021233      0.021233  0.021233  0.042467  0.021233  0.021233   \n",
      "\n",
      "   mohammadi     moins   monde    morgue     morts   motions      mots  \\\n",
      "0     0.0637  0.021233  0.0637  0.021233  0.021233  0.084934  0.042467   \n",
      "\n",
      "     moyens  narges  nargesmohammadisorttemporairementdeprisonpour  nationale  \\\n",
      "0  0.021233  0.0637                                         0.0637   0.021233   \n",
      "\n",
      "   naturellement  neigeverglas  nempeche      nest      news      next  \\\n",
      "0       0.021233      0.021233  0.021233  0.021233  0.042467  0.021233   \n",
      "\n",
      "    nobel      noel  nombreux  noneuropeens  novembre  numerique  nutrition  \\\n",
      "0  0.0637  0.084934  0.042467      0.021233  0.042467   0.021233   0.021233   \n",
      "\n",
      "     offrir  offrirauxfousdesport  operation      osmp  paiement  paiements  \\\n",
      "0  0.084934              0.084934   0.021233  0.021233  0.042467   0.021233   \n",
      "\n",
      "     paix     paris  partager  partenaires     parti    passes      pays  \\\n",
      "0  0.0637  0.042467  0.042467     0.021233  0.021233  0.021233  0.084934   \n",
      "\n",
      "   paysaumondepermettreauxtravailleurset     pen    people  permettant  \\\n",
      "0                               0.021233  0.0637  0.021233    0.021233   \n",
      "\n",
      "   permettre  perturbations     petit  petitdejeunernva      peut  peuvent  \\\n",
      "0   0.021233       0.021233  0.042467          0.021233  0.021233   0.0637   \n",
      "\n",
      "    piqures  piratant   pixabay    places    pleine    plus  podcasts  \\\n",
      "0  0.021233  0.021233  0.021233  0.106167  0.021233  0.1911  0.021233   \n",
      "\n",
      "   politique  popuptaboolacomfrtemplatecolorboxutmsourcecnews  posent  \\\n",
      "0     0.0637                                           0.0637  0.0637   \n",
      "\n",
      "   pratique   premier   prendre  prevenir  previous   prevoir    prince  \\\n",
      "0  0.042467  0.021233  0.021233  0.021233  0.021233  0.021233  0.021233   \n",
      "\n",
      "   prison    prix  procheorient  programme    publie      puce    puisse  \\\n",
      "0  0.0637  0.0637      0.042467   0.042467  0.021233  0.042467  0.021233   \n",
      "\n",
      "   punchline  question  quitouchedenombreux      quoi     quune  raisons  \\\n",
      "0   0.021233    0.0637             0.042467  0.021233  0.021233   0.0637   \n",
      "\n",
      "   recherches    region    relies    replay   replays    reseau  \\\n",
      "0    0.021233  0.042467  0.021233  0.021233  0.021233  0.021233   \n",
      "\n",
      "   ressortissants  resultats   reussie  revendues     revue       rss  \\\n",
      "0        0.021233   0.021233  0.021233     0.0637  0.021233  0.021233   \n",
      "\n",
      "     samedi     sante  sarrachent    savoir   science   section  securite  \\\n",
      "0  0.021233  0.084934    0.021233  0.084934  0.021233  0.021233  0.021233   \n",
      "\n",
      "   selectionnes   seniors      sexe   siberie    signer    simple  sitecnews  \\\n",
      "0      0.042467  0.021233  0.021233  0.084934  0.021233  0.042467   0.042467   \n",
      "\n",
      "      sites   skimmer  skimming  sociales  solitaire    sort   souvent  \\\n",
      "0  0.021233  0.021233  0.106167  0.021233   0.021233  0.0637  0.021233   \n",
      "\n",
      "   sponsorises   sport  stationservice  stationsservices    sudoku  \\\n",
      "0     0.042467  0.1274        0.021233          0.021233  0.021233   \n",
      "\n",
      "   suiveznous    suivre  sujetfraude  surlescartesbancaireshtml  surprises  \\\n",
      "0    0.021233  0.042467     0.021233                   0.021233   0.021233   \n",
      "\n",
      "   surveillance  surveiller   systeme   taboola  \\\n",
      "0      0.021233    0.021233  0.021233  0.042467   \n",
      "\n",
      "   templatecolorboxutmsourcecnews  temporairement  terminal  terminaux  \\\n",
      "0                          0.0637          0.0637  0.042467   0.042467   \n",
      "\n",
      "     themes    tiktok  titulaire       tnt  toilettes     tomek   tonne  \\\n",
      "0  0.021233  0.021233   0.021233  0.021233   0.021233  0.021233  0.0637   \n",
      "\n",
      "   touchait  touche  toulouse  \\\n",
      "0  0.021233  0.0637  0.084934   \n",
      "\n",
      "   toulouseunreseaudeskimmingdemantelecestquoicetteescroquerie    tourne  \\\n",
      "0                                           0.021233            0.021233   \n",
      "\n",
      "     tous    tout    toutsb  trafiquant  trafiquent  transferees  transports  \\\n",
      "0  0.0637  0.0637  0.021233    0.021233    0.021233     0.021233    0.021233   \n",
      "\n",
      "    travail  travailleurs  travailleuses     trois     tweet   twitter  \\\n",
      "0  0.021233      0.021233       0.021233  0.042467  0.042467  0.042467   \n",
      "\n",
      "   utilisees  utmsourcetbutmcampaigntbdkfutmtermcnews  \\\n",
      "0   0.021233                                 0.042467   \n",
      "\n",
      "   utmsourcetbutmmediumcpcutmcampaigngutfdkutmtermcnews    ventre     vents  \\\n",
      "0                                           0.084934     0.021233  0.084934   \n",
      "\n",
      "    video       vie  vigilance  violents    vitale     voici    volees  \\\n",
      "0  0.1274  0.021233   0.106167  0.084934  0.021233  0.148634  0.021233   \n",
      "\n",
      "     vote       web  wwwcnewsfr  wwwcnewsfrcartebancairevol  \\\n",
      "0  0.0637  0.021233    0.021233                    0.021233   \n",
      "\n",
      "   wwwcnewsfrfrancearnaquelacopiedecbattentioncette  \\\n",
      "0                                          0.021233   \n",
      "\n",
      "   wwwfacebookcomsharersharerphpu  \n",
      "0                        0.021233  \n"
     ]
    }
   ],
   "source": [
    "#pour voir un aperçu des doonées \n",
    "print(filtered_tfidf_df.head()) "
   ]
  },
  {
   "cell_type": "code",
   "execution_count": 161,
   "metadata": {},
   "outputs": [
    {
     "name": "stdout",
     "output_type": "stream",
     "text": [
      "Index(['abdominale', 'accueil', 'accuses', 'actif', 'actu', 'actualite',\n",
      "       'actualites', 'afin', 'agit', 'agriculteurs',\n",
      "       ...\n",
      "       'violents', 'vitale', 'voici', 'volees', 'vote', 'web', 'wwwcnewsfr',\n",
      "       'wwwcnewsfrcartebancairevol',\n",
      "       'wwwcnewsfrfrancearnaquelacopiedecbattentioncette',\n",
      "       'wwwfacebookcomsharersharerphpu'],\n",
      "      dtype='object', length=426)\n"
     ]
    }
   ],
   "source": [
    "# apercu des mots filtrés\n",
    "print(filtered_tfidf_df.columns) "
   ]
  },
  {
   "cell_type": "code",
   "execution_count": 176,
   "metadata": {},
   "outputs": [],
   "source": [
    "# Supprimer les mots très courts ou contenant des caractères non alphanumériques\n",
    "freq_df = freq_df[freq_df['Mot'].str.len().between(3, 100)]  # Longueur entre 3 et 15\n",
    "freq_df = freq_df[freq_df['Mot'].str.isalnum()]            # Caractères alphanumériques uniquement\n"
   ]
  },
  {
   "cell_type": "code",
   "execution_count": 177,
   "metadata": {},
   "outputs": [
    {
     "data": {
      "text/html": [
       "<div>\n",
       "<style scoped>\n",
       "    .dataframe tbody tr th:only-of-type {\n",
       "        vertical-align: middle;\n",
       "    }\n",
       "\n",
       "    .dataframe tbody tr th {\n",
       "        vertical-align: top;\n",
       "    }\n",
       "\n",
       "    .dataframe thead th {\n",
       "        text-align: right;\n",
       "    }\n",
       "</style>\n",
       "<table border=\"1\" class=\"dataframe\">\n",
       "  <thead>\n",
       "    <tr style=\"text-align: right;\">\n",
       "      <th></th>\n",
       "      <th>Mot</th>\n",
       "      <th>Fréquence</th>\n",
       "    </tr>\n",
       "  </thead>\n",
       "  <tbody>\n",
       "    <tr>\n",
       "      <th>9</th>\n",
       "      <td>carte</td>\n",
       "      <td>0.301862</td>\n",
       "    </tr>\n",
       "    <tr>\n",
       "      <th>3</th>\n",
       "      <td>avant</td>\n",
       "      <td>0.215615</td>\n",
       "    </tr>\n",
       "    <tr>\n",
       "      <th>5</th>\n",
       "      <td>bancaire</td>\n",
       "      <td>0.215615</td>\n",
       "    </tr>\n",
       "    <tr>\n",
       "      <th>71</th>\n",
       "      <td>plus</td>\n",
       "      <td>0.194054</td>\n",
       "    </tr>\n",
       "    <tr>\n",
       "      <th>98</th>\n",
       "      <td>voici</td>\n",
       "      <td>0.150931</td>\n",
       "    </tr>\n",
       "    <tr>\n",
       "      <th>...</th>\n",
       "      <td>...</td>\n",
       "      <td>...</td>\n",
       "    </tr>\n",
       "    <tr>\n",
       "      <th>79</th>\n",
       "      <td>raisons sante</td>\n",
       "      <td>0.064685</td>\n",
       "    </tr>\n",
       "    <tr>\n",
       "      <th>72</th>\n",
       "      <td>politique</td>\n",
       "      <td>0.064685</td>\n",
       "    </tr>\n",
       "    <tr>\n",
       "      <th>73</th>\n",
       "      <td>popuptaboolacomfrtemplatecolorboxutmsourcecnews</td>\n",
       "      <td>0.064685</td>\n",
       "    </tr>\n",
       "    <tr>\n",
       "      <th>74</th>\n",
       "      <td>popuptaboolacomfrtemplatecolorboxutmsourcecnew...</td>\n",
       "      <td>0.064685</td>\n",
       "    </tr>\n",
       "    <tr>\n",
       "      <th>75</th>\n",
       "      <td>posent</td>\n",
       "      <td>0.064685</td>\n",
       "    </tr>\n",
       "  </tbody>\n",
       "</table>\n",
       "<p>100 rows × 2 columns</p>\n",
       "</div>"
      ],
      "text/plain": [
       "                                                  Mot  Fréquence\n",
       "9                                               carte   0.301862\n",
       "3                                               avant   0.215615\n",
       "5                                            bancaire   0.215615\n",
       "71                                               plus   0.194054\n",
       "98                                              voici   0.150931\n",
       "..                                                ...        ...\n",
       "79                                      raisons sante   0.064685\n",
       "72                                          politique   0.064685\n",
       "73    popuptaboolacomfrtemplatecolorboxutmsourcecnews   0.064685\n",
       "74  popuptaboolacomfrtemplatecolorboxutmsourcecnew...   0.064685\n",
       "75                                             posent   0.064685\n",
       "\n",
       "[100 rows x 2 columns]"
      ]
     },
     "execution_count": 177,
     "metadata": {},
     "output_type": "execute_result"
    }
   ],
   "source": [
    "# Conversion en DataFrame\n",
    "freq_df = pd.DataFrame(list(freq.items()), columns=['Mot', 'Fréquence'])\n",
    "\n",
    "# Trier les mots par fréquence décroissante pour mieux les analyser\n",
    "freq_df = freq_df.sort_values(by='Fréquence', ascending=False)\n",
    "\n",
    "# Affichage du DataFrame\n",
    "freq_df.head(100)\n"
   ]
  },
  {
   "cell_type": "markdown",
   "metadata": {},
   "source": [
    "essais"
   ]
  },
  {
   "cell_type": "code",
   "execution_count": 163,
   "metadata": {},
   "outputs": [],
   "source": [
    "# Filtrer les mots selon plusieurs critères\n",
    "freq_df = freq_df[\n",
    "    (freq_df['Mot'].str.len().between(4, 15)) &  # Longueur entre 3 et 15\n",
    "    (freq_df['Mot'].str.isalnum())            # Contient uniquement des caractères alphanumériques\n",
    "     \n",
    "]\n"
   ]
  },
  {
   "cell_type": "code",
   "execution_count": 164,
   "metadata": {},
   "outputs": [
    {
     "name": "stdout",
     "output_type": "stream",
     "text": [
      "             Mot  Fréquence\n",
      "9          carte   0.301862\n",
      "3          avant   0.215615\n",
      "5       bancaire   0.215615\n",
      "71          plus   0.194054\n",
      "98         voici   0.150931\n",
      "19       donnees   0.129369\n",
      "24      francais   0.129369\n",
      "86         sport   0.129369\n",
      "39         jeudi   0.129369\n",
      "0        annuler   0.129369\n",
      "92         video   0.129369\n",
      "20          etre   0.107808\n",
      "37         jaune   0.107808\n",
      "6      bancaires   0.107808\n",
      "16  departements   0.107808\n",
      "46          meme   0.107808\n",
      "85      skimming   0.107808\n",
      "69        places   0.107808\n",
      "94     vigilance   0.107808\n",
      "1      asteroide   0.086246\n"
     ]
    }
   ],
   "source": [
    "# Afficher les mots les plus fréquents pour analyse\n",
    "print(freq_df.sort_values(by='Fréquence', ascending=False).head(20))\n"
   ]
  },
  {
   "cell_type": "markdown",
   "metadata": {},
   "source": [
    "Visualisation de la distribution des fréquences des mots "
   ]
  },
  {
   "cell_type": "code",
   "execution_count": 165,
   "metadata": {},
   "outputs": [
    {
     "data": {
      "application/vnd.plotly.v1+json": {
       "config": {
        "plotlyServerURL": "https://plot.ly"
       },
       "data": [
        {
         "alignmentgroup": "True",
         "hovertemplate": "<b>%{hovertext}</b><br><br>Mot=%{x}<br>Fréquence=%{marker.color}<extra></extra>",
         "hovertext": [
          "carte",
          "avant",
          "bancaire",
          "plus",
          "voici",
          "donnees",
          "francais",
          "sport",
          "jeudi",
          "annuler",
          "video",
          "etre",
          "jaune",
          "bancaires",
          "departements",
          "meme",
          "skimming",
          "places",
          "vigilance",
          "asteroide",
          "cette",
          "copie",
          "beaux",
          "vents",
          "toulouse",
          "images",
          "impact",
          "fraude",
          "fous",
          "siberie",
          "savoir",
          "sante",
          "pays",
          "livres",
          "meteore",
          "noel",
          "offrir",
          "motions",
          "violents",
          "comme",
          "faits",
          "mohammadi",
          "iran",
          "largent",
          "marine",
          "paix",
          "narges",
          "nobel",
          "raisons",
          "politique",
          "posent"
         ],
         "legendgroup": "",
         "marker": {
          "color": [
           0.30186157276480374,
           0.21561540911771696,
           0.21561540911771696,
           0.19405386820594528,
           0.15093078638240187,
           0.12936924547063017,
           0.12936924547063017,
           0.12936924547063017,
           0.12936924547063017,
           0.12936924547063017,
           0.12936924547063017,
           0.10780770455885848,
           0.10780770455885848,
           0.10780770455885848,
           0.10780770455885848,
           0.10780770455885848,
           0.10780770455885848,
           0.10780770455885848,
           0.10780770455885848,
           0.08624616364708679,
           0.08624616364708679,
           0.08624616364708679,
           0.08624616364708679,
           0.08624616364708679,
           0.08624616364708679,
           0.08624616364708679,
           0.08624616364708679,
           0.08624616364708679,
           0.08624616364708679,
           0.08624616364708679,
           0.08624616364708679,
           0.08624616364708679,
           0.08624616364708679,
           0.08624616364708679,
           0.08624616364708679,
           0.08624616364708679,
           0.08624616364708679,
           0.08624616364708679,
           0.08624616364708679,
           0.06468462273531508,
           0.06468462273531508,
           0.06468462273531508,
           0.06468462273531508,
           0.06468462273531508,
           0.06468462273531508,
           0.06468462273531508,
           0.06468462273531508,
           0.06468462273531508,
           0.06468462273531508,
           0.06468462273531508,
           0.06468462273531508
          ],
          "coloraxis": "coloraxis",
          "line": {
           "color": "DarkSlateGrey",
           "width": 1
          },
          "pattern": {
           "shape": ""
          }
         },
         "name": "",
         "offsetgroup": "",
         "orientation": "v",
         "showlegend": false,
         "text": [
          0.30186157276480374,
          0.21561540911771696,
          0.21561540911771696,
          0.19405386820594528,
          0.15093078638240187,
          0.12936924547063017,
          0.12936924547063017,
          0.12936924547063017,
          0.12936924547063017,
          0.12936924547063017,
          0.12936924547063017,
          0.10780770455885848,
          0.10780770455885848,
          0.10780770455885848,
          0.10780770455885848,
          0.10780770455885848,
          0.10780770455885848,
          0.10780770455885848,
          0.10780770455885848,
          0.08624616364708679,
          0.08624616364708679,
          0.08624616364708679,
          0.08624616364708679,
          0.08624616364708679,
          0.08624616364708679,
          0.08624616364708679,
          0.08624616364708679,
          0.08624616364708679,
          0.08624616364708679,
          0.08624616364708679,
          0.08624616364708679,
          0.08624616364708679,
          0.08624616364708679,
          0.08624616364708679,
          0.08624616364708679,
          0.08624616364708679,
          0.08624616364708679,
          0.08624616364708679,
          0.08624616364708679,
          0.06468462273531508,
          0.06468462273531508,
          0.06468462273531508,
          0.06468462273531508,
          0.06468462273531508,
          0.06468462273531508,
          0.06468462273531508,
          0.06468462273531508,
          0.06468462273531508,
          0.06468462273531508,
          0.06468462273531508,
          0.06468462273531508
         ],
         "textposition": "outside",
         "type": "bar",
         "x": [
          "carte",
          "avant",
          "bancaire",
          "plus",
          "voici",
          "donnees",
          "francais",
          "sport",
          "jeudi",
          "annuler",
          "video",
          "etre",
          "jaune",
          "bancaires",
          "departements",
          "meme",
          "skimming",
          "places",
          "vigilance",
          "asteroide",
          "cette",
          "copie",
          "beaux",
          "vents",
          "toulouse",
          "images",
          "impact",
          "fraude",
          "fous",
          "siberie",
          "savoir",
          "sante",
          "pays",
          "livres",
          "meteore",
          "noel",
          "offrir",
          "motions",
          "violents",
          "comme",
          "faits",
          "mohammadi",
          "iran",
          "largent",
          "marine",
          "paix",
          "narges",
          "nobel",
          "raisons",
          "politique",
          "posent"
         ],
         "xaxis": "x",
         "y": [
          0.30186157276480374,
          0.21561540911771696,
          0.21561540911771696,
          0.19405386820594528,
          0.15093078638240187,
          0.12936924547063017,
          0.12936924547063017,
          0.12936924547063017,
          0.12936924547063017,
          0.12936924547063017,
          0.12936924547063017,
          0.10780770455885848,
          0.10780770455885848,
          0.10780770455885848,
          0.10780770455885848,
          0.10780770455885848,
          0.10780770455885848,
          0.10780770455885848,
          0.10780770455885848,
          0.08624616364708679,
          0.08624616364708679,
          0.08624616364708679,
          0.08624616364708679,
          0.08624616364708679,
          0.08624616364708679,
          0.08624616364708679,
          0.08624616364708679,
          0.08624616364708679,
          0.08624616364708679,
          0.08624616364708679,
          0.08624616364708679,
          0.08624616364708679,
          0.08624616364708679,
          0.08624616364708679,
          0.08624616364708679,
          0.08624616364708679,
          0.08624616364708679,
          0.08624616364708679,
          0.08624616364708679,
          0.06468462273531508,
          0.06468462273531508,
          0.06468462273531508,
          0.06468462273531508,
          0.06468462273531508,
          0.06468462273531508,
          0.06468462273531508,
          0.06468462273531508,
          0.06468462273531508,
          0.06468462273531508,
          0.06468462273531508,
          0.06468462273531508
         ],
         "yaxis": "y"
        }
       ],
       "layout": {
        "barmode": "relative",
        "coloraxis": {
         "colorbar": {
          "title": {
           "text": "Fréquence"
          }
         },
         "colorscale": [
          [
           0,
           "#0d0887"
          ],
          [
           0.1111111111111111,
           "#46039f"
          ],
          [
           0.2222222222222222,
           "#7201a8"
          ],
          [
           0.3333333333333333,
           "#9c179e"
          ],
          [
           0.4444444444444444,
           "#bd3786"
          ],
          [
           0.5555555555555556,
           "#d8576b"
          ],
          [
           0.6666666666666666,
           "#ed7953"
          ],
          [
           0.7777777777777778,
           "#fb9f3a"
          ],
          [
           0.8888888888888888,
           "#fdca26"
          ],
          [
           1,
           "#f0f921"
          ]
         ]
        },
        "legend": {
         "tracegroupgap": 0
        },
        "margin": {
         "b": 120,
         "l": 40,
         "r": 20,
         "t": 0
        },
        "template": {
         "data": {
          "bar": [
           {
            "error_x": {
             "color": "#2a3f5f"
            },
            "error_y": {
             "color": "#2a3f5f"
            },
            "marker": {
             "line": {
              "color": "#E5ECF6",
              "width": 0.5
             },
             "pattern": {
              "fillmode": "overlay",
              "size": 10,
              "solidity": 0.2
             }
            },
            "type": "bar"
           }
          ],
          "barpolar": [
           {
            "marker": {
             "line": {
              "color": "#E5ECF6",
              "width": 0.5
             },
             "pattern": {
              "fillmode": "overlay",
              "size": 10,
              "solidity": 0.2
             }
            },
            "type": "barpolar"
           }
          ],
          "carpet": [
           {
            "aaxis": {
             "endlinecolor": "#2a3f5f",
             "gridcolor": "white",
             "linecolor": "white",
             "minorgridcolor": "white",
             "startlinecolor": "#2a3f5f"
            },
            "baxis": {
             "endlinecolor": "#2a3f5f",
             "gridcolor": "white",
             "linecolor": "white",
             "minorgridcolor": "white",
             "startlinecolor": "#2a3f5f"
            },
            "type": "carpet"
           }
          ],
          "choropleth": [
           {
            "colorbar": {
             "outlinewidth": 0,
             "ticks": ""
            },
            "type": "choropleth"
           }
          ],
          "contour": [
           {
            "colorbar": {
             "outlinewidth": 0,
             "ticks": ""
            },
            "colorscale": [
             [
              0,
              "#0d0887"
             ],
             [
              0.1111111111111111,
              "#46039f"
             ],
             [
              0.2222222222222222,
              "#7201a8"
             ],
             [
              0.3333333333333333,
              "#9c179e"
             ],
             [
              0.4444444444444444,
              "#bd3786"
             ],
             [
              0.5555555555555556,
              "#d8576b"
             ],
             [
              0.6666666666666666,
              "#ed7953"
             ],
             [
              0.7777777777777778,
              "#fb9f3a"
             ],
             [
              0.8888888888888888,
              "#fdca26"
             ],
             [
              1,
              "#f0f921"
             ]
            ],
            "type": "contour"
           }
          ],
          "contourcarpet": [
           {
            "colorbar": {
             "outlinewidth": 0,
             "ticks": ""
            },
            "type": "contourcarpet"
           }
          ],
          "heatmap": [
           {
            "colorbar": {
             "outlinewidth": 0,
             "ticks": ""
            },
            "colorscale": [
             [
              0,
              "#0d0887"
             ],
             [
              0.1111111111111111,
              "#46039f"
             ],
             [
              0.2222222222222222,
              "#7201a8"
             ],
             [
              0.3333333333333333,
              "#9c179e"
             ],
             [
              0.4444444444444444,
              "#bd3786"
             ],
             [
              0.5555555555555556,
              "#d8576b"
             ],
             [
              0.6666666666666666,
              "#ed7953"
             ],
             [
              0.7777777777777778,
              "#fb9f3a"
             ],
             [
              0.8888888888888888,
              "#fdca26"
             ],
             [
              1,
              "#f0f921"
             ]
            ],
            "type": "heatmap"
           }
          ],
          "heatmapgl": [
           {
            "colorbar": {
             "outlinewidth": 0,
             "ticks": ""
            },
            "colorscale": [
             [
              0,
              "#0d0887"
             ],
             [
              0.1111111111111111,
              "#46039f"
             ],
             [
              0.2222222222222222,
              "#7201a8"
             ],
             [
              0.3333333333333333,
              "#9c179e"
             ],
             [
              0.4444444444444444,
              "#bd3786"
             ],
             [
              0.5555555555555556,
              "#d8576b"
             ],
             [
              0.6666666666666666,
              "#ed7953"
             ],
             [
              0.7777777777777778,
              "#fb9f3a"
             ],
             [
              0.8888888888888888,
              "#fdca26"
             ],
             [
              1,
              "#f0f921"
             ]
            ],
            "type": "heatmapgl"
           }
          ],
          "histogram": [
           {
            "marker": {
             "pattern": {
              "fillmode": "overlay",
              "size": 10,
              "solidity": 0.2
             }
            },
            "type": "histogram"
           }
          ],
          "histogram2d": [
           {
            "colorbar": {
             "outlinewidth": 0,
             "ticks": ""
            },
            "colorscale": [
             [
              0,
              "#0d0887"
             ],
             [
              0.1111111111111111,
              "#46039f"
             ],
             [
              0.2222222222222222,
              "#7201a8"
             ],
             [
              0.3333333333333333,
              "#9c179e"
             ],
             [
              0.4444444444444444,
              "#bd3786"
             ],
             [
              0.5555555555555556,
              "#d8576b"
             ],
             [
              0.6666666666666666,
              "#ed7953"
             ],
             [
              0.7777777777777778,
              "#fb9f3a"
             ],
             [
              0.8888888888888888,
              "#fdca26"
             ],
             [
              1,
              "#f0f921"
             ]
            ],
            "type": "histogram2d"
           }
          ],
          "histogram2dcontour": [
           {
            "colorbar": {
             "outlinewidth": 0,
             "ticks": ""
            },
            "colorscale": [
             [
              0,
              "#0d0887"
             ],
             [
              0.1111111111111111,
              "#46039f"
             ],
             [
              0.2222222222222222,
              "#7201a8"
             ],
             [
              0.3333333333333333,
              "#9c179e"
             ],
             [
              0.4444444444444444,
              "#bd3786"
             ],
             [
              0.5555555555555556,
              "#d8576b"
             ],
             [
              0.6666666666666666,
              "#ed7953"
             ],
             [
              0.7777777777777778,
              "#fb9f3a"
             ],
             [
              0.8888888888888888,
              "#fdca26"
             ],
             [
              1,
              "#f0f921"
             ]
            ],
            "type": "histogram2dcontour"
           }
          ],
          "mesh3d": [
           {
            "colorbar": {
             "outlinewidth": 0,
             "ticks": ""
            },
            "type": "mesh3d"
           }
          ],
          "parcoords": [
           {
            "line": {
             "colorbar": {
              "outlinewidth": 0,
              "ticks": ""
             }
            },
            "type": "parcoords"
           }
          ],
          "pie": [
           {
            "automargin": true,
            "type": "pie"
           }
          ],
          "scatter": [
           {
            "fillpattern": {
             "fillmode": "overlay",
             "size": 10,
             "solidity": 0.2
            },
            "type": "scatter"
           }
          ],
          "scatter3d": [
           {
            "line": {
             "colorbar": {
              "outlinewidth": 0,
              "ticks": ""
             }
            },
            "marker": {
             "colorbar": {
              "outlinewidth": 0,
              "ticks": ""
             }
            },
            "type": "scatter3d"
           }
          ],
          "scattercarpet": [
           {
            "marker": {
             "colorbar": {
              "outlinewidth": 0,
              "ticks": ""
             }
            },
            "type": "scattercarpet"
           }
          ],
          "scattergeo": [
           {
            "marker": {
             "colorbar": {
              "outlinewidth": 0,
              "ticks": ""
             }
            },
            "type": "scattergeo"
           }
          ],
          "scattergl": [
           {
            "marker": {
             "colorbar": {
              "outlinewidth": 0,
              "ticks": ""
             }
            },
            "type": "scattergl"
           }
          ],
          "scattermapbox": [
           {
            "marker": {
             "colorbar": {
              "outlinewidth": 0,
              "ticks": ""
             }
            },
            "type": "scattermapbox"
           }
          ],
          "scatterpolar": [
           {
            "marker": {
             "colorbar": {
              "outlinewidth": 0,
              "ticks": ""
             }
            },
            "type": "scatterpolar"
           }
          ],
          "scatterpolargl": [
           {
            "marker": {
             "colorbar": {
              "outlinewidth": 0,
              "ticks": ""
             }
            },
            "type": "scatterpolargl"
           }
          ],
          "scatterternary": [
           {
            "marker": {
             "colorbar": {
              "outlinewidth": 0,
              "ticks": ""
             }
            },
            "type": "scatterternary"
           }
          ],
          "surface": [
           {
            "colorbar": {
             "outlinewidth": 0,
             "ticks": ""
            },
            "colorscale": [
             [
              0,
              "#0d0887"
             ],
             [
              0.1111111111111111,
              "#46039f"
             ],
             [
              0.2222222222222222,
              "#7201a8"
             ],
             [
              0.3333333333333333,
              "#9c179e"
             ],
             [
              0.4444444444444444,
              "#bd3786"
             ],
             [
              0.5555555555555556,
              "#d8576b"
             ],
             [
              0.6666666666666666,
              "#ed7953"
             ],
             [
              0.7777777777777778,
              "#fb9f3a"
             ],
             [
              0.8888888888888888,
              "#fdca26"
             ],
             [
              1,
              "#f0f921"
             ]
            ],
            "type": "surface"
           }
          ],
          "table": [
           {
            "cells": {
             "fill": {
              "color": "#EBF0F8"
             },
             "line": {
              "color": "white"
             }
            },
            "header": {
             "fill": {
              "color": "#C8D4E3"
             },
             "line": {
              "color": "white"
             }
            },
            "type": "table"
           }
          ]
         },
         "layout": {
          "annotationdefaults": {
           "arrowcolor": "#2a3f5f",
           "arrowhead": 0,
           "arrowwidth": 1
          },
          "autotypenumbers": "strict",
          "coloraxis": {
           "colorbar": {
            "outlinewidth": 0,
            "ticks": ""
           }
          },
          "colorscale": {
           "diverging": [
            [
             0,
             "#8e0152"
            ],
            [
             0.1,
             "#c51b7d"
            ],
            [
             0.2,
             "#de77ae"
            ],
            [
             0.3,
             "#f1b6da"
            ],
            [
             0.4,
             "#fde0ef"
            ],
            [
             0.5,
             "#f7f7f7"
            ],
            [
             0.6,
             "#e6f5d0"
            ],
            [
             0.7,
             "#b8e186"
            ],
            [
             0.8,
             "#7fbc41"
            ],
            [
             0.9,
             "#4d9221"
            ],
            [
             1,
             "#276419"
            ]
           ],
           "sequential": [
            [
             0,
             "#0d0887"
            ],
            [
             0.1111111111111111,
             "#46039f"
            ],
            [
             0.2222222222222222,
             "#7201a8"
            ],
            [
             0.3333333333333333,
             "#9c179e"
            ],
            [
             0.4444444444444444,
             "#bd3786"
            ],
            [
             0.5555555555555556,
             "#d8576b"
            ],
            [
             0.6666666666666666,
             "#ed7953"
            ],
            [
             0.7777777777777778,
             "#fb9f3a"
            ],
            [
             0.8888888888888888,
             "#fdca26"
            ],
            [
             1,
             "#f0f921"
            ]
           ],
           "sequentialminus": [
            [
             0,
             "#0d0887"
            ],
            [
             0.1111111111111111,
             "#46039f"
            ],
            [
             0.2222222222222222,
             "#7201a8"
            ],
            [
             0.3333333333333333,
             "#9c179e"
            ],
            [
             0.4444444444444444,
             "#bd3786"
            ],
            [
             0.5555555555555556,
             "#d8576b"
            ],
            [
             0.6666666666666666,
             "#ed7953"
            ],
            [
             0.7777777777777778,
             "#fb9f3a"
            ],
            [
             0.8888888888888888,
             "#fdca26"
            ],
            [
             1,
             "#f0f921"
            ]
           ]
          },
          "colorway": [
           "#636efa",
           "#EF553B",
           "#00cc96",
           "#ab63fa",
           "#FFA15A",
           "#19d3f3",
           "#FF6692",
           "#B6E880",
           "#FF97FF",
           "#FECB52"
          ],
          "font": {
           "color": "#2a3f5f"
          },
          "geo": {
           "bgcolor": "white",
           "lakecolor": "white",
           "landcolor": "#E5ECF6",
           "showlakes": true,
           "showland": true,
           "subunitcolor": "white"
          },
          "hoverlabel": {
           "align": "left"
          },
          "hovermode": "closest",
          "mapbox": {
           "style": "light"
          },
          "paper_bgcolor": "white",
          "plot_bgcolor": "#E5ECF6",
          "polar": {
           "angularaxis": {
            "gridcolor": "white",
            "linecolor": "white",
            "ticks": ""
           },
           "bgcolor": "#E5ECF6",
           "radialaxis": {
            "gridcolor": "white",
            "linecolor": "white",
            "ticks": ""
           }
          },
          "scene": {
           "xaxis": {
            "backgroundcolor": "#E5ECF6",
            "gridcolor": "white",
            "gridwidth": 2,
            "linecolor": "white",
            "showbackground": true,
            "ticks": "",
            "zerolinecolor": "white"
           },
           "yaxis": {
            "backgroundcolor": "#E5ECF6",
            "gridcolor": "white",
            "gridwidth": 2,
            "linecolor": "white",
            "showbackground": true,
            "ticks": "",
            "zerolinecolor": "white"
           },
           "zaxis": {
            "backgroundcolor": "#E5ECF6",
            "gridcolor": "white",
            "gridwidth": 2,
            "linecolor": "white",
            "showbackground": true,
            "ticks": "",
            "zerolinecolor": "white"
           }
          },
          "shapedefaults": {
           "line": {
            "color": "#2a3f5f"
           }
          },
          "ternary": {
           "aaxis": {
            "gridcolor": "white",
            "linecolor": "white",
            "ticks": ""
           },
           "baxis": {
            "gridcolor": "white",
            "linecolor": "white",
            "ticks": ""
           },
           "bgcolor": "#E5ECF6",
           "caxis": {
            "gridcolor": "white",
            "linecolor": "white",
            "ticks": ""
           }
          },
          "title": {
           "x": 0.05
          },
          "xaxis": {
           "automargin": true,
           "gridcolor": "white",
           "linecolor": "white",
           "ticks": "",
           "title": {
            "standoff": 15
           },
           "zerolinecolor": "white",
           "zerolinewidth": 2
          },
          "yaxis": {
           "automargin": true,
           "gridcolor": "white",
           "linecolor": "white",
           "ticks": "",
           "title": {
            "standoff": 15
           },
           "zerolinecolor": "white",
           "zerolinewidth": 2
          }
         }
        },
        "title": {
         "text": "Fréquence des mots (TF-IDF)"
        },
        "xaxis": {
         "anchor": "y",
         "domain": [
          0,
          1
         ],
         "tickangle": 45,
         "title": {
          "text": "Mots"
         }
        },
        "yaxis": {
         "anchor": "x",
         "domain": [
          0,
          1
         ],
         "title": {
          "text": "Fréquence"
         }
        }
       }
      }
     },
     "metadata": {},
     "output_type": "display_data"
    }
   ],
   "source": [
    "\n",
    "\n",
    "# Créer un graphique à barres\n",
    "fig = px.bar(freq_df, \n",
    "             x='Mot', \n",
    "             y='Fréquence', \n",
    "             title=\"Fréquence des mots (TF-IDF)\", \n",
    "             text='Fréquence', \n",
    "             color='Fréquence',  # Ajoutons des couleurs dynamiques en fonction de la fréquence\n",
    "             hover_name='Mot')   # Affichage des  détails au survol\n",
    "\n",
    "# Ajouter une personnalisation interactive et visuelle\n",
    "fig.update_traces(textposition='outside', \n",
    "                  marker=dict(line=dict(width=1, color='DarkSlateGrey')))\n",
    "fig.update_layout(xaxis_title='Mots', \n",
    "                  yaxis_title='Fréquence', \n",
    "                  template=\"plotly\",   \n",
    "                  xaxis=dict(tickangle=45),  \n",
    "                  margin=dict(l=40, r=20, t=0, b=120))  \n",
    "\n",
    "# Affichage  du graphique\n",
    "fig.show()\n"
   ]
  },
  {
   "cell_type": "code",
   "execution_count": 166,
   "metadata": {},
   "outputs": [
    {
     "data": {
      "application/vnd.plotly.v1+json": {
       "config": {
        "plotlyServerURL": "https://plot.ly"
       },
       "data": [
        {
         "hovertemplate": "x: %{x}<br>y: %{y}<br>color: [%{z[0]}, %{z[1]}, %{z[2]}]<extra></extra>",
         "name": "0",
         "source": "data:image/png;base64,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",
         "type": "image",
         "xaxis": "x",
         "yaxis": "y"
        }
       ],
       "layout": {
        "margin": {
         "b": 0,
         "l": 0,
         "r": 0,
         "t": 30
        },
        "template": {
         "data": {
          "bar": [
           {
            "error_x": {
             "color": "#2a3f5f"
            },
            "error_y": {
             "color": "#2a3f5f"
            },
            "marker": {
             "line": {
              "color": "white",
              "width": 0.5
             },
             "pattern": {
              "fillmode": "overlay",
              "size": 10,
              "solidity": 0.2
             }
            },
            "type": "bar"
           }
          ],
          "barpolar": [
           {
            "marker": {
             "line": {
              "color": "white",
              "width": 0.5
             },
             "pattern": {
              "fillmode": "overlay",
              "size": 10,
              "solidity": 0.2
             }
            },
            "type": "barpolar"
           }
          ],
          "carpet": [
           {
            "aaxis": {
             "endlinecolor": "#2a3f5f",
             "gridcolor": "#C8D4E3",
             "linecolor": "#C8D4E3",
             "minorgridcolor": "#C8D4E3",
             "startlinecolor": "#2a3f5f"
            },
            "baxis": {
             "endlinecolor": "#2a3f5f",
             "gridcolor": "#C8D4E3",
             "linecolor": "#C8D4E3",
             "minorgridcolor": "#C8D4E3",
             "startlinecolor": "#2a3f5f"
            },
            "type": "carpet"
           }
          ],
          "choropleth": [
           {
            "colorbar": {
             "outlinewidth": 0,
             "ticks": ""
            },
            "type": "choropleth"
           }
          ],
          "contour": [
           {
            "colorbar": {
             "outlinewidth": 0,
             "ticks": ""
            },
            "colorscale": [
             [
              0,
              "#0d0887"
             ],
             [
              0.1111111111111111,
              "#46039f"
             ],
             [
              0.2222222222222222,
              "#7201a8"
             ],
             [
              0.3333333333333333,
              "#9c179e"
             ],
             [
              0.4444444444444444,
              "#bd3786"
             ],
             [
              0.5555555555555556,
              "#d8576b"
             ],
             [
              0.6666666666666666,
              "#ed7953"
             ],
             [
              0.7777777777777778,
              "#fb9f3a"
             ],
             [
              0.8888888888888888,
              "#fdca26"
             ],
             [
              1,
              "#f0f921"
             ]
            ],
            "type": "contour"
           }
          ],
          "contourcarpet": [
           {
            "colorbar": {
             "outlinewidth": 0,
             "ticks": ""
            },
            "type": "contourcarpet"
           }
          ],
          "heatmap": [
           {
            "colorbar": {
             "outlinewidth": 0,
             "ticks": ""
            },
            "colorscale": [
             [
              0,
              "#0d0887"
             ],
             [
              0.1111111111111111,
              "#46039f"
             ],
             [
              0.2222222222222222,
              "#7201a8"
             ],
             [
              0.3333333333333333,
              "#9c179e"
             ],
             [
              0.4444444444444444,
              "#bd3786"
             ],
             [
              0.5555555555555556,
              "#d8576b"
             ],
             [
              0.6666666666666666,
              "#ed7953"
             ],
             [
              0.7777777777777778,
              "#fb9f3a"
             ],
             [
              0.8888888888888888,
              "#fdca26"
             ],
             [
              1,
              "#f0f921"
             ]
            ],
            "type": "heatmap"
           }
          ],
          "heatmapgl": [
           {
            "colorbar": {
             "outlinewidth": 0,
             "ticks": ""
            },
            "colorscale": [
             [
              0,
              "#0d0887"
             ],
             [
              0.1111111111111111,
              "#46039f"
             ],
             [
              0.2222222222222222,
              "#7201a8"
             ],
             [
              0.3333333333333333,
              "#9c179e"
             ],
             [
              0.4444444444444444,
              "#bd3786"
             ],
             [
              0.5555555555555556,
              "#d8576b"
             ],
             [
              0.6666666666666666,
              "#ed7953"
             ],
             [
              0.7777777777777778,
              "#fb9f3a"
             ],
             [
              0.8888888888888888,
              "#fdca26"
             ],
             [
              1,
              "#f0f921"
             ]
            ],
            "type": "heatmapgl"
           }
          ],
          "histogram": [
           {
            "marker": {
             "pattern": {
              "fillmode": "overlay",
              "size": 10,
              "solidity": 0.2
             }
            },
            "type": "histogram"
           }
          ],
          "histogram2d": [
           {
            "colorbar": {
             "outlinewidth": 0,
             "ticks": ""
            },
            "colorscale": [
             [
              0,
              "#0d0887"
             ],
             [
              0.1111111111111111,
              "#46039f"
             ],
             [
              0.2222222222222222,
              "#7201a8"
             ],
             [
              0.3333333333333333,
              "#9c179e"
             ],
             [
              0.4444444444444444,
              "#bd3786"
             ],
             [
              0.5555555555555556,
              "#d8576b"
             ],
             [
              0.6666666666666666,
              "#ed7953"
             ],
             [
              0.7777777777777778,
              "#fb9f3a"
             ],
             [
              0.8888888888888888,
              "#fdca26"
             ],
             [
              1,
              "#f0f921"
             ]
            ],
            "type": "histogram2d"
           }
          ],
          "histogram2dcontour": [
           {
            "colorbar": {
             "outlinewidth": 0,
             "ticks": ""
            },
            "colorscale": [
             [
              0,
              "#0d0887"
             ],
             [
              0.1111111111111111,
              "#46039f"
             ],
             [
              0.2222222222222222,
              "#7201a8"
             ],
             [
              0.3333333333333333,
              "#9c179e"
             ],
             [
              0.4444444444444444,
              "#bd3786"
             ],
             [
              0.5555555555555556,
              "#d8576b"
             ],
             [
              0.6666666666666666,
              "#ed7953"
             ],
             [
              0.7777777777777778,
              "#fb9f3a"
             ],
             [
              0.8888888888888888,
              "#fdca26"
             ],
             [
              1,
              "#f0f921"
             ]
            ],
            "type": "histogram2dcontour"
           }
          ],
          "mesh3d": [
           {
            "colorbar": {
             "outlinewidth": 0,
             "ticks": ""
            },
            "type": "mesh3d"
           }
          ],
          "parcoords": [
           {
            "line": {
             "colorbar": {
              "outlinewidth": 0,
              "ticks": ""
             }
            },
            "type": "parcoords"
           }
          ],
          "pie": [
           {
            "automargin": true,
            "type": "pie"
           }
          ],
          "scatter": [
           {
            "fillpattern": {
             "fillmode": "overlay",
             "size": 10,
             "solidity": 0.2
            },
            "type": "scatter"
           }
          ],
          "scatter3d": [
           {
            "line": {
             "colorbar": {
              "outlinewidth": 0,
              "ticks": ""
             }
            },
            "marker": {
             "colorbar": {
              "outlinewidth": 0,
              "ticks": ""
             }
            },
            "type": "scatter3d"
           }
          ],
          "scattercarpet": [
           {
            "marker": {
             "colorbar": {
              "outlinewidth": 0,
              "ticks": ""
             }
            },
            "type": "scattercarpet"
           }
          ],
          "scattergeo": [
           {
            "marker": {
             "colorbar": {
              "outlinewidth": 0,
              "ticks": ""
             }
            },
            "type": "scattergeo"
           }
          ],
          "scattergl": [
           {
            "marker": {
             "colorbar": {
              "outlinewidth": 0,
              "ticks": ""
             }
            },
            "type": "scattergl"
           }
          ],
          "scattermapbox": [
           {
            "marker": {
             "colorbar": {
              "outlinewidth": 0,
              "ticks": ""
             }
            },
            "type": "scattermapbox"
           }
          ],
          "scatterpolar": [
           {
            "marker": {
             "colorbar": {
              "outlinewidth": 0,
              "ticks": ""
             }
            },
            "type": "scatterpolar"
           }
          ],
          "scatterpolargl": [
           {
            "marker": {
             "colorbar": {
              "outlinewidth": 0,
              "ticks": ""
             }
            },
            "type": "scatterpolargl"
           }
          ],
          "scatterternary": [
           {
            "marker": {
             "colorbar": {
              "outlinewidth": 0,
              "ticks": ""
             }
            },
            "type": "scatterternary"
           }
          ],
          "surface": [
           {
            "colorbar": {
             "outlinewidth": 0,
             "ticks": ""
            },
            "colorscale": [
             [
              0,
              "#0d0887"
             ],
             [
              0.1111111111111111,
              "#46039f"
             ],
             [
              0.2222222222222222,
              "#7201a8"
             ],
             [
              0.3333333333333333,
              "#9c179e"
             ],
             [
              0.4444444444444444,
              "#bd3786"
             ],
             [
              0.5555555555555556,
              "#d8576b"
             ],
             [
              0.6666666666666666,
              "#ed7953"
             ],
             [
              0.7777777777777778,
              "#fb9f3a"
             ],
             [
              0.8888888888888888,
              "#fdca26"
             ],
             [
              1,
              "#f0f921"
             ]
            ],
            "type": "surface"
           }
          ],
          "table": [
           {
            "cells": {
             "fill": {
              "color": "#EBF0F8"
             },
             "line": {
              "color": "white"
             }
            },
            "header": {
             "fill": {
              "color": "#C8D4E3"
             },
             "line": {
              "color": "white"
             }
            },
            "type": "table"
           }
          ]
         },
         "layout": {
          "annotationdefaults": {
           "arrowcolor": "#2a3f5f",
           "arrowhead": 0,
           "arrowwidth": 1
          },
          "autotypenumbers": "strict",
          "coloraxis": {
           "colorbar": {
            "outlinewidth": 0,
            "ticks": ""
           }
          },
          "colorscale": {
           "diverging": [
            [
             0,
             "#8e0152"
            ],
            [
             0.1,
             "#c51b7d"
            ],
            [
             0.2,
             "#de77ae"
            ],
            [
             0.3,
             "#f1b6da"
            ],
            [
             0.4,
             "#fde0ef"
            ],
            [
             0.5,
             "#f7f7f7"
            ],
            [
             0.6,
             "#e6f5d0"
            ],
            [
             0.7,
             "#b8e186"
            ],
            [
             0.8,
             "#7fbc41"
            ],
            [
             0.9,
             "#4d9221"
            ],
            [
             1,
             "#276419"
            ]
           ],
           "sequential": [
            [
             0,
             "#0d0887"
            ],
            [
             0.1111111111111111,
             "#46039f"
            ],
            [
             0.2222222222222222,
             "#7201a8"
            ],
            [
             0.3333333333333333,
             "#9c179e"
            ],
            [
             0.4444444444444444,
             "#bd3786"
            ],
            [
             0.5555555555555556,
             "#d8576b"
            ],
            [
             0.6666666666666666,
             "#ed7953"
            ],
            [
             0.7777777777777778,
             "#fb9f3a"
            ],
            [
             0.8888888888888888,
             "#fdca26"
            ],
            [
             1,
             "#f0f921"
            ]
           ],
           "sequentialminus": [
            [
             0,
             "#0d0887"
            ],
            [
             0.1111111111111111,
             "#46039f"
            ],
            [
             0.2222222222222222,
             "#7201a8"
            ],
            [
             0.3333333333333333,
             "#9c179e"
            ],
            [
             0.4444444444444444,
             "#bd3786"
            ],
            [
             0.5555555555555556,
             "#d8576b"
            ],
            [
             0.6666666666666666,
             "#ed7953"
            ],
            [
             0.7777777777777778,
             "#fb9f3a"
            ],
            [
             0.8888888888888888,
             "#fdca26"
            ],
            [
             1,
             "#f0f921"
            ]
           ]
          },
          "colorway": [
           "#636efa",
           "#EF553B",
           "#00cc96",
           "#ab63fa",
           "#FFA15A",
           "#19d3f3",
           "#FF6692",
           "#B6E880",
           "#FF97FF",
           "#FECB52"
          ],
          "font": {
           "color": "#2a3f5f"
          },
          "geo": {
           "bgcolor": "white",
           "lakecolor": "white",
           "landcolor": "white",
           "showlakes": true,
           "showland": true,
           "subunitcolor": "#C8D4E3"
          },
          "hoverlabel": {
           "align": "left"
          },
          "hovermode": "closest",
          "mapbox": {
           "style": "light"
          },
          "paper_bgcolor": "white",
          "plot_bgcolor": "white",
          "polar": {
           "angularaxis": {
            "gridcolor": "#EBF0F8",
            "linecolor": "#EBF0F8",
            "ticks": ""
           },
           "bgcolor": "white",
           "radialaxis": {
            "gridcolor": "#EBF0F8",
            "linecolor": "#EBF0F8",
            "ticks": ""
           }
          },
          "scene": {
           "xaxis": {
            "backgroundcolor": "white",
            "gridcolor": "#DFE8F3",
            "gridwidth": 2,
            "linecolor": "#EBF0F8",
            "showbackground": true,
            "ticks": "",
            "zerolinecolor": "#EBF0F8"
           },
           "yaxis": {
            "backgroundcolor": "white",
            "gridcolor": "#DFE8F3",
            "gridwidth": 2,
            "linecolor": "#EBF0F8",
            "showbackground": true,
            "ticks": "",
            "zerolinecolor": "#EBF0F8"
           },
           "zaxis": {
            "backgroundcolor": "white",
            "gridcolor": "#DFE8F3",
            "gridwidth": 2,
            "linecolor": "#EBF0F8",
            "showbackground": true,
            "ticks": "",
            "zerolinecolor": "#EBF0F8"
           }
          },
          "shapedefaults": {
           "line": {
            "color": "#2a3f5f"
           }
          },
          "ternary": {
           "aaxis": {
            "gridcolor": "#DFE8F3",
            "linecolor": "#A2B1C6",
            "ticks": ""
           },
           "baxis": {
            "gridcolor": "#DFE8F3",
            "linecolor": "#A2B1C6",
            "ticks": ""
           },
           "bgcolor": "white",
           "caxis": {
            "gridcolor": "#DFE8F3",
            "linecolor": "#A2B1C6",
            "ticks": ""
           }
          },
          "title": {
           "x": 0.05
          },
          "xaxis": {
           "automargin": true,
           "gridcolor": "#EBF0F8",
           "linecolor": "#EBF0F8",
           "ticks": "",
           "title": {
            "standoff": 15
           },
           "zerolinecolor": "#EBF0F8",
           "zerolinewidth": 2
          },
          "yaxis": {
           "automargin": true,
           "gridcolor": "#EBF0F8",
           "linecolor": "#EBF0F8",
           "ticks": "",
           "title": {
            "standoff": 15
           },
           "zerolinecolor": "#EBF0F8",
           "zerolinewidth": 2
          }
         }
        },
        "xaxis": {
         "anchor": "y",
         "domain": [
          0,
          1
         ],
         "showgrid": false,
         "showticklabels": false,
         "zeroline": false
        },
        "yaxis": {
         "anchor": "x",
         "domain": [
          0,
          1
         ],
         "showgrid": false,
         "showticklabels": false,
         "zeroline": false
        }
       }
      }
     },
     "metadata": {},
     "output_type": "display_data"
    }
   ],
   "source": [
    "from wordcloud import WordCloud\n",
    "import plotly.express as px\n",
    "import matplotlib.pyplot as plt\n",
    "\n",
    "# Combinaison des mots-clés avec leur poids (TF-IDF)\n",
    "word_weights = {word: filtered_tfidf_df.iloc[0][word] for word in filtered_tfidf_df.columns}\n",
    "\n",
    "# Génération du WordCloud\n",
    "wordcloud = WordCloud(\n",
    "    width=800,\n",
    "    height=400,\n",
    "    background_color='white',\n",
    "    colormap='viridis'\n",
    ").generate_from_frequencies(word_weights)\n",
    "\n",
    "# Conversion du WordCloud en image pour Plotly\n",
    "wordcloud_image = wordcloud.to_array()\n",
    "\n",
    "# Affichage avec Plotly\n",
    "fig = px.imshow(\n",
    "    wordcloud_image,\n",
    "    \n",
    "    template=\"plotly_white\"\n",
    ")\n",
    "fig.update_layout(\n",
    "    xaxis=dict(showgrid=False, zeroline=False),\n",
    "    yaxis=dict(showgrid=False, zeroline=False),\n",
    "    margin=dict(l=0, r=0, t=30, b=0)\n",
    ")\n",
    "fig.update_xaxes(showticklabels=False)\n",
    "fig.update_yaxes(showticklabels=False)\n",
    "fig.show()\n"
   ]
  },
  {
   "cell_type": "markdown",
   "metadata": {},
   "source": [
    "\n",
    "analyse du resulat et recommandation\n",
    "\n",
    "Mon analyse\n",
    "\n",
    "\n",
    "Les résultats de mon WordCloud mettent en évidence les mots les plus significatifs en fonction de leur pondération (TF-IDF). Ils révèlent une forte concentration sur les problématiques de fraude bancaire, avec des thématiques majeures telles que le \"skimming\", une technique de fraude ciblant les données bancaires, ainsi que des notions comme \"vigilance\" et les \"impacts\" sur le pays.\n",
    "\n",
    "La présence de termes tels que \"vidéo\", \"copie\" et \"impressionnantes\" suggère une orientation vers des supports visuels pour sensibiliser les utilisateurs. Ces éléments pourraient indiquer que les campagnes de prévention axées sur des contenus visuels percutants sont particulièrement adaptées pour informer le public sur les risques et les méthodes liées aux fraudes bancaires.\n",
    "\n",
    "\n",
    "Ma recommandation\n",
    "\n",
    "- Mise en place de campagnes de prévention renforcées, appuyées par des supports vidéo éducatifs, afin d’expliquer les risques liés aux fraudes et de sensibiliser le public aux précautions à adopter. Ces campagnes pourraient être diffusées sur des plateformes clés telles que Facebook, Twitter et Instagram, pour toucher un large public de manière efficace et engageante.\n",
    "\n",
    "\n",
    "- Identification et renforcement des mesures  de  sécurité sur les zones les plus touchées par la fraude "
   ]
  }
 ],
 "metadata": {
  "kernelspec": {
   "display_name": "Python 3",
   "language": "python",
   "name": "python3"
  },
  "language_info": {
   "codemirror_mode": {
    "name": "ipython",
    "version": 3
   },
   "file_extension": ".py",
   "mimetype": "text/x-python",
   "name": "python",
   "nbconvert_exporter": "python",
   "pygments_lexer": "ipython3",
   "version": "3.12.6"
  }
 },
 "nbformat": 4,
 "nbformat_minor": 2
}
