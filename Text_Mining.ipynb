{
 "cells": [
  {
   "cell_type": "code",
   "execution_count": 86,
   "metadata": {},
   "outputs": [
    {
     "name": "stdout",
     "output_type": "stream",
     "text": [
      "Requirement already satisfied: requests in c:\\users\\fanti\\appdata\\local\\programs\\python\\python312\\lib\\site-packages (2.32.3)Note: you may need to restart the kernel to use updated packages.\n"
     ]
    },
    {
     "name": "stderr",
     "output_type": "stream",
     "text": [
      "WARNING: Ignoring invalid distribution ~lotly (c:\\Users\\fanti\\AppData\\Local\\Programs\\Python\\Python312\\Lib\\site-packages)\n",
      "WARNING: Ignoring invalid distribution ~lotly (c:\\Users\\fanti\\AppData\\Local\\Programs\\Python\\Python312\\Lib\\site-packages)\n",
      "WARNING: Ignoring invalid distribution ~lotly (c:\\Users\\fanti\\AppData\\Local\\Programs\\Python\\Python312\\Lib\\site-packages)\n"
     ]
    },
    {
     "name": "stdout",
     "output_type": "stream",
     "text": [
      "\n",
      "Requirement already satisfied: charset-normalizer<4,>=2 in c:\\users\\fanti\\appdata\\local\\programs\\python\\python312\\lib\\site-packages (from requests) (3.4.0)\n",
      "Requirement already satisfied: idna<4,>=2.5 in c:\\users\\fanti\\appdata\\local\\programs\\python\\python312\\lib\\site-packages (from requests) (3.10)\n",
      "Requirement already satisfied: urllib3<3,>=1.21.1 in c:\\users\\fanti\\appdata\\local\\programs\\python\\python312\\lib\\site-packages (from requests) (2.2.3)\n",
      "Requirement already satisfied: certifi>=2017.4.17 in c:\\users\\fanti\\appdata\\local\\programs\\python\\python312\\lib\\site-packages (from requests) (2024.8.30)\n"
     ]
    }
   ],
   "source": [
    "pip install requests"
   ]
  },
  {
   "cell_type": "code",
   "execution_count": 87,
   "metadata": {},
   "outputs": [
    {
     "name": "stdout",
     "output_type": "stream",
     "text": [
      "Requirement already satisfied: beautifulsoup4 in c:\\users\\fanti\\appdata\\local\\programs\\python\\python312\\lib\\site-packages (4.12.3)\n",
      "Requirement already satisfied: soupsieve>1.2 in c:\\users\\fanti\\appdata\\local\\programs\\python\\python312\\lib\\site-packages (from beautifulsoup4) (2.6)\n",
      "Note: you may need to restart the kernel to use updated packages.\n"
     ]
    },
    {
     "name": "stderr",
     "output_type": "stream",
     "text": [
      "WARNING: Ignoring invalid distribution ~lotly (c:\\Users\\fanti\\AppData\\Local\\Programs\\Python\\Python312\\Lib\\site-packages)\n",
      "WARNING: Ignoring invalid distribution ~lotly (c:\\Users\\fanti\\AppData\\Local\\Programs\\Python\\Python312\\Lib\\site-packages)\n",
      "WARNING: Ignoring invalid distribution ~lotly (c:\\Users\\fanti\\AppData\\Local\\Programs\\Python\\Python312\\Lib\\site-packages)\n"
     ]
    }
   ],
   "source": [
    "pip install beautifulsoup4\n"
   ]
  },
  {
   "cell_type": "code",
   "execution_count": 88,
   "metadata": {},
   "outputs": [
    {
     "name": "stdout",
     "output_type": "stream",
     "text": [
      "Requirement already satisfied: wordcloud in c:\\users\\fanti\\appdata\\local\\programs\\python\\python312\\lib\\site-packages (1.9.4)Note: you may need to restart the kernel to use updated packages.\n",
      "\n",
      "Requirement already satisfied: numpy>=1.6.1 in c:\\users\\fanti\\appdata\\local\\programs\\python\\python312\\lib\\site-packages (from wordcloud) (2.2.0)\n",
      "Requirement already satisfied: pillow in c:\\users\\fanti\\appdata\\local\\programs\\python\\python312\\lib\\site-packages (from wordcloud) (11.0.0)\n",
      "Requirement already satisfied: matplotlib in c:\\users\\fanti\\appdata\\local\\programs\\python\\python312\\lib\\site-packages (from wordcloud) (3.9.2)\n",
      "Requirement already satisfied: contourpy>=1.0.1 in c:\\users\\fanti\\appdata\\local\\programs\\python\\python312\\lib\\site-packages (from matplotlib->wordcloud) (1.3.0)\n",
      "Requirement already satisfied: cycler>=0.10 in c:\\users\\fanti\\appdata\\local\\programs\\python\\python312\\lib\\site-packages (from matplotlib->wordcloud) (0.12.1)\n",
      "Requirement already satisfied: fonttools>=4.22.0 in c:\\users\\fanti\\appdata\\local\\programs\\python\\python312\\lib\\site-packages (from matplotlib->wordcloud) (4.54.1)\n",
      "Requirement already satisfied: kiwisolver>=1.3.1 in c:\\users\\fanti\\appdata\\local\\programs\\python\\python312\\lib\\site-packages (from matplotlib->wordcloud) (1.4.7)\n",
      "Requirement already satisfied: packaging>=20.0 in c:\\users\\fanti\\appdata\\local\\programs\\python\\python312\\lib\\site-packages (from matplotlib->wordcloud) (24.2)\n",
      "Requirement already satisfied: pyparsing>=2.3.1 in c:\\users\\fanti\\appdata\\local\\programs\\python\\python312\\lib\\site-packages (from matplotlib->wordcloud) (3.2.0)\n",
      "Requirement already satisfied: python-dateutil>=2.7 in c:\\users\\fanti\\appdata\\local\\programs\\python\\python312\\lib\\site-packages (from matplotlib->wordcloud) (2.9.0.post0)\n",
      "Requirement already satisfied: six>=1.5 in c:\\users\\fanti\\appdata\\local\\programs\\python\\python312\\lib\\site-packages (from python-dateutil>=2.7->matplotlib->wordcloud) (1.17.0)\n"
     ]
    },
    {
     "name": "stderr",
     "output_type": "stream",
     "text": [
      "WARNING: Ignoring invalid distribution ~lotly (c:\\Users\\fanti\\AppData\\Local\\Programs\\Python\\Python312\\Lib\\site-packages)\n",
      "WARNING: Ignoring invalid distribution ~lotly (c:\\Users\\fanti\\AppData\\Local\\Programs\\Python\\Python312\\Lib\\site-packages)\n",
      "WARNING: Ignoring invalid distribution ~lotly (c:\\Users\\fanti\\AppData\\Local\\Programs\\Python\\Python312\\Lib\\site-packages)\n"
     ]
    }
   ],
   "source": [
    "pip install wordcloud\n"
   ]
  },
  {
   "cell_type": "code",
   "execution_count": 89,
   "metadata": {},
   "outputs": [
    {
     "name": "stdout",
     "output_type": "stream",
     "text": [
      "Requirement already satisfied: plotly in c:\\users\\fanti\\appdata\\local\\programs\\python\\python312\\lib\\site-packages (5.22.0)Note: you may need to restart the kernel to use updated packages.\n"
     ]
    },
    {
     "name": "stderr",
     "output_type": "stream",
     "text": [
      "WARNING: Ignoring invalid distribution ~lotly (c:\\Users\\fanti\\AppData\\Local\\Programs\\Python\\Python312\\Lib\\site-packages)\n",
      "WARNING: Ignoring invalid distribution ~lotly (c:\\Users\\fanti\\AppData\\Local\\Programs\\Python\\Python312\\Lib\\site-packages)\n",
      "WARNING: Ignoring invalid distribution ~lotly (c:\\Users\\fanti\\AppData\\Local\\Programs\\Python\\Python312\\Lib\\site-packages)\n"
     ]
    },
    {
     "name": "stdout",
     "output_type": "stream",
     "text": [
      "\n",
      "Requirement already satisfied: tenacity>=6.2.0 in c:\\users\\fanti\\appdata\\local\\programs\\python\\python312\\lib\\site-packages (from plotly) (9.0.0)\n",
      "Requirement already satisfied: packaging in c:\\users\\fanti\\appdata\\local\\programs\\python\\python312\\lib\\site-packages (from plotly) (24.2)\n"
     ]
    }
   ],
   "source": [
    "pip install plotly\n"
   ]
  },
  {
   "cell_type": "code",
   "execution_count": 90,
   "metadata": {},
   "outputs": [
    {
     "name": "stdout",
     "output_type": "stream",
     "text": [
      "Requirement already satisfied: nbformat in c:\\users\\fanti\\appdata\\local\\programs\\python\\python312\\lib\\site-packages (5.10.4)\n",
      "Requirement already satisfied: fastjsonschema>=2.15 in c:\\users\\fanti\\appdata\\local\\programs\\python\\python312\\lib\\site-packages (from nbformat) (2.21.1)\n",
      "Requirement already satisfied: jsonschema>=2.6 in c:\\users\\fanti\\appdata\\local\\programs\\python\\python312\\lib\\site-packages (from nbformat) (4.23.0)\n",
      "Requirement already satisfied: jupyter-core!=5.0.*,>=4.12 in c:\\users\\fanti\\appdata\\local\\programs\\python\\python312\\lib\\site-packages (from nbformat) (5.7.2)\n",
      "Requirement already satisfied: traitlets>=5.1 in c:\\users\\fanti\\appdata\\local\\programs\\python\\python312\\lib\\site-packages (from nbformat) (5.14.3)\n",
      "Requirement already satisfied: attrs>=22.2.0 in c:\\users\\fanti\\appdata\\local\\programs\\python\\python312\\lib\\site-packages (from jsonschema>=2.6->nbformat) (24.2.0)\n",
      "Requirement already satisfied: jsonschema-specifications>=2023.03.6 in c:\\users\\fanti\\appdata\\local\\programs\\python\\python312\\lib\\site-packages (from jsonschema>=2.6->nbformat) (2024.10.1)\n",
      "Requirement already satisfied: referencing>=0.28.4 in c:\\users\\fanti\\appdata\\local\\programs\\python\\python312\\lib\\site-packages (from jsonschema>=2.6->nbformat) (0.35.1)\n",
      "Requirement already satisfied: rpds-py>=0.7.1 in c:\\users\\fanti\\appdata\\local\\programs\\python\\python312\\lib\\site-packages (from jsonschema>=2.6->nbformat) (0.22.3)\n",
      "Requirement already satisfied: platformdirs>=2.5 in c:\\users\\fanti\\appdata\\local\\programs\\python\\python312\\lib\\site-packages (from jupyter-core!=5.0.*,>=4.12->nbformat) (4.3.6)\n",
      "Requirement already satisfied: pywin32>=300 in c:\\users\\fanti\\appdata\\local\\programs\\python\\python312\\lib\\site-packages (from jupyter-core!=5.0.*,>=4.12->nbformat) (308)\n",
      "Note: you may need to restart the kernel to use updated packages.\n"
     ]
    },
    {
     "name": "stderr",
     "output_type": "stream",
     "text": [
      "WARNING: Ignoring invalid distribution ~lotly (c:\\Users\\fanti\\AppData\\Local\\Programs\\Python\\Python312\\Lib\\site-packages)\n",
      "WARNING: Ignoring invalid distribution ~lotly (c:\\Users\\fanti\\AppData\\Local\\Programs\\Python\\Python312\\Lib\\site-packages)\n",
      "WARNING: Ignoring invalid distribution ~lotly (c:\\Users\\fanti\\AppData\\Local\\Programs\\Python\\Python312\\Lib\\site-packages)\n"
     ]
    }
   ],
   "source": [
    "pip install --upgrade nbformat\n"
   ]
  },
  {
   "cell_type": "markdown",
   "metadata": {},
   "source": []
  },
  {
   "cell_type": "markdown",
   "metadata": {},
   "source": [
    "\n",
    "\n",
    "# Lien_article_Texte_Mining :\n",
    " https://www.cnews.fr/france/2024-12-03/arnaque-la-copie-de-cb-attention-cette-escroquerie-qui-touche-de-nombreux-francais\n",
    "\n",
    " # Date de publication:\n",
    " le 3 décembre 2024 \n",
    "\n",
    " # site de publication:\n",
    " CNEWS\n",
    "\n",
    " # Résumé de l'article:\n",
    " Cet article informe sur le démantèlement, en novembre 2024, d'un réseau de fraudeurs spécialisés dans le « skimming » à Toulouse. Cette technique permet de cloner des cartes bancaires en manipulant des terminaux de paiement pour accéder aux comptes des victimes. Les cartes clonées servent à des achats en ligne sur des sites à faible sécurité ou leurs données sont revendues. Malgré une baisse signalée du skimming en France, la Fédération bancaire recommande une vigilance accrue des comptes pour détecter toute fraude\n",
    "\n"
   ]
  },
  {
   "cell_type": "markdown",
   "metadata": {},
   "source": [
    "Etape du Texte_Mining de notre data_text"
   ]
  },
  {
   "cell_type": "markdown",
   "metadata": {},
   "source": [
    "Etape du Pré-processing\n",
    "\n",
    "Import des librairies utiles "
   ]
  },
  {
   "cell_type": "code",
   "execution_count": 91,
   "metadata": {},
   "outputs": [],
   "source": [
    "# Pour le data management \n",
    "import pandas as pd\n",
    "import numpy as np\n",
    "\n",
    "# Pour le pré processing\n",
    "from unidecode import unidecode\n",
    "import re\n",
    "from nltk.stem import SnowballStemmer\n",
    "from nltk.corpus import stopwords\n",
    "import nltk\n",
    "\n",
    "# Les bigrammes\n",
    "from collections import Counter\n",
    "from nltk.util import ngrams\n",
    "from collections import defaultdict\n",
    "\n",
    "# Pour la vectorisation\n",
    "from sklearn.feature_extraction.text import TfidfVectorizer \n",
    "\n",
    "# Pour la modélisation\n",
    "from sklearn.model_selection import train_test_split\n",
    "from sklearn.metrics import f1_score, recall_score, precision_score\n",
    "\n",
    "from sklearn.naive_bayes import GaussianNB"
   ]
  },
  {
   "cell_type": "markdown",
   "metadata": {},
   "source": [
    "1.Découverte et exploration des données\n",
    "  1.1. Import de la l'article à partir de telechargement en fichier text"
   ]
  },
  {
   "cell_type": "markdown",
   "metadata": {},
   "source": [
    "1.Extraction de la data_texte"
   ]
  },
  {
   "cell_type": "code",
   "execution_count": 92,
   "metadata": {},
   "outputs": [
    {
     "name": "stdout",
     "output_type": "stream",
     "text": [
      "Texte extrait avec succès.\n"
     ]
    }
   ],
   "source": [
    "# Chemin du fichier texte\n",
    "file_path = r\"C:\\Users\\fanti\\Music\\universite paris-sorbonne\\DataManagementAvecPandas\\Projet_data_management\\Arnaque à la copie de CB _ attention à cette escroquerie qui a touché de nombreux français.txt\"\n",
    "\n",
    "# Lecture du fichier texte\n",
    "with open(file_path, \"r\", encoding=\"utf-8\") as file:\n",
    "    article_text = file.read()\n",
    "print(\"Texte extrait avec succès.\")\n",
    "\n"
   ]
  },
  {
   "cell_type": "markdown",
   "metadata": {},
   "source": [
    "Exploration de nos données texte"
   ]
  },
  {
   "cell_type": "code",
   "execution_count": 93,
   "metadata": {},
   "outputs": [
    {
     "data": {
      "text/plain": [
       "22231"
      ]
     },
     "execution_count": 93,
     "metadata": {},
     "output_type": "execute_result"
    }
   ],
   "source": [
    "# determinons la longueur de data  brutes (sans traitement)\n",
    "len(article_text)\n",
    "\n",
    "# nos data texte contient 22 231 caractères(y compris espace , ponctuation etc)"
   ]
  },
  {
   "cell_type": "code",
   "execution_count": 94,
   "metadata": {},
   "outputs": [
    {
     "data": {
      "text/plain": [
       "['<https://www.cnews.fr/rechercher>',\n",
       " 'CNEWS',\n",
       " '|',\n",
       " 'Actualités,',\n",
       " 'Infos',\n",
       " 'et',\n",
       " 'News',\n",
       " 'en',\n",
       " 'direct',\n",
       " 'vidéo',\n",
       " 'et',\n",
       " 'replay',\n",
       " '<https://',\n",
       " 'www.cnews.fr/>',\n",
       " '*',\n",
       " 'Les',\n",
       " 'replays',\n",
       " '<https://www.cnews.fr/les-replays>',\n",
       " '*',\n",
       " 'Les',\n",
       " 'podcasts',\n",
       " '<https://www.cnews.fr/les-podcasts>',\n",
       " 'Thèmes',\n",
       " '*',\n",
       " 'Faits',\n",
       " 'divers',\n",
       " '<https://www.cnews.fr/faits-divers>',\n",
       " '*',\n",
       " 'Colère',\n",
       " 'des',\n",
       " 'agriculteurs',\n",
       " '<https://www.cnews.fr/agriculture>',\n",
       " '*',\n",
       " 'Proche-Orient',\n",
       " '<https://www.cnews.fr/proche-orient>',\n",
       " '*',\n",
       " 'Politique',\n",
       " '<https://www.cnews.fr/politique>',\n",
       " '*',\n",
       " 'France',\n",
       " '<https://www.cnews.fr/france>',\n",
       " '*',\n",
       " 'Monde',\n",
       " '<https://www.cnews.fr/monde>',\n",
       " '*',\n",
       " 'Paris',\n",
       " '<https://www.cnews.fr/paris>',\n",
       " '*',\n",
       " 'Culture',\n",
       " '<https://www.cnews.fr/culture>',\n",
       " '*',\n",
       " 'Divertissement',\n",
       " '<https://www.cnews.fr/divertissement>',\n",
       " '*',\n",
       " 'People',\n",
       " '<https://www.cnews.fr/people>',\n",
       " '*',\n",
       " 'Vie',\n",
       " 'numérique',\n",
       " '<https://www.cnews.fr/vie-numerique>',\n",
       " '*',\n",
       " 'Sport',\n",
       " '<https://www.cnews.fr/sport>',\n",
       " '*',\n",
       " 'Lifestyle',\n",
       " '<https://www.cnews.fr/lifestyle>',\n",
       " '*',\n",
       " 'Beauté',\n",
       " '<https://www.cnews.fr/beaute>',\n",
       " '*',\n",
       " 'Environnement',\n",
       " '<https://www.cnews.fr/environnement>',\n",
       " '*',\n",
       " 'Faits',\n",
       " 'divers',\n",
       " '<https://www.cnews.fr/faits-divers>',\n",
       " '*',\n",
       " 'Insolite',\n",
       " '<https://www.cnews.fr/insolite>',\n",
       " '*',\n",
       " 'Jeux',\n",
       " 'vidéo',\n",
       " '<https://www.cnews.fr/jeux-video>',\n",
       " '*',\n",
       " 'Nutrition',\n",
       " '<https://www.cnews.fr/nutrition>',\n",
       " '*',\n",
       " 'Santé',\n",
       " '<https://www.cnews.fr/sante>',\n",
       " '*',\n",
       " 'Science',\n",
       " '<https://www.cnews.fr/science>',\n",
       " '*',\n",
       " 'Le',\n",
       " 'corner',\n",
       " 'partenaires',\n",
       " '<https://www.cnews.fr/le-corner-partenaires>',\n",
       " '*',\n",
       " 'Météo',\n",
       " '<https://www.cnews.fr/meteo>',\n",
       " '*',\n",
       " 'Astrologie',\n",
       " '<https://www.cnews.fr/astrologie>',\n",
       " '*',\n",
       " 'Jeux',\n",
       " '<https://www.cnews.fr/jeux/tous-les-jeux>',\n",
       " '*',\n",
       " 'Loto',\n",
       " '<https://www.cnews.fr/loto>',\n",
       " '*',\n",
       " 'Programme',\n",
       " 'TV',\n",
       " 'TNT',\n",
       " '<https://www.cnews.fr/programme-tv-tnt>',\n",
       " '*',\n",
       " 'Facebook',\n",
       " '<https://www.facebook.com/CNEWSofficiel>',\n",
       " '*',\n",
       " 'Instagram',\n",
       " '<https://www.instagram.com/cnewsofficiel>',\n",
       " '*',\n",
       " 'Twitter',\n",
       " '<https://twitter.com/CNEWS>',\n",
       " 'Dernière',\n",
       " 'minute',\n",
       " '<https://www.cnews.fr/le-direct>',\n",
       " 'Previous',\n",
       " '17h26',\n",
       " 'Noël',\n",
       " '2024',\n",
       " ':',\n",
       " 'les',\n",
       " 'beaux',\n",
       " 'livres',\n",
       " 'à',\n",
       " 'offrir',\n",
       " 'aux',\n",
       " 'fous',\n",
       " 'de',\n",
       " 'sport',\n",
       " '<https://www.cnews.fr/culture/2024-12-04/noel-2024-les-beaux-livres-',\n",
       " 'offrir-aux-fous-de-sport-1586511>',\n",
       " '17h24',\n",
       " 'Astéroïde',\n",
       " 'en',\n",
       " 'Sibérie',\n",
       " ':',\n",
       " 'les',\n",
       " 'images',\n",
       " 'impressionnant']"
      ]
     },
     "execution_count": 94,
     "metadata": {},
     "output_type": "execute_result"
    }
   ],
   "source": [
    "article_text[:2000].split()"
   ]
  },
  {
   "cell_type": "code",
   "execution_count": 95,
   "metadata": {},
   "outputs": [
    {
     "data": {
      "text/plain": [
       "str"
      ]
     },
     "execution_count": 95,
     "metadata": {},
     "output_type": "execute_result"
    }
   ],
   "source": [
    "# verifions que le contenu de notre données est du type string\n",
    "\n",
    "type(article_text)"
   ]
  },
  {
   "cell_type": "markdown",
   "metadata": {},
   "source": [
    "Je selectionne les lignes "
   ]
  },
  {
   "cell_type": "markdown",
   "metadata": {},
   "source": [
    "2.Prétraitement du texte\n",
    "Nettoyage du texte pour supprimer les caractères inutiles, suppression des accents et des stopwords\n"
   ]
  },
  {
   "cell_type": "code",
   "execution_count": 96,
   "metadata": {},
   "outputs": [
    {
     "name": "stderr",
     "output_type": "stream",
     "text": [
      "[nltk_data] Downloading package stopwords to\n",
      "[nltk_data]     C:\\Users\\fanti\\AppData\\Roaming\\nltk_data...\n",
      "[nltk_data]   Package stopwords is already up-to-date!\n"
     ]
    }
   ],
   "source": [
    "\n",
    "nltk.download('stopwords') # téléchargement du package depuis la bibliothèque NLTK(Natural language Toolkit)\n",
    "stop_words = set(stopwords.words('french'))  #  je charge la ligne des  stopwords pour la langue française\n"
   ]
  },
  {
   "cell_type": "code",
   "execution_count": 97,
   "metadata": {},
   "outputs": [
    {
     "name": "stdout",
     "output_type": "stream",
     "text": [
      "{'étés', 'était', 'lui', 'avais', 'te', 'suis', 'es', 'ou', 'eussions', 'aurions', 'eussent', 'eusse', 'avait', 'sur', 'leur', 'ces', 'aurais', 'auraient', 'ayons', 'serai', 'aient', 'c', 'aura', 'fût', 'ayantes', 'le', 'me', 'ma', 'étions', 'fussent', 'ce', 'du', 'étée', 'vos', 'eût', 'eue', 'êtes', 'dans', 'avons', 'serions', 'on', 'étais', 'ait', 'avions', 'ne', 'y', 'ayez', 'il', 'fusse', 'son', 'n', 'ta', 'sera', 'j', 'eut', 'fusses', 'serais', 'toi', 'eûtes', 's', 'seras', 'aies', 'eusses', 'fus', 'fut', 'aurait', 'nos', 'avaient', 'auriez', 'tes', 't', 'sa', 'mes', 'fussions', 'été', 'votre', 'eussiez', 'ils', 'aie', 'eu', 'eues', 'sont', 'aviez', 'avez', 'je', 'ton', 'sommes', 'ai', 'eûmes', 'auras', 'mais', 'aurons', 'aurez', 'étées', 'en', 'même', 'ayante', 'd', 'ont', 'un', 'notre', 'furent', 'soyez', 'étant', 'par', 'la', 'et', 'sois', 'fussiez', 'as', 'fûmes', 'l', 'tu', 'm', 'seriez', 'qui', 'une', 'étants', 'ayant', 'à', 'se', 'mon', 'serons', 'de', 'aux', 'qu', 'serez', 'des', 'seraient', 'elle', 'eurent', 'étiez', 'eus', 'étantes', 'soit', 'ses', 'pas', 'seront', 'que', 'eux', 'avec', 'auront', 'étante', 'nous', 'soient', 'est', 'étaient', 'au', 'serait', 'moi', 'aurai', 'pour', 'fûtes', 'les', 'vous', 'soyons', 'ayants'}\n"
     ]
    }
   ],
   "source": [
    "print(stop_words)"
   ]
  },
  {
   "cell_type": "markdown",
   "metadata": {},
   "source": [
    "Après le chargement de la liste des mots inutiles (stop_words) pour notre analyse textuelle, nous constatons qu'elle contient un total de 157 termes."
   ]
  },
  {
   "cell_type": "code",
   "execution_count": 98,
   "metadata": {},
   "outputs": [
    {
     "name": "stdout",
     "output_type": "stream",
     "text": [
      "157\n"
     ]
    }
   ],
   "source": [
    "print( len(stop_words))"
   ]
  },
  {
   "cell_type": "markdown",
   "metadata": {},
   "source": [
    "3. passons à  l'étape du pré-procéssing de notre data_texte"
   ]
  },
  {
   "cell_type": "code",
   "execution_count": 99,
   "metadata": {},
   "outputs": [
    {
     "name": "stdout",
     "output_type": "stream",
     "text": [
      "Texte nettoyé avec succès.\n"
     ]
    }
   ],
   "source": [
    "# étape du pré-processing\n",
    "\n",
    "\n",
    "def preprocess_text(text):\n",
    "    text = text.lower()  # Conversion en minuscules\n",
    "    text = unidecode(text)  # Suppression des accents\n",
    "    text = re.sub(r'http\\S+', '', text)  # Suppression des URL\n",
    "    text = re.sub(r'[^a-z\\s]', '', text)  # Suppression des caractères spéciaux\n",
    "    text = re.sub(r'\\b\\w{1,2}\\b', '', text)  # Suppression des mots très courts (1-2 lettres)\n",
    "    text = re.sub(r'\\s+', ' ', text)  # Suppression des espaces multiples\n",
    "    words = text.split()  # Tokenisation\n",
    "    words = [word for word in words if word not in stop_words]  # Suppression des stopwords\n",
    "    return ' '.join(words).split()\n",
    "\n",
    "# Appliquer le nettoyage avancé\n",
    "cleaned_text = preprocess_text(article_text)\n",
    "print(\"Texte nettoyé avec succès.\")\n",
    "\n"
   ]
  },
  {
   "cell_type": "code",
   "execution_count": 100,
   "metadata": {},
   "outputs": [
    {
     "data": {
      "text/plain": [
       "['cnews',\n",
       " 'actualites',\n",
       " 'infos',\n",
       " 'news',\n",
       " 'direct',\n",
       " 'video',\n",
       " 'replay',\n",
       " 'wwwcnewsfr',\n",
       " 'replays',\n",
       " 'podcasts',\n",
       " 'themes',\n",
       " 'faits',\n",
       " 'divers',\n",
       " 'colere',\n",
       " 'agriculteurs',\n",
       " 'procheorient',\n",
       " 'politique',\n",
       " 'france',\n",
       " 'monde',\n",
       " 'paris',\n",
       " 'culture',\n",
       " 'divertissement',\n",
       " 'people',\n",
       " 'vie',\n",
       " 'numerique',\n",
       " 'sport',\n",
       " 'lifestyle',\n",
       " 'beaute',\n",
       " 'environnement',\n",
       " 'faits',\n",
       " 'divers',\n",
       " 'insolite',\n",
       " 'jeux',\n",
       " 'video',\n",
       " 'nutrition',\n",
       " 'sante',\n",
       " 'science',\n",
       " 'corner',\n",
       " 'partenaires',\n",
       " 'meteo',\n",
       " 'astrologie',\n",
       " 'jeux',\n",
       " 'loto',\n",
       " 'programme',\n",
       " 'tnt',\n",
       " 'facebook',\n",
       " 'instagram',\n",
       " 'twitter',\n",
       " 'derniere',\n",
       " 'minute',\n",
       " 'previous',\n",
       " 'noel',\n",
       " 'beaux',\n",
       " 'livres',\n",
       " 'offrir',\n",
       " 'fous',\n",
       " 'sport',\n",
       " 'offrirauxfousdesport',\n",
       " 'asteroide',\n",
       " 'siberie',\n",
       " 'images',\n",
       " 'impressionnantes',\n",
       " 'meteore',\n",
       " 'avant',\n",
       " 'impact',\n",
       " 'video',\n",
       " 'impressionnantesdumeteoreavantsonimpactvideo',\n",
       " 'vents',\n",
       " 'violents',\n",
       " 'voici',\n",
       " 'departements',\n",
       " 'places',\n",
       " 'vigilance',\n",
       " 'jaune',\n",
       " 'jeudi',\n",
       " 'departementsplacesenvigilancejaunecejeudi',\n",
       " 'iran',\n",
       " 'prix',\n",
       " 'nobel',\n",
       " 'paix',\n",
       " 'narges',\n",
       " 'mohammadi',\n",
       " 'sort',\n",
       " 'temporairement',\n",
       " 'prison',\n",
       " 'raisons',\n",
       " 'sante',\n",
       " 'nargesmohammadisorttemporairementdeprisonpour',\n",
       " 'francais',\n",
       " 'posent',\n",
       " 'tous',\n",
       " 'meme',\n",
       " 'question',\n",
       " 'largent',\n",
       " 'tonne',\n",
       " 'marine',\n",
       " 'pen',\n",
       " 'avant',\n",
       " 'vote',\n",
       " 'motions',\n",
       " 'memequestionouvalargenttonnemarinelepen',\n",
       " 'noel',\n",
       " 'beaux',\n",
       " 'livres',\n",
       " 'offrir',\n",
       " 'fous',\n",
       " 'sport',\n",
       " 'offrirauxfousdesport',\n",
       " 'asteroide',\n",
       " 'siberie',\n",
       " 'images',\n",
       " 'impressionnantes',\n",
       " 'meteore',\n",
       " 'avant',\n",
       " 'impact',\n",
       " 'video',\n",
       " 'impressionnantesdumeteoreavantsonimpactvideo',\n",
       " 'vents',\n",
       " 'violents',\n",
       " 'voici',\n",
       " 'departements',\n",
       " 'places',\n",
       " 'vigilance',\n",
       " 'jaune',\n",
       " 'jeudi',\n",
       " 'departementsplacesenvigilancejaunecejeudi',\n",
       " 'iran',\n",
       " 'prix',\n",
       " 'nobel',\n",
       " 'paix',\n",
       " 'narges',\n",
       " 'mohammadi',\n",
       " 'sort',\n",
       " 'temporairement',\n",
       " 'prison',\n",
       " 'raisons',\n",
       " 'sante',\n",
       " 'nargesmohammadisorttemporairementdeprisonpour',\n",
       " 'francais',\n",
       " 'posent',\n",
       " 'tous',\n",
       " 'meme',\n",
       " 'question',\n",
       " 'largent',\n",
       " 'tonne',\n",
       " 'marine',\n",
       " 'pen',\n",
       " 'avant',\n",
       " 'vote',\n",
       " 'motions',\n",
       " 'memequestionouvalargenttonnemarinelepen',\n",
       " 'noel',\n",
       " 'beaux',\n",
       " 'livres',\n",
       " 'offrir',\n",
       " 'fous',\n",
       " 'sport',\n",
       " 'offrirauxfousdesport',\n",
       " 'asteroide',\n",
       " 'siberie',\n",
       " 'images',\n",
       " 'impressionnantes',\n",
       " 'meteore',\n",
       " 'avant',\n",
       " 'impact',\n",
       " 'video',\n",
       " 'impressionnantesdumeteoreavantsonimpactvideo',\n",
       " 'vents',\n",
       " 'violents',\n",
       " 'voici',\n",
       " 'departements',\n",
       " 'places',\n",
       " 'vigilance',\n",
       " 'jaune',\n",
       " 'jeudi',\n",
       " 'departementsplacesenvigilancejaunecejeudi',\n",
       " 'next',\n",
       " 'direct',\n",
       " 'midi',\n",
       " 'news',\n",
       " 'minutes',\n",
       " 'info',\n",
       " 'punchline',\n",
       " 'face',\n",
       " 'linfo',\n",
       " 'derniere',\n",
       " 'minute',\n",
       " 'direct',\n",
       " 'suivre',\n",
       " 'motions',\n",
       " 'censure',\n",
       " 'faits',\n",
       " 'divers',\n",
       " 'politique',\n",
       " 'procheorient',\n",
       " 'france',\n",
       " 'paris',\n",
       " 'sport',\n",
       " 'football',\n",
       " 'divertissement',\n",
       " 'partager',\n",
       " 'wwwcnewsfrfrancearnaquelacopiedecbattentioncette',\n",
       " 'escroqueriequitouchedenombreux',\n",
       " 'francaistarnaquecalacopiedecbaattentioncacetteescroqueriequiatouchcadenombreuxfrancaais',\n",
       " 'tweet',\n",
       " 'arnaque',\n",
       " 'copie',\n",
       " 'attention',\n",
       " 'cette',\n",
       " 'escroquerie',\n",
       " 'touche',\n",
       " 'nombreux',\n",
       " 'francais',\n",
       " 'terminal',\n",
       " 'carte',\n",
       " 'bancaire',\n",
       " 'donnees',\n",
       " 'bancaires',\n",
       " 'peuvent',\n",
       " 'etre',\n",
       " 'fois',\n",
       " 'volees',\n",
       " 'revendues',\n",
       " 'tomek',\n",
       " 'pixabay',\n",
       " 'partager',\n",
       " 'wwwfacebookcomsharersharerphpu',\n",
       " 'francearnaquelacopiedecbattentioncetteescroquerie',\n",
       " 'quitouchedenombreux',\n",
       " 'francaistarnaquecalacopiedecbaattentioncacetteescroqueriequiatouchcadenombreuxfrancaais',\n",
       " 'tweet',\n",
       " 'cnews',\n",
       " 'publie',\n",
       " 'mis',\n",
       " 'jour',\n",
       " 'region',\n",
       " 'toulouse',\n",
       " 'trois',\n",
       " 'individus',\n",
       " 'ete',\n",
       " 'arretes',\n",
       " 'courant',\n",
       " 'novembre',\n",
       " 'pratique',\n",
       " 'skimming',\n",
       " 'methode',\n",
       " 'fraude',\n",
       " 'bancaire',\n",
       " 'touche',\n",
       " 'beaucoup',\n",
       " 'francais',\n",
       " 'dernieres',\n",
       " 'annees',\n",
       " 'quoi',\n",
       " 'consistet',\n",
       " 'operation',\n",
       " 'reussie',\n",
       " 'cote',\n",
       " 'toulouse',\n",
       " 'lantenne',\n",
       " 'cyber',\n",
       " 'section',\n",
       " 'recherches',\n",
       " 'demantele',\n",
       " 'reseau',\n",
       " 'descroquerie',\n",
       " 'carte',\n",
       " 'bancaire',\n",
       " 'annonce',\n",
       " 'gendarmerie',\n",
       " 'samedi',\n",
       " 'novembre',\n",
       " 'accuses',\n",
       " 'etaient',\n",
       " 'passes',\n",
       " 'expert',\n",
       " 'pratique',\n",
       " 'skimming',\n",
       " 'apres',\n",
       " 'larrestation',\n",
       " 'trois',\n",
       " 'ressortissants',\n",
       " 'lest',\n",
       " 'region',\n",
       " 'toulouse',\n",
       " 'fraude',\n",
       " 'carte',\n",
       " 'bancaire',\n",
       " 'autorites',\n",
       " 'alertent',\n",
       " 'skimming',\n",
       " 'toulouse',\n",
       " 'actu',\n",
       " 'toulouseunreseaudeskimmingdemantelecestquoicetteescroquerie',\n",
       " 'surlescartesbancaireshtml',\n",
       " 'lescroquerie',\n",
       " 'skimming',\n",
       " 'consiste',\n",
       " 'cloner',\n",
       " 'carte',\n",
       " 'bancaire',\n",
       " 'trafiquant',\n",
       " 'piratant',\n",
       " 'terminaux',\n",
       " 'paiement',\n",
       " 'lesquels',\n",
       " 'cette',\n",
       " 'carte',\n",
       " 'peut',\n",
       " 'etre',\n",
       " 'inseree',\n",
       " 'comme',\n",
       " 'distributeurs',\n",
       " 'billets',\n",
       " 'automates',\n",
       " 'stationservice',\n",
       " 'explique',\n",
       " 'gendarmerie',\n",
       " 'nationale',\n",
       " 'donnees',\n",
       " 'ensuite',\n",
       " 'dupliquees',\n",
       " 'autre',\n",
       " 'carte',\n",
       " 'puce',\n",
       " 'permettant',\n",
       " 'ainsi',\n",
       " 'dacceder',\n",
       " 'comptes',\n",
       " 'bancaires',\n",
       " 'relies',\n",
       " 'carte',\n",
       " 'majorite',\n",
       " 'cas',\n",
       " 'fraudeurs',\n",
       " 'trafiquent',\n",
       " 'terminaux',\n",
       " 'paiements',\n",
       " 'comme',\n",
       " 'distributeurs',\n",
       " 'billets',\n",
       " 'encore',\n",
       " 'automates',\n",
       " 'installes',\n",
       " 'stationsservices',\n",
       " 'afin',\n",
       " 'copier',\n",
       " 'donnees',\n",
       " 'bancaires',\n",
       " 'bande',\n",
       " 'magnetique',\n",
       " 'elles',\n",
       " 'ensuite',\n",
       " 'transferees',\n",
       " 'autre',\n",
       " 'puce',\n",
       " 'agit',\n",
       " 'comme',\n",
       " 'copie',\n",
       " 'carte',\n",
       " 'skimmer',\n",
       " 'materiel',\n",
       " 'glissant',\n",
       " 'fente',\n",
       " 'dun',\n",
       " 'automate',\n",
       " 'tout',\n",
       " 'laissant',\n",
       " 'lespace',\n",
       " 'quune',\n",
       " 'carte',\n",
       " 'bancaire',\n",
       " 'puisse',\n",
       " 'etre',\n",
       " 'glissee',\n",
       " 'naturellement',\n",
       " 'indiquaient',\n",
       " 'lobservatoire',\n",
       " 'securite',\n",
       " 'moyens',\n",
       " 'paiement',\n",
       " 'osmp',\n",
       " 'copie',\n",
       " 'donnees',\n",
       " 'bancaires',\n",
       " 'nempeche',\n",
       " 'bon',\n",
       " 'fonctionnement',\n",
       " 'carte',\n",
       " 'donnees',\n",
       " 'revendues',\n",
       " 'cartes',\n",
       " 'copiees',\n",
       " 'peuvent',\n",
       " 'etre',\n",
       " 'utilisees',\n",
       " 'distances',\n",
       " 'sites',\n",
       " 'commerces',\n",
       " 'plus',\n",
       " 'souvent',\n",
       " 'noneuropeens',\n",
       " 'pays',\n",
       " 'systeme',\n",
       " 'dauthentification',\n",
       " 'titulaire',\n",
       " 'carte',\n",
       " 'nest',\n",
       " 'actif',\n",
       " 'donnees',\n",
       " 'peuvent',\n",
       " 'egalement',\n",
       " 'etre',\n",
       " 'revendues',\n",
       " 'lespayslesplusconcerneseneurope',\n",
       " 'meme',\n",
       " 'sujetfraude',\n",
       " 'carte',\n",
       " 'bancaire',\n",
       " 'voici',\n",
       " 'pays',\n",
       " 'plus',\n",
       " 'concernes',\n",
       " 'europelire',\n",
       " 'lacartebancairevoicilespayslesplusconcerneseneurope',\n",
       " 'meme',\n",
       " 'federation',\n",
       " 'francaise',\n",
       " 'bancaire',\n",
       " 'fbf',\n",
       " 'indique',\n",
       " 'skimming',\n",
       " 'baisse',\n",
       " 'france',\n",
       " 'conseille',\n",
       " 'surveiller',\n",
       " 'comptes',\n",
       " 'bancaires',\n",
       " 'frequemment',\n",
       " 'prevenir',\n",
       " 'fraudes',\n",
       " 'fraude',\n",
       " 'bancaire',\n",
       " 'wwwcnewsfrcartebancairevol',\n",
       " 'suivre',\n",
       " 'aussi',\n",
       " 'enedis',\n",
       " 'attention',\n",
       " 'compteurs',\n",
       " 'linky',\n",
       " 'feront',\n",
       " 'lobjet',\n",
       " 'controles',\n",
       " 'surprises',\n",
       " 'compteurslinkyferontlobjetdecontrolessurprises',\n",
       " 'carte',\n",
       " 'vitale',\n",
       " 'tout',\n",
       " 'changer',\n",
       " 'changeren',\n",
       " 'fraude',\n",
       " 'millions',\n",
       " 'deuros',\n",
       " 'insolvable',\n",
       " 'couple',\n",
       " 'touchait',\n",
       " 'aides',\n",
       " 'sociales',\n",
       " 'etait',\n",
       " 'millionnaire',\n",
       " 'insolvablelecouplequitouchaitdesaidessociales',\n",
       " 'francearnaquelacopiedecbattentioncetteescroquerie',\n",
       " 'quitouchedenombreux',\n",
       " 'francaistarnaquecalacopiedecbaattentioncacetteescroqueriequiatouchcadenombreuxfrancaais',\n",
       " 'ailleurs',\n",
       " 'web',\n",
       " 'contenus',\n",
       " 'sponsorises',\n",
       " 'templatecolorboxutmsourcecnews',\n",
       " 'cnewsutmmediumreferralutmcontentthumbnails',\n",
       " 'bbelowarticlethumbnailsunitcontenus',\n",
       " 'sponsorises',\n",
       " 'popuptaboolacomfrtemplatecolorboxutmsourcecnews',\n",
       " 'cnewsutmmediumreferralutmcontentthumbnails',\n",
       " 'bbelowarticlethumbnailsunit',\n",
       " 'contenus',\n",
       " 'selectionnes',\n",
       " 'templatecolorboxutmsourcecnews',\n",
       " 'cnewsutmmediumreferralutmcontentthumbnails',\n",
       " 'bbelowarticlethumbnailsunitcontenus',\n",
       " 'selectionnes',\n",
       " 'popuptaboolacomfrtemplatecolorboxutmsourcecnews',\n",
       " 'cnewsutmmediumreferralutmcontentthumbnails',\n",
       " 'bbelowarticlethumbnailsunit',\n",
       " 'utmsourcetbutmmediumcpcutmcampaigngutfdkutmtermcnews',\n",
       " 'cnewsutmcontenttgibnnbdigwshmpfiaiylgdqywdzkvrieycrruyotwnvppwlmlivsgatbtblcigibnnbdigwshmpfiaiylgdqywdzkvrieycrruyotwnvppwlmlivsgtblcigibnnbdigwshmpfiaiylgdqywdzkvrieycrruyotwnvppwlmlivsgnutritionnistes',\n",
       " 'astuce',\n",
       " 'eliminer',\n",
       " 'graisse',\n",
       " 'abdominale',\n",
       " 'prendre',\n",
       " 'avant',\n",
       " 'petitdejeunernva',\n",
       " 'savoir',\n",
       " 'plus',\n",
       " 'utmsourcetbutmmediumcpcutmcampaigngutfdkutmtermcnews',\n",
       " 'cnewsutmcontenttgibnnbdigwshmpfiaiylgdqywdzkvrieycrruyotwnvppwlmlivsgatbtblcigibnnbdigwshmpfiaiylgdqywdzkvrieycrruyotwnvppwlmlivsgtblcigibnnbdigwshmpfiaiylgdqywdzkvrieycrruyotwnvppwlmlivsg',\n",
       " 'annuler',\n",
       " 'utmsourcetbutmcampaigntbdkfutmtermcnews',\n",
       " 'cnewsutmcontenttgibnnbdigwshmpfiaiylgdqywdzkvrieycsfwopjsmtnkcmlivsgatbtblcigibnnbdigwshmpfiaiylgdqywdzkvrieycsfwopjsmtnkcmlivsgtblcigibnnbdigwshmpfiaiylgdqywdzkvrieycsfwopjsmtnkcmlivsgneuropathie',\n",
       " 'insupportable',\n",
       " 'essayez',\n",
       " 'cette',\n",
       " 'astuce',\n",
       " 'simple',\n",
       " 'change',\n",
       " 'toutsb',\n",
       " 'savoir',\n",
       " 'plus',\n",
       " 'utmsourcetbutmcampaigntbdkfutmtermcnews',\n",
       " 'cnewsutmcontenttgibnnbdigwshmpfiaiylgdqywdzkvrieycsfwopjsmtnkcmlivsgatbtblcigibnnbdigwshmpfiaiylgdqywdzkvrieycsfwopjsmtnkcmlivsgtblcigibnnbdigwshmpfiaiylgdqywdzkvrieycsfwopjsmtnkcmlivsg',\n",
       " 'annuler',\n",
       " 'utmsourcetbutmmediumcpcutmcampaigngutfdkutmtermcnews',\n",
       " 'cnewsutmcontenttgibnnbdigwshmpfiaiylgdqywdzkvrieycrruyoicbotldhrsvmlivsgatbtblcigibnnbdigwshmpfiaiylgdqywdzkvrieycrruyoicbotldhrsvmlivsgtblcigibnnbdigwshmpfiaiylgdqywdzkvrieycrruyoicbotldhrsvmlivsgtrop',\n",
       " 'graisse',\n",
       " 'ventre',\n",
       " 'geste',\n",
       " 'simple',\n",
       " 'avant',\n",
       " 'petit',\n",
       " 'dejeunernutravya',\n",
       " 'savoir',\n",
       " 'plus',\n",
       " 'utmsourcetbutmmediumcpcutmcampaigngutfdkutmtermcnews',\n",
       " 'cnewsutmcontenttgibnnbdigwshmpfiaiylgdqywdzkvrieycrruyoicbotldhrsvmlivsgatbtblcigibnnbdigwshmpfiaiylgdqywdzkvrieycrruyoicbotldhrsvmlivsgtblcigibnnbdigwshmpfiaiylgdqywdzkvrieycrruyoicbotldhrsvmlivsg',\n",
       " 'annuler',\n",
       " 'dasoptfpoposlapsllonatsptabkididkpsalescodecvdposnattabotbclickidgibnnbdigwshmpfiaiylgdqywdzkvrieycireoiyeyjbhtyamlivsgtblcigibnnbdigwshmpfiaiylgdqywdzkvrieycireoiyeyjbhtyamlivsgtblcigibnnbdigwshmpfiaiylgdqywdzkvrieycireoiyeyjbhtyamlivsgdurdur',\n",
       " 'daller',\n",
       " 'toilettes',\n",
       " 'faites',\n",
       " 'ceci',\n",
       " 'jour',\n",
       " 'avant',\n",
       " 'petit',\n",
       " 'dejeunerscience',\n",
       " 'actualite',\n",
       " 'annuler',\n",
       " 'sitecnews',\n",
       " 'cnewssiteidtitleplusdepiqcbbresdedoigtfrcaquentespourlasurveillancedelaglyccamieplatformdesktopcampaignidcampaignitemidthumbnail',\n",
       " 'piqures',\n",
       " 'doigt',\n",
       " 'frequentes',\n",
       " 'surveillance',\n",
       " 'glycemiesherum',\n",
       " 'savoir',\n",
       " 'plus',\n",
       " 'sitecnews',\n",
       " 'cnewssiteidtitleplusdepiqcbbresdedoigtfrcaquentespourlasurveillancedelaglyccamieplatformdesktopcampaignidcampaignitemidthumbnail',\n",
       " 'annuler',\n",
       " 'clickidgibnnbdigwshmpfiaiylgdqywdzkvrieyduogcoryqyymvcgwatcrositecnewscnewsthumbnail',\n",
       " 'seniors',\n",
       " 'sarrachent',\n",
       " 'chaussures',\n",
       " 'concues',\n",
       " 'articulations',\n",
       " 'revue',\n",
       " 'confort',\n",
       " 'annuler',\n",
       " 'taboola',\n",
       " 'templatecolorboxutmsourcecnews',\n",
       " 'cnewsutmmediumreferralutmcontentthumbnails',\n",
       " 'bbelowarticlethumbnailsunitpar',\n",
       " 'taboola',\n",
       " 'popuptaboolacomfrtemplatecolorboxutmsourcecnews',\n",
       " 'cnewsutmmediumreferralutmcontentthumbnails',\n",
       " 'bbelowarticlethumbnailsunit',\n",
       " 'dernieres',\n",
       " 'actualites',\n",
       " 'iran',\n",
       " 'prix',\n",
       " 'nobel',\n",
       " 'paix',\n",
       " 'narges',\n",
       " 'mohammadi',\n",
       " 'sort',\n",
       " 'temporairement',\n",
       " 'prison',\n",
       " 'raisons',\n",
       " 'sante',\n",
       " 'nargesmohammadisorttemporairementdeprisonpour',\n",
       " 'francais',\n",
       " 'posent',\n",
       " 'tous',\n",
       " 'meme',\n",
       " 'question',\n",
       " 'largent',\n",
       " 'tonne',\n",
       " 'marine',\n",
       " 'pen',\n",
       " 'avant',\n",
       " 'vote',\n",
       " 'motions',\n",
       " 'censure',\n",
       " 'memequestionouvalargenttonnemarinelepen',\n",
       " 'noel',\n",
       " 'beaux',\n",
       " 'livres',\n",
       " 'offrir',\n",
       " 'fous',\n",
       " 'sport',\n",
       " 'offrirauxfousdesport',\n",
       " 'asteroide',\n",
       " 'siberie',\n",
       " 'images',\n",
       " 'impressionnantes',\n",
       " 'meteore',\n",
       " 'avant',\n",
       " 'impact',\n",
       " 'video',\n",
       " 'impressionnantesdumeteoreavantsonimpactvideo',\n",
       " 'vents',\n",
       " 'violents',\n",
       " 'voici',\n",
       " 'departements',\n",
       " 'places',\n",
       " 'vigilance',\n",
       " 'jaune',\n",
       " 'jeudi',\n",
       " 'departementsplacesenvigilancejaunecejeudi',\n",
       " 'neigeverglas',\n",
       " 'voici',\n",
       " 'departements',\n",
       " 'places',\n",
       " 'vigilance',\n",
       " 'jaune',\n",
       " 'jeudi',\n",
       " 'departementsplacesenvigilancejaunecejeudi',\n",
       " 'prince',\n",
       " 'andrew',\n",
       " 'duc',\n",
       " 'dyork',\n",
       " 'plus',\n",
       " 'isole',\n",
       " 'jamais',\n",
       " 'depuis',\n",
       " 'frere',\n",
       " 'charles',\n",
       " 'iii',\n",
       " 'coupe',\n",
       " 'allocation',\n",
       " 'annuelle',\n",
       " 'isolequejamaisdepuisquesonfrerecharlesiii',\n",
       " 'plus',\n",
       " 'darticles',\n",
       " 'belgique',\n",
       " 'devient',\n",
       " 'premier',\n",
       " 'pays',\n",
       " 'monde',\n",
       " 'permettre',\n",
       " 'travailleurs',\n",
       " 'travailleuses',\n",
       " 'sexe',\n",
       " 'signer',\n",
       " 'contrat',\n",
       " 'travail',\n",
       " 'paysaumondepermettreauxtravailleurset',\n",
       " 'terminal',\n",
       " 'carte',\n",
       " 'bancaire',\n",
       " 'arnaque',\n",
       " 'copie',\n",
       " 'attention',\n",
       " 'cette',\n",
       " 'escroquerie',\n",
       " 'touche',\n",
       " 'nombreux',\n",
       " 'francais',\n",
       " 'attentioncetteescroqueriequitouchedenombreuxfrancais',\n",
       " 'voici',\n",
       " 'pays',\n",
       " 'plus',\n",
       " 'endettes',\n",
       " 'monde',\n",
       " 'endettesaumonde',\n",
       " 'tout',\n",
       " 'parti',\n",
       " 'dune',\n",
       " 'decision',\n",
       " 'larbitre',\n",
       " 'morgue',\n",
       " 'pleine',\n",
       " 'moins',\n",
       " 'morts',\n",
       " 'match',\n",
       " 'foot',\n",
       " 'tourne',\n",
       " 'carnage',\n",
       " 'guinee',\n",
       " 'larbitrelamorgueestpleineaumoinsmortsun',\n",
       " 'greve',\n",
       " 'decembre',\n",
       " 'ecoles',\n",
       " 'hopitaux',\n",
       " 'transports',\n",
       " 'perturbations',\n",
       " 'prevoir',\n",
       " 'jeudi',\n",
       " 'hopitauxtransportscesperturbationsprevoircejeudi',\n",
       " 'accueil',\n",
       " 'suiveznous',\n",
       " 'facebook',\n",
       " 'instagram',\n",
       " 'twitter',\n",
       " 'tiktok',\n",
       " 'mentions',\n",
       " 'legales',\n",
       " 'politique',\n",
       " 'cookies',\n",
       " 'gestion',\n",
       " 'cookies',\n",
       " 'javascriptdidomipreferencesshow',\n",
       " 'cgu',\n",
       " 'actualite',\n",
       " 'mots',\n",
       " 'croises',\n",
       " 'mots',\n",
       " 'fleches',\n",
       " 'solitaire',\n",
       " 'sudoku',\n",
       " 'programme',\n",
       " 'devenir',\n",
       " 'annonceur',\n",
       " 'devenirannonceurcommuniquersurcnews',\n",
       " 'flux',\n",
       " 'rss',\n",
       " 'resultats',\n",
       " 'elections',\n",
       " 'legislatives',\n",
       " 'electionsresultatslegislatives']"
      ]
     },
     "execution_count": 100,
     "metadata": {},
     "output_type": "execute_result"
    }
   ],
   "source": [
    "cleaned_text"
   ]
  },
  {
   "cell_type": "markdown",
   "metadata": {},
   "source": [
    "Après la phase du pré_processing, le texte a été considérablement nettoyé, passant de 22231 termes bruts à seulement 740 mots significatifs prêts pour l'analyse."
   ]
  },
  {
   "cell_type": "code",
   "execution_count": 101,
   "metadata": {},
   "outputs": [
    {
     "name": "stdout",
     "output_type": "stream",
     "text": [
      "Longueur des données brutes (concaténées) : 22231 caractères.\n",
      "Nombre de mots après prétraitement : 740 mots.\n"
     ]
    }
   ],
   "source": [
    "\n",
    "print(f\"Longueur des données brutes (concaténées) : {len(article_text)} caractères.\")\n",
    "print(f\"Nombre de mots après prétraitement : {len(cleaned_text)} mots.\")"
   ]
  },
  {
   "cell_type": "markdown",
   "metadata": {},
   "source": [
    "4.Phase de vectorisation\n",
    "\n",
    " Nous avons opter pour la technique de vectorisation tf-idf(Term-Frequency-Inverse Document Frequency), elle va nous permet de pondérer la fréquence de nos tokens en fonction de son importance relative . \n",
    "\n",
    " On calculera donc le score de chacun des mots dans notre (cleaned_text)\n"
   ]
  },
  {
   "cell_type": "code",
   "execution_count": 102,
   "metadata": {},
   "outputs": [],
   "source": [
    "from sklearn.feature_extraction.text import TfidfVectorizer\n",
    "\n",
    "\n",
    "tfidf_vectorizer = TfidfVectorizer(max_features=100,ngram_range=(1,2))\n",
    "tfidf_matrix = tfidf_vectorizer.fit_transform([' '.join(cleaned_text)])\n",
    "tfidf_df = pd.DataFrame(\n",
    "    tfidf_matrix.toarray(),\n",
    "    columns=tfidf_vectorizer.get_feature_names_out()\n",
    ")\n"
   ]
  },
  {
   "cell_type": "code",
   "execution_count": 103,
   "metadata": {},
   "outputs": [
    {
     "name": "stdout",
     "output_type": "stream",
     "text": [
      "['annuler' 'asteroide' 'asteroide siberie' 'avant' 'avant impact'\n",
      " 'bancaire' 'bancaires' 'beaux' 'beaux livres' 'carte' 'carte bancaire'\n",
      " 'cette' 'cnewsutmmediumreferralutmcontentthumbnails'\n",
      " 'cnewsutmmediumreferralutmcontentthumbnails bbelowarticlethumbnailsunit'\n",
      " 'comme' 'copie' 'departements' 'departements places'\n",
      " 'departementsplacesenvigilancejaunecejeudi' 'donnees' 'etre' 'faits'\n",
      " 'fous' 'fous sport' 'francais' 'francais posent'\n",
      " 'francaistarnaquecalacopiedecbaattentioncacetteescroqueriequiatouchcadenombreuxfrancaais'\n",
      " 'fraude' 'images' 'images impressionnantes' 'impact' 'impact video'\n",
      " 'impressionnantes' 'impressionnantes meteore'\n",
      " 'impressionnantesdumeteoreavantsonimpactvideo'\n",
      " 'impressionnantesdumeteoreavantsonimpactvideo vents' 'iran' 'jaune'\n",
      " 'jaune jeudi' 'jeudi' 'jeudi departementsplacesenvigilancejaunecejeudi'\n",
      " 'largent' 'livres' 'livres offrir' 'marine' 'marine pen' 'meme'\n",
      " 'meme question' 'memequestionouvalargenttonnemarinelepen'\n",
      " 'memequestionouvalargenttonnemarinelepen noel' 'meteore' 'meteore avant'\n",
      " 'mohammadi' 'mohammadi sort' 'motions' 'narges' 'narges mohammadi'\n",
      " 'nargesmohammadisorttemporairementdeprisonpour' 'nobel' 'nobel paix'\n",
      " 'noel' 'noel beaux' 'offrir' 'offrir fous' 'offrirauxfousdesport'\n",
      " 'offrirauxfousdesport asteroide' 'paix' 'paix narges' 'pays' 'places'\n",
      " 'places vigilance' 'plus' 'politique'\n",
      " 'popuptaboolacomfrtemplatecolorboxutmsourcecnews'\n",
      " 'popuptaboolacomfrtemplatecolorboxutmsourcecnews cnewsutmmediumreferralutmcontentthumbnails'\n",
      " 'posent' 'posent tous' 'question largent' 'raisons' 'raisons sante'\n",
      " 'sante' 'savoir' 'savoir plus' 'siberie' 'siberie images' 'skimming'\n",
      " 'sport' 'sport offrirauxfousdesport' 'toulouse'\n",
      " 'utmsourcetbutmmediumcpcutmcampaigngutfdkutmtermcnews' 'vents'\n",
      " 'vents violents' 'video'\n",
      " 'video impressionnantesdumeteoreavantsonimpactvideo' 'vigilance'\n",
      " 'vigilance jaune' 'violents' 'violents voici' 'voici'\n",
      " 'voici departements']\n"
     ]
    }
   ],
   "source": [
    "print(tfidf_vectorizer.get_feature_names_out())"
   ]
  },
  {
   "cell_type": "code",
   "execution_count": 104,
   "metadata": {},
   "outputs": [
    {
     "name": "stdout",
     "output_type": "stream",
     "text": [
      "                 Mot  Fréquence\n",
      "0            annuler   0.129369\n",
      "1          asteroide   0.086246\n",
      "2  asteroide siberie   0.086246\n",
      "3              avant   0.215615\n",
      "4       avant impact   0.086246\n"
     ]
    }
   ],
   "source": [
    "# Conversion en DataFrame avec les mots comme lignes et leurs fréquences\n",
    "tfidf_df = pd.DataFrame(tfidf_df.sum(axis=0), columns=['Fréquence']).reset_index()\n",
    "tfidf_df.rename(columns={'index': 'Mot'}, inplace=True)\n",
    "\n",
    "# Vérification des colonnes\n",
    "print(tfidf_df.head())\n"
   ]
  },
  {
   "cell_type": "code",
   "execution_count": 105,
   "metadata": {},
   "outputs": [],
   "source": [
    "\n",
    "stop_words = list(stop_words)\n",
    "# Liste des stop words à exclure\n",
    "stop_words.extend([\n",
    "    'voici', 'vents', 'sport', 'siberie', 'posent', 'offrir', 'noel', \n",
    "    'nobel', 'narges', 'motions', 'mohammadi', 'meteore', 'meme', \n",
    "    'marine', 'livresjaune', 'iran', 'jeudi', 'fous', 'comme', \n",
    "    'cette', 'avant', 'asteroide','jaune','plus','beaux'\n",
    "])\n",
    "\n",
    "# Filtrage des mots pertinents\n",
    "filtered_tfidf_df = tfidf_df[\n",
    "    (tfidf_df['Fréquence'] > 0.05) &  # Fréquence minimale\n",
    "    (tfidf_df['Fréquence'] < 0.5) &  # Fréquence maximale\n",
    "    (tfidf_df['Mot'].str.len().between(4, 15)) &  # Longueur des mots\n",
    "    (~tfidf_df['Mot'].str.contains(r'[^a-zA-Zéèêàùç]', regex=True)) &  # Exclusion des mots avec caractères spéciaux\n",
    "    (~tfidf_df['Mot'].isin(stop_words))  # Exclusion des stopwords\n",
    "]\n"
   ]
  },
  {
   "cell_type": "code",
   "execution_count": 106,
   "metadata": {},
   "outputs": [
    {
     "name": "stdout",
     "output_type": "stream",
     "text": [
      "             Mot  Fréquence\n",
      "0        annuler   0.129369\n",
      "5       bancaire   0.215615\n",
      "6      bancaires   0.107808\n",
      "9          carte   0.301862\n",
      "15         copie   0.086246\n",
      "16  departements   0.107808\n",
      "19       donnees   0.129369\n",
      "20          etre   0.107808\n",
      "21         faits   0.064685\n",
      "24      francais   0.129369\n",
      "27        fraude   0.086246\n",
      "28        images   0.086246\n",
      "30        impact   0.086246\n",
      "41       largent   0.064685\n",
      "42        livres   0.086246\n",
      "66          paix   0.064685\n",
      "68          pays   0.086246\n",
      "69        places   0.107808\n",
      "72     politique   0.064685\n",
      "78       raisons   0.064685\n",
      "80         sante   0.086246\n",
      "81        savoir   0.086246\n",
      "85      skimming   0.107808\n",
      "88      toulouse   0.086246\n",
      "92         video   0.129369\n",
      "94     vigilance   0.107808\n",
      "96      violents   0.086246\n"
     ]
    }
   ],
   "source": [
    "# affichage de la frequence du IF-IDF par colonne\n",
    "pd.set_option(\"display.max_columns\", None)  \n",
    "pd.set_option(\"display.width\", None)       \n",
    "print(filtered_tfidf_df)"
   ]
  },
  {
   "cell_type": "markdown",
   "metadata": {},
   "source": [
    "Après le filtrage par TF-IDF , nous allons compter le nombre d'occurrence de chaque mots\n",
    "des mots importants retenu par colonne "
   ]
  },
  {
   "cell_type": "markdown",
   "metadata": {},
   "source": [
    "Visualisation de la distribution des fréquences des mots "
   ]
  },
  {
   "cell_type": "code",
   "execution_count": 107,
   "metadata": {},
   "outputs": [
    {
     "data": {
      "application/vnd.plotly.v1+json": {
       "config": {
        "plotlyServerURL": "https://plot.ly"
       },
       "data": [
        {
         "alignmentgroup": "True",
         "hovertemplate": "<b>%{hovertext}</b><br><br>Mot=%{x}<br>Fréquence=%{marker.color}<extra></extra>",
         "hovertext": [
          "annuler",
          "bancaire",
          "bancaires",
          "carte",
          "copie",
          "departements",
          "donnees",
          "etre",
          "faits",
          "francais",
          "fraude",
          "images",
          "impact",
          "largent",
          "livres",
          "paix",
          "pays",
          "places",
          "politique",
          "raisons",
          "sante",
          "savoir",
          "skimming",
          "toulouse",
          "video",
          "vigilance",
          "violents"
         ],
         "legendgroup": "",
         "marker": {
          "color": [
           0.12936924547063017,
           0.21561540911771696,
           0.10780770455885848,
           0.30186157276480374,
           0.08624616364708679,
           0.10780770455885848,
           0.12936924547063017,
           0.10780770455885848,
           0.06468462273531508,
           0.12936924547063017,
           0.08624616364708679,
           0.08624616364708679,
           0.08624616364708679,
           0.06468462273531508,
           0.08624616364708679,
           0.06468462273531508,
           0.08624616364708679,
           0.10780770455885848,
           0.06468462273531508,
           0.06468462273531508,
           0.08624616364708679,
           0.08624616364708679,
           0.10780770455885848,
           0.08624616364708679,
           0.12936924547063017,
           0.10780770455885848,
           0.08624616364708679
          ],
          "coloraxis": "coloraxis",
          "pattern": {
           "shape": ""
          }
         },
         "name": "",
         "offsetgroup": "",
         "orientation": "v",
         "showlegend": false,
         "text": [
          0.12936924547063017,
          0.21561540911771696,
          0.10780770455885848,
          0.30186157276480374,
          0.08624616364708679,
          0.10780770455885848,
          0.12936924547063017,
          0.10780770455885848,
          0.06468462273531508,
          0.12936924547063017,
          0.08624616364708679,
          0.08624616364708679,
          0.08624616364708679,
          0.06468462273531508,
          0.08624616364708679,
          0.06468462273531508,
          0.08624616364708679,
          0.10780770455885848,
          0.06468462273531508,
          0.06468462273531508,
          0.08624616364708679,
          0.08624616364708679,
          0.10780770455885848,
          0.08624616364708679,
          0.12936924547063017,
          0.10780770455885848,
          0.08624616364708679
         ],
         "textposition": "outside",
         "type": "bar",
         "x": [
          "annuler",
          "bancaire",
          "bancaires",
          "carte",
          "copie",
          "departements",
          "donnees",
          "etre",
          "faits",
          "francais",
          "fraude",
          "images",
          "impact",
          "largent",
          "livres",
          "paix",
          "pays",
          "places",
          "politique",
          "raisons",
          "sante",
          "savoir",
          "skimming",
          "toulouse",
          "video",
          "vigilance",
          "violents"
         ],
         "xaxis": "x",
         "y": [
          0.12936924547063017,
          0.21561540911771696,
          0.10780770455885848,
          0.30186157276480374,
          0.08624616364708679,
          0.10780770455885848,
          0.12936924547063017,
          0.10780770455885848,
          0.06468462273531508,
          0.12936924547063017,
          0.08624616364708679,
          0.08624616364708679,
          0.08624616364708679,
          0.06468462273531508,
          0.08624616364708679,
          0.06468462273531508,
          0.08624616364708679,
          0.10780770455885848,
          0.06468462273531508,
          0.06468462273531508,
          0.08624616364708679,
          0.08624616364708679,
          0.10780770455885848,
          0.08624616364708679,
          0.12936924547063017,
          0.10780770455885848,
          0.08624616364708679
         ],
         "yaxis": "y"
        }
       ],
       "layout": {
        "barmode": "relative",
        "coloraxis": {
         "colorbar": {
          "title": {
           "text": "Fréquence"
          }
         },
         "colorscale": [
          [
           0,
           "#0d0887"
          ],
          [
           0.1111111111111111,
           "#46039f"
          ],
          [
           0.2222222222222222,
           "#7201a8"
          ],
          [
           0.3333333333333333,
           "#9c179e"
          ],
          [
           0.4444444444444444,
           "#bd3786"
          ],
          [
           0.5555555555555556,
           "#d8576b"
          ],
          [
           0.6666666666666666,
           "#ed7953"
          ],
          [
           0.7777777777777778,
           "#fb9f3a"
          ],
          [
           0.8888888888888888,
           "#fdca26"
          ],
          [
           1,
           "#f0f921"
          ]
         ]
        },
        "legend": {
         "tracegroupgap": 0
        },
        "margin": {
         "b": 120,
         "l": 40,
         "r": 20,
         "t": 40
        },
        "template": {
         "data": {
          "bar": [
           {
            "error_x": {
             "color": "#2a3f5f"
            },
            "error_y": {
             "color": "#2a3f5f"
            },
            "marker": {
             "line": {
              "color": "#E5ECF6",
              "width": 0.5
             },
             "pattern": {
              "fillmode": "overlay",
              "size": 10,
              "solidity": 0.2
             }
            },
            "type": "bar"
           }
          ],
          "barpolar": [
           {
            "marker": {
             "line": {
              "color": "#E5ECF6",
              "width": 0.5
             },
             "pattern": {
              "fillmode": "overlay",
              "size": 10,
              "solidity": 0.2
             }
            },
            "type": "barpolar"
           }
          ],
          "carpet": [
           {
            "aaxis": {
             "endlinecolor": "#2a3f5f",
             "gridcolor": "white",
             "linecolor": "white",
             "minorgridcolor": "white",
             "startlinecolor": "#2a3f5f"
            },
            "baxis": {
             "endlinecolor": "#2a3f5f",
             "gridcolor": "white",
             "linecolor": "white",
             "minorgridcolor": "white",
             "startlinecolor": "#2a3f5f"
            },
            "type": "carpet"
           }
          ],
          "choropleth": [
           {
            "colorbar": {
             "outlinewidth": 0,
             "ticks": ""
            },
            "type": "choropleth"
           }
          ],
          "contour": [
           {
            "colorbar": {
             "outlinewidth": 0,
             "ticks": ""
            },
            "colorscale": [
             [
              0,
              "#0d0887"
             ],
             [
              0.1111111111111111,
              "#46039f"
             ],
             [
              0.2222222222222222,
              "#7201a8"
             ],
             [
              0.3333333333333333,
              "#9c179e"
             ],
             [
              0.4444444444444444,
              "#bd3786"
             ],
             [
              0.5555555555555556,
              "#d8576b"
             ],
             [
              0.6666666666666666,
              "#ed7953"
             ],
             [
              0.7777777777777778,
              "#fb9f3a"
             ],
             [
              0.8888888888888888,
              "#fdca26"
             ],
             [
              1,
              "#f0f921"
             ]
            ],
            "type": "contour"
           }
          ],
          "contourcarpet": [
           {
            "colorbar": {
             "outlinewidth": 0,
             "ticks": ""
            },
            "type": "contourcarpet"
           }
          ],
          "heatmap": [
           {
            "colorbar": {
             "outlinewidth": 0,
             "ticks": ""
            },
            "colorscale": [
             [
              0,
              "#0d0887"
             ],
             [
              0.1111111111111111,
              "#46039f"
             ],
             [
              0.2222222222222222,
              "#7201a8"
             ],
             [
              0.3333333333333333,
              "#9c179e"
             ],
             [
              0.4444444444444444,
              "#bd3786"
             ],
             [
              0.5555555555555556,
              "#d8576b"
             ],
             [
              0.6666666666666666,
              "#ed7953"
             ],
             [
              0.7777777777777778,
              "#fb9f3a"
             ],
             [
              0.8888888888888888,
              "#fdca26"
             ],
             [
              1,
              "#f0f921"
             ]
            ],
            "type": "heatmap"
           }
          ],
          "heatmapgl": [
           {
            "colorbar": {
             "outlinewidth": 0,
             "ticks": ""
            },
            "colorscale": [
             [
              0,
              "#0d0887"
             ],
             [
              0.1111111111111111,
              "#46039f"
             ],
             [
              0.2222222222222222,
              "#7201a8"
             ],
             [
              0.3333333333333333,
              "#9c179e"
             ],
             [
              0.4444444444444444,
              "#bd3786"
             ],
             [
              0.5555555555555556,
              "#d8576b"
             ],
             [
              0.6666666666666666,
              "#ed7953"
             ],
             [
              0.7777777777777778,
              "#fb9f3a"
             ],
             [
              0.8888888888888888,
              "#fdca26"
             ],
             [
              1,
              "#f0f921"
             ]
            ],
            "type": "heatmapgl"
           }
          ],
          "histogram": [
           {
            "marker": {
             "pattern": {
              "fillmode": "overlay",
              "size": 10,
              "solidity": 0.2
             }
            },
            "type": "histogram"
           }
          ],
          "histogram2d": [
           {
            "colorbar": {
             "outlinewidth": 0,
             "ticks": ""
            },
            "colorscale": [
             [
              0,
              "#0d0887"
             ],
             [
              0.1111111111111111,
              "#46039f"
             ],
             [
              0.2222222222222222,
              "#7201a8"
             ],
             [
              0.3333333333333333,
              "#9c179e"
             ],
             [
              0.4444444444444444,
              "#bd3786"
             ],
             [
              0.5555555555555556,
              "#d8576b"
             ],
             [
              0.6666666666666666,
              "#ed7953"
             ],
             [
              0.7777777777777778,
              "#fb9f3a"
             ],
             [
              0.8888888888888888,
              "#fdca26"
             ],
             [
              1,
              "#f0f921"
             ]
            ],
            "type": "histogram2d"
           }
          ],
          "histogram2dcontour": [
           {
            "colorbar": {
             "outlinewidth": 0,
             "ticks": ""
            },
            "colorscale": [
             [
              0,
              "#0d0887"
             ],
             [
              0.1111111111111111,
              "#46039f"
             ],
             [
              0.2222222222222222,
              "#7201a8"
             ],
             [
              0.3333333333333333,
              "#9c179e"
             ],
             [
              0.4444444444444444,
              "#bd3786"
             ],
             [
              0.5555555555555556,
              "#d8576b"
             ],
             [
              0.6666666666666666,
              "#ed7953"
             ],
             [
              0.7777777777777778,
              "#fb9f3a"
             ],
             [
              0.8888888888888888,
              "#fdca26"
             ],
             [
              1,
              "#f0f921"
             ]
            ],
            "type": "histogram2dcontour"
           }
          ],
          "mesh3d": [
           {
            "colorbar": {
             "outlinewidth": 0,
             "ticks": ""
            },
            "type": "mesh3d"
           }
          ],
          "parcoords": [
           {
            "line": {
             "colorbar": {
              "outlinewidth": 0,
              "ticks": ""
             }
            },
            "type": "parcoords"
           }
          ],
          "pie": [
           {
            "automargin": true,
            "type": "pie"
           }
          ],
          "scatter": [
           {
            "fillpattern": {
             "fillmode": "overlay",
             "size": 10,
             "solidity": 0.2
            },
            "type": "scatter"
           }
          ],
          "scatter3d": [
           {
            "line": {
             "colorbar": {
              "outlinewidth": 0,
              "ticks": ""
             }
            },
            "marker": {
             "colorbar": {
              "outlinewidth": 0,
              "ticks": ""
             }
            },
            "type": "scatter3d"
           }
          ],
          "scattercarpet": [
           {
            "marker": {
             "colorbar": {
              "outlinewidth": 0,
              "ticks": ""
             }
            },
            "type": "scattercarpet"
           }
          ],
          "scattergeo": [
           {
            "marker": {
             "colorbar": {
              "outlinewidth": 0,
              "ticks": ""
             }
            },
            "type": "scattergeo"
           }
          ],
          "scattergl": [
           {
            "marker": {
             "colorbar": {
              "outlinewidth": 0,
              "ticks": ""
             }
            },
            "type": "scattergl"
           }
          ],
          "scattermapbox": [
           {
            "marker": {
             "colorbar": {
              "outlinewidth": 0,
              "ticks": ""
             }
            },
            "type": "scattermapbox"
           }
          ],
          "scatterpolar": [
           {
            "marker": {
             "colorbar": {
              "outlinewidth": 0,
              "ticks": ""
             }
            },
            "type": "scatterpolar"
           }
          ],
          "scatterpolargl": [
           {
            "marker": {
             "colorbar": {
              "outlinewidth": 0,
              "ticks": ""
             }
            },
            "type": "scatterpolargl"
           }
          ],
          "scatterternary": [
           {
            "marker": {
             "colorbar": {
              "outlinewidth": 0,
              "ticks": ""
             }
            },
            "type": "scatterternary"
           }
          ],
          "surface": [
           {
            "colorbar": {
             "outlinewidth": 0,
             "ticks": ""
            },
            "colorscale": [
             [
              0,
              "#0d0887"
             ],
             [
              0.1111111111111111,
              "#46039f"
             ],
             [
              0.2222222222222222,
              "#7201a8"
             ],
             [
              0.3333333333333333,
              "#9c179e"
             ],
             [
              0.4444444444444444,
              "#bd3786"
             ],
             [
              0.5555555555555556,
              "#d8576b"
             ],
             [
              0.6666666666666666,
              "#ed7953"
             ],
             [
              0.7777777777777778,
              "#fb9f3a"
             ],
             [
              0.8888888888888888,
              "#fdca26"
             ],
             [
              1,
              "#f0f921"
             ]
            ],
            "type": "surface"
           }
          ],
          "table": [
           {
            "cells": {
             "fill": {
              "color": "#EBF0F8"
             },
             "line": {
              "color": "white"
             }
            },
            "header": {
             "fill": {
              "color": "#C8D4E3"
             },
             "line": {
              "color": "white"
             }
            },
            "type": "table"
           }
          ]
         },
         "layout": {
          "annotationdefaults": {
           "arrowcolor": "#2a3f5f",
           "arrowhead": 0,
           "arrowwidth": 1
          },
          "autotypenumbers": "strict",
          "coloraxis": {
           "colorbar": {
            "outlinewidth": 0,
            "ticks": ""
           }
          },
          "colorscale": {
           "diverging": [
            [
             0,
             "#8e0152"
            ],
            [
             0.1,
             "#c51b7d"
            ],
            [
             0.2,
             "#de77ae"
            ],
            [
             0.3,
             "#f1b6da"
            ],
            [
             0.4,
             "#fde0ef"
            ],
            [
             0.5,
             "#f7f7f7"
            ],
            [
             0.6,
             "#e6f5d0"
            ],
            [
             0.7,
             "#b8e186"
            ],
            [
             0.8,
             "#7fbc41"
            ],
            [
             0.9,
             "#4d9221"
            ],
            [
             1,
             "#276419"
            ]
           ],
           "sequential": [
            [
             0,
             "#0d0887"
            ],
            [
             0.1111111111111111,
             "#46039f"
            ],
            [
             0.2222222222222222,
             "#7201a8"
            ],
            [
             0.3333333333333333,
             "#9c179e"
            ],
            [
             0.4444444444444444,
             "#bd3786"
            ],
            [
             0.5555555555555556,
             "#d8576b"
            ],
            [
             0.6666666666666666,
             "#ed7953"
            ],
            [
             0.7777777777777778,
             "#fb9f3a"
            ],
            [
             0.8888888888888888,
             "#fdca26"
            ],
            [
             1,
             "#f0f921"
            ]
           ],
           "sequentialminus": [
            [
             0,
             "#0d0887"
            ],
            [
             0.1111111111111111,
             "#46039f"
            ],
            [
             0.2222222222222222,
             "#7201a8"
            ],
            [
             0.3333333333333333,
             "#9c179e"
            ],
            [
             0.4444444444444444,
             "#bd3786"
            ],
            [
             0.5555555555555556,
             "#d8576b"
            ],
            [
             0.6666666666666666,
             "#ed7953"
            ],
            [
             0.7777777777777778,
             "#fb9f3a"
            ],
            [
             0.8888888888888888,
             "#fdca26"
            ],
            [
             1,
             "#f0f921"
            ]
           ]
          },
          "colorway": [
           "#636efa",
           "#EF553B",
           "#00cc96",
           "#ab63fa",
           "#FFA15A",
           "#19d3f3",
           "#FF6692",
           "#B6E880",
           "#FF97FF",
           "#FECB52"
          ],
          "font": {
           "color": "#2a3f5f"
          },
          "geo": {
           "bgcolor": "white",
           "lakecolor": "white",
           "landcolor": "#E5ECF6",
           "showlakes": true,
           "showland": true,
           "subunitcolor": "white"
          },
          "hoverlabel": {
           "align": "left"
          },
          "hovermode": "closest",
          "mapbox": {
           "style": "light"
          },
          "paper_bgcolor": "white",
          "plot_bgcolor": "#E5ECF6",
          "polar": {
           "angularaxis": {
            "gridcolor": "white",
            "linecolor": "white",
            "ticks": ""
           },
           "bgcolor": "#E5ECF6",
           "radialaxis": {
            "gridcolor": "white",
            "linecolor": "white",
            "ticks": ""
           }
          },
          "scene": {
           "xaxis": {
            "backgroundcolor": "#E5ECF6",
            "gridcolor": "white",
            "gridwidth": 2,
            "linecolor": "white",
            "showbackground": true,
            "ticks": "",
            "zerolinecolor": "white"
           },
           "yaxis": {
            "backgroundcolor": "#E5ECF6",
            "gridcolor": "white",
            "gridwidth": 2,
            "linecolor": "white",
            "showbackground": true,
            "ticks": "",
            "zerolinecolor": "white"
           },
           "zaxis": {
            "backgroundcolor": "#E5ECF6",
            "gridcolor": "white",
            "gridwidth": 2,
            "linecolor": "white",
            "showbackground": true,
            "ticks": "",
            "zerolinecolor": "white"
           }
          },
          "shapedefaults": {
           "line": {
            "color": "#2a3f5f"
           }
          },
          "ternary": {
           "aaxis": {
            "gridcolor": "white",
            "linecolor": "white",
            "ticks": ""
           },
           "baxis": {
            "gridcolor": "white",
            "linecolor": "white",
            "ticks": ""
           },
           "bgcolor": "#E5ECF6",
           "caxis": {
            "gridcolor": "white",
            "linecolor": "white",
            "ticks": ""
           }
          },
          "title": {
           "x": 0.05
          },
          "xaxis": {
           "automargin": true,
           "gridcolor": "white",
           "linecolor": "white",
           "ticks": "",
           "title": {
            "standoff": 15
           },
           "zerolinecolor": "white",
           "zerolinewidth": 2
          },
          "yaxis": {
           "automargin": true,
           "gridcolor": "white",
           "linecolor": "white",
           "ticks": "",
           "title": {
            "standoff": 15
           },
           "zerolinecolor": "white",
           "zerolinewidth": 2
          }
         }
        },
        "title": {
         "text": "Fréquence des mots pertinents (TF-IDF)"
        },
        "xaxis": {
         "anchor": "y",
         "domain": [
          0,
          1
         ],
         "tickangle": 45,
         "title": {
          "text": "Mots"
         }
        },
        "yaxis": {
         "anchor": "x",
         "domain": [
          0,
          1
         ],
         "title": {
          "text": "Fréquence"
         }
        }
       }
      }
     },
     "metadata": {},
     "output_type": "display_data"
    }
   ],
   "source": [
    "\n",
    "import plotly.express as px\n",
    "\n",
    "# Créer un graphique avec les mots pertinents\n",
    "fig = px.bar(filtered_tfidf_df, x='Mot', y='Fréquence', title=\"Fréquence des mots pertinents (TF-IDF)\",\n",
    "             text='Fréquence', color='Fréquence', hover_name='Mot')\n",
    "\n",
    "# Personnaliser le graphique\n",
    "fig.update_traces(textposition='outside')\n",
    "fig.update_layout(\n",
    "    xaxis_title='Mots', yaxis_title='Fréquence',\n",
    "    xaxis=dict(tickangle=45),\n",
    "    margin=dict(l=40, r=20, t=40, b=120)\n",
    ")\n",
    "\n",
    "# Afficher le graphique\n",
    "fig.show()\n",
    "\n"
   ]
  },
  {
   "cell_type": "code",
   "execution_count": 108,
   "metadata": {},
   "outputs": [
    {
     "data": {
      "application/vnd.plotly.v1+json": {
       "config": {
        "plotlyServerURL": "https://plot.ly"
       },
       "data": [
        {
         "hovertemplate": "x: %{x}<br>y: %{y}<br>color: [%{z[0]}, %{z[1]}, %{z[2]}]<extra></extra>",
         "name": "0",
         "source": "data:image/png;base64,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",
         "type": "image",
         "xaxis": "x",
         "yaxis": "y"
        }
       ],
       "layout": {
        "coloraxis": {
         "showscale": false
        },
        "margin": {
         "b": 0,
         "l": 0,
         "r": 0,
         "t": 0
        },
        "template": {
         "data": {
          "bar": [
           {
            "error_x": {
             "color": "#2a3f5f"
            },
            "error_y": {
             "color": "#2a3f5f"
            },
            "marker": {
             "line": {
              "color": "#E5ECF6",
              "width": 0.5
             },
             "pattern": {
              "fillmode": "overlay",
              "size": 10,
              "solidity": 0.2
             }
            },
            "type": "bar"
           }
          ],
          "barpolar": [
           {
            "marker": {
             "line": {
              "color": "#E5ECF6",
              "width": 0.5
             },
             "pattern": {
              "fillmode": "overlay",
              "size": 10,
              "solidity": 0.2
             }
            },
            "type": "barpolar"
           }
          ],
          "carpet": [
           {
            "aaxis": {
             "endlinecolor": "#2a3f5f",
             "gridcolor": "white",
             "linecolor": "white",
             "minorgridcolor": "white",
             "startlinecolor": "#2a3f5f"
            },
            "baxis": {
             "endlinecolor": "#2a3f5f",
             "gridcolor": "white",
             "linecolor": "white",
             "minorgridcolor": "white",
             "startlinecolor": "#2a3f5f"
            },
            "type": "carpet"
           }
          ],
          "choropleth": [
           {
            "colorbar": {
             "outlinewidth": 0,
             "ticks": ""
            },
            "type": "choropleth"
           }
          ],
          "contour": [
           {
            "colorbar": {
             "outlinewidth": 0,
             "ticks": ""
            },
            "colorscale": [
             [
              0,
              "#0d0887"
             ],
             [
              0.1111111111111111,
              "#46039f"
             ],
             [
              0.2222222222222222,
              "#7201a8"
             ],
             [
              0.3333333333333333,
              "#9c179e"
             ],
             [
              0.4444444444444444,
              "#bd3786"
             ],
             [
              0.5555555555555556,
              "#d8576b"
             ],
             [
              0.6666666666666666,
              "#ed7953"
             ],
             [
              0.7777777777777778,
              "#fb9f3a"
             ],
             [
              0.8888888888888888,
              "#fdca26"
             ],
             [
              1,
              "#f0f921"
             ]
            ],
            "type": "contour"
           }
          ],
          "contourcarpet": [
           {
            "colorbar": {
             "outlinewidth": 0,
             "ticks": ""
            },
            "type": "contourcarpet"
           }
          ],
          "heatmap": [
           {
            "colorbar": {
             "outlinewidth": 0,
             "ticks": ""
            },
            "colorscale": [
             [
              0,
              "#0d0887"
             ],
             [
              0.1111111111111111,
              "#46039f"
             ],
             [
              0.2222222222222222,
              "#7201a8"
             ],
             [
              0.3333333333333333,
              "#9c179e"
             ],
             [
              0.4444444444444444,
              "#bd3786"
             ],
             [
              0.5555555555555556,
              "#d8576b"
             ],
             [
              0.6666666666666666,
              "#ed7953"
             ],
             [
              0.7777777777777778,
              "#fb9f3a"
             ],
             [
              0.8888888888888888,
              "#fdca26"
             ],
             [
              1,
              "#f0f921"
             ]
            ],
            "type": "heatmap"
           }
          ],
          "heatmapgl": [
           {
            "colorbar": {
             "outlinewidth": 0,
             "ticks": ""
            },
            "colorscale": [
             [
              0,
              "#0d0887"
             ],
             [
              0.1111111111111111,
              "#46039f"
             ],
             [
              0.2222222222222222,
              "#7201a8"
             ],
             [
              0.3333333333333333,
              "#9c179e"
             ],
             [
              0.4444444444444444,
              "#bd3786"
             ],
             [
              0.5555555555555556,
              "#d8576b"
             ],
             [
              0.6666666666666666,
              "#ed7953"
             ],
             [
              0.7777777777777778,
              "#fb9f3a"
             ],
             [
              0.8888888888888888,
              "#fdca26"
             ],
             [
              1,
              "#f0f921"
             ]
            ],
            "type": "heatmapgl"
           }
          ],
          "histogram": [
           {
            "marker": {
             "pattern": {
              "fillmode": "overlay",
              "size": 10,
              "solidity": 0.2
             }
            },
            "type": "histogram"
           }
          ],
          "histogram2d": [
           {
            "colorbar": {
             "outlinewidth": 0,
             "ticks": ""
            },
            "colorscale": [
             [
              0,
              "#0d0887"
             ],
             [
              0.1111111111111111,
              "#46039f"
             ],
             [
              0.2222222222222222,
              "#7201a8"
             ],
             [
              0.3333333333333333,
              "#9c179e"
             ],
             [
              0.4444444444444444,
              "#bd3786"
             ],
             [
              0.5555555555555556,
              "#d8576b"
             ],
             [
              0.6666666666666666,
              "#ed7953"
             ],
             [
              0.7777777777777778,
              "#fb9f3a"
             ],
             [
              0.8888888888888888,
              "#fdca26"
             ],
             [
              1,
              "#f0f921"
             ]
            ],
            "type": "histogram2d"
           }
          ],
          "histogram2dcontour": [
           {
            "colorbar": {
             "outlinewidth": 0,
             "ticks": ""
            },
            "colorscale": [
             [
              0,
              "#0d0887"
             ],
             [
              0.1111111111111111,
              "#46039f"
             ],
             [
              0.2222222222222222,
              "#7201a8"
             ],
             [
              0.3333333333333333,
              "#9c179e"
             ],
             [
              0.4444444444444444,
              "#bd3786"
             ],
             [
              0.5555555555555556,
              "#d8576b"
             ],
             [
              0.6666666666666666,
              "#ed7953"
             ],
             [
              0.7777777777777778,
              "#fb9f3a"
             ],
             [
              0.8888888888888888,
              "#fdca26"
             ],
             [
              1,
              "#f0f921"
             ]
            ],
            "type": "histogram2dcontour"
           }
          ],
          "mesh3d": [
           {
            "colorbar": {
             "outlinewidth": 0,
             "ticks": ""
            },
            "type": "mesh3d"
           }
          ],
          "parcoords": [
           {
            "line": {
             "colorbar": {
              "outlinewidth": 0,
              "ticks": ""
             }
            },
            "type": "parcoords"
           }
          ],
          "pie": [
           {
            "automargin": true,
            "type": "pie"
           }
          ],
          "scatter": [
           {
            "fillpattern": {
             "fillmode": "overlay",
             "size": 10,
             "solidity": 0.2
            },
            "type": "scatter"
           }
          ],
          "scatter3d": [
           {
            "line": {
             "colorbar": {
              "outlinewidth": 0,
              "ticks": ""
             }
            },
            "marker": {
             "colorbar": {
              "outlinewidth": 0,
              "ticks": ""
             }
            },
            "type": "scatter3d"
           }
          ],
          "scattercarpet": [
           {
            "marker": {
             "colorbar": {
              "outlinewidth": 0,
              "ticks": ""
             }
            },
            "type": "scattercarpet"
           }
          ],
          "scattergeo": [
           {
            "marker": {
             "colorbar": {
              "outlinewidth": 0,
              "ticks": ""
             }
            },
            "type": "scattergeo"
           }
          ],
          "scattergl": [
           {
            "marker": {
             "colorbar": {
              "outlinewidth": 0,
              "ticks": ""
             }
            },
            "type": "scattergl"
           }
          ],
          "scattermapbox": [
           {
            "marker": {
             "colorbar": {
              "outlinewidth": 0,
              "ticks": ""
             }
            },
            "type": "scattermapbox"
           }
          ],
          "scatterpolar": [
           {
            "marker": {
             "colorbar": {
              "outlinewidth": 0,
              "ticks": ""
             }
            },
            "type": "scatterpolar"
           }
          ],
          "scatterpolargl": [
           {
            "marker": {
             "colorbar": {
              "outlinewidth": 0,
              "ticks": ""
             }
            },
            "type": "scatterpolargl"
           }
          ],
          "scatterternary": [
           {
            "marker": {
             "colorbar": {
              "outlinewidth": 0,
              "ticks": ""
             }
            },
            "type": "scatterternary"
           }
          ],
          "surface": [
           {
            "colorbar": {
             "outlinewidth": 0,
             "ticks": ""
            },
            "colorscale": [
             [
              0,
              "#0d0887"
             ],
             [
              0.1111111111111111,
              "#46039f"
             ],
             [
              0.2222222222222222,
              "#7201a8"
             ],
             [
              0.3333333333333333,
              "#9c179e"
             ],
             [
              0.4444444444444444,
              "#bd3786"
             ],
             [
              0.5555555555555556,
              "#d8576b"
             ],
             [
              0.6666666666666666,
              "#ed7953"
             ],
             [
              0.7777777777777778,
              "#fb9f3a"
             ],
             [
              0.8888888888888888,
              "#fdca26"
             ],
             [
              1,
              "#f0f921"
             ]
            ],
            "type": "surface"
           }
          ],
          "table": [
           {
            "cells": {
             "fill": {
              "color": "#EBF0F8"
             },
             "line": {
              "color": "white"
             }
            },
            "header": {
             "fill": {
              "color": "#C8D4E3"
             },
             "line": {
              "color": "white"
             }
            },
            "type": "table"
           }
          ]
         },
         "layout": {
          "annotationdefaults": {
           "arrowcolor": "#2a3f5f",
           "arrowhead": 0,
           "arrowwidth": 1
          },
          "autotypenumbers": "strict",
          "coloraxis": {
           "colorbar": {
            "outlinewidth": 0,
            "ticks": ""
           }
          },
          "colorscale": {
           "diverging": [
            [
             0,
             "#8e0152"
            ],
            [
             0.1,
             "#c51b7d"
            ],
            [
             0.2,
             "#de77ae"
            ],
            [
             0.3,
             "#f1b6da"
            ],
            [
             0.4,
             "#fde0ef"
            ],
            [
             0.5,
             "#f7f7f7"
            ],
            [
             0.6,
             "#e6f5d0"
            ],
            [
             0.7,
             "#b8e186"
            ],
            [
             0.8,
             "#7fbc41"
            ],
            [
             0.9,
             "#4d9221"
            ],
            [
             1,
             "#276419"
            ]
           ],
           "sequential": [
            [
             0,
             "#0d0887"
            ],
            [
             0.1111111111111111,
             "#46039f"
            ],
            [
             0.2222222222222222,
             "#7201a8"
            ],
            [
             0.3333333333333333,
             "#9c179e"
            ],
            [
             0.4444444444444444,
             "#bd3786"
            ],
            [
             0.5555555555555556,
             "#d8576b"
            ],
            [
             0.6666666666666666,
             "#ed7953"
            ],
            [
             0.7777777777777778,
             "#fb9f3a"
            ],
            [
             0.8888888888888888,
             "#fdca26"
            ],
            [
             1,
             "#f0f921"
            ]
           ],
           "sequentialminus": [
            [
             0,
             "#0d0887"
            ],
            [
             0.1111111111111111,
             "#46039f"
            ],
            [
             0.2222222222222222,
             "#7201a8"
            ],
            [
             0.3333333333333333,
             "#9c179e"
            ],
            [
             0.4444444444444444,
             "#bd3786"
            ],
            [
             0.5555555555555556,
             "#d8576b"
            ],
            [
             0.6666666666666666,
             "#ed7953"
            ],
            [
             0.7777777777777778,
             "#fb9f3a"
            ],
            [
             0.8888888888888888,
             "#fdca26"
            ],
            [
             1,
             "#f0f921"
            ]
           ]
          },
          "colorway": [
           "#636efa",
           "#EF553B",
           "#00cc96",
           "#ab63fa",
           "#FFA15A",
           "#19d3f3",
           "#FF6692",
           "#B6E880",
           "#FF97FF",
           "#FECB52"
          ],
          "font": {
           "color": "#2a3f5f"
          },
          "geo": {
           "bgcolor": "white",
           "lakecolor": "white",
           "landcolor": "#E5ECF6",
           "showlakes": true,
           "showland": true,
           "subunitcolor": "white"
          },
          "hoverlabel": {
           "align": "left"
          },
          "hovermode": "closest",
          "mapbox": {
           "style": "light"
          },
          "paper_bgcolor": "white",
          "plot_bgcolor": "#E5ECF6",
          "polar": {
           "angularaxis": {
            "gridcolor": "white",
            "linecolor": "white",
            "ticks": ""
           },
           "bgcolor": "#E5ECF6",
           "radialaxis": {
            "gridcolor": "white",
            "linecolor": "white",
            "ticks": ""
           }
          },
          "scene": {
           "xaxis": {
            "backgroundcolor": "#E5ECF6",
            "gridcolor": "white",
            "gridwidth": 2,
            "linecolor": "white",
            "showbackground": true,
            "ticks": "",
            "zerolinecolor": "white"
           },
           "yaxis": {
            "backgroundcolor": "#E5ECF6",
            "gridcolor": "white",
            "gridwidth": 2,
            "linecolor": "white",
            "showbackground": true,
            "ticks": "",
            "zerolinecolor": "white"
           },
           "zaxis": {
            "backgroundcolor": "#E5ECF6",
            "gridcolor": "white",
            "gridwidth": 2,
            "linecolor": "white",
            "showbackground": true,
            "ticks": "",
            "zerolinecolor": "white"
           }
          },
          "shapedefaults": {
           "line": {
            "color": "#2a3f5f"
           }
          },
          "ternary": {
           "aaxis": {
            "gridcolor": "white",
            "linecolor": "white",
            "ticks": ""
           },
           "baxis": {
            "gridcolor": "white",
            "linecolor": "white",
            "ticks": ""
           },
           "bgcolor": "#E5ECF6",
           "caxis": {
            "gridcolor": "white",
            "linecolor": "white",
            "ticks": ""
           }
          },
          "title": {
           "x": 0.05
          },
          "xaxis": {
           "automargin": true,
           "gridcolor": "white",
           "linecolor": "white",
           "ticks": "",
           "title": {
            "standoff": 15
           },
           "zerolinecolor": "white",
           "zerolinewidth": 2
          },
          "yaxis": {
           "automargin": true,
           "gridcolor": "white",
           "linecolor": "white",
           "ticks": "",
           "title": {
            "standoff": 15
           },
           "zerolinecolor": "white",
           "zerolinewidth": 2
          }
         }
        },
        "xaxis": {
         "anchor": "y",
         "domain": [
          0,
          1
         ],
         "showticklabels": false
        },
        "yaxis": {
         "anchor": "x",
         "domain": [
          0,
          1
         ],
         "showticklabels": false
        }
       }
      }
     },
     "metadata": {},
     "output_type": "display_data"
    }
   ],
   "source": [
    "from collections import defaultdict\n",
    "from wordcloud import WordCloud\n",
    "import plotly.express as px\n",
    "import pandas as pd\n",
    "\n",
    "\n",
    "# Génération du WordCloud avec les mots filtrés\n",
    "word_weights = dict(zip(filtered_tfidf_df['Mot'], filtered_tfidf_df['Fréquence']))\n",
    "\n",
    "wordcloud = WordCloud(\n",
    "    width=800,\n",
    "    height=400,\n",
    "    background_color='white',\n",
    "    colormap='viridis'\n",
    ").generate_from_frequencies(word_weights)\n",
    "\n",
    "# Conversion en image pour affichage avec Plotly\n",
    "wordcloud_image = wordcloud.to_array()\n",
    "\n",
    "# Affichage avec Plotly\n",
    "fig = px.imshow(\n",
    "    wordcloud_image,\n",
    "    \n",
    "    color_continuous_scale=\"viridis\"\n",
    ")\n",
    "# Suppression des marges et des bordures blanches\n",
    "fig.update_layout(\n",
    "    margin=dict(l=0, r=0, t=0, b=0),  # Suppression des marges\n",
    "    coloraxis_showscale=False  # Suppression de l'échelle des couleurs si non nécessaire\n",
    ")\n",
    "\n",
    "\n",
    "fig.update_xaxes(showticklabels=False)\n",
    "fig.update_yaxes(showticklabels=False)\n",
    "fig.show()\n"
   ]
  },
  {
   "cell_type": "markdown",
   "metadata": {},
   "source": [
    "\n",
    "analyse du resulat et recommandation\n",
    "\n",
    "Mon analyse\n",
    "\n",
    "\n",
    "Les résultats de mon WordCloud mettent en évidence les mots les plus significatifs en fonction de leur pondération (TF-IDF). Ils révèlent une forte concentration sur les problématiques de fraude bancaire, avec des thématiques majeures telles que le \"skimming\", une technique de fraude ciblant les données bancaires, ainsi que des notions comme \"vigilance\" et les \"impacts\" sur le pays.\n",
    "\n",
    "La présence de termes tels que \"vidéo\", \"copie\" et \"impressionnantes\" suggère une orientation vers des supports visuels pour sensibiliser les utilisateurs. Ces éléments pourraient indiquer que les campagnes de prévention axées sur des contenus visuels percutants sont particulièrement adaptées pour informer le public sur les risques et les méthodes liées aux fraudes bancaires.\n",
    "\n",
    "\n",
    "Ma recommandation\n",
    "\n",
    "- Mise en place de campagnes de prévention renforcées, appuyées par des supports vidéo éducatifs, afin d’expliquer les risques liés aux fraudes et de sensibiliser le public aux précautions à adopter. Ces campagnes pourraient être diffusées sur des plateformes clés telles que Facebook, Twitter et Instagram, pour toucher un large public de manière efficace et engageante.\n",
    "\n",
    "\n",
    "- Identification et renforcement des mesures  de  sécurité sur les zones les plus touchées par la fraude "
   ]
  },
  {
   "cell_type": "markdown",
   "metadata": {},
   "source": []
  },
  {
   "cell_type": "markdown",
   "metadata": {},
   "source": [
    "text_mining article La dangereuse dynamique des soldes des cartes de crédit aux États-Unis"
   ]
  },
  {
   "cell_type": "markdown",
   "metadata": {},
   "source": [
    "reation WordCould avec Article de Robin \n",
    "\n",
    "https://www.lafinancepourtous.com/2024/09/12/la-dangereuse-dynamique-des-soldes-des-cartes-de-credit-aux-etats-unis/\n"
   ]
  },
  {
   "cell_type": "code",
   "execution_count": 111,
   "metadata": {},
   "outputs": [
    {
     "name": "stdout",
     "output_type": "stream",
     "text": [
      "Texte extrait avec succès.\n"
     ]
    }
   ],
   "source": [
    "from bs4 import BeautifulSoup\n",
    "# Chemin du fichier html \n",
    "\n",
    "file_path1= r\"C:\\Users\\fanti\\Music\\universite paris-sorbonne\\DataManagementAvecPandas\\Streamlit\\Projet_Data_Management\\La dangereuse dynamique des soldes des cartes de crédit aux États-Unis - La finance pour tous.html\"\n",
    "# Lecture du fichier texte\n",
    "with open(file_path1, \"r\", encoding=\"utf-8\") as file:\n",
    "    html_content= file.read()\n",
    "\n",
    "# Extraction du texte avec BeautifulSoup\n",
    "soup = BeautifulSoup(html_content, \"html.parser\")\n",
    "article_text1 = soup.get_text()\n",
    "\n",
    "print(\"Texte extrait avec succès.\")"
   ]
  },
  {
   "cell_type": "markdown",
   "metadata": {},
   "source": [
    "Exploration de nos données extrait"
   ]
  },
  {
   "cell_type": "code",
   "execution_count": 112,
   "metadata": {},
   "outputs": [
    {
     "data": {
      "text/plain": [
       "15141"
      ]
     },
     "execution_count": 112,
     "metadata": {},
     "output_type": "execute_result"
    }
   ],
   "source": [
    "len(article_text1)"
   ]
  },
  {
   "cell_type": "code",
   "execution_count": 113,
   "metadata": {},
   "outputs": [
    {
     "data": {
      "text/plain": [
       "['La',\n",
       " 'dangereuse',\n",
       " 'dynamique',\n",
       " 'des',\n",
       " 'soldes',\n",
       " 'des',\n",
       " 'cartes',\n",
       " 'de',\n",
       " 'crédit',\n",
       " 'aux',\n",
       " 'États-Unis',\n",
       " '-',\n",
       " 'La',\n",
       " 'finance',\n",
       " 'pour',\n",
       " 'tous',\n",
       " 'Aller',\n",
       " 'au',\n",
       " 'menu',\n",
       " 'Aller',\n",
       " 'au',\n",
       " 'contenu',\n",
       " 'Aller',\n",
       " 'à',\n",
       " 'la',\n",
       " 'recherche',\n",
       " 'Accéder',\n",
       " 'à',\n",
       " 'la',\n",
       " 'navigation',\n",
       " 'La',\n",
       " 'finance',\n",
       " 'pour',\n",
       " 'tous',\n",
       " 'Accéder',\n",
       " 'à',\n",
       " 'la',\n",
       " 'recherche',\n",
       " 'Pratique',\n",
       " 'Décryptages',\n",
       " 'Enseignants',\n",
       " 'Juniors',\n",
       " 'Boutique',\n",
       " 'Accueil',\n",
       " 'Actualités',\n",
       " 'Rechercher',\n",
       " 'Rechercher',\n",
       " 'La',\n",
       " 'finance',\n",
       " 'pour',\n",
       " 'tous',\n",
       " 'sur',\n",
       " 'facebook',\n",
       " 'La',\n",
       " 'finance',\n",
       " 'pour',\n",
       " 'tous',\n",
       " 'sur',\n",
       " 'twitter',\n",
       " 'La',\n",
       " 'finance',\n",
       " 'pour',\n",
       " 'tous',\n",
       " 'sur',\n",
       " 'linkedin',\n",
       " 'La',\n",
       " 'finance',\n",
       " 'pour',\n",
       " 'tous',\n",
       " 'sur',\n",
       " 'instagram',\n",
       " 'La',\n",
       " 'finance',\n",
       " 'pour',\n",
       " 'tous',\n",
       " 'sur',\n",
       " 'youtube',\n",
       " 'La',\n",
       " 'finance',\n",
       " 'pour',\n",
       " 'tous',\n",
       " 'sur',\n",
       " 'tiktok',\n",
       " 'La',\n",
       " 'finance',\n",
       " 'pour',\n",
       " 'tous',\n",
       " '-',\n",
       " 'Le',\n",
       " 'site',\n",
       " 'pédagogique',\n",
       " 'sur',\n",
       " \"l'argent\",\n",
       " 'et',\n",
       " 'la',\n",
       " 'finance',\n",
       " 'La',\n",
       " 'finance',\n",
       " 'pour',\n",
       " 'tous',\n",
       " 'est',\n",
       " 'une',\n",
       " 'association',\n",
       " 'd’intérêt',\n",
       " 'général,',\n",
       " 'créée',\n",
       " 'pour']"
      ]
     },
     "execution_count": 113,
     "metadata": {},
     "output_type": "execute_result"
    }
   ],
   "source": [
    "article_text1[:1000].split()"
   ]
  },
  {
   "cell_type": "code",
   "execution_count": 114,
   "metadata": {},
   "outputs": [
    {
     "data": {
      "text/plain": [
       "str"
      ]
     },
     "execution_count": 114,
     "metadata": {},
     "output_type": "execute_result"
    }
   ],
   "source": [
    "# verifions que le contenu de nos données extrait est du type string\n",
    "type(article_text1)"
   ]
  },
  {
   "cell_type": "markdown",
   "metadata": {},
   "source": [
    "2.Prétraitement du texte\n",
    "Nettoyage du texte pour supprimer les caractères inutiles, suppression des accents et des stopwords\n"
   ]
  },
  {
   "cell_type": "code",
   "execution_count": 119,
   "metadata": {},
   "outputs": [
    {
     "name": "stderr",
     "output_type": "stream",
     "text": [
      "[nltk_data] Downloading package stopwords to\n",
      "[nltk_data]     C:\\Users\\fanti\\AppData\\Roaming\\nltk_data...\n",
      "[nltk_data]   Package stopwords is already up-to-date!\n"
     ]
    }
   ],
   "source": [
    "nltk.download('stopwords') # téléchargement du package depuis la bibliothèque NLTK(Natural language Toolkit)\n",
    "stop_words1 = set(stopwords.words('french'))  #  je charge la ligne des  stopwords pour la langue française"
   ]
  },
  {
   "cell_type": "code",
   "execution_count": 120,
   "metadata": {},
   "outputs": [
    {
     "name": "stdout",
     "output_type": "stream",
     "text": [
      "{'étés', 'était', 'lui', 'avais', 'te', 'suis', 'es', 'ou', 'eussions', 'aurions', 'eussent', 'eusse', 'avait', 'sur', 'leur', 'ces', 'aurais', 'auraient', 'ayons', 'serai', 'aient', 'c', 'aura', 'fût', 'ayantes', 'le', 'me', 'ma', 'étions', 'fussent', 'ce', 'du', 'étée', 'vos', 'eût', 'eue', 'êtes', 'dans', 'avons', 'serions', 'on', 'étais', 'ait', 'avions', 'ne', 'y', 'ayez', 'il', 'fusse', 'son', 'n', 'ta', 'sera', 'j', 'eut', 'fusses', 'serais', 'toi', 'eûtes', 's', 'seras', 'aies', 'eusses', 'fus', 'fut', 'aurait', 'nos', 'avaient', 'auriez', 'tes', 't', 'sa', 'mes', 'fussions', 'été', 'votre', 'eussiez', 'ils', 'aie', 'eu', 'eues', 'sont', 'aviez', 'avez', 'je', 'ton', 'sommes', 'ai', 'eûmes', 'auras', 'mais', 'aurons', 'aurez', 'étées', 'en', 'même', 'ayante', 'd', 'ont', 'un', 'notre', 'furent', 'soyez', 'étant', 'par', 'la', 'et', 'sois', 'fussiez', 'as', 'fûmes', 'l', 'tu', 'm', 'seriez', 'qui', 'une', 'étants', 'ayant', 'à', 'se', 'mon', 'serons', 'de', 'aux', 'qu', 'serez', 'des', 'seraient', 'elle', 'eurent', 'étiez', 'eus', 'étantes', 'soit', 'ses', 'pas', 'seront', 'que', 'eux', 'avec', 'auront', 'étante', 'nous', 'soient', 'est', 'étaient', 'au', 'serait', 'moi', 'aurai', 'pour', 'fûtes', 'les', 'vous', 'soyons', 'ayants'}\n"
     ]
    }
   ],
   "source": [
    "print(stop_words1)"
   ]
  },
  {
   "cell_type": "code",
   "execution_count": 121,
   "metadata": {},
   "outputs": [
    {
     "name": "stdout",
     "output_type": "stream",
     "text": [
      "157\n"
     ]
    }
   ],
   "source": [
    "print(len(stop_words1))"
   ]
  },
  {
   "cell_type": "markdown",
   "metadata": {},
   "source": [
    "3. passons à  l'étape du pré-procéssing de notre data_texte"
   ]
  },
  {
   "cell_type": "code",
   "execution_count": 122,
   "metadata": {},
   "outputs": [
    {
     "name": "stdout",
     "output_type": "stream",
     "text": [
      "Texte nettoyé avec succès.\n"
     ]
    }
   ],
   "source": [
    "def preprocess_text(text):\n",
    "    text = text.lower()  # Conversion en minuscules\n",
    "    text = unidecode(text)  # Suppression des accents\n",
    "    text = re.sub(r'http\\S+', '', text)  # Suppression des URL\n",
    "    text = re.sub(r'[^a-z\\s]', '', text)  # Suppression des caractères spéciaux\n",
    "    text = re.sub(r'\\b\\w{1,2}\\b', '', text)  # Suppression des mots très courts (1-2 lettres)\n",
    "    text = re.sub(r'\\s+', ' ', text)  # Suppression des espaces multiples\n",
    "    words = text.split()  # Tokenisation\n",
    "    words = [word for word in words if word not in stop_words1]  # Suppression des stopwords\n",
    "    return ' '.join(words).split()\n",
    "\n",
    "# Appliquer le nettoyage avancé\n",
    "text_cleaned = preprocess_text(article_text1)\n",
    "print(\"Texte nettoyé avec succès.\")"
   ]
  },
  {
   "cell_type": "code",
   "execution_count": 123,
   "metadata": {},
   "outputs": [
    {
     "data": {
      "text/plain": [
       "['dangereuse',\n",
       " 'dynamique',\n",
       " 'soldes',\n",
       " 'cartes',\n",
       " 'credit',\n",
       " 'etatsunis',\n",
       " 'finance',\n",
       " 'tous',\n",
       " 'aller',\n",
       " 'menu',\n",
       " 'aller',\n",
       " 'contenu',\n",
       " 'aller',\n",
       " 'recherche',\n",
       " 'acceder',\n",
       " 'navigation',\n",
       " 'finance',\n",
       " 'tous',\n",
       " 'acceder',\n",
       " 'recherche',\n",
       " 'pratique',\n",
       " 'decryptages',\n",
       " 'enseignants',\n",
       " 'juniors',\n",
       " 'boutique',\n",
       " 'accueil',\n",
       " 'actualites',\n",
       " 'rechercher',\n",
       " 'rechercher',\n",
       " 'finance',\n",
       " 'tous',\n",
       " 'facebook',\n",
       " 'finance',\n",
       " 'tous',\n",
       " 'twitter',\n",
       " 'finance',\n",
       " 'tous',\n",
       " 'linkedin',\n",
       " 'finance',\n",
       " 'tous',\n",
       " 'instagram',\n",
       " 'finance',\n",
       " 'tous',\n",
       " 'youtube',\n",
       " 'finance',\n",
       " 'tous',\n",
       " 'tiktok',\n",
       " 'finance',\n",
       " 'tous',\n",
       " 'site',\n",
       " 'pedagogique',\n",
       " 'largent',\n",
       " 'finance',\n",
       " 'finance',\n",
       " 'tous',\n",
       " 'association',\n",
       " 'dinteret',\n",
       " 'general',\n",
       " 'creee',\n",
       " 'aider',\n",
       " 'chacun',\n",
       " 'sentir',\n",
       " 'plus',\n",
       " 'laise',\n",
       " 'questions',\n",
       " 'economiques',\n",
       " 'financieres',\n",
       " 'rechercher',\n",
       " 'rechercher',\n",
       " 'fermer',\n",
       " 'fermer',\n",
       " 'resultats',\n",
       " 'recherche',\n",
       " 'actualites',\n",
       " 'decryptages',\n",
       " 'dangereuse',\n",
       " 'dynamique',\n",
       " 'soldes',\n",
       " 'cartes',\n",
       " 'credit',\n",
       " 'etatsunis',\n",
       " 'dangereuse',\n",
       " 'dynamique',\n",
       " 'soldes',\n",
       " 'cartes',\n",
       " 'credit',\n",
       " 'etatsunis',\n",
       " 'septembre',\n",
       " 'finance',\n",
       " 'tous',\n",
       " 'facebook',\n",
       " 'facebook',\n",
       " 'messenger',\n",
       " 'linkedin',\n",
       " 'whatsapp',\n",
       " 'twitter',\n",
       " 'copier',\n",
       " 'lien',\n",
       " 'depuis',\n",
       " 'fin',\n",
       " 'lannee',\n",
       " 'plusieurs',\n",
       " 'voix',\n",
       " 'lindustrie',\n",
       " 'economique',\n",
       " 'financiere',\n",
       " 'salarment',\n",
       " 'dynamique',\n",
       " 'prets',\n",
       " 'consommation',\n",
       " 'etatsunis',\n",
       " 'bien',\n",
       " 'quune',\n",
       " 'nouvelle',\n",
       " 'crise',\n",
       " 'financiere',\n",
       " 'origine',\n",
       " 'prets',\n",
       " 'menages',\n",
       " 'joue',\n",
       " 'larlesienne',\n",
       " 'depuis',\n",
       " 'dizaine',\n",
       " 'dannees',\n",
       " 'dernieres',\n",
       " 'evolutions',\n",
       " 'laissent',\n",
       " 'presager',\n",
       " 'certain',\n",
       " 'nombre',\n",
       " 'difficultes',\n",
       " 'venir',\n",
       " 'laugmentation',\n",
       " 'taux',\n",
       " 'dimpayes',\n",
       " 'soldes',\n",
       " 'cartes',\n",
       " 'credit',\n",
       " 'particulier',\n",
       " 'coeur',\n",
       " 'inquietudes',\n",
       " 'petit',\n",
       " 'tour',\n",
       " 'dhorizon',\n",
       " 'fonctionnement',\n",
       " 'credit',\n",
       " 'consommation',\n",
       " 'usa',\n",
       " 'premiere',\n",
       " 'economie',\n",
       " 'monde',\n",
       " 'etatsunis',\n",
       " 'bien',\n",
       " 'plus',\n",
       " 'quen',\n",
       " 'france',\n",
       " 'credit',\n",
       " 'integre',\n",
       " 'habitudes',\n",
       " 'consommation',\n",
       " 'menages',\n",
       " 'marche',\n",
       " 'credit',\n",
       " 'immobilier',\n",
       " 'bien',\n",
       " 'entendu',\n",
       " 'tres',\n",
       " 'profond',\n",
       " 'difference',\n",
       " 'plus',\n",
       " 'notable',\n",
       " 'pays',\n",
       " 'deurope',\n",
       " 'concerne',\n",
       " 'credits',\n",
       " 'consommation',\n",
       " 'montant',\n",
       " 'depasse',\n",
       " 'present',\n",
       " 'milliards',\n",
       " 'dollars',\n",
       " 'environ',\n",
       " 'pib',\n",
       " 'americain',\n",
       " 'france',\n",
       " 'represente',\n",
       " 'environ',\n",
       " 'pib',\n",
       " 'parmi',\n",
       " 'credits',\n",
       " 'consommation',\n",
       " 'environ',\n",
       " 'milliards',\n",
       " 'soldes',\n",
       " 'carte',\n",
       " 'credit',\n",
       " 'comment',\n",
       " 'fonctionnent',\n",
       " 'cartes',\n",
       " 'credit',\n",
       " 'usa',\n",
       " 'lon',\n",
       " 'appelle',\n",
       " 'couramment',\n",
       " 'cartes',\n",
       " 'credit',\n",
       " 'france',\n",
       " 'fait',\n",
       " 'plupart',\n",
       " 'temps',\n",
       " 'cartes',\n",
       " 'debit',\n",
       " 'chaque',\n",
       " 'paiement',\n",
       " 'realise',\n",
       " 'montant',\n",
       " 'transaction',\n",
       " 'ponctionne',\n",
       " 'compte',\n",
       " 'courant',\n",
       " 'associe',\n",
       " 'carte',\n",
       " 'existe',\n",
       " 'bien',\n",
       " 'cartes',\n",
       " 'debit',\n",
       " 'differe',\n",
       " 'lon',\n",
       " 'appelle',\n",
       " 'cartes',\n",
       " 'credit',\n",
       " 'permettent',\n",
       " 'netre',\n",
       " 'ponctionne',\n",
       " 'montants',\n",
       " 'toutes',\n",
       " 'transactions',\n",
       " 'qua',\n",
       " 'fin',\n",
       " 'mois',\n",
       " 'voire',\n",
       " 'mois',\n",
       " 'suivant',\n",
       " 'cartes',\n",
       " 'credit',\n",
       " 'renouvelable',\n",
       " 'utilisees',\n",
       " 'etatsunis',\n",
       " 'bien',\n",
       " 'plus',\n",
       " 'rares',\n",
       " 'france',\n",
       " 'meme',\n",
       " 'elles',\n",
       " 'existent',\n",
       " 'souvent',\n",
       " 'associees',\n",
       " 'enseigne',\n",
       " 'commerciale',\n",
       " 'lire',\n",
       " 'aussi',\n",
       " 'siteles',\n",
       " 'cartes',\n",
       " 'ligne',\n",
       " 'creditune',\n",
       " 'carte',\n",
       " 'bancaire',\n",
       " 'credit',\n",
       " 'permet',\n",
       " 'retirer',\n",
       " 'especes',\n",
       " 'regler',\n",
       " 'achats',\n",
       " 'cartes',\n",
       " 'debit',\n",
       " 'differe',\n",
       " 'permettent',\n",
       " 'retarder',\n",
       " 'prelevement',\n",
       " 'cartes',\n",
       " 'credit',\n",
       " 'renouvelable',\n",
       " 'permettent',\n",
       " 'particuliers',\n",
       " 'demprunter',\n",
       " 'tirant',\n",
       " 'ligne',\n",
       " 'credit',\n",
       " 'dont',\n",
       " 'plafond',\n",
       " 'fixe',\n",
       " 'lavance',\n",
       " 'detenteur',\n",
       " 'peut',\n",
       " 'rembourser',\n",
       " 'credit',\n",
       " 'possible',\n",
       " 'peut',\n",
       " 'egalement',\n",
       " 'faire',\n",
       " 'courir',\n",
       " 'plusieurs',\n",
       " 'semaines',\n",
       " 'voire',\n",
       " 'plusieurs',\n",
       " 'mois',\n",
       " 'doit',\n",
       " 'simplement',\n",
       " 'sacquitter',\n",
       " 'dun',\n",
       " 'montant',\n",
       " 'mensuel',\n",
       " 'minimum',\n",
       " 'general',\n",
       " 'assez',\n",
       " 'faible',\n",
       " 'interets',\n",
       " 'alors',\n",
       " 'appliques',\n",
       " 'solde',\n",
       " 'restant',\n",
       " 'somme',\n",
       " 'cartes',\n",
       " 'credit',\n",
       " 'renouvelable',\n",
       " 'equivalentes',\n",
       " 'credits',\n",
       " 'consommation',\n",
       " 'flexibles',\n",
       " 'non',\n",
       " 'affectes',\n",
       " 'vers',\n",
       " 'depenses',\n",
       " 'particulier',\n",
       " 'elles',\n",
       " 'font',\n",
       " 'partie',\n",
       " 'habitudes',\n",
       " 'consommation',\n",
       " 'beaucoup',\n",
       " 'damericains',\n",
       " 'elles',\n",
       " 'permettent',\n",
       " 'plus',\n",
       " 'dune',\n",
       " 'flexibilite',\n",
       " 'remboursements',\n",
       " 'donc',\n",
       " 'depenses',\n",
       " 'beneficier',\n",
       " 'remises',\n",
       " 'achats',\n",
       " 'via',\n",
       " 'service',\n",
       " 'cashback',\n",
       " 'miles',\n",
       " 'aeriens',\n",
       " 'services',\n",
       " 'protection',\n",
       " 'achats',\n",
       " 'dassurances',\n",
       " 'voyages',\n",
       " 'nombreux',\n",
       " 'avantages',\n",
       " 'additionnels',\n",
       " 'contribuent',\n",
       " 'lutilisation',\n",
       " 'massive',\n",
       " 'cartes',\n",
       " 'credit',\n",
       " 'meme',\n",
       " 'chez',\n",
       " 'menages',\n",
       " 'modestes',\n",
       " 'comprenant',\n",
       " 'fonctionnement',\n",
       " 'interets',\n",
       " 'composes',\n",
       " 'quelles',\n",
       " 'dernieres',\n",
       " 'evolutions',\n",
       " 'concernant',\n",
       " 'cartes',\n",
       " 'credit',\n",
       " 'etatsunis',\n",
       " 'periode',\n",
       " 'postcovid',\n",
       " 'justement',\n",
       " 'marquee',\n",
       " 'forte',\n",
       " 'augmentation',\n",
       " 'soldes',\n",
       " 'carte',\n",
       " 'credit',\n",
       " 'faut',\n",
       " 'retourner',\n",
       " 'milieu',\n",
       " 'annees',\n",
       " 'retrouver',\n",
       " 'croissance',\n",
       " 'aussi',\n",
       " 'soutenue',\n",
       " 'source',\n",
       " 'principale',\n",
       " 'cette',\n",
       " 'hausse',\n",
       " 'bien',\n",
       " 'entendu',\n",
       " 'linflation',\n",
       " 'augmente',\n",
       " 'cout',\n",
       " 'vie',\n",
       " 'menages',\n",
       " 'dont',\n",
       " 'salaire',\n",
       " 'suit',\n",
       " 'souvent',\n",
       " 'retard',\n",
       " 'prix',\n",
       " 'entre',\n",
       " 'janvier',\n",
       " 'avril',\n",
       " 'prix',\n",
       " 'nourriture',\n",
       " 'augmente',\n",
       " 'cout',\n",
       " 'logement',\n",
       " 'salaires',\n",
       " 'seulement',\n",
       " 'souscrire',\n",
       " 'carte',\n",
       " 'credit',\n",
       " 'renouvelable',\n",
       " 'augmenter',\n",
       " 'solde',\n",
       " 'donc',\n",
       " 'court',\n",
       " 'terme',\n",
       " 'meilleur',\n",
       " 'moyen',\n",
       " 'faire',\n",
       " 'face',\n",
       " 'difficultes',\n",
       " 'tant',\n",
       " 'telle',\n",
       " 'croissance',\n",
       " 'credit',\n",
       " 'nest',\n",
       " 'toujours',\n",
       " 'signe',\n",
       " 'dun',\n",
       " 'emballement',\n",
       " 'cependant',\n",
       " 'ici',\n",
       " 'cette',\n",
       " 'hausse',\n",
       " 'correlee',\n",
       " 'forte',\n",
       " 'augmentation',\n",
       " 'taux',\n",
       " 'dinteret',\n",
       " 'associes',\n",
       " 'soldes',\n",
       " 'cartes',\n",
       " 'credit',\n",
       " 'derniers',\n",
       " 'maintenant',\n",
       " 'audela',\n",
       " 'peut',\n",
       " 'mener',\n",
       " 'menage',\n",
       " 'imprudent',\n",
       " 'voir',\n",
       " 'dettes',\n",
       " 'exploser',\n",
       " 'toute',\n",
       " 'vitesse',\n",
       " 'cette',\n",
       " 'hausse',\n",
       " 'taux',\n",
       " 'dinteret',\n",
       " 'suit',\n",
       " 'bien',\n",
       " 'tendance',\n",
       " 'generale',\n",
       " 'marches',\n",
       " 'impulsee',\n",
       " 'politique',\n",
       " 'monetaire',\n",
       " 'restrictive',\n",
       " 'reserve',\n",
       " 'federale',\n",
       " 'laisse',\n",
       " 'egalement',\n",
       " 'presager',\n",
       " 'solidite',\n",
       " 'financiere',\n",
       " 'menages',\n",
       " 'carte',\n",
       " 'credit',\n",
       " 'degrade',\n",
       " 'cette',\n",
       " 'degradation',\n",
       " 'peut',\n",
       " 'avoir',\n",
       " 'origine',\n",
       " 'conjoncture',\n",
       " 'economique',\n",
       " 'egalement',\n",
       " 'reflet',\n",
       " 'choix',\n",
       " 'banques',\n",
       " 'americaines',\n",
       " 'acceptent',\n",
       " 'financer',\n",
       " 'menages',\n",
       " 'plus',\n",
       " 'pauvres',\n",
       " 'fois',\n",
       " 'revenu',\n",
       " 'patrimoine',\n",
       " 'cartes',\n",
       " 'credit',\n",
       " 'cycle',\n",
       " 'dangereux',\n",
       " 'impayes',\n",
       " 'alarme',\n",
       " 'veritablement',\n",
       " 'commentateurs',\n",
       " 'cest',\n",
       " 'hausse',\n",
       " 'soutenue',\n",
       " 'taux',\n",
       " 'dimpayes',\n",
       " 'soldes',\n",
       " 'cartes',\n",
       " 'credit',\n",
       " 'sagit',\n",
       " 'pourcentage',\n",
       " 'demprunteurs',\n",
       " 'nayant',\n",
       " 'procede',\n",
       " 'versement',\n",
       " 'minimum',\n",
       " 'exige',\n",
       " 'souvent',\n",
       " 'mensuel',\n",
       " 'depasse',\n",
       " 'maintenant',\n",
       " 'lensemble',\n",
       " 'menages',\n",
       " 'jusqua',\n",
       " 'banques',\n",
       " 'plus',\n",
       " 'petites',\n",
       " 'taux',\n",
       " 'dimpayes',\n",
       " 'peut',\n",
       " 'sembler',\n",
       " 'raisonnable',\n",
       " 'cependant',\n",
       " 'plusieurs',\n",
       " 'points',\n",
       " 'negliger',\n",
       " 'tout',\n",
       " 'dabord',\n",
       " 'taux',\n",
       " 'nest',\n",
       " 'stabilise',\n",
       " 'peut',\n",
       " 'attendre',\n",
       " 'futures',\n",
       " 'hausses',\n",
       " 'surtout',\n",
       " 'taux',\n",
       " 'doit',\n",
       " 'etre',\n",
       " 'interprete',\n",
       " 'comme',\n",
       " 'signal',\n",
       " 'dinsolvabilite',\n",
       " 'certains',\n",
       " 'menages',\n",
       " 'meme',\n",
       " 'faible',\n",
       " 'nombre',\n",
       " 'menages',\n",
       " 'remboursant',\n",
       " 'leurs',\n",
       " 'dettes',\n",
       " 'peut',\n",
       " 'entrainer',\n",
       " 'chute',\n",
       " 'beaucoup',\n",
       " 'dautres',\n",
       " 'effet',\n",
       " 'domino',\n",
       " 'schematiser',\n",
       " 'menages',\n",
       " 'soldent',\n",
       " 'compte',\n",
       " 'alors',\n",
       " 'banques',\n",
       " 'augmenteraient',\n",
       " 'fortement',\n",
       " 'taux',\n",
       " 'dinteret',\n",
       " 'couvrir',\n",
       " 'pertes',\n",
       " 'desinciter',\n",
       " 'autres',\n",
       " 'menages',\n",
       " 'surendetter',\n",
       " 'cette',\n",
       " 'hausse',\n",
       " 'taux',\n",
       " 'rendrait',\n",
       " 'situation',\n",
       " 'nouveaux',\n",
       " 'menages',\n",
       " 'intenable',\n",
       " 'ainsi',\n",
       " 'suite',\n",
       " 'maniere',\n",
       " 'generale',\n",
       " 'monde',\n",
       " 'financier',\n",
       " 'effets',\n",
       " 'dominos',\n",
       " 'legion',\n",
       " 'convient',\n",
       " 'sousestimer',\n",
       " 'difficultes',\n",
       " 'acteurs',\n",
       " 'meme',\n",
       " 'elles',\n",
       " 'peuvent',\n",
       " 'apparaitre',\n",
       " 'comme',\n",
       " 'goutte',\n",
       " 'deau',\n",
       " 'locean',\n",
       " 'regulateurs',\n",
       " 'americains',\n",
       " 'semblent',\n",
       " 'linstant',\n",
       " 'considerer',\n",
       " 'situation',\n",
       " 'comme',\n",
       " 'stabilisee',\n",
       " 'choc',\n",
       " 'exterieur',\n",
       " 'menerait',\n",
       " 'exemple',\n",
       " 'nouvelle',\n",
       " 'hausse',\n",
       " 'prix',\n",
       " 'hausse',\n",
       " 'chomage',\n",
       " 'pourrait',\n",
       " 'rapidement',\n",
       " 'degrader',\n",
       " 'dailleurs',\n",
       " 'interessant',\n",
       " 'noter',\n",
       " 'taux',\n",
       " 'dimpayes',\n",
       " 'soldes',\n",
       " 'cartes',\n",
       " 'credit',\n",
       " 'nest',\n",
       " 'seul',\n",
       " 'inquieter',\n",
       " 'taux',\n",
       " 'defaillance',\n",
       " 'titres',\n",
       " 'adosses',\n",
       " 'creances',\n",
       " 'hypothecaires',\n",
       " 'commerciales',\n",
       " 'passe',\n",
       " 'audela',\n",
       " 'cet',\n",
       " 'ete',\n",
       " 'rappellerons',\n",
       " 'crise',\n",
       " 'subprimes',\n",
       " 'origine',\n",
       " 'nonremboursement',\n",
       " 'titres',\n",
       " 'adosses',\n",
       " 'creances',\n",
       " 'hypothecaires',\n",
       " 'residentielles',\n",
       " 'aller',\n",
       " 'plus',\n",
       " 'loin',\n",
       " 'juniors',\n",
       " 'crise',\n",
       " 'subprimes',\n",
       " 'declenchee',\n",
       " 'etatsunis',\n",
       " 'crise',\n",
       " 'subprimes',\n",
       " 'trouve',\n",
       " 'origine',\n",
       " 'exces',\n",
       " 'dendettement',\n",
       " 'particuliers',\n",
       " 'decryptages',\n",
       " 'risque',\n",
       " 'systemique',\n",
       " 'appelle',\n",
       " 'risque',\n",
       " 'systemique',\n",
       " 'risque',\n",
       " 'quun',\n",
       " 'evenement',\n",
       " 'particulier',\n",
       " 'entraine',\n",
       " 'reactions',\n",
       " 'chaine',\n",
       " 'effets',\n",
       " 'negatifs',\n",
       " 'considerables',\n",
       " 'decryptages',\n",
       " 'federal',\n",
       " 'reserve',\n",
       " 'system',\n",
       " 'fed',\n",
       " 'creee',\n",
       " 'decembre',\n",
       " 'federal',\n",
       " 'reserve',\n",
       " 'act',\n",
       " 'reaction',\n",
       " 'crise',\n",
       " 'financiere',\n",
       " 'autres',\n",
       " 'liens',\n",
       " 'bank',\n",
       " 'credit',\n",
       " 'risk',\n",
       " 'pdf',\n",
       " 'calculateurs',\n",
       " 'calculateur',\n",
       " 'tva',\n",
       " 'quiz',\n",
       " 'pourquoi',\n",
       " 'investir',\n",
       " 'long',\n",
       " 'terme',\n",
       " 'grand',\n",
       " 'prix',\n",
       " 'finance',\n",
       " 'tous',\n",
       " 'etudiants',\n",
       " 'participez',\n",
       " 'tenter',\n",
       " 'gagner',\n",
       " 'jusqua',\n",
       " 'envoyeznous',\n",
       " 'production',\n",
       " 'video',\n",
       " 'poesie',\n",
       " 'article',\n",
       " 'avant',\n",
       " 'mars',\n",
       " 'toutes',\n",
       " 'infos',\n",
       " 'grand',\n",
       " 'prix',\n",
       " 'newsletter',\n",
       " 'recevez',\n",
       " 'lettre',\n",
       " 'dinformation',\n",
       " 'mensuelle',\n",
       " 'completant',\n",
       " 'formulaire',\n",
       " 'acceptez',\n",
       " 'lassociation',\n",
       " 'iefp',\n",
       " 'traite',\n",
       " 'donnees',\n",
       " 'personnelles',\n",
       " 'seule',\n",
       " 'fin',\n",
       " 'permettre',\n",
       " 'recevoir',\n",
       " 'lettre',\n",
       " 'dinformation',\n",
       " 'mensuelle',\n",
       " 'savoir',\n",
       " 'plus',\n",
       " 'droits',\n",
       " 'pratiques',\n",
       " 'matiere',\n",
       " 'protection',\n",
       " 'donnees',\n",
       " 'personnelles',\n",
       " 'mentions',\n",
       " 'legales',\n",
       " 'adresse',\n",
       " 'email',\n",
       " 'navons',\n",
       " 'confirmer',\n",
       " 'inscription',\n",
       " 'inscription',\n",
       " 'confirmee',\n",
       " 'outils',\n",
       " 'questions',\n",
       " 'reponses',\n",
       " 'quiz',\n",
       " 'calculateurs',\n",
       " 'videotheque',\n",
       " 'infographies',\n",
       " 'bibliotheque',\n",
       " 'dictionnaire',\n",
       " 'propos',\n",
       " 'site',\n",
       " 'lafinancepourtouscom',\n",
       " 'edite',\n",
       " 'linstitut',\n",
       " 'leducation',\n",
       " 'financiere',\n",
       " 'public',\n",
       " 'iefp',\n",
       " 'association',\n",
       " 'dinteret',\n",
       " 'general',\n",
       " 'eligible',\n",
       " 'mecenat',\n",
       " 'agreee',\n",
       " 'ministere',\n",
       " 'leducation',\n",
       " 'nationale',\n",
       " 'liefp',\n",
       " 'ete',\n",
       " 'cree',\n",
       " 'aider',\n",
       " 'chacun',\n",
       " 'acquerir',\n",
       " 'bases',\n",
       " 'connaissances',\n",
       " 'necessaires',\n",
       " 'sentir',\n",
       " 'plus',\n",
       " 'laise',\n",
       " 'questions',\n",
       " 'financieres',\n",
       " 'comprendre',\n",
       " 'enjeux',\n",
       " 'economiques',\n",
       " 'monde',\n",
       " 'lequel',\n",
       " 'vivons',\n",
       " 'prendre',\n",
       " 'toute',\n",
       " 'connaissance',\n",
       " 'cause',\n",
       " 'decisions',\n",
       " 'concernent',\n",
       " 'savoir',\n",
       " 'sommesnous',\n",
       " 'partenaires',\n",
       " 'espace',\n",
       " 'presse',\n",
       " 'plan',\n",
       " 'site',\n",
       " 'contact',\n",
       " 'mentions',\n",
       " 'legales',\n",
       " 'gestion',\n",
       " 'cookies',\n",
       " 'finance',\n",
       " 'tous',\n",
       " 'facebook',\n",
       " 'finance',\n",
       " 'tous',\n",
       " 'twitter',\n",
       " 'finance',\n",
       " 'tous',\n",
       " 'linkedin',\n",
       " 'finance',\n",
       " 'tous',\n",
       " 'instagram',\n",
       " 'finance',\n",
       " 'tous',\n",
       " 'youtube',\n",
       " 'finance',\n",
       " 'tous',\n",
       " 'tiktok',\n",
       " 'pratique',\n",
       " 'accueil',\n",
       " 'actualites',\n",
       " 'offline',\n",
       " 'contact',\n",
       " 'fetchdictionary',\n",
       " 'mentions',\n",
       " 'legales',\n",
       " 'sitemap',\n",
       " 'plan',\n",
       " 'site',\n",
       " 'posez',\n",
       " 'question',\n",
       " 'quelques',\n",
       " 'chiffres',\n",
       " 'lepargne',\n",
       " 'salariale',\n",
       " 'pratique',\n",
       " 'decryptages',\n",
       " 'enseignants',\n",
       " 'juniors',\n",
       " 'boutique',\n",
       " 'sommesnous',\n",
       " 'outils',\n",
       " 'decryptages',\n",
       " 'accueil',\n",
       " 'actualites',\n",
       " 'offline',\n",
       " 'contact',\n",
       " 'fetchdictionary',\n",
       " 'mentions',\n",
       " 'legales',\n",
       " 'sitemap',\n",
       " 'plan',\n",
       " 'site',\n",
       " 'posez',\n",
       " 'question',\n",
       " 'quelques',\n",
       " 'chiffres',\n",
       " 'lepargne',\n",
       " 'salariale',\n",
       " 'pratique',\n",
       " 'decryptages',\n",
       " 'enseignants',\n",
       " 'juniors',\n",
       " 'boutique',\n",
       " 'sommesnous',\n",
       " 'outils',\n",
       " 'enseignants',\n",
       " 'accueil',\n",
       " 'actualites',\n",
       " 'offline',\n",
       " 'contact',\n",
       " 'fetchdictionary',\n",
       " 'mentions',\n",
       " 'legales',\n",
       " 'sitemap',\n",
       " 'plan',\n",
       " 'site',\n",
       " 'posez',\n",
       " 'question',\n",
       " 'quelques',\n",
       " 'chiffres',\n",
       " 'lepargne',\n",
       " 'salariale',\n",
       " 'pratique',\n",
       " 'decryptages',\n",
       " 'enseignants',\n",
       " 'juniors',\n",
       " 'boutique',\n",
       " 'sommesnous',\n",
       " 'outils',\n",
       " 'juniors',\n",
       " 'accueil',\n",
       " 'actualites',\n",
       " 'offline',\n",
       " 'contact',\n",
       " 'fetchdictionary',\n",
       " 'mentions',\n",
       " 'legales',\n",
       " 'sitemap',\n",
       " 'plan',\n",
       " 'site',\n",
       " 'posez',\n",
       " 'question',\n",
       " 'quelques',\n",
       " 'chiffres',\n",
       " 'lepargne',\n",
       " 'salariale',\n",
       " 'pratique',\n",
       " 'decryptages',\n",
       " 'enseignants',\n",
       " 'juniors',\n",
       " 'boutique',\n",
       " 'sommesnous',\n",
       " 'outils',\n",
       " 'boutique',\n",
       " 'accueil',\n",
       " 'actualites',\n",
       " 'offline',\n",
       " 'contact',\n",
       " 'fetchdictionary',\n",
       " 'mentions',\n",
       " 'legales',\n",
       " 'sitemap',\n",
       " 'plan',\n",
       " 'site',\n",
       " 'posez',\n",
       " ...]"
      ]
     },
     "execution_count": 123,
     "metadata": {},
     "output_type": "execute_result"
    }
   ],
   "source": [
    "text_cleaned"
   ]
  },
  {
   "cell_type": "markdown",
   "metadata": {},
   "source": [
    "Après la phase du pré_processing, le texte a été considérablement nettoyé, passant de 15141 termes bruts à seulement 1223 mots significatifs prêts pour l'analyse."
   ]
  },
  {
   "cell_type": "code",
   "execution_count": 124,
   "metadata": {},
   "outputs": [
    {
     "name": "stdout",
     "output_type": "stream",
     "text": [
      "Longueur des données brutes (concaténées) : 15141 caractères.\n",
      "Nombre de mots après prétraitement : 1223 mots.\n"
     ]
    }
   ],
   "source": [
    "print(f\"Longueur des données brutes (concaténées) : {len(article_text1)} caractères.\")\n",
    "print(f\"Nombre de mots après prétraitement : {len(text_cleaned)} mots.\")"
   ]
  },
  {
   "cell_type": "markdown",
   "metadata": {},
   "source": [
    "4.Phase de vectorisation\n",
    "\n",
    " Nous avons opter pour la technique de vectorisation tf-idf(Term-Frequency-Inverse Document Frequency), elle va nous permet de pondérer la fréquence de nos tokens en fonction de son importance relative . \n",
    "\n",
    " On calculera donc le score de chacun des mots dans notre (text_cleaned)"
   ]
  },
  {
   "cell_type": "code",
   "execution_count": 125,
   "metadata": {},
   "outputs": [],
   "source": [
    "from sklearn.feature_extraction.text import TfidfVectorizer\n",
    "\n",
    "\n",
    "tfidf_vectorizer = TfidfVectorizer(max_features=100,ngram_range=(1,2))\n",
    "tfidf_matrix = tfidf_vectorizer.fit_transform([' '.join(text_cleaned)])\n",
    "tdidf_df = pd.DataFrame(\n",
    "    tfidf_matrix.toarray(),\n",
    "    columns=tfidf_vectorizer.get_feature_names_out()\n",
    ")\n"
   ]
  },
  {
   "cell_type": "code",
   "execution_count": 126,
   "metadata": {},
   "outputs": [
    {
     "name": "stdout",
     "output_type": "stream",
     "text": [
      "['accueil' 'accueil actualites' 'actualites' 'actualites offline' 'aucun'\n",
      " 'aucun cookie' 'autoriser' 'autoriser refuser' 'bien' 'boutique'\n",
      " 'boutique sommesnous' 'carte' 'carte credit' 'cartes' 'cartes credit'\n",
      " 'cette' 'cette hausse' 'chiffres' 'chiffres lepargne' 'consommation'\n",
      " 'contact' 'contact fetchdictionary' 'cookie' 'cookie savoir' 'cookies'\n",
      " 'credit' 'credit etatsunis' 'credit renouvelable' 'crise' 'decryptages'\n",
      " 'decryptages enseignants' 'depose' 'depose aucun' 'dimpayes' 'dinteret'\n",
      " 'dynamique' 'enseignants' 'enseignants juniors' 'etatsunis' 'facebook'\n",
      " 'fetchdictionary' 'fetchdictionary mentions' 'finance' 'finance tous'\n",
      " 'financiere' 'france' 'hausse' 'juniors' 'juniors boutique' 'legales'\n",
      " 'legales sitemap' 'lepargne' 'lepargne salariale' 'menages' 'mentions'\n",
      " 'mentions legales' 'officiel' 'officiel autoriser' 'offline'\n",
      " 'offline contact' 'origine' 'outils' 'permettent' 'peut' 'plan'\n",
      " 'plan site' 'plus' 'plus voir' 'posez' 'posez question' 'pratique'\n",
      " 'pratique decryptages' 'prix' 'quelques' 'quelques chiffres' 'question'\n",
      " 'question quelques' 'recherche' 'refuser' 'salariale'\n",
      " 'salariale pratique' 'savoir' 'savoir plus' 'service' 'service depose'\n",
      " 'services' 'site' 'site officiel' 'site posez' 'sitemap' 'sitemap plan'\n",
      " 'soldes' 'soldes cartes' 'sommesnous' 'sommesnous outils' 'taux'\n",
      " 'taux dimpayes' 'tous' 'voir' 'voir site']\n"
     ]
    }
   ],
   "source": [
    "print(tfidf_vectorizer.get_feature_names_out())"
   ]
  },
  {
   "cell_type": "code",
   "execution_count": 127,
   "metadata": {},
   "outputs": [
    {
     "name": "stdout",
     "output_type": "stream",
     "text": [
      "                  Mot  Fréquence\n",
      "0             accueil   0.074029\n",
      "1  accueil actualites   0.074029\n",
      "2          actualites   0.098705\n",
      "3  actualites offline   0.061691\n",
      "4               aucun   0.061691\n"
     ]
    }
   ],
   "source": [
    "# Conversion en DataFrame avec les mots comme lignes et leurs fréquences\n",
    "tdidf_df = pd.DataFrame(tdidf_df.sum(axis=0), columns=['Fréquence']).reset_index()\n",
    "tdidf_df.rename(columns={'index': 'Mot'}, inplace=True)\n",
    "\n",
    "# Vérification des colonnes\n",
    "print(tdidf_df.head())"
   ]
  },
  {
   "cell_type": "code",
   "execution_count": 128,
   "metadata": {},
   "outputs": [],
   "source": [
    "stop_words = list(stop_words1)\n",
    "# Liste des stop words à exclure\n",
    "stop_words.extend([\n",
    "    'accueil actualites','actualites offline','aucun','aucun cookie', 'bien','boutique sommesnous','cette','chiffres lepargne',\n",
    "   'contact fetchdictionary', 'cookie','cookie savoir', 'cookies', 'decryptages enseignants','depose','depose aucun','dimpayes',\n",
    "   'enseignants juniors' ,'fetchdictionary' ,'fetchdictionary mentions' ,'finance tous', 'juniors','juniors boutique',\n",
    "    'legales sitemap', 'mentions','mentions legales','officiel autoriser','offline contact','permettent' ,\n",
    "    'plus', 'plus voir', 'posez', 'posez question' ,'quelques', 'question quelques', 'salariale pratique', 'savoir' ,'savoir plus',\n",
    "      'service', 'service depose','site posez' ,'sitemap' ,'sitemap plan', 'sommesnous', 'sommesnous outils',\n",
    "      'taux dimpayes', 'tous', 'voir' ,'voir site','plan'\n",
    "])\n",
    "\n",
    "# Filtrage des mots pertinents\n",
    "filtered_tdidf_df = tdidf_df[\n",
    "    (tdidf_df['Fréquence'] > 0.05) &  # Fréquence minimale\n",
    "    (tdidf_df['Fréquence'] < 0.5) &  # Fréquence maximale\n",
    "    (tdidf_df['Mot'].str.len().between(4, 15)) &  # Longueur des mots\n",
    "    (~tdidf_df['Mot'].str.contains(r'[^a-zA-Zéèêàùç]', regex=True)) &  # Exclusion des mots avec caractères spéciaux\n",
    "    (~tdidf_df['Mot'].isin(stop_words1))  # Exclusion des stopwords\n",
    "]"
   ]
  },
  {
   "cell_type": "code",
   "execution_count": 129,
   "metadata": {},
   "outputs": [
    {
     "name": "stdout",
     "output_type": "stream",
     "text": [
      "                Mot  Fréquence\n",
      "0           accueil   0.074029\n",
      "2        actualites   0.098705\n",
      "4             aucun   0.061691\n",
      "6         autoriser   0.074029\n",
      "8              bien   0.086367\n",
      "9          boutique   0.086367\n",
      "11            carte   0.074029\n",
      "13           cartes   0.246763\n",
      "15            cette   0.061691\n",
      "17         chiffres   0.061691\n",
      "19     consommation   0.086367\n",
      "20          contact   0.086367\n",
      "22           cookie   0.061691\n",
      "24          cookies   0.098705\n",
      "25           credit   0.345468\n",
      "28            crise   0.061691\n",
      "29      decryptages   0.123382\n",
      "31           depose   0.061691\n",
      "34         dinteret   0.061691\n",
      "36      enseignants   0.086367\n",
      "38        etatsunis   0.098705\n",
      "39         facebook   0.061691\n",
      "40  fetchdictionary   0.061691\n",
      "42          finance   0.234425\n",
      "44       financiere   0.061691\n",
      "46           hausse   0.086367\n",
      "47          juniors   0.098705\n",
      "49          legales   0.086367\n",
      "51         lepargne   0.061691\n",
      "53          menages   0.148058\n",
      "54         mentions   0.086367\n",
      "56         officiel   0.061691\n",
      "58          offline   0.061691\n",
      "61           outils   0.074029\n",
      "62       permettent   0.123382\n",
      "63             peut   0.086367\n",
      "64             plan   0.074029\n",
      "66             plus   0.185072\n",
      "68            posez   0.061691\n",
      "70         pratique   0.086367\n",
      "72             prix   0.061691\n",
      "73         quelques   0.061691\n",
      "75         question   0.061691\n",
      "78          refuser   0.086367\n",
      "79        salariale   0.061691\n",
      "81           savoir   0.086367\n",
      "83          service   0.074029\n",
      "85         services   0.086367\n",
      "86             site   0.259101\n",
      "89          sitemap   0.061691\n",
      "91           soldes   0.111043\n",
      "93       sommesnous   0.074029\n",
      "95             taux   0.135720\n",
      "97             tous   0.271440\n",
      "98             voir   0.074029\n"
     ]
    }
   ],
   "source": [
    "# affichage de la frequence du IF-IDF par colonne\n",
    "pd.set_option(\"display.max_columns\", None)  \n",
    "pd.set_option(\"display.width\", None)       \n",
    "print(filtered_tdidf_df)"
   ]
  },
  {
   "cell_type": "code",
   "execution_count": 130,
   "metadata": {},
   "outputs": [
    {
     "data": {
      "application/vnd.plotly.v1+json": {
       "config": {
        "plotlyServerURL": "https://plot.ly"
       },
       "data": [
        {
         "alignmentgroup": "True",
         "hovertemplate": "<b>%{hovertext}</b><br><br>Mot=%{x}<br>Fréquence=%{marker.color}<extra></extra>",
         "hovertext": [
          "accueil",
          "actualites",
          "aucun",
          "autoriser",
          "bien",
          "boutique",
          "carte",
          "cartes",
          "cette",
          "chiffres",
          "consommation",
          "contact",
          "cookie",
          "cookies",
          "credit",
          "crise",
          "decryptages",
          "depose",
          "dinteret",
          "enseignants",
          "etatsunis",
          "facebook",
          "fetchdictionary",
          "finance",
          "financiere",
          "hausse",
          "juniors",
          "legales",
          "lepargne",
          "menages",
          "mentions",
          "officiel",
          "offline",
          "outils",
          "permettent",
          "peut",
          "plan",
          "plus",
          "posez",
          "pratique",
          "prix",
          "quelques",
          "question",
          "refuser",
          "salariale",
          "savoir",
          "service",
          "services",
          "site",
          "sitemap",
          "soldes",
          "sommesnous",
          "taux",
          "tous",
          "voir"
         ],
         "legendgroup": "",
         "marker": {
          "color": [
           0.07402895509679572,
           0.0987052734623943,
           0.061690795913996434,
           0.07402895509679572,
           0.08636711427959501,
           0.08636711427959501,
           0.07402895509679572,
           0.24676318365598574,
           0.061690795913996434,
           0.061690795913996434,
           0.08636711427959501,
           0.08636711427959501,
           0.061690795913996434,
           0.0987052734623943,
           0.34546845711838003,
           0.061690795913996434,
           0.12338159182799287,
           0.061690795913996434,
           0.061690795913996434,
           0.08636711427959501,
           0.0987052734623943,
           0.061690795913996434,
           0.061690795913996434,
           0.23442502447318644,
           0.061690795913996434,
           0.08636711427959501,
           0.0987052734623943,
           0.08636711427959501,
           0.061690795913996434,
           0.14805791019359144,
           0.08636711427959501,
           0.061690795913996434,
           0.061690795913996434,
           0.07402895509679572,
           0.12338159182799287,
           0.08636711427959501,
           0.07402895509679572,
           0.1850723877419893,
           0.061690795913996434,
           0.08636711427959501,
           0.061690795913996434,
           0.061690795913996434,
           0.061690795913996434,
           0.08636711427959501,
           0.061690795913996434,
           0.08636711427959501,
           0.07402895509679572,
           0.08636711427959501,
           0.259101342838785,
           0.061690795913996434,
           0.11104343264519358,
           0.07402895509679572,
           0.13571975101079214,
           0.2714395020215843,
           0.07402895509679572
          ],
          "coloraxis": "coloraxis",
          "pattern": {
           "shape": ""
          }
         },
         "name": "",
         "offsetgroup": "",
         "orientation": "v",
         "showlegend": false,
         "text": [
          0.07402895509679572,
          0.0987052734623943,
          0.061690795913996434,
          0.07402895509679572,
          0.08636711427959501,
          0.08636711427959501,
          0.07402895509679572,
          0.24676318365598574,
          0.061690795913996434,
          0.061690795913996434,
          0.08636711427959501,
          0.08636711427959501,
          0.061690795913996434,
          0.0987052734623943,
          0.34546845711838003,
          0.061690795913996434,
          0.12338159182799287,
          0.061690795913996434,
          0.061690795913996434,
          0.08636711427959501,
          0.0987052734623943,
          0.061690795913996434,
          0.061690795913996434,
          0.23442502447318644,
          0.061690795913996434,
          0.08636711427959501,
          0.0987052734623943,
          0.08636711427959501,
          0.061690795913996434,
          0.14805791019359144,
          0.08636711427959501,
          0.061690795913996434,
          0.061690795913996434,
          0.07402895509679572,
          0.12338159182799287,
          0.08636711427959501,
          0.07402895509679572,
          0.1850723877419893,
          0.061690795913996434,
          0.08636711427959501,
          0.061690795913996434,
          0.061690795913996434,
          0.061690795913996434,
          0.08636711427959501,
          0.061690795913996434,
          0.08636711427959501,
          0.07402895509679572,
          0.08636711427959501,
          0.259101342838785,
          0.061690795913996434,
          0.11104343264519358,
          0.07402895509679572,
          0.13571975101079214,
          0.2714395020215843,
          0.07402895509679572
         ],
         "textposition": "outside",
         "type": "bar",
         "x": [
          "accueil",
          "actualites",
          "aucun",
          "autoriser",
          "bien",
          "boutique",
          "carte",
          "cartes",
          "cette",
          "chiffres",
          "consommation",
          "contact",
          "cookie",
          "cookies",
          "credit",
          "crise",
          "decryptages",
          "depose",
          "dinteret",
          "enseignants",
          "etatsunis",
          "facebook",
          "fetchdictionary",
          "finance",
          "financiere",
          "hausse",
          "juniors",
          "legales",
          "lepargne",
          "menages",
          "mentions",
          "officiel",
          "offline",
          "outils",
          "permettent",
          "peut",
          "plan",
          "plus",
          "posez",
          "pratique",
          "prix",
          "quelques",
          "question",
          "refuser",
          "salariale",
          "savoir",
          "service",
          "services",
          "site",
          "sitemap",
          "soldes",
          "sommesnous",
          "taux",
          "tous",
          "voir"
         ],
         "xaxis": "x",
         "y": [
          0.07402895509679572,
          0.0987052734623943,
          0.061690795913996434,
          0.07402895509679572,
          0.08636711427959501,
          0.08636711427959501,
          0.07402895509679572,
          0.24676318365598574,
          0.061690795913996434,
          0.061690795913996434,
          0.08636711427959501,
          0.08636711427959501,
          0.061690795913996434,
          0.0987052734623943,
          0.34546845711838003,
          0.061690795913996434,
          0.12338159182799287,
          0.061690795913996434,
          0.061690795913996434,
          0.08636711427959501,
          0.0987052734623943,
          0.061690795913996434,
          0.061690795913996434,
          0.23442502447318644,
          0.061690795913996434,
          0.08636711427959501,
          0.0987052734623943,
          0.08636711427959501,
          0.061690795913996434,
          0.14805791019359144,
          0.08636711427959501,
          0.061690795913996434,
          0.061690795913996434,
          0.07402895509679572,
          0.12338159182799287,
          0.08636711427959501,
          0.07402895509679572,
          0.1850723877419893,
          0.061690795913996434,
          0.08636711427959501,
          0.061690795913996434,
          0.061690795913996434,
          0.061690795913996434,
          0.08636711427959501,
          0.061690795913996434,
          0.08636711427959501,
          0.07402895509679572,
          0.08636711427959501,
          0.259101342838785,
          0.061690795913996434,
          0.11104343264519358,
          0.07402895509679572,
          0.13571975101079214,
          0.2714395020215843,
          0.07402895509679572
         ],
         "yaxis": "y"
        }
       ],
       "layout": {
        "barmode": "relative",
        "coloraxis": {
         "colorbar": {
          "title": {
           "text": "Fréquence"
          }
         },
         "colorscale": [
          [
           0,
           "#0d0887"
          ],
          [
           0.1111111111111111,
           "#46039f"
          ],
          [
           0.2222222222222222,
           "#7201a8"
          ],
          [
           0.3333333333333333,
           "#9c179e"
          ],
          [
           0.4444444444444444,
           "#bd3786"
          ],
          [
           0.5555555555555556,
           "#d8576b"
          ],
          [
           0.6666666666666666,
           "#ed7953"
          ],
          [
           0.7777777777777778,
           "#fb9f3a"
          ],
          [
           0.8888888888888888,
           "#fdca26"
          ],
          [
           1,
           "#f0f921"
          ]
         ]
        },
        "legend": {
         "tracegroupgap": 0
        },
        "margin": {
         "b": 120,
         "l": 40,
         "r": 20,
         "t": 40
        },
        "template": {
         "data": {
          "bar": [
           {
            "error_x": {
             "color": "#2a3f5f"
            },
            "error_y": {
             "color": "#2a3f5f"
            },
            "marker": {
             "line": {
              "color": "#E5ECF6",
              "width": 0.5
             },
             "pattern": {
              "fillmode": "overlay",
              "size": 10,
              "solidity": 0.2
             }
            },
            "type": "bar"
           }
          ],
          "barpolar": [
           {
            "marker": {
             "line": {
              "color": "#E5ECF6",
              "width": 0.5
             },
             "pattern": {
              "fillmode": "overlay",
              "size": 10,
              "solidity": 0.2
             }
            },
            "type": "barpolar"
           }
          ],
          "carpet": [
           {
            "aaxis": {
             "endlinecolor": "#2a3f5f",
             "gridcolor": "white",
             "linecolor": "white",
             "minorgridcolor": "white",
             "startlinecolor": "#2a3f5f"
            },
            "baxis": {
             "endlinecolor": "#2a3f5f",
             "gridcolor": "white",
             "linecolor": "white",
             "minorgridcolor": "white",
             "startlinecolor": "#2a3f5f"
            },
            "type": "carpet"
           }
          ],
          "choropleth": [
           {
            "colorbar": {
             "outlinewidth": 0,
             "ticks": ""
            },
            "type": "choropleth"
           }
          ],
          "contour": [
           {
            "colorbar": {
             "outlinewidth": 0,
             "ticks": ""
            },
            "colorscale": [
             [
              0,
              "#0d0887"
             ],
             [
              0.1111111111111111,
              "#46039f"
             ],
             [
              0.2222222222222222,
              "#7201a8"
             ],
             [
              0.3333333333333333,
              "#9c179e"
             ],
             [
              0.4444444444444444,
              "#bd3786"
             ],
             [
              0.5555555555555556,
              "#d8576b"
             ],
             [
              0.6666666666666666,
              "#ed7953"
             ],
             [
              0.7777777777777778,
              "#fb9f3a"
             ],
             [
              0.8888888888888888,
              "#fdca26"
             ],
             [
              1,
              "#f0f921"
             ]
            ],
            "type": "contour"
           }
          ],
          "contourcarpet": [
           {
            "colorbar": {
             "outlinewidth": 0,
             "ticks": ""
            },
            "type": "contourcarpet"
           }
          ],
          "heatmap": [
           {
            "colorbar": {
             "outlinewidth": 0,
             "ticks": ""
            },
            "colorscale": [
             [
              0,
              "#0d0887"
             ],
             [
              0.1111111111111111,
              "#46039f"
             ],
             [
              0.2222222222222222,
              "#7201a8"
             ],
             [
              0.3333333333333333,
              "#9c179e"
             ],
             [
              0.4444444444444444,
              "#bd3786"
             ],
             [
              0.5555555555555556,
              "#d8576b"
             ],
             [
              0.6666666666666666,
              "#ed7953"
             ],
             [
              0.7777777777777778,
              "#fb9f3a"
             ],
             [
              0.8888888888888888,
              "#fdca26"
             ],
             [
              1,
              "#f0f921"
             ]
            ],
            "type": "heatmap"
           }
          ],
          "heatmapgl": [
           {
            "colorbar": {
             "outlinewidth": 0,
             "ticks": ""
            },
            "colorscale": [
             [
              0,
              "#0d0887"
             ],
             [
              0.1111111111111111,
              "#46039f"
             ],
             [
              0.2222222222222222,
              "#7201a8"
             ],
             [
              0.3333333333333333,
              "#9c179e"
             ],
             [
              0.4444444444444444,
              "#bd3786"
             ],
             [
              0.5555555555555556,
              "#d8576b"
             ],
             [
              0.6666666666666666,
              "#ed7953"
             ],
             [
              0.7777777777777778,
              "#fb9f3a"
             ],
             [
              0.8888888888888888,
              "#fdca26"
             ],
             [
              1,
              "#f0f921"
             ]
            ],
            "type": "heatmapgl"
           }
          ],
          "histogram": [
           {
            "marker": {
             "pattern": {
              "fillmode": "overlay",
              "size": 10,
              "solidity": 0.2
             }
            },
            "type": "histogram"
           }
          ],
          "histogram2d": [
           {
            "colorbar": {
             "outlinewidth": 0,
             "ticks": ""
            },
            "colorscale": [
             [
              0,
              "#0d0887"
             ],
             [
              0.1111111111111111,
              "#46039f"
             ],
             [
              0.2222222222222222,
              "#7201a8"
             ],
             [
              0.3333333333333333,
              "#9c179e"
             ],
             [
              0.4444444444444444,
              "#bd3786"
             ],
             [
              0.5555555555555556,
              "#d8576b"
             ],
             [
              0.6666666666666666,
              "#ed7953"
             ],
             [
              0.7777777777777778,
              "#fb9f3a"
             ],
             [
              0.8888888888888888,
              "#fdca26"
             ],
             [
              1,
              "#f0f921"
             ]
            ],
            "type": "histogram2d"
           }
          ],
          "histogram2dcontour": [
           {
            "colorbar": {
             "outlinewidth": 0,
             "ticks": ""
            },
            "colorscale": [
             [
              0,
              "#0d0887"
             ],
             [
              0.1111111111111111,
              "#46039f"
             ],
             [
              0.2222222222222222,
              "#7201a8"
             ],
             [
              0.3333333333333333,
              "#9c179e"
             ],
             [
              0.4444444444444444,
              "#bd3786"
             ],
             [
              0.5555555555555556,
              "#d8576b"
             ],
             [
              0.6666666666666666,
              "#ed7953"
             ],
             [
              0.7777777777777778,
              "#fb9f3a"
             ],
             [
              0.8888888888888888,
              "#fdca26"
             ],
             [
              1,
              "#f0f921"
             ]
            ],
            "type": "histogram2dcontour"
           }
          ],
          "mesh3d": [
           {
            "colorbar": {
             "outlinewidth": 0,
             "ticks": ""
            },
            "type": "mesh3d"
           }
          ],
          "parcoords": [
           {
            "line": {
             "colorbar": {
              "outlinewidth": 0,
              "ticks": ""
             }
            },
            "type": "parcoords"
           }
          ],
          "pie": [
           {
            "automargin": true,
            "type": "pie"
           }
          ],
          "scatter": [
           {
            "fillpattern": {
             "fillmode": "overlay",
             "size": 10,
             "solidity": 0.2
            },
            "type": "scatter"
           }
          ],
          "scatter3d": [
           {
            "line": {
             "colorbar": {
              "outlinewidth": 0,
              "ticks": ""
             }
            },
            "marker": {
             "colorbar": {
              "outlinewidth": 0,
              "ticks": ""
             }
            },
            "type": "scatter3d"
           }
          ],
          "scattercarpet": [
           {
            "marker": {
             "colorbar": {
              "outlinewidth": 0,
              "ticks": ""
             }
            },
            "type": "scattercarpet"
           }
          ],
          "scattergeo": [
           {
            "marker": {
             "colorbar": {
              "outlinewidth": 0,
              "ticks": ""
             }
            },
            "type": "scattergeo"
           }
          ],
          "scattergl": [
           {
            "marker": {
             "colorbar": {
              "outlinewidth": 0,
              "ticks": ""
             }
            },
            "type": "scattergl"
           }
          ],
          "scattermapbox": [
           {
            "marker": {
             "colorbar": {
              "outlinewidth": 0,
              "ticks": ""
             }
            },
            "type": "scattermapbox"
           }
          ],
          "scatterpolar": [
           {
            "marker": {
             "colorbar": {
              "outlinewidth": 0,
              "ticks": ""
             }
            },
            "type": "scatterpolar"
           }
          ],
          "scatterpolargl": [
           {
            "marker": {
             "colorbar": {
              "outlinewidth": 0,
              "ticks": ""
             }
            },
            "type": "scatterpolargl"
           }
          ],
          "scatterternary": [
           {
            "marker": {
             "colorbar": {
              "outlinewidth": 0,
              "ticks": ""
             }
            },
            "type": "scatterternary"
           }
          ],
          "surface": [
           {
            "colorbar": {
             "outlinewidth": 0,
             "ticks": ""
            },
            "colorscale": [
             [
              0,
              "#0d0887"
             ],
             [
              0.1111111111111111,
              "#46039f"
             ],
             [
              0.2222222222222222,
              "#7201a8"
             ],
             [
              0.3333333333333333,
              "#9c179e"
             ],
             [
              0.4444444444444444,
              "#bd3786"
             ],
             [
              0.5555555555555556,
              "#d8576b"
             ],
             [
              0.6666666666666666,
              "#ed7953"
             ],
             [
              0.7777777777777778,
              "#fb9f3a"
             ],
             [
              0.8888888888888888,
              "#fdca26"
             ],
             [
              1,
              "#f0f921"
             ]
            ],
            "type": "surface"
           }
          ],
          "table": [
           {
            "cells": {
             "fill": {
              "color": "#EBF0F8"
             },
             "line": {
              "color": "white"
             }
            },
            "header": {
             "fill": {
              "color": "#C8D4E3"
             },
             "line": {
              "color": "white"
             }
            },
            "type": "table"
           }
          ]
         },
         "layout": {
          "annotationdefaults": {
           "arrowcolor": "#2a3f5f",
           "arrowhead": 0,
           "arrowwidth": 1
          },
          "autotypenumbers": "strict",
          "coloraxis": {
           "colorbar": {
            "outlinewidth": 0,
            "ticks": ""
           }
          },
          "colorscale": {
           "diverging": [
            [
             0,
             "#8e0152"
            ],
            [
             0.1,
             "#c51b7d"
            ],
            [
             0.2,
             "#de77ae"
            ],
            [
             0.3,
             "#f1b6da"
            ],
            [
             0.4,
             "#fde0ef"
            ],
            [
             0.5,
             "#f7f7f7"
            ],
            [
             0.6,
             "#e6f5d0"
            ],
            [
             0.7,
             "#b8e186"
            ],
            [
             0.8,
             "#7fbc41"
            ],
            [
             0.9,
             "#4d9221"
            ],
            [
             1,
             "#276419"
            ]
           ],
           "sequential": [
            [
             0,
             "#0d0887"
            ],
            [
             0.1111111111111111,
             "#46039f"
            ],
            [
             0.2222222222222222,
             "#7201a8"
            ],
            [
             0.3333333333333333,
             "#9c179e"
            ],
            [
             0.4444444444444444,
             "#bd3786"
            ],
            [
             0.5555555555555556,
             "#d8576b"
            ],
            [
             0.6666666666666666,
             "#ed7953"
            ],
            [
             0.7777777777777778,
             "#fb9f3a"
            ],
            [
             0.8888888888888888,
             "#fdca26"
            ],
            [
             1,
             "#f0f921"
            ]
           ],
           "sequentialminus": [
            [
             0,
             "#0d0887"
            ],
            [
             0.1111111111111111,
             "#46039f"
            ],
            [
             0.2222222222222222,
             "#7201a8"
            ],
            [
             0.3333333333333333,
             "#9c179e"
            ],
            [
             0.4444444444444444,
             "#bd3786"
            ],
            [
             0.5555555555555556,
             "#d8576b"
            ],
            [
             0.6666666666666666,
             "#ed7953"
            ],
            [
             0.7777777777777778,
             "#fb9f3a"
            ],
            [
             0.8888888888888888,
             "#fdca26"
            ],
            [
             1,
             "#f0f921"
            ]
           ]
          },
          "colorway": [
           "#636efa",
           "#EF553B",
           "#00cc96",
           "#ab63fa",
           "#FFA15A",
           "#19d3f3",
           "#FF6692",
           "#B6E880",
           "#FF97FF",
           "#FECB52"
          ],
          "font": {
           "color": "#2a3f5f"
          },
          "geo": {
           "bgcolor": "white",
           "lakecolor": "white",
           "landcolor": "#E5ECF6",
           "showlakes": true,
           "showland": true,
           "subunitcolor": "white"
          },
          "hoverlabel": {
           "align": "left"
          },
          "hovermode": "closest",
          "mapbox": {
           "style": "light"
          },
          "paper_bgcolor": "white",
          "plot_bgcolor": "#E5ECF6",
          "polar": {
           "angularaxis": {
            "gridcolor": "white",
            "linecolor": "white",
            "ticks": ""
           },
           "bgcolor": "#E5ECF6",
           "radialaxis": {
            "gridcolor": "white",
            "linecolor": "white",
            "ticks": ""
           }
          },
          "scene": {
           "xaxis": {
            "backgroundcolor": "#E5ECF6",
            "gridcolor": "white",
            "gridwidth": 2,
            "linecolor": "white",
            "showbackground": true,
            "ticks": "",
            "zerolinecolor": "white"
           },
           "yaxis": {
            "backgroundcolor": "#E5ECF6",
            "gridcolor": "white",
            "gridwidth": 2,
            "linecolor": "white",
            "showbackground": true,
            "ticks": "",
            "zerolinecolor": "white"
           },
           "zaxis": {
            "backgroundcolor": "#E5ECF6",
            "gridcolor": "white",
            "gridwidth": 2,
            "linecolor": "white",
            "showbackground": true,
            "ticks": "",
            "zerolinecolor": "white"
           }
          },
          "shapedefaults": {
           "line": {
            "color": "#2a3f5f"
           }
          },
          "ternary": {
           "aaxis": {
            "gridcolor": "white",
            "linecolor": "white",
            "ticks": ""
           },
           "baxis": {
            "gridcolor": "white",
            "linecolor": "white",
            "ticks": ""
           },
           "bgcolor": "#E5ECF6",
           "caxis": {
            "gridcolor": "white",
            "linecolor": "white",
            "ticks": ""
           }
          },
          "title": {
           "x": 0.05
          },
          "xaxis": {
           "automargin": true,
           "gridcolor": "white",
           "linecolor": "white",
           "ticks": "",
           "title": {
            "standoff": 15
           },
           "zerolinecolor": "white",
           "zerolinewidth": 2
          },
          "yaxis": {
           "automargin": true,
           "gridcolor": "white",
           "linecolor": "white",
           "ticks": "",
           "title": {
            "standoff": 15
           },
           "zerolinecolor": "white",
           "zerolinewidth": 2
          }
         }
        },
        "title": {
         "text": "Fréquence des mots pertinents (TF-IDF)"
        },
        "xaxis": {
         "anchor": "y",
         "domain": [
          0,
          1
         ],
         "tickangle": 45,
         "title": {
          "text": "Mots"
         }
        },
        "yaxis": {
         "anchor": "x",
         "domain": [
          0,
          1
         ],
         "title": {
          "text": "Fréquence"
         }
        }
       }
      }
     },
     "metadata": {},
     "output_type": "display_data"
    }
   ],
   "source": [
    "import plotly.express as px\n",
    "\n",
    "# Créer un graphique avec les mots pertinents\n",
    "fig = px.bar(filtered_tdidf_df, x='Mot', y='Fréquence', title=\"Fréquence des mots pertinents (TF-IDF)\",\n",
    "             text='Fréquence', color='Fréquence', hover_name='Mot')\n",
    "\n",
    "# Personnaliser le graphique\n",
    "fig.update_traces(textposition='outside')\n",
    "fig.update_layout(\n",
    "    xaxis_title='Mots', yaxis_title='Fréquence',\n",
    "    xaxis=dict(tickangle=45),\n",
    "    margin=dict(l=40, r=20, t=40, b=120)\n",
    ")\n",
    "\n",
    "# Afficher le graphique\n",
    "fig.show()\n"
   ]
  },
  {
   "cell_type": "code",
   "execution_count": 131,
   "metadata": {},
   "outputs": [
    {
     "data": {
      "application/vnd.plotly.v1+json": {
       "config": {
        "plotlyServerURL": "https://plot.ly"
       },
       "data": [
        {
         "hovertemplate": "x: %{x}<br>y: %{y}<br>color: [%{z[0]}, %{z[1]}, %{z[2]}]<extra></extra>",
         "name": "0",
         "source": "data:image/png;base64,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",
         "type": "image",
         "xaxis": "x",
         "yaxis": "y"
        }
       ],
       "layout": {
        "coloraxis": {
         "showscale": false
        },
        "margin": {
         "b": 0,
         "l": 0,
         "r": 0,
         "t": 0
        },
        "template": {
         "data": {
          "bar": [
           {
            "error_x": {
             "color": "#2a3f5f"
            },
            "error_y": {
             "color": "#2a3f5f"
            },
            "marker": {
             "line": {
              "color": "#E5ECF6",
              "width": 0.5
             },
             "pattern": {
              "fillmode": "overlay",
              "size": 10,
              "solidity": 0.2
             }
            },
            "type": "bar"
           }
          ],
          "barpolar": [
           {
            "marker": {
             "line": {
              "color": "#E5ECF6",
              "width": 0.5
             },
             "pattern": {
              "fillmode": "overlay",
              "size": 10,
              "solidity": 0.2
             }
            },
            "type": "barpolar"
           }
          ],
          "carpet": [
           {
            "aaxis": {
             "endlinecolor": "#2a3f5f",
             "gridcolor": "white",
             "linecolor": "white",
             "minorgridcolor": "white",
             "startlinecolor": "#2a3f5f"
            },
            "baxis": {
             "endlinecolor": "#2a3f5f",
             "gridcolor": "white",
             "linecolor": "white",
             "minorgridcolor": "white",
             "startlinecolor": "#2a3f5f"
            },
            "type": "carpet"
           }
          ],
          "choropleth": [
           {
            "colorbar": {
             "outlinewidth": 0,
             "ticks": ""
            },
            "type": "choropleth"
           }
          ],
          "contour": [
           {
            "colorbar": {
             "outlinewidth": 0,
             "ticks": ""
            },
            "colorscale": [
             [
              0,
              "#0d0887"
             ],
             [
              0.1111111111111111,
              "#46039f"
             ],
             [
              0.2222222222222222,
              "#7201a8"
             ],
             [
              0.3333333333333333,
              "#9c179e"
             ],
             [
              0.4444444444444444,
              "#bd3786"
             ],
             [
              0.5555555555555556,
              "#d8576b"
             ],
             [
              0.6666666666666666,
              "#ed7953"
             ],
             [
              0.7777777777777778,
              "#fb9f3a"
             ],
             [
              0.8888888888888888,
              "#fdca26"
             ],
             [
              1,
              "#f0f921"
             ]
            ],
            "type": "contour"
           }
          ],
          "contourcarpet": [
           {
            "colorbar": {
             "outlinewidth": 0,
             "ticks": ""
            },
            "type": "contourcarpet"
           }
          ],
          "heatmap": [
           {
            "colorbar": {
             "outlinewidth": 0,
             "ticks": ""
            },
            "colorscale": [
             [
              0,
              "#0d0887"
             ],
             [
              0.1111111111111111,
              "#46039f"
             ],
             [
              0.2222222222222222,
              "#7201a8"
             ],
             [
              0.3333333333333333,
              "#9c179e"
             ],
             [
              0.4444444444444444,
              "#bd3786"
             ],
             [
              0.5555555555555556,
              "#d8576b"
             ],
             [
              0.6666666666666666,
              "#ed7953"
             ],
             [
              0.7777777777777778,
              "#fb9f3a"
             ],
             [
              0.8888888888888888,
              "#fdca26"
             ],
             [
              1,
              "#f0f921"
             ]
            ],
            "type": "heatmap"
           }
          ],
          "heatmapgl": [
           {
            "colorbar": {
             "outlinewidth": 0,
             "ticks": ""
            },
            "colorscale": [
             [
              0,
              "#0d0887"
             ],
             [
              0.1111111111111111,
              "#46039f"
             ],
             [
              0.2222222222222222,
              "#7201a8"
             ],
             [
              0.3333333333333333,
              "#9c179e"
             ],
             [
              0.4444444444444444,
              "#bd3786"
             ],
             [
              0.5555555555555556,
              "#d8576b"
             ],
             [
              0.6666666666666666,
              "#ed7953"
             ],
             [
              0.7777777777777778,
              "#fb9f3a"
             ],
             [
              0.8888888888888888,
              "#fdca26"
             ],
             [
              1,
              "#f0f921"
             ]
            ],
            "type": "heatmapgl"
           }
          ],
          "histogram": [
           {
            "marker": {
             "pattern": {
              "fillmode": "overlay",
              "size": 10,
              "solidity": 0.2
             }
            },
            "type": "histogram"
           }
          ],
          "histogram2d": [
           {
            "colorbar": {
             "outlinewidth": 0,
             "ticks": ""
            },
            "colorscale": [
             [
              0,
              "#0d0887"
             ],
             [
              0.1111111111111111,
              "#46039f"
             ],
             [
              0.2222222222222222,
              "#7201a8"
             ],
             [
              0.3333333333333333,
              "#9c179e"
             ],
             [
              0.4444444444444444,
              "#bd3786"
             ],
             [
              0.5555555555555556,
              "#d8576b"
             ],
             [
              0.6666666666666666,
              "#ed7953"
             ],
             [
              0.7777777777777778,
              "#fb9f3a"
             ],
             [
              0.8888888888888888,
              "#fdca26"
             ],
             [
              1,
              "#f0f921"
             ]
            ],
            "type": "histogram2d"
           }
          ],
          "histogram2dcontour": [
           {
            "colorbar": {
             "outlinewidth": 0,
             "ticks": ""
            },
            "colorscale": [
             [
              0,
              "#0d0887"
             ],
             [
              0.1111111111111111,
              "#46039f"
             ],
             [
              0.2222222222222222,
              "#7201a8"
             ],
             [
              0.3333333333333333,
              "#9c179e"
             ],
             [
              0.4444444444444444,
              "#bd3786"
             ],
             [
              0.5555555555555556,
              "#d8576b"
             ],
             [
              0.6666666666666666,
              "#ed7953"
             ],
             [
              0.7777777777777778,
              "#fb9f3a"
             ],
             [
              0.8888888888888888,
              "#fdca26"
             ],
             [
              1,
              "#f0f921"
             ]
            ],
            "type": "histogram2dcontour"
           }
          ],
          "mesh3d": [
           {
            "colorbar": {
             "outlinewidth": 0,
             "ticks": ""
            },
            "type": "mesh3d"
           }
          ],
          "parcoords": [
           {
            "line": {
             "colorbar": {
              "outlinewidth": 0,
              "ticks": ""
             }
            },
            "type": "parcoords"
           }
          ],
          "pie": [
           {
            "automargin": true,
            "type": "pie"
           }
          ],
          "scatter": [
           {
            "fillpattern": {
             "fillmode": "overlay",
             "size": 10,
             "solidity": 0.2
            },
            "type": "scatter"
           }
          ],
          "scatter3d": [
           {
            "line": {
             "colorbar": {
              "outlinewidth": 0,
              "ticks": ""
             }
            },
            "marker": {
             "colorbar": {
              "outlinewidth": 0,
              "ticks": ""
             }
            },
            "type": "scatter3d"
           }
          ],
          "scattercarpet": [
           {
            "marker": {
             "colorbar": {
              "outlinewidth": 0,
              "ticks": ""
             }
            },
            "type": "scattercarpet"
           }
          ],
          "scattergeo": [
           {
            "marker": {
             "colorbar": {
              "outlinewidth": 0,
              "ticks": ""
             }
            },
            "type": "scattergeo"
           }
          ],
          "scattergl": [
           {
            "marker": {
             "colorbar": {
              "outlinewidth": 0,
              "ticks": ""
             }
            },
            "type": "scattergl"
           }
          ],
          "scattermapbox": [
           {
            "marker": {
             "colorbar": {
              "outlinewidth": 0,
              "ticks": ""
             }
            },
            "type": "scattermapbox"
           }
          ],
          "scatterpolar": [
           {
            "marker": {
             "colorbar": {
              "outlinewidth": 0,
              "ticks": ""
             }
            },
            "type": "scatterpolar"
           }
          ],
          "scatterpolargl": [
           {
            "marker": {
             "colorbar": {
              "outlinewidth": 0,
              "ticks": ""
             }
            },
            "type": "scatterpolargl"
           }
          ],
          "scatterternary": [
           {
            "marker": {
             "colorbar": {
              "outlinewidth": 0,
              "ticks": ""
             }
            },
            "type": "scatterternary"
           }
          ],
          "surface": [
           {
            "colorbar": {
             "outlinewidth": 0,
             "ticks": ""
            },
            "colorscale": [
             [
              0,
              "#0d0887"
             ],
             [
              0.1111111111111111,
              "#46039f"
             ],
             [
              0.2222222222222222,
              "#7201a8"
             ],
             [
              0.3333333333333333,
              "#9c179e"
             ],
             [
              0.4444444444444444,
              "#bd3786"
             ],
             [
              0.5555555555555556,
              "#d8576b"
             ],
             [
              0.6666666666666666,
              "#ed7953"
             ],
             [
              0.7777777777777778,
              "#fb9f3a"
             ],
             [
              0.8888888888888888,
              "#fdca26"
             ],
             [
              1,
              "#f0f921"
             ]
            ],
            "type": "surface"
           }
          ],
          "table": [
           {
            "cells": {
             "fill": {
              "color": "#EBF0F8"
             },
             "line": {
              "color": "white"
             }
            },
            "header": {
             "fill": {
              "color": "#C8D4E3"
             },
             "line": {
              "color": "white"
             }
            },
            "type": "table"
           }
          ]
         },
         "layout": {
          "annotationdefaults": {
           "arrowcolor": "#2a3f5f",
           "arrowhead": 0,
           "arrowwidth": 1
          },
          "autotypenumbers": "strict",
          "coloraxis": {
           "colorbar": {
            "outlinewidth": 0,
            "ticks": ""
           }
          },
          "colorscale": {
           "diverging": [
            [
             0,
             "#8e0152"
            ],
            [
             0.1,
             "#c51b7d"
            ],
            [
             0.2,
             "#de77ae"
            ],
            [
             0.3,
             "#f1b6da"
            ],
            [
             0.4,
             "#fde0ef"
            ],
            [
             0.5,
             "#f7f7f7"
            ],
            [
             0.6,
             "#e6f5d0"
            ],
            [
             0.7,
             "#b8e186"
            ],
            [
             0.8,
             "#7fbc41"
            ],
            [
             0.9,
             "#4d9221"
            ],
            [
             1,
             "#276419"
            ]
           ],
           "sequential": [
            [
             0,
             "#0d0887"
            ],
            [
             0.1111111111111111,
             "#46039f"
            ],
            [
             0.2222222222222222,
             "#7201a8"
            ],
            [
             0.3333333333333333,
             "#9c179e"
            ],
            [
             0.4444444444444444,
             "#bd3786"
            ],
            [
             0.5555555555555556,
             "#d8576b"
            ],
            [
             0.6666666666666666,
             "#ed7953"
            ],
            [
             0.7777777777777778,
             "#fb9f3a"
            ],
            [
             0.8888888888888888,
             "#fdca26"
            ],
            [
             1,
             "#f0f921"
            ]
           ],
           "sequentialminus": [
            [
             0,
             "#0d0887"
            ],
            [
             0.1111111111111111,
             "#46039f"
            ],
            [
             0.2222222222222222,
             "#7201a8"
            ],
            [
             0.3333333333333333,
             "#9c179e"
            ],
            [
             0.4444444444444444,
             "#bd3786"
            ],
            [
             0.5555555555555556,
             "#d8576b"
            ],
            [
             0.6666666666666666,
             "#ed7953"
            ],
            [
             0.7777777777777778,
             "#fb9f3a"
            ],
            [
             0.8888888888888888,
             "#fdca26"
            ],
            [
             1,
             "#f0f921"
            ]
           ]
          },
          "colorway": [
           "#636efa",
           "#EF553B",
           "#00cc96",
           "#ab63fa",
           "#FFA15A",
           "#19d3f3",
           "#FF6692",
           "#B6E880",
           "#FF97FF",
           "#FECB52"
          ],
          "font": {
           "color": "#2a3f5f"
          },
          "geo": {
           "bgcolor": "white",
           "lakecolor": "white",
           "landcolor": "#E5ECF6",
           "showlakes": true,
           "showland": true,
           "subunitcolor": "white"
          },
          "hoverlabel": {
           "align": "left"
          },
          "hovermode": "closest",
          "mapbox": {
           "style": "light"
          },
          "paper_bgcolor": "white",
          "plot_bgcolor": "#E5ECF6",
          "polar": {
           "angularaxis": {
            "gridcolor": "white",
            "linecolor": "white",
            "ticks": ""
           },
           "bgcolor": "#E5ECF6",
           "radialaxis": {
            "gridcolor": "white",
            "linecolor": "white",
            "ticks": ""
           }
          },
          "scene": {
           "xaxis": {
            "backgroundcolor": "#E5ECF6",
            "gridcolor": "white",
            "gridwidth": 2,
            "linecolor": "white",
            "showbackground": true,
            "ticks": "",
            "zerolinecolor": "white"
           },
           "yaxis": {
            "backgroundcolor": "#E5ECF6",
            "gridcolor": "white",
            "gridwidth": 2,
            "linecolor": "white",
            "showbackground": true,
            "ticks": "",
            "zerolinecolor": "white"
           },
           "zaxis": {
            "backgroundcolor": "#E5ECF6",
            "gridcolor": "white",
            "gridwidth": 2,
            "linecolor": "white",
            "showbackground": true,
            "ticks": "",
            "zerolinecolor": "white"
           }
          },
          "shapedefaults": {
           "line": {
            "color": "#2a3f5f"
           }
          },
          "ternary": {
           "aaxis": {
            "gridcolor": "white",
            "linecolor": "white",
            "ticks": ""
           },
           "baxis": {
            "gridcolor": "white",
            "linecolor": "white",
            "ticks": ""
           },
           "bgcolor": "#E5ECF6",
           "caxis": {
            "gridcolor": "white",
            "linecolor": "white",
            "ticks": ""
           }
          },
          "title": {
           "x": 0.05
          },
          "xaxis": {
           "automargin": true,
           "gridcolor": "white",
           "linecolor": "white",
           "ticks": "",
           "title": {
            "standoff": 15
           },
           "zerolinecolor": "white",
           "zerolinewidth": 2
          },
          "yaxis": {
           "automargin": true,
           "gridcolor": "white",
           "linecolor": "white",
           "ticks": "",
           "title": {
            "standoff": 15
           },
           "zerolinecolor": "white",
           "zerolinewidth": 2
          }
         }
        },
        "xaxis": {
         "anchor": "y",
         "domain": [
          0,
          1
         ],
         "showticklabels": false
        },
        "yaxis": {
         "anchor": "x",
         "domain": [
          0,
          1
         ],
         "showticklabels": false
        }
       }
      }
     },
     "metadata": {},
     "output_type": "display_data"
    }
   ],
   "source": [
    "from collections import defaultdict\n",
    "from wordcloud import WordCloud\n",
    "import plotly.express as px\n",
    "import pandas as pd\n",
    "\n",
    "\n",
    "# Génération du WordCloud avec les mots filtrés\n",
    "word_weights = dict(zip(filtered_tdidf_df['Mot'], filtered_tdidf_df['Fréquence']))\n",
    "\n",
    "wordcloud = WordCloud(\n",
    "    width=800,\n",
    "    height=400,\n",
    "    background_color='white',\n",
    "    colormap='viridis'\n",
    ").generate_from_frequencies(word_weights)\n",
    "\n",
    "# Conversion en image pour affichage avec Plotly\n",
    "wordcloud_image = wordcloud.to_array()\n",
    "\n",
    "# Affichage avec Plotly\n",
    "fig = px.imshow(\n",
    "    wordcloud_image,\n",
    "    \n",
    "    color_continuous_scale=\"viridis\"\n",
    ")\n",
    "\n",
    "# Suppression des marges et des bordures blanches\n",
    "fig.update_layout(\n",
    "    margin=dict(l=0, r=0, t=0, b=0),  # Suppression des marges\n",
    "    coloraxis_showscale=False  # Suppression de l'échelle des couleurs si non nécessaire\n",
    ")\n",
    "\n",
    "fig.update_xaxes(showticklabels=False)\n",
    "fig.update_yaxes(showticklabels=False)\n",
    "fig.show()\n"
   ]
  },
  {
   "cell_type": "markdown",
   "metadata": {},
   "source": [
    "Concatenation des deux wordCloud en combinant le fitrage des dataFrame"
   ]
  },
  {
   "cell_type": "code",
   "execution_count": 144,
   "metadata": {},
   "outputs": [],
   "source": [
    "import pickle  # Importer pickle pour la sérialisation\n",
    "from wordcloud import WordCloud\n",
    "import pandas as pd\n",
    "import plotly.express as px\n",
    "\n",
    "def save_wordcloud(filtered_tfidf_df, filtered_tdidf_df): # liaison avec notre streamlit\n",
    "    \"\"\"\n",
    "    Génère et sauvegarde un Word Cloud combiné dans un fichier Pickle.\n",
    "    \"\"\"\n",
    "    # Fusionner les DataFrames sur la colonne 'Mot'\n",
    "    combined_df = pd.concat([filtered_tfidf_df, filtered_tdidf_df])\n",
    "    combined_df = combined_df.groupby('Mot', as_index=False).sum()  # Additionner les fréquences des mots communs\n",
    "\n",
    "    # Convertir en dictionnaire pour le Word Cloud\n",
    "    word_weights = dict(zip(combined_df['Mot'], combined_df['Fréquence']))\n",
    "\n",
    "    # Générer le Word Cloud combiné\n",
    "    wordcloud = WordCloud(\n",
    "        width=800,\n",
    "        height=400,\n",
    "        background_color='white',\n",
    "        colormap='cool'\n",
    "    ).generate_from_frequencies(word_weights)\n",
    "\n",
    "    # Sauvegarder le Word Cloud en fichier Pickle\n",
    "    with open(\"wordcloud.pkl\", \"wb\") as f:\n",
    "        pickle.dump(wordcloud, f)\n",
    "\n",
    "    print(\"Word Cloud sauvegardé avec succès.\")\n"
   ]
  },
  {
   "cell_type": "code",
   "execution_count": 145,
   "metadata": {},
   "outputs": [
    {
     "name": "stdout",
     "output_type": "stream",
     "text": [
      "Word Cloud sauvegardé avec succès.\n"
     ]
    }
   ],
   "source": [
    "# pour generer le WordCloud combiner dans le repertoire\n",
    "save_wordcloud(filtered_tfidf_df, filtered_tdidf_df)\n"
   ]
  }
 ],
 "metadata": {
  "kernelspec": {
   "display_name": "Python 3",
   "language": "python",
   "name": "python3"
  },
  "language_info": {
   "codemirror_mode": {
    "name": "ipython",
    "version": 3
   },
   "file_extension": ".py",
   "mimetype": "text/x-python",
   "name": "python",
   "nbconvert_exporter": "python",
   "pygments_lexer": "ipython3",
   "version": "3.12.6"
  }
 },
 "nbformat": 4,
 "nbformat_minor": 2
}
