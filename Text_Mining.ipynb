{
 "cells": [
  {
   "cell_type": "code",
   "execution_count": 3,
   "metadata": {},
   "outputs": [
    {
     "name": "stdout",
     "output_type": "stream",
     "text": [
      "Requirement already satisfied: requests in c:\\users\\fanti\\appdata\\local\\programs\\python\\python312\\lib\\site-packages (2.32.3)Note: you may need to restart the kernel to use updated packages.\n"
     ]
    },
    {
     "name": "stderr",
     "output_type": "stream",
     "text": [
      "WARNING: Ignoring invalid distribution ~lotly (c:\\Users\\fanti\\AppData\\Local\\Programs\\Python\\Python312\\Lib\\site-packages)\n",
      "WARNING: Ignoring invalid distribution ~lotly (c:\\Users\\fanti\\AppData\\Local\\Programs\\Python\\Python312\\Lib\\site-packages)\n",
      "WARNING: Ignoring invalid distribution ~lotly (c:\\Users\\fanti\\AppData\\Local\\Programs\\Python\\Python312\\Lib\\site-packages)\n"
     ]
    },
    {
     "name": "stdout",
     "output_type": "stream",
     "text": [
      "\n",
      "Requirement already satisfied: charset-normalizer<4,>=2 in c:\\users\\fanti\\appdata\\local\\programs\\python\\python312\\lib\\site-packages (from requests) (3.4.0)\n",
      "Requirement already satisfied: idna<4,>=2.5 in c:\\users\\fanti\\appdata\\local\\programs\\python\\python312\\lib\\site-packages (from requests) (3.10)\n",
      "Requirement already satisfied: urllib3<3,>=1.21.1 in c:\\users\\fanti\\appdata\\local\\programs\\python\\python312\\lib\\site-packages (from requests) (2.2.3)\n",
      "Requirement already satisfied: certifi>=2017.4.17 in c:\\users\\fanti\\appdata\\local\\programs\\python\\python312\\lib\\site-packages (from requests) (2024.8.30)\n"
     ]
    }
   ],
   "source": [
    "pip install requests"
   ]
  },
  {
   "cell_type": "code",
   "execution_count": 4,
   "metadata": {},
   "outputs": [
    {
     "name": "stdout",
     "output_type": "stream",
     "text": [
      "Requirement already satisfied: beautifulsoup4 in c:\\users\\fanti\\appdata\\local\\programs\\python\\python312\\lib\\site-packages (4.12.3)\n",
      "Requirement already satisfied: soupsieve>1.2 in c:\\users\\fanti\\appdata\\local\\programs\\python\\python312\\lib\\site-packages (from beautifulsoup4) (2.6)\n",
      "Note: you may need to restart the kernel to use updated packages.\n"
     ]
    },
    {
     "name": "stderr",
     "output_type": "stream",
     "text": [
      "WARNING: Ignoring invalid distribution ~lotly (c:\\Users\\fanti\\AppData\\Local\\Programs\\Python\\Python312\\Lib\\site-packages)\n",
      "WARNING: Ignoring invalid distribution ~lotly (c:\\Users\\fanti\\AppData\\Local\\Programs\\Python\\Python312\\Lib\\site-packages)\n",
      "WARNING: Ignoring invalid distribution ~lotly (c:\\Users\\fanti\\AppData\\Local\\Programs\\Python\\Python312\\Lib\\site-packages)\n"
     ]
    }
   ],
   "source": [
    "pip install beautifulsoup4\n"
   ]
  },
  {
   "cell_type": "code",
   "execution_count": 5,
   "metadata": {},
   "outputs": [
    {
     "name": "stdout",
     "output_type": "stream",
     "text": [
      "Requirement already satisfied: wordcloud in c:\\users\\fanti\\appdata\\local\\programs\\python\\python312\\lib\\site-packages (1.9.4)\n",
      "Requirement already satisfied: numpy>=1.6.1 in c:\\users\\fanti\\appdata\\local\\programs\\python\\python312\\lib\\site-packages (from wordcloud) (2.2.0)\n",
      "Requirement already satisfied: pillow in c:\\users\\fanti\\appdata\\local\\programs\\python\\python312\\lib\\site-packages (from wordcloud) (11.0.0)\n",
      "Requirement already satisfied: matplotlib in c:\\users\\fanti\\appdata\\local\\programs\\python\\python312\\lib\\site-packages (from wordcloud) (3.9.2)\n",
      "Requirement already satisfied: contourpy>=1.0.1 in c:\\users\\fanti\\appdata\\local\\programs\\python\\python312\\lib\\site-packages (from matplotlib->wordcloud) (1.3.0)\n",
      "Requirement already satisfied: cycler>=0.10 in c:\\users\\fanti\\appdata\\local\\programs\\python\\python312\\lib\\site-packages (from matplotlib->wordcloud) (0.12.1)\n",
      "Requirement already satisfied: fonttools>=4.22.0 in c:\\users\\fanti\\appdata\\local\\programs\\python\\python312\\lib\\site-packages (from matplotlib->wordcloud) (4.54.1)\n",
      "Requirement already satisfied: kiwisolver>=1.3.1 in c:\\users\\fanti\\appdata\\local\\programs\\python\\python312\\lib\\site-packages (from matplotlib->wordcloud) (1.4.7)\n",
      "Requirement already satisfied: packaging>=20.0 in c:\\users\\fanti\\appdata\\local\\programs\\python\\python312\\lib\\site-packages (from matplotlib->wordcloud) (24.2)\n",
      "Requirement already satisfied: pyparsing>=2.3.1 in c:\\users\\fanti\\appdata\\local\\programs\\python\\python312\\lib\\site-packages (from matplotlib->wordcloud) (3.2.0)\n",
      "Requirement already satisfied: python-dateutil>=2.7 in c:\\users\\fanti\\appdata\\local\\programs\\python\\python312\\lib\\site-packages (from matplotlib->wordcloud) (2.9.0.post0)\n",
      "Requirement already satisfied: six>=1.5 in c:\\users\\fanti\\appdata\\local\\programs\\python\\python312\\lib\\site-packages (from python-dateutil>=2.7->matplotlib->wordcloud) (1.17.0)\n",
      "Note: you may need to restart the kernel to use updated packages.\n"
     ]
    },
    {
     "name": "stderr",
     "output_type": "stream",
     "text": [
      "WARNING: Ignoring invalid distribution ~lotly (c:\\Users\\fanti\\AppData\\Local\\Programs\\Python\\Python312\\Lib\\site-packages)\n",
      "WARNING: Ignoring invalid distribution ~lotly (c:\\Users\\fanti\\AppData\\Local\\Programs\\Python\\Python312\\Lib\\site-packages)\n",
      "WARNING: Ignoring invalid distribution ~lotly (c:\\Users\\fanti\\AppData\\Local\\Programs\\Python\\Python312\\Lib\\site-packages)\n"
     ]
    }
   ],
   "source": [
    "pip install wordcloud\n"
   ]
  },
  {
   "cell_type": "code",
   "execution_count": 6,
   "metadata": {},
   "outputs": [
    {
     "name": "stdout",
     "output_type": "stream",
     "text": [
      "Requirement already satisfied: plotly in c:\\users\\fanti\\appdata\\local\\programs\\python\\python312\\lib\\site-packages (5.22.0)\n",
      "Requirement already satisfied: tenacity>=6.2.0 in c:\\users\\fanti\\appdata\\local\\programs\\python\\python312\\lib\\site-packages (from plotly) (9.0.0)\n",
      "Requirement already satisfied: packaging in c:\\users\\fanti\\appdata\\local\\programs\\python\\python312\\lib\\site-packages (from plotly) (24.2)\n",
      "Note: you may need to restart the kernel to use updated packages.\n"
     ]
    },
    {
     "name": "stderr",
     "output_type": "stream",
     "text": [
      "WARNING: Ignoring invalid distribution ~lotly (c:\\Users\\fanti\\AppData\\Local\\Programs\\Python\\Python312\\Lib\\site-packages)\n",
      "WARNING: Ignoring invalid distribution ~lotly (c:\\Users\\fanti\\AppData\\Local\\Programs\\Python\\Python312\\Lib\\site-packages)\n",
      "WARNING: Ignoring invalid distribution ~lotly (c:\\Users\\fanti\\AppData\\Local\\Programs\\Python\\Python312\\Lib\\site-packages)\n"
     ]
    }
   ],
   "source": [
    "pip install plotly\n"
   ]
  },
  {
   "cell_type": "code",
   "execution_count": 7,
   "metadata": {},
   "outputs": [
    {
     "name": "stdout",
     "output_type": "stream",
     "text": [
      "Requirement already satisfied: nbformat in c:\\users\\fanti\\appdata\\local\\programs\\python\\python312\\lib\\site-packages (5.10.4)\n",
      "Requirement already satisfied: fastjsonschema>=2.15 in c:\\users\\fanti\\appdata\\local\\programs\\python\\python312\\lib\\site-packages (from nbformat) (2.21.1)\n",
      "Requirement already satisfied: jsonschema>=2.6 in c:\\users\\fanti\\appdata\\local\\programs\\python\\python312\\lib\\site-packages (from nbformat) (4.23.0)\n",
      "Requirement already satisfied: jupyter-core!=5.0.*,>=4.12 in c:\\users\\fanti\\appdata\\local\\programs\\python\\python312\\lib\\site-packages (from nbformat) (5.7.2)\n",
      "Requirement already satisfied: traitlets>=5.1 in c:\\users\\fanti\\appdata\\local\\programs\\python\\python312\\lib\\site-packages (from nbformat) (5.14.3)\n",
      "Requirement already satisfied: attrs>=22.2.0 in c:\\users\\fanti\\appdata\\local\\programs\\python\\python312\\lib\\site-packages (from jsonschema>=2.6->nbformat) (24.2.0)\n",
      "Requirement already satisfied: jsonschema-specifications>=2023.03.6 in c:\\users\\fanti\\appdata\\local\\programs\\python\\python312\\lib\\site-packages (from jsonschema>=2.6->nbformat) (2024.10.1)\n",
      "Requirement already satisfied: referencing>=0.28.4 in c:\\users\\fanti\\appdata\\local\\programs\\python\\python312\\lib\\site-packages (from jsonschema>=2.6->nbformat) (0.35.1)\n",
      "Requirement already satisfied: rpds-py>=0.7.1 in c:\\users\\fanti\\appdata\\local\\programs\\python\\python312\\lib\\site-packages (from jsonschema>=2.6->nbformat) (0.22.3)\n",
      "Requirement already satisfied: platformdirs>=2.5 in c:\\users\\fanti\\appdata\\local\\programs\\python\\python312\\lib\\site-packages (from jupyter-core!=5.0.*,>=4.12->nbformat) (4.3.6)\n",
      "Requirement already satisfied: pywin32>=300 in c:\\users\\fanti\\appdata\\local\\programs\\python\\python312\\lib\\site-packages (from jupyter-core!=5.0.*,>=4.12->nbformat) (308)\n",
      "Note: you may need to restart the kernel to use updated packages.\n"
     ]
    },
    {
     "name": "stderr",
     "output_type": "stream",
     "text": [
      "WARNING: Ignoring invalid distribution ~lotly (c:\\Users\\fanti\\AppData\\Local\\Programs\\Python\\Python312\\Lib\\site-packages)\n",
      "WARNING: Ignoring invalid distribution ~lotly (c:\\Users\\fanti\\AppData\\Local\\Programs\\Python\\Python312\\Lib\\site-packages)\n",
      "WARNING: Ignoring invalid distribution ~lotly (c:\\Users\\fanti\\AppData\\Local\\Programs\\Python\\Python312\\Lib\\site-packages)\n"
     ]
    }
   ],
   "source": [
    "pip install --upgrade nbformat\n"
   ]
  },
  {
   "cell_type": "markdown",
   "metadata": {},
   "source": []
  },
  {
   "cell_type": "markdown",
   "metadata": {},
   "source": [
    "\n",
    "\n",
    "# Lien_article_Texte_Mining :\n",
    " https://www.cnews.fr/france/2024-12-03/arnaque-la-copie-de-cb-attention-cette-escroquerie-qui-touche-de-nombreux-francais\n",
    "\n",
    " # Date de publication:\n",
    " le 3 décembre 2024 \n",
    "\n",
    " # site de publication:\n",
    " CNEWS\n",
    "\n",
    " # Résumé de l'article:\n",
    " Cet article informe sur le démantèlement, en novembre 2024, d'un réseau de fraudeurs spécialisés dans le « skimming » à Toulouse. Cette technique permet de cloner des cartes bancaires en manipulant des terminaux de paiement pour accéder aux comptes des victimes. Les cartes clonées servent à des achats en ligne sur des sites à faible sécurité ou leurs données sont revendues. Malgré une baisse signalée du skimming en France, la Fédération bancaire recommande une vigilance accrue des comptes pour détecter toute fraude\n",
    "\n"
   ]
  },
  {
   "cell_type": "markdown",
   "metadata": {},
   "source": [
    "Etape du Texte_Mining de notre data_text"
   ]
  },
  {
   "cell_type": "markdown",
   "metadata": {},
   "source": [
    "Etape du Pré-processing\n",
    "\n",
    "Import des librairies utiles "
   ]
  },
  {
   "cell_type": "code",
   "execution_count": 8,
   "metadata": {},
   "outputs": [],
   "source": [
    "# Pour le data management \n",
    "import pandas as pd\n",
    "import numpy as np\n",
    "\n",
    "# Pour le pré processing\n",
    "from unidecode import unidecode\n",
    "import re\n",
    "from nltk.stem import SnowballStemmer\n",
    "from nltk.corpus import stopwords\n",
    "import nltk\n",
    "\n",
    "# Les bigrammes\n",
    "from collections import Counter\n",
    "from nltk.util import ngrams\n",
    "from collections import defaultdict\n",
    "\n",
    "# Pour la vectorisation\n",
    "from sklearn.feature_extraction.text import TfidfVectorizer \n",
    "\n",
    "# Pour la modélisation\n",
    "from sklearn.model_selection import train_test_split\n",
    "from sklearn.metrics import f1_score, recall_score, precision_score\n",
    "\n",
    "from sklearn.naive_bayes import GaussianNB"
   ]
  },
  {
   "cell_type": "markdown",
   "metadata": {},
   "source": [
    "1.Découverte et exploration des données\n",
    "  1.1. Import de la l'article à partir de telechargement en fichier text"
   ]
  },
  {
   "cell_type": "markdown",
   "metadata": {},
   "source": [
    "1.Extraction de la data_texte"
   ]
  },
  {
   "cell_type": "code",
   "execution_count": 9,
   "metadata": {},
   "outputs": [
    {
     "name": "stdout",
     "output_type": "stream",
     "text": [
      "Texte extrait avec succès.\n"
     ]
    }
   ],
   "source": [
    "# Chemin du fichier texte\n",
    "file_path = r\"C:\\Users\\fanti\\Music\\universite paris-sorbonne\\DataManagementAvecPandas\\Projet_data_management\\Arnaque à la copie de CB _ attention à cette escroquerie qui a touché de nombreux français.txt\"\n",
    "\n",
    "# Lecture du fichier texte\n",
    "with open(file_path, \"r\", encoding=\"utf-8\") as file:\n",
    "    article_text = file.read()\n",
    "print(\"Texte extrait avec succès.\")\n",
    "\n"
   ]
  },
  {
   "cell_type": "markdown",
   "metadata": {},
   "source": [
    "Exploration de nos données texte"
   ]
  },
  {
   "cell_type": "code",
   "execution_count": 10,
   "metadata": {},
   "outputs": [
    {
     "data": {
      "text/plain": [
       "22231"
      ]
     },
     "execution_count": 10,
     "metadata": {},
     "output_type": "execute_result"
    }
   ],
   "source": [
    "# determinons la longueur de data  brutes (sans traitement)\n",
    "len(article_text)\n",
    "\n",
    "# nos data texte contient 22 231 caractères(y compris espace , ponctuation etc)"
   ]
  },
  {
   "cell_type": "code",
   "execution_count": 11,
   "metadata": {},
   "outputs": [
    {
     "data": {
      "text/plain": [
       "['<https://www.cnews.fr/rechercher>',\n",
       " 'CNEWS',\n",
       " '|',\n",
       " 'Actualités,',\n",
       " 'Infos',\n",
       " 'et',\n",
       " 'News',\n",
       " 'en',\n",
       " 'direct',\n",
       " 'vidéo',\n",
       " 'et',\n",
       " 'replay',\n",
       " '<https://',\n",
       " 'www.cnews.fr/>',\n",
       " '*',\n",
       " 'Les',\n",
       " 'replays',\n",
       " '<https://www.cnews.fr/les-replays>',\n",
       " '*',\n",
       " 'Les',\n",
       " 'podcasts',\n",
       " '<https://www.cnews.fr/les-podcasts>',\n",
       " 'Thèmes',\n",
       " '*',\n",
       " 'Faits',\n",
       " 'divers',\n",
       " '<https://www.cnews.fr/faits-divers>',\n",
       " '*',\n",
       " 'Colère',\n",
       " 'des',\n",
       " 'agriculteurs',\n",
       " '<https://www.cnews.fr/agriculture>',\n",
       " '*',\n",
       " 'Proche-Orient',\n",
       " '<https://www.cnews.fr/proche-orient>',\n",
       " '*',\n",
       " 'Politique',\n",
       " '<https://www.cnews.fr/politique>',\n",
       " '*',\n",
       " 'France',\n",
       " '<https://www.cnews.fr/france>',\n",
       " '*',\n",
       " 'Monde',\n",
       " '<https://www.cnews.fr/monde>',\n",
       " '*',\n",
       " 'Paris',\n",
       " '<https://www.cnews.fr/paris>',\n",
       " '*',\n",
       " 'Culture',\n",
       " '<https://www.cnews.fr/culture>',\n",
       " '*',\n",
       " 'Divertissement',\n",
       " '<https://www.cnews.fr/divertissement>',\n",
       " '*',\n",
       " 'People',\n",
       " '<https://www.cnews.fr/people>',\n",
       " '*',\n",
       " 'Vie',\n",
       " 'numérique',\n",
       " '<https://www.cnews.fr/vie-numerique>',\n",
       " '*',\n",
       " 'Sport',\n",
       " '<https://www.cnews.fr/sport>',\n",
       " '*',\n",
       " 'Lifestyle',\n",
       " '<https://www.cnews.fr/lifestyle>',\n",
       " '*',\n",
       " 'Beauté',\n",
       " '<https://www.cnews.fr/beaute>',\n",
       " '*',\n",
       " 'Environnement',\n",
       " '<https://www.cnews.fr/environnement>',\n",
       " '*',\n",
       " 'Faits',\n",
       " 'divers',\n",
       " '<https://www.cnews.fr/faits-divers>',\n",
       " '*',\n",
       " 'Insolite',\n",
       " '<https://www.cnews.fr/insolite>',\n",
       " '*',\n",
       " 'Jeux',\n",
       " 'vidéo',\n",
       " '<https://www.cnews.fr/jeux-video>',\n",
       " '*',\n",
       " 'Nutrition',\n",
       " '<https://www.cnews.fr/nutrition>',\n",
       " '*',\n",
       " 'Santé',\n",
       " '<https://www.cnews.fr/sante>',\n",
       " '*',\n",
       " 'Science',\n",
       " '<https://www.cnews.fr/science>',\n",
       " '*',\n",
       " 'Le',\n",
       " 'corner',\n",
       " 'partenaires',\n",
       " '<https://www.cnews.fr/le-corner-partenaires>',\n",
       " '*',\n",
       " 'Météo',\n",
       " '<https://www.cnews.fr/meteo>',\n",
       " '*',\n",
       " 'Astrologie',\n",
       " '<https://www.cnews.fr/astrologie>',\n",
       " '*',\n",
       " 'Jeux',\n",
       " '<https://www.cnews.fr/jeux/tous-les-jeux>',\n",
       " '*',\n",
       " 'Loto',\n",
       " '<https://www.cnews.fr/loto>',\n",
       " '*',\n",
       " 'Programme',\n",
       " 'TV',\n",
       " 'TNT',\n",
       " '<https://www.cnews.fr/programme-tv-tnt>',\n",
       " '*',\n",
       " 'Facebook',\n",
       " '<https://www.facebook.com/CNEWSofficiel>',\n",
       " '*',\n",
       " 'Instagram',\n",
       " '<https://www.instagram.com/cnewsofficiel>',\n",
       " '*',\n",
       " 'Twitter',\n",
       " '<https://twitter.com/CNEWS>',\n",
       " 'Dernière',\n",
       " 'minute',\n",
       " '<https://www.cnews.fr/le-direct>',\n",
       " 'Previous',\n",
       " '17h26',\n",
       " 'Noël',\n",
       " '2024',\n",
       " ':',\n",
       " 'les',\n",
       " 'beaux',\n",
       " 'livres',\n",
       " 'à',\n",
       " 'offrir',\n",
       " 'aux',\n",
       " 'fous',\n",
       " 'de',\n",
       " 'sport',\n",
       " '<https://www.cnews.fr/culture/2024-12-04/noel-2024-les-beaux-livres-',\n",
       " 'offrir-aux-fous-de-sport-1586511>',\n",
       " '17h24',\n",
       " 'Astéroïde',\n",
       " 'en',\n",
       " 'Sibérie',\n",
       " ':',\n",
       " 'les',\n",
       " 'images',\n",
       " 'impressionnant']"
      ]
     },
     "execution_count": 11,
     "metadata": {},
     "output_type": "execute_result"
    }
   ],
   "source": [
    "article_text[:2000].split()"
   ]
  },
  {
   "cell_type": "code",
   "execution_count": 12,
   "metadata": {},
   "outputs": [
    {
     "data": {
      "text/plain": [
       "str"
      ]
     },
     "execution_count": 12,
     "metadata": {},
     "output_type": "execute_result"
    }
   ],
   "source": [
    "# verifions que le contenu de notre données est du type string\n",
    "\n",
    "type(article_text)"
   ]
  },
  {
   "cell_type": "markdown",
   "metadata": {},
   "source": [
    "Je selectionne les lignes "
   ]
  },
  {
   "cell_type": "markdown",
   "metadata": {},
   "source": [
    "2.Prétraitement du texte\n",
    "Nettoyage du texte pour supprimer les caractères inutiles, suppression des accents et des stopwords\n"
   ]
  },
  {
   "cell_type": "code",
   "execution_count": 13,
   "metadata": {},
   "outputs": [
    {
     "name": "stderr",
     "output_type": "stream",
     "text": [
      "[nltk_data] Downloading package stopwords to\n",
      "[nltk_data]     C:\\Users\\fanti\\AppData\\Roaming\\nltk_data...\n",
      "[nltk_data]   Package stopwords is already up-to-date!\n"
     ]
    }
   ],
   "source": [
    "\n",
    "nltk.download('stopwords') # téléchargement du package depuis la bibliothèque NLTK(Natural language Toolkit)\n",
    "stop_words = set(stopwords.words('french'))  #  je charge la ligne des  stopwords pour la langue française\n"
   ]
  },
  {
   "cell_type": "code",
   "execution_count": 14,
   "metadata": {},
   "outputs": [
    {
     "name": "stdout",
     "output_type": "stream",
     "text": [
      "{'serai', 'dans', 'fût', 'aurons', 'même', 'avons', 'aux', 'étantes', 'fusses', 'serais', 'suis', 'es', 'tu', 'fus', 'eusses', 'ma', 'aura', 'ayants', 'avait', 'seras', 'et', 'étais', 'ayant', 's', 'aurai', 'aies', 'eussions', 'furent', 'ce', 'sera', 'aviez', 'ayante', 'avez', 'été', 'ou', 'tes', 'mon', 'que', 'leur', 'au', 'aurez', 'pas', 'eus', 'auriez', 'fûtes', 'ses', 'étées', 'était', 'eurent', 'c', 'serait', 'aurait', 'sois', 'ont', 'eussent', 'm', 'mais', 'elle', 'du', 'votre', 'étants', 'ta', 'toi', 'je', 'fussiez', 'te', 'seraient', 'aurions', 'pour', 'as', 'par', 'le', 'on', 'eussiez', 'sommes', 'sur', 'serons', 'serez', 'soit', 'ayantes', 'auront', 'auras', 'moi', 'les', 'notre', 'se', 'la', 'fussent', 'qui', 'vos', 'étés', 'fûmes', 'avec', 'soyons', 'ait', 'eux', 'ayons', 'une', 'aie', 'ayez', 'n', 'eût', 'd', 'étant', 't', 'ces', 'aurais', 'avaient', 'fussions', 'ai', 'aient', 'seriez', 'seront', 'eu', 'son', 'sont', 'étions', 'l', 'serions', 'eues', 'ne', 'étiez', 'de', 'des', 'êtes', 'en', 'fusse', 'soyez', 'ton', 'qu', 'nous', 'fut', 'un', 'ils', 'nos', 'me', 'sa', 'y', 'étaient', 'soient', 'eûtes', 'il', 'eusse', 'étée', 'est', 'avais', 'lui', 'eue', 'eûmes', 'avions', 'auraient', 'eut', 'mes', 'j', 'à', 'vous', 'étante'}\n"
     ]
    }
   ],
   "source": [
    "print(stop_words)"
   ]
  },
  {
   "cell_type": "markdown",
   "metadata": {},
   "source": [
    "Après le chargement de la liste des mots inutiles (stop_words) pour notre analyse textuelle, nous constatons qu'elle contient un total de 157 termes."
   ]
  },
  {
   "cell_type": "code",
   "execution_count": 15,
   "metadata": {},
   "outputs": [
    {
     "name": "stdout",
     "output_type": "stream",
     "text": [
      "157\n"
     ]
    }
   ],
   "source": [
    "print( len(stop_words))"
   ]
  },
  {
   "cell_type": "markdown",
   "metadata": {},
   "source": [
    "3. passons à  l'étape du pré-procéssing de notre data_texte"
   ]
  },
  {
   "cell_type": "code",
   "execution_count": 16,
   "metadata": {},
   "outputs": [
    {
     "name": "stdout",
     "output_type": "stream",
     "text": [
      "Texte nettoyé avec succès.\n"
     ]
    }
   ],
   "source": [
    "# étape du pré-processing\n",
    "\n",
    "\n",
    "def preprocess_text(text):\n",
    "    text = text.lower()  # Conversion en minuscules\n",
    "    text = unidecode(text)  # Suppression des accents\n",
    "    text = re.sub(r'http\\S+', '', text)  # Suppression des URL\n",
    "    text = re.sub(r'[^a-z\\s]', '', text)  # Suppression des caractères spéciaux\n",
    "    text = re.sub(r'\\b\\w{1,2}\\b', '', text)  # Suppression des mots très courts (1-2 lettres)\n",
    "    text = re.sub(r'\\s+', ' ', text)  # Suppression des espaces multiples\n",
    "    words = text.split()  # Tokenisation\n",
    "    words = [word for word in words if word not in stop_words]  # Suppression des stopwords\n",
    "    return ' '.join(words).split()\n",
    "\n",
    "# Appliquer le nettoyage avancé\n",
    "cleaned_text = preprocess_text(article_text)\n",
    "print(\"Texte nettoyé avec succès.\")\n",
    "\n"
   ]
  },
  {
   "cell_type": "code",
   "execution_count": 17,
   "metadata": {},
   "outputs": [
    {
     "data": {
      "text/plain": [
       "['cnews',\n",
       " 'actualites',\n",
       " 'infos',\n",
       " 'news',\n",
       " 'direct',\n",
       " 'video',\n",
       " 'replay',\n",
       " 'wwwcnewsfr',\n",
       " 'replays',\n",
       " 'podcasts',\n",
       " 'themes',\n",
       " 'faits',\n",
       " 'divers',\n",
       " 'colere',\n",
       " 'agriculteurs',\n",
       " 'procheorient',\n",
       " 'politique',\n",
       " 'france',\n",
       " 'monde',\n",
       " 'paris',\n",
       " 'culture',\n",
       " 'divertissement',\n",
       " 'people',\n",
       " 'vie',\n",
       " 'numerique',\n",
       " 'sport',\n",
       " 'lifestyle',\n",
       " 'beaute',\n",
       " 'environnement',\n",
       " 'faits',\n",
       " 'divers',\n",
       " 'insolite',\n",
       " 'jeux',\n",
       " 'video',\n",
       " 'nutrition',\n",
       " 'sante',\n",
       " 'science',\n",
       " 'corner',\n",
       " 'partenaires',\n",
       " 'meteo',\n",
       " 'astrologie',\n",
       " 'jeux',\n",
       " 'loto',\n",
       " 'programme',\n",
       " 'tnt',\n",
       " 'facebook',\n",
       " 'instagram',\n",
       " 'twitter',\n",
       " 'derniere',\n",
       " 'minute',\n",
       " 'previous',\n",
       " 'noel',\n",
       " 'beaux',\n",
       " 'livres',\n",
       " 'offrir',\n",
       " 'fous',\n",
       " 'sport',\n",
       " 'offrirauxfousdesport',\n",
       " 'asteroide',\n",
       " 'siberie',\n",
       " 'images',\n",
       " 'impressionnantes',\n",
       " 'meteore',\n",
       " 'avant',\n",
       " 'impact',\n",
       " 'video',\n",
       " 'impressionnantesdumeteoreavantsonimpactvideo',\n",
       " 'vents',\n",
       " 'violents',\n",
       " 'voici',\n",
       " 'departements',\n",
       " 'places',\n",
       " 'vigilance',\n",
       " 'jaune',\n",
       " 'jeudi',\n",
       " 'departementsplacesenvigilancejaunecejeudi',\n",
       " 'iran',\n",
       " 'prix',\n",
       " 'nobel',\n",
       " 'paix',\n",
       " 'narges',\n",
       " 'mohammadi',\n",
       " 'sort',\n",
       " 'temporairement',\n",
       " 'prison',\n",
       " 'raisons',\n",
       " 'sante',\n",
       " 'nargesmohammadisorttemporairementdeprisonpour',\n",
       " 'francais',\n",
       " 'posent',\n",
       " 'tous',\n",
       " 'meme',\n",
       " 'question',\n",
       " 'largent',\n",
       " 'tonne',\n",
       " 'marine',\n",
       " 'pen',\n",
       " 'avant',\n",
       " 'vote',\n",
       " 'motions',\n",
       " 'memequestionouvalargenttonnemarinelepen',\n",
       " 'noel',\n",
       " 'beaux',\n",
       " 'livres',\n",
       " 'offrir',\n",
       " 'fous',\n",
       " 'sport',\n",
       " 'offrirauxfousdesport',\n",
       " 'asteroide',\n",
       " 'siberie',\n",
       " 'images',\n",
       " 'impressionnantes',\n",
       " 'meteore',\n",
       " 'avant',\n",
       " 'impact',\n",
       " 'video',\n",
       " 'impressionnantesdumeteoreavantsonimpactvideo',\n",
       " 'vents',\n",
       " 'violents',\n",
       " 'voici',\n",
       " 'departements',\n",
       " 'places',\n",
       " 'vigilance',\n",
       " 'jaune',\n",
       " 'jeudi',\n",
       " 'departementsplacesenvigilancejaunecejeudi',\n",
       " 'iran',\n",
       " 'prix',\n",
       " 'nobel',\n",
       " 'paix',\n",
       " 'narges',\n",
       " 'mohammadi',\n",
       " 'sort',\n",
       " 'temporairement',\n",
       " 'prison',\n",
       " 'raisons',\n",
       " 'sante',\n",
       " 'nargesmohammadisorttemporairementdeprisonpour',\n",
       " 'francais',\n",
       " 'posent',\n",
       " 'tous',\n",
       " 'meme',\n",
       " 'question',\n",
       " 'largent',\n",
       " 'tonne',\n",
       " 'marine',\n",
       " 'pen',\n",
       " 'avant',\n",
       " 'vote',\n",
       " 'motions',\n",
       " 'memequestionouvalargenttonnemarinelepen',\n",
       " 'noel',\n",
       " 'beaux',\n",
       " 'livres',\n",
       " 'offrir',\n",
       " 'fous',\n",
       " 'sport',\n",
       " 'offrirauxfousdesport',\n",
       " 'asteroide',\n",
       " 'siberie',\n",
       " 'images',\n",
       " 'impressionnantes',\n",
       " 'meteore',\n",
       " 'avant',\n",
       " 'impact',\n",
       " 'video',\n",
       " 'impressionnantesdumeteoreavantsonimpactvideo',\n",
       " 'vents',\n",
       " 'violents',\n",
       " 'voici',\n",
       " 'departements',\n",
       " 'places',\n",
       " 'vigilance',\n",
       " 'jaune',\n",
       " 'jeudi',\n",
       " 'departementsplacesenvigilancejaunecejeudi',\n",
       " 'next',\n",
       " 'direct',\n",
       " 'midi',\n",
       " 'news',\n",
       " 'minutes',\n",
       " 'info',\n",
       " 'punchline',\n",
       " 'face',\n",
       " 'linfo',\n",
       " 'derniere',\n",
       " 'minute',\n",
       " 'direct',\n",
       " 'suivre',\n",
       " 'motions',\n",
       " 'censure',\n",
       " 'faits',\n",
       " 'divers',\n",
       " 'politique',\n",
       " 'procheorient',\n",
       " 'france',\n",
       " 'paris',\n",
       " 'sport',\n",
       " 'football',\n",
       " 'divertissement',\n",
       " 'partager',\n",
       " 'wwwcnewsfrfrancearnaquelacopiedecbattentioncette',\n",
       " 'escroqueriequitouchedenombreux',\n",
       " 'francaistarnaquecalacopiedecbaattentioncacetteescroqueriequiatouchcadenombreuxfrancaais',\n",
       " 'tweet',\n",
       " 'arnaque',\n",
       " 'copie',\n",
       " 'attention',\n",
       " 'cette',\n",
       " 'escroquerie',\n",
       " 'touche',\n",
       " 'nombreux',\n",
       " 'francais',\n",
       " 'terminal',\n",
       " 'carte',\n",
       " 'bancaire',\n",
       " 'donnees',\n",
       " 'bancaires',\n",
       " 'peuvent',\n",
       " 'etre',\n",
       " 'fois',\n",
       " 'volees',\n",
       " 'revendues',\n",
       " 'tomek',\n",
       " 'pixabay',\n",
       " 'partager',\n",
       " 'wwwfacebookcomsharersharerphpu',\n",
       " 'francearnaquelacopiedecbattentioncetteescroquerie',\n",
       " 'quitouchedenombreux',\n",
       " 'francaistarnaquecalacopiedecbaattentioncacetteescroqueriequiatouchcadenombreuxfrancaais',\n",
       " 'tweet',\n",
       " 'cnews',\n",
       " 'publie',\n",
       " 'mis',\n",
       " 'jour',\n",
       " 'region',\n",
       " 'toulouse',\n",
       " 'trois',\n",
       " 'individus',\n",
       " 'ete',\n",
       " 'arretes',\n",
       " 'courant',\n",
       " 'novembre',\n",
       " 'pratique',\n",
       " 'skimming',\n",
       " 'methode',\n",
       " 'fraude',\n",
       " 'bancaire',\n",
       " 'touche',\n",
       " 'beaucoup',\n",
       " 'francais',\n",
       " 'dernieres',\n",
       " 'annees',\n",
       " 'quoi',\n",
       " 'consistet',\n",
       " 'operation',\n",
       " 'reussie',\n",
       " 'cote',\n",
       " 'toulouse',\n",
       " 'lantenne',\n",
       " 'cyber',\n",
       " 'section',\n",
       " 'recherches',\n",
       " 'demantele',\n",
       " 'reseau',\n",
       " 'descroquerie',\n",
       " 'carte',\n",
       " 'bancaire',\n",
       " 'annonce',\n",
       " 'gendarmerie',\n",
       " 'samedi',\n",
       " 'novembre',\n",
       " 'accuses',\n",
       " 'etaient',\n",
       " 'passes',\n",
       " 'expert',\n",
       " 'pratique',\n",
       " 'skimming',\n",
       " 'apres',\n",
       " 'larrestation',\n",
       " 'trois',\n",
       " 'ressortissants',\n",
       " 'lest',\n",
       " 'region',\n",
       " 'toulouse',\n",
       " 'fraude',\n",
       " 'carte',\n",
       " 'bancaire',\n",
       " 'autorites',\n",
       " 'alertent',\n",
       " 'skimming',\n",
       " 'toulouse',\n",
       " 'actu',\n",
       " 'toulouseunreseaudeskimmingdemantelecestquoicetteescroquerie',\n",
       " 'surlescartesbancaireshtml',\n",
       " 'lescroquerie',\n",
       " 'skimming',\n",
       " 'consiste',\n",
       " 'cloner',\n",
       " 'carte',\n",
       " 'bancaire',\n",
       " 'trafiquant',\n",
       " 'piratant',\n",
       " 'terminaux',\n",
       " 'paiement',\n",
       " 'lesquels',\n",
       " 'cette',\n",
       " 'carte',\n",
       " 'peut',\n",
       " 'etre',\n",
       " 'inseree',\n",
       " 'comme',\n",
       " 'distributeurs',\n",
       " 'billets',\n",
       " 'automates',\n",
       " 'stationservice',\n",
       " 'explique',\n",
       " 'gendarmerie',\n",
       " 'nationale',\n",
       " 'donnees',\n",
       " 'ensuite',\n",
       " 'dupliquees',\n",
       " 'autre',\n",
       " 'carte',\n",
       " 'puce',\n",
       " 'permettant',\n",
       " 'ainsi',\n",
       " 'dacceder',\n",
       " 'comptes',\n",
       " 'bancaires',\n",
       " 'relies',\n",
       " 'carte',\n",
       " 'majorite',\n",
       " 'cas',\n",
       " 'fraudeurs',\n",
       " 'trafiquent',\n",
       " 'terminaux',\n",
       " 'paiements',\n",
       " 'comme',\n",
       " 'distributeurs',\n",
       " 'billets',\n",
       " 'encore',\n",
       " 'automates',\n",
       " 'installes',\n",
       " 'stationsservices',\n",
       " 'afin',\n",
       " 'copier',\n",
       " 'donnees',\n",
       " 'bancaires',\n",
       " 'bande',\n",
       " 'magnetique',\n",
       " 'elles',\n",
       " 'ensuite',\n",
       " 'transferees',\n",
       " 'autre',\n",
       " 'puce',\n",
       " 'agit',\n",
       " 'comme',\n",
       " 'copie',\n",
       " 'carte',\n",
       " 'skimmer',\n",
       " 'materiel',\n",
       " 'glissant',\n",
       " 'fente',\n",
       " 'dun',\n",
       " 'automate',\n",
       " 'tout',\n",
       " 'laissant',\n",
       " 'lespace',\n",
       " 'quune',\n",
       " 'carte',\n",
       " 'bancaire',\n",
       " 'puisse',\n",
       " 'etre',\n",
       " 'glissee',\n",
       " 'naturellement',\n",
       " 'indiquaient',\n",
       " 'lobservatoire',\n",
       " 'securite',\n",
       " 'moyens',\n",
       " 'paiement',\n",
       " 'osmp',\n",
       " 'copie',\n",
       " 'donnees',\n",
       " 'bancaires',\n",
       " 'nempeche',\n",
       " 'bon',\n",
       " 'fonctionnement',\n",
       " 'carte',\n",
       " 'donnees',\n",
       " 'revendues',\n",
       " 'cartes',\n",
       " 'copiees',\n",
       " 'peuvent',\n",
       " 'etre',\n",
       " 'utilisees',\n",
       " 'distances',\n",
       " 'sites',\n",
       " 'commerces',\n",
       " 'plus',\n",
       " 'souvent',\n",
       " 'noneuropeens',\n",
       " 'pays',\n",
       " 'systeme',\n",
       " 'dauthentification',\n",
       " 'titulaire',\n",
       " 'carte',\n",
       " 'nest',\n",
       " 'actif',\n",
       " 'donnees',\n",
       " 'peuvent',\n",
       " 'egalement',\n",
       " 'etre',\n",
       " 'revendues',\n",
       " 'lespayslesplusconcerneseneurope',\n",
       " 'meme',\n",
       " 'sujetfraude',\n",
       " 'carte',\n",
       " 'bancaire',\n",
       " 'voici',\n",
       " 'pays',\n",
       " 'plus',\n",
       " 'concernes',\n",
       " 'europelire',\n",
       " 'lacartebancairevoicilespayslesplusconcerneseneurope',\n",
       " 'meme',\n",
       " 'federation',\n",
       " 'francaise',\n",
       " 'bancaire',\n",
       " 'fbf',\n",
       " 'indique',\n",
       " 'skimming',\n",
       " 'baisse',\n",
       " 'france',\n",
       " 'conseille',\n",
       " 'surveiller',\n",
       " 'comptes',\n",
       " 'bancaires',\n",
       " 'frequemment',\n",
       " 'prevenir',\n",
       " 'fraudes',\n",
       " 'fraude',\n",
       " 'bancaire',\n",
       " 'wwwcnewsfrcartebancairevol',\n",
       " 'suivre',\n",
       " 'aussi',\n",
       " 'enedis',\n",
       " 'attention',\n",
       " 'compteurs',\n",
       " 'linky',\n",
       " 'feront',\n",
       " 'lobjet',\n",
       " 'controles',\n",
       " 'surprises',\n",
       " 'compteurslinkyferontlobjetdecontrolessurprises',\n",
       " 'carte',\n",
       " 'vitale',\n",
       " 'tout',\n",
       " 'changer',\n",
       " 'changeren',\n",
       " 'fraude',\n",
       " 'millions',\n",
       " 'deuros',\n",
       " 'insolvable',\n",
       " 'couple',\n",
       " 'touchait',\n",
       " 'aides',\n",
       " 'sociales',\n",
       " 'etait',\n",
       " 'millionnaire',\n",
       " 'insolvablelecouplequitouchaitdesaidessociales',\n",
       " 'francearnaquelacopiedecbattentioncetteescroquerie',\n",
       " 'quitouchedenombreux',\n",
       " 'francaistarnaquecalacopiedecbaattentioncacetteescroqueriequiatouchcadenombreuxfrancaais',\n",
       " 'ailleurs',\n",
       " 'web',\n",
       " 'contenus',\n",
       " 'sponsorises',\n",
       " 'templatecolorboxutmsourcecnews',\n",
       " 'cnewsutmmediumreferralutmcontentthumbnails',\n",
       " 'bbelowarticlethumbnailsunitcontenus',\n",
       " 'sponsorises',\n",
       " 'popuptaboolacomfrtemplatecolorboxutmsourcecnews',\n",
       " 'cnewsutmmediumreferralutmcontentthumbnails',\n",
       " 'bbelowarticlethumbnailsunit',\n",
       " 'contenus',\n",
       " 'selectionnes',\n",
       " 'templatecolorboxutmsourcecnews',\n",
       " 'cnewsutmmediumreferralutmcontentthumbnails',\n",
       " 'bbelowarticlethumbnailsunitcontenus',\n",
       " 'selectionnes',\n",
       " 'popuptaboolacomfrtemplatecolorboxutmsourcecnews',\n",
       " 'cnewsutmmediumreferralutmcontentthumbnails',\n",
       " 'bbelowarticlethumbnailsunit',\n",
       " 'utmsourcetbutmmediumcpcutmcampaigngutfdkutmtermcnews',\n",
       " 'cnewsutmcontenttgibnnbdigwshmpfiaiylgdqywdzkvrieycrruyotwnvppwlmlivsgatbtblcigibnnbdigwshmpfiaiylgdqywdzkvrieycrruyotwnvppwlmlivsgtblcigibnnbdigwshmpfiaiylgdqywdzkvrieycrruyotwnvppwlmlivsgnutritionnistes',\n",
       " 'astuce',\n",
       " 'eliminer',\n",
       " 'graisse',\n",
       " 'abdominale',\n",
       " 'prendre',\n",
       " 'avant',\n",
       " 'petitdejeunernva',\n",
       " 'savoir',\n",
       " 'plus',\n",
       " 'utmsourcetbutmmediumcpcutmcampaigngutfdkutmtermcnews',\n",
       " 'cnewsutmcontenttgibnnbdigwshmpfiaiylgdqywdzkvrieycrruyotwnvppwlmlivsgatbtblcigibnnbdigwshmpfiaiylgdqywdzkvrieycrruyotwnvppwlmlivsgtblcigibnnbdigwshmpfiaiylgdqywdzkvrieycrruyotwnvppwlmlivsg',\n",
       " 'annuler',\n",
       " 'utmsourcetbutmcampaigntbdkfutmtermcnews',\n",
       " 'cnewsutmcontenttgibnnbdigwshmpfiaiylgdqywdzkvrieycsfwopjsmtnkcmlivsgatbtblcigibnnbdigwshmpfiaiylgdqywdzkvrieycsfwopjsmtnkcmlivsgtblcigibnnbdigwshmpfiaiylgdqywdzkvrieycsfwopjsmtnkcmlivsgneuropathie',\n",
       " 'insupportable',\n",
       " 'essayez',\n",
       " 'cette',\n",
       " 'astuce',\n",
       " 'simple',\n",
       " 'change',\n",
       " 'toutsb',\n",
       " 'savoir',\n",
       " 'plus',\n",
       " 'utmsourcetbutmcampaigntbdkfutmtermcnews',\n",
       " 'cnewsutmcontenttgibnnbdigwshmpfiaiylgdqywdzkvrieycsfwopjsmtnkcmlivsgatbtblcigibnnbdigwshmpfiaiylgdqywdzkvrieycsfwopjsmtnkcmlivsgtblcigibnnbdigwshmpfiaiylgdqywdzkvrieycsfwopjsmtnkcmlivsg',\n",
       " 'annuler',\n",
       " 'utmsourcetbutmmediumcpcutmcampaigngutfdkutmtermcnews',\n",
       " 'cnewsutmcontenttgibnnbdigwshmpfiaiylgdqywdzkvrieycrruyoicbotldhrsvmlivsgatbtblcigibnnbdigwshmpfiaiylgdqywdzkvrieycrruyoicbotldhrsvmlivsgtblcigibnnbdigwshmpfiaiylgdqywdzkvrieycrruyoicbotldhrsvmlivsgtrop',\n",
       " 'graisse',\n",
       " 'ventre',\n",
       " 'geste',\n",
       " 'simple',\n",
       " 'avant',\n",
       " 'petit',\n",
       " 'dejeunernutravya',\n",
       " 'savoir',\n",
       " 'plus',\n",
       " 'utmsourcetbutmmediumcpcutmcampaigngutfdkutmtermcnews',\n",
       " 'cnewsutmcontenttgibnnbdigwshmpfiaiylgdqywdzkvrieycrruyoicbotldhrsvmlivsgatbtblcigibnnbdigwshmpfiaiylgdqywdzkvrieycrruyoicbotldhrsvmlivsgtblcigibnnbdigwshmpfiaiylgdqywdzkvrieycrruyoicbotldhrsvmlivsg',\n",
       " 'annuler',\n",
       " 'dasoptfpoposlapsllonatsptabkididkpsalescodecvdposnattabotbclickidgibnnbdigwshmpfiaiylgdqywdzkvrieycireoiyeyjbhtyamlivsgtblcigibnnbdigwshmpfiaiylgdqywdzkvrieycireoiyeyjbhtyamlivsgtblcigibnnbdigwshmpfiaiylgdqywdzkvrieycireoiyeyjbhtyamlivsgdurdur',\n",
       " 'daller',\n",
       " 'toilettes',\n",
       " 'faites',\n",
       " 'ceci',\n",
       " 'jour',\n",
       " 'avant',\n",
       " 'petit',\n",
       " 'dejeunerscience',\n",
       " 'actualite',\n",
       " 'annuler',\n",
       " 'sitecnews',\n",
       " 'cnewssiteidtitleplusdepiqcbbresdedoigtfrcaquentespourlasurveillancedelaglyccamieplatformdesktopcampaignidcampaignitemidthumbnail',\n",
       " 'piqures',\n",
       " 'doigt',\n",
       " 'frequentes',\n",
       " 'surveillance',\n",
       " 'glycemiesherum',\n",
       " 'savoir',\n",
       " 'plus',\n",
       " 'sitecnews',\n",
       " 'cnewssiteidtitleplusdepiqcbbresdedoigtfrcaquentespourlasurveillancedelaglyccamieplatformdesktopcampaignidcampaignitemidthumbnail',\n",
       " 'annuler',\n",
       " 'clickidgibnnbdigwshmpfiaiylgdqywdzkvrieyduogcoryqyymvcgwatcrositecnewscnewsthumbnail',\n",
       " 'seniors',\n",
       " 'sarrachent',\n",
       " 'chaussures',\n",
       " 'concues',\n",
       " 'articulations',\n",
       " 'revue',\n",
       " 'confort',\n",
       " 'annuler',\n",
       " 'taboola',\n",
       " 'templatecolorboxutmsourcecnews',\n",
       " 'cnewsutmmediumreferralutmcontentthumbnails',\n",
       " 'bbelowarticlethumbnailsunitpar',\n",
       " 'taboola',\n",
       " 'popuptaboolacomfrtemplatecolorboxutmsourcecnews',\n",
       " 'cnewsutmmediumreferralutmcontentthumbnails',\n",
       " 'bbelowarticlethumbnailsunit',\n",
       " 'dernieres',\n",
       " 'actualites',\n",
       " 'iran',\n",
       " 'prix',\n",
       " 'nobel',\n",
       " 'paix',\n",
       " 'narges',\n",
       " 'mohammadi',\n",
       " 'sort',\n",
       " 'temporairement',\n",
       " 'prison',\n",
       " 'raisons',\n",
       " 'sante',\n",
       " 'nargesmohammadisorttemporairementdeprisonpour',\n",
       " 'francais',\n",
       " 'posent',\n",
       " 'tous',\n",
       " 'meme',\n",
       " 'question',\n",
       " 'largent',\n",
       " 'tonne',\n",
       " 'marine',\n",
       " 'pen',\n",
       " 'avant',\n",
       " 'vote',\n",
       " 'motions',\n",
       " 'censure',\n",
       " 'memequestionouvalargenttonnemarinelepen',\n",
       " 'noel',\n",
       " 'beaux',\n",
       " 'livres',\n",
       " 'offrir',\n",
       " 'fous',\n",
       " 'sport',\n",
       " 'offrirauxfousdesport',\n",
       " 'asteroide',\n",
       " 'siberie',\n",
       " 'images',\n",
       " 'impressionnantes',\n",
       " 'meteore',\n",
       " 'avant',\n",
       " 'impact',\n",
       " 'video',\n",
       " 'impressionnantesdumeteoreavantsonimpactvideo',\n",
       " 'vents',\n",
       " 'violents',\n",
       " 'voici',\n",
       " 'departements',\n",
       " 'places',\n",
       " 'vigilance',\n",
       " 'jaune',\n",
       " 'jeudi',\n",
       " 'departementsplacesenvigilancejaunecejeudi',\n",
       " 'neigeverglas',\n",
       " 'voici',\n",
       " 'departements',\n",
       " 'places',\n",
       " 'vigilance',\n",
       " 'jaune',\n",
       " 'jeudi',\n",
       " 'departementsplacesenvigilancejaunecejeudi',\n",
       " 'prince',\n",
       " 'andrew',\n",
       " 'duc',\n",
       " 'dyork',\n",
       " 'plus',\n",
       " 'isole',\n",
       " 'jamais',\n",
       " 'depuis',\n",
       " 'frere',\n",
       " 'charles',\n",
       " 'iii',\n",
       " 'coupe',\n",
       " 'allocation',\n",
       " 'annuelle',\n",
       " 'isolequejamaisdepuisquesonfrerecharlesiii',\n",
       " 'plus',\n",
       " 'darticles',\n",
       " 'belgique',\n",
       " 'devient',\n",
       " 'premier',\n",
       " 'pays',\n",
       " 'monde',\n",
       " 'permettre',\n",
       " 'travailleurs',\n",
       " 'travailleuses',\n",
       " 'sexe',\n",
       " 'signer',\n",
       " 'contrat',\n",
       " 'travail',\n",
       " 'paysaumondepermettreauxtravailleurset',\n",
       " 'terminal',\n",
       " 'carte',\n",
       " 'bancaire',\n",
       " 'arnaque',\n",
       " 'copie',\n",
       " 'attention',\n",
       " 'cette',\n",
       " 'escroquerie',\n",
       " 'touche',\n",
       " 'nombreux',\n",
       " 'francais',\n",
       " 'attentioncetteescroqueriequitouchedenombreuxfrancais',\n",
       " 'voici',\n",
       " 'pays',\n",
       " 'plus',\n",
       " 'endettes',\n",
       " 'monde',\n",
       " 'endettesaumonde',\n",
       " 'tout',\n",
       " 'parti',\n",
       " 'dune',\n",
       " 'decision',\n",
       " 'larbitre',\n",
       " 'morgue',\n",
       " 'pleine',\n",
       " 'moins',\n",
       " 'morts',\n",
       " 'match',\n",
       " 'foot',\n",
       " 'tourne',\n",
       " 'carnage',\n",
       " 'guinee',\n",
       " 'larbitrelamorgueestpleineaumoinsmortsun',\n",
       " 'greve',\n",
       " 'decembre',\n",
       " 'ecoles',\n",
       " 'hopitaux',\n",
       " 'transports',\n",
       " 'perturbations',\n",
       " 'prevoir',\n",
       " 'jeudi',\n",
       " 'hopitauxtransportscesperturbationsprevoircejeudi',\n",
       " 'accueil',\n",
       " 'suiveznous',\n",
       " 'facebook',\n",
       " 'instagram',\n",
       " 'twitter',\n",
       " 'tiktok',\n",
       " 'mentions',\n",
       " 'legales',\n",
       " 'politique',\n",
       " 'cookies',\n",
       " 'gestion',\n",
       " 'cookies',\n",
       " 'javascriptdidomipreferencesshow',\n",
       " 'cgu',\n",
       " 'actualite',\n",
       " 'mots',\n",
       " 'croises',\n",
       " 'mots',\n",
       " 'fleches',\n",
       " 'solitaire',\n",
       " 'sudoku',\n",
       " 'programme',\n",
       " 'devenir',\n",
       " 'annonceur',\n",
       " 'devenirannonceurcommuniquersurcnews',\n",
       " 'flux',\n",
       " 'rss',\n",
       " 'resultats',\n",
       " 'elections',\n",
       " 'legislatives',\n",
       " 'electionsresultatslegislatives']"
      ]
     },
     "execution_count": 17,
     "metadata": {},
     "output_type": "execute_result"
    }
   ],
   "source": [
    "cleaned_text"
   ]
  },
  {
   "cell_type": "markdown",
   "metadata": {},
   "source": [
    "Après la phase du pré_processing, le texte a été considérablement nettoyé, passant de 216532 termes bruts à seulement 6515 mots significatifs prêts pour l'analyse."
   ]
  },
  {
   "cell_type": "code",
   "execution_count": 18,
   "metadata": {},
   "outputs": [
    {
     "name": "stdout",
     "output_type": "stream",
     "text": [
      "Longueur des données brutes (concaténées) : 22231 caractères.\n",
      "Nombre de mots après prétraitement : 740 mots.\n"
     ]
    }
   ],
   "source": [
    "\n",
    "print(f\"Longueur des données brutes (concaténées) : {len(article_text)} caractères.\")\n",
    "print(f\"Nombre de mots après prétraitement : {len(cleaned_text)} mots.\")"
   ]
  },
  {
   "cell_type": "markdown",
   "metadata": {},
   "source": [
    "4.Phase de vectorisation\n",
    "\n",
    " Nous avons opter pour la technique de vectorisation tf-idf(Term-Frequency-Inverse Document Frequency), elle va nous permet de pondérer la fréquence de nos tokens en fonction de son importance relative . \n",
    "\n",
    " On calculera donc le score de chacun des mots dans notre (cleaned_text)\n"
   ]
  },
  {
   "cell_type": "code",
   "execution_count": 19,
   "metadata": {},
   "outputs": [],
   "source": [
    "from sklearn.feature_extraction.text import TfidfVectorizer\n",
    "\n",
    "\n",
    "tfidf_vectorizer = TfidfVectorizer(max_features=100,ngram_range=(1,2))\n",
    "tfidf_matrix = tfidf_vectorizer.fit_transform([' '.join(cleaned_text)])\n",
    "tfidf_df = pd.DataFrame(\n",
    "    tfidf_matrix.toarray(),\n",
    "    columns=tfidf_vectorizer.get_feature_names_out()\n",
    ")\n"
   ]
  },
  {
   "cell_type": "code",
   "execution_count": 21,
   "metadata": {},
   "outputs": [
    {
     "name": "stdout",
     "output_type": "stream",
     "text": [
      "['annuler' 'asteroide' 'asteroide siberie' 'avant' 'avant impact'\n",
      " 'bancaire' 'bancaires' 'beaux' 'beaux livres' 'carte' 'carte bancaire'\n",
      " 'cette' 'cnewsutmmediumreferralutmcontentthumbnails'\n",
      " 'cnewsutmmediumreferralutmcontentthumbnails bbelowarticlethumbnailsunit'\n",
      " 'comme' 'copie' 'departements' 'departements places'\n",
      " 'departementsplacesenvigilancejaunecejeudi' 'donnees' 'etre' 'faits'\n",
      " 'fous' 'fous sport' 'francais' 'francais posent'\n",
      " 'francaistarnaquecalacopiedecbaattentioncacetteescroqueriequiatouchcadenombreuxfrancaais'\n",
      " 'fraude' 'images' 'images impressionnantes' 'impact' 'impact video'\n",
      " 'impressionnantes' 'impressionnantes meteore'\n",
      " 'impressionnantesdumeteoreavantsonimpactvideo'\n",
      " 'impressionnantesdumeteoreavantsonimpactvideo vents' 'iran' 'jaune'\n",
      " 'jaune jeudi' 'jeudi' 'jeudi departementsplacesenvigilancejaunecejeudi'\n",
      " 'largent' 'livres' 'livres offrir' 'marine' 'marine pen' 'meme'\n",
      " 'meme question' 'memequestionouvalargenttonnemarinelepen'\n",
      " 'memequestionouvalargenttonnemarinelepen noel' 'meteore' 'meteore avant'\n",
      " 'mohammadi' 'mohammadi sort' 'motions' 'narges' 'narges mohammadi'\n",
      " 'nargesmohammadisorttemporairementdeprisonpour' 'nobel' 'nobel paix'\n",
      " 'noel' 'noel beaux' 'offrir' 'offrir fous' 'offrirauxfousdesport'\n",
      " 'offrirauxfousdesport asteroide' 'paix' 'paix narges' 'pays' 'places'\n",
      " 'places vigilance' 'plus' 'politique'\n",
      " 'popuptaboolacomfrtemplatecolorboxutmsourcecnews'\n",
      " 'popuptaboolacomfrtemplatecolorboxutmsourcecnews cnewsutmmediumreferralutmcontentthumbnails'\n",
      " 'posent' 'posent tous' 'question largent' 'raisons' 'raisons sante'\n",
      " 'sante' 'savoir' 'savoir plus' 'siberie' 'siberie images' 'skimming'\n",
      " 'sport' 'sport offrirauxfousdesport' 'toulouse'\n",
      " 'utmsourcetbutmmediumcpcutmcampaigngutfdkutmtermcnews' 'vents'\n",
      " 'vents violents' 'video'\n",
      " 'video impressionnantesdumeteoreavantsonimpactvideo' 'vigilance'\n",
      " 'vigilance jaune' 'violents' 'violents voici' 'voici'\n",
      " 'voici departements']\n"
     ]
    }
   ],
   "source": [
    "print(tfidf_vectorizer.get_feature_names_out())"
   ]
  },
  {
   "cell_type": "code",
   "execution_count": 24,
   "metadata": {},
   "outputs": [
    {
     "name": "stdout",
     "output_type": "stream",
     "text": [
      "                 Mot  Fréquence\n",
      "0            annuler   0.129369\n",
      "1          asteroide   0.086246\n",
      "2  asteroide siberie   0.086246\n",
      "3              avant   0.215615\n",
      "4       avant impact   0.086246\n"
     ]
    }
   ],
   "source": [
    "# Conversion en DataFrame avec les mots comme lignes et leurs fréquences\n",
    "tfidf_df = pd.DataFrame(tfidf_df.sum(axis=0), columns=['Fréquence']).reset_index()\n",
    "tfidf_df.rename(columns={'index': 'Mot'}, inplace=True)\n",
    "\n",
    "# Vérification des colonnes\n",
    "print(tfidf_df.head())\n"
   ]
  },
  {
   "cell_type": "code",
   "execution_count": 45,
   "metadata": {},
   "outputs": [],
   "source": [
    "\n",
    "stop_words = list(stop_words)\n",
    "# Liste des stop words à exclure\n",
    "stop_words.extend([\n",
    "    'voici', 'vents', 'sport', 'siberie', 'posent', 'offrir', 'noel', \n",
    "    'nobel', 'narges', 'motions', 'mohammadi', 'meteore', 'meme', \n",
    "    'marine', 'livresjaune', 'iran', 'jeudi', 'fous', 'comme', \n",
    "    'cette', 'avant', 'asteroide','jaune','plus','beaux'\n",
    "])\n",
    "\n",
    "# Filtrage des mots pertinents\n",
    "filtered_tfidf_df = tfidf_df[\n",
    "    (tfidf_df['Fréquence'] > 0.05) &  # Fréquence minimale\n",
    "    (tfidf_df['Fréquence'] < 0.5) &  # Fréquence maximale\n",
    "    (tfidf_df['Mot'].str.len().between(4, 15)) &  # Longueur des mots\n",
    "    (~tfidf_df['Mot'].str.contains(r'[^a-zA-Zéèêàùç]', regex=True)) &  # Exclusion des mots avec caractères spéciaux\n",
    "    (~tfidf_df['Mot'].isin(stop_words))  # Exclusion des stopwords\n",
    "]\n"
   ]
  },
  {
   "cell_type": "code",
   "execution_count": 60,
   "metadata": {},
   "outputs": [
    {
     "name": "stdout",
     "output_type": "stream",
     "text": [
      "740\n"
     ]
    }
   ],
   "source": [
    "print(len(cleaned_text))"
   ]
  },
  {
   "cell_type": "code",
   "execution_count": 53,
   "metadata": {},
   "outputs": [
    {
     "data": {
      "text/plain": [
       "<bound method IndexOpsMixin.tolist of Index(['annuler', 'asteroide', 'asteroide siberie', 'avant', 'avant impact',\n",
       "       'bancaire', 'bancaires', 'beaux', 'beaux livres', 'carte',\n",
       "       'carte bancaire', 'cette', 'cnewsutmmediumreferralutmcontentthumbnails',\n",
       "       'cnewsutmmediumreferralutmcontentthumbnails bbelowarticlethumbnailsunit',\n",
       "       'comme', 'copie', 'departements', 'departements places',\n",
       "       'departementsplacesenvigilancejaunecejeudi', 'donnees', 'etre', 'faits',\n",
       "       'fous', 'fous sport', 'francais', 'francais posent',\n",
       "       'francaistarnaquecalacopiedecbaattentioncacetteescroqueriequiatouchcadenombreuxfrancaais',\n",
       "       'fraude', 'images', 'images impressionnantes', 'impact', 'impact video',\n",
       "       'impressionnantes', 'impressionnantes meteore',\n",
       "       'impressionnantesdumeteoreavantsonimpactvideo',\n",
       "       'impressionnantesdumeteoreavantsonimpactvideo vents', 'iran', 'jaune',\n",
       "       'jaune jeudi', 'jeudi',\n",
       "       'jeudi departementsplacesenvigilancejaunecejeudi', 'largent', 'livres',\n",
       "       'livres offrir', 'marine', 'marine pen', 'meme', 'meme question',\n",
       "       'memequestionouvalargenttonnemarinelepen',\n",
       "       'memequestionouvalargenttonnemarinelepen noel', 'meteore',\n",
       "       'meteore avant', 'mohammadi', 'mohammadi sort', 'motions', 'narges',\n",
       "       'narges mohammadi', 'nargesmohammadisorttemporairementdeprisonpour',\n",
       "       'nobel', 'nobel paix', 'noel', 'noel beaux', 'offrir', 'offrir fous',\n",
       "       'offrirauxfousdesport', 'offrirauxfousdesport asteroide', 'paix',\n",
       "       'paix narges', 'pays', 'places', 'places vigilance', 'plus',\n",
       "       'politique', 'popuptaboolacomfrtemplatecolorboxutmsourcecnews',\n",
       "       'popuptaboolacomfrtemplatecolorboxutmsourcecnews cnewsutmmediumreferralutmcontentthumbnails',\n",
       "       'posent', 'posent tous', 'question largent', 'raisons', 'raisons sante',\n",
       "       'sante', 'savoir', 'savoir plus', 'siberie', 'siberie images',\n",
       "       'skimming', 'sport', 'sport offrirauxfousdesport', 'toulouse',\n",
       "       'utmsourcetbutmmediumcpcutmcampaigngutfdkutmtermcnews', 'vents',\n",
       "       'vents violents', 'video',\n",
       "       'video impressionnantesdumeteoreavantsonimpactvideo', 'vigilance',\n",
       "       'vigilance jaune', 'violents', 'violents voici', 'voici',\n",
       "       'voici departements'],\n",
       "      dtype='object')>"
      ]
     },
     "execution_count": 53,
     "metadata": {},
     "output_type": "execute_result"
    }
   ],
   "source": [
    "tfidf_df.columns.to_list"
   ]
  },
  {
   "cell_type": "code",
   "execution_count": 46,
   "metadata": {},
   "outputs": [
    {
     "name": "stdout",
     "output_type": "stream",
     "text": [
      "    annuler  asteroide  asteroide siberie     avant  avant impact  bancaire  \\\n",
      "0  0.129369   0.086246           0.086246  0.215615      0.086246  0.215615   \n",
      "\n",
      "   bancaires     beaux  beaux livres     carte  carte bancaire     cette  \\\n",
      "0   0.107808  0.086246      0.086246  0.301862        0.150931  0.086246   \n",
      "\n",
      "   cnewsutmmediumreferralutmcontentthumbnails  \\\n",
      "0                                    0.129369   \n",
      "\n",
      "   cnewsutmmediumreferralutmcontentthumbnails bbelowarticlethumbnailsunit  \\\n",
      "0                                           0.064685                        \n",
      "\n",
      "      comme     copie  departements  departements places  \\\n",
      "0  0.064685  0.086246      0.107808             0.107808   \n",
      "\n",
      "   departementsplacesenvigilancejaunecejeudi   donnees      etre     faits  \\\n",
      "0                                   0.107808  0.129369  0.107808  0.064685   \n",
      "\n",
      "       fous  fous sport  francais  francais posent  \\\n",
      "0  0.086246    0.086246  0.129369         0.064685   \n",
      "\n",
      "   francaistarnaquecalacopiedecbaattentioncacetteescroqueriequiatouchcadenombreuxfrancaais  \\\n",
      "0                                           0.064685                                         \n",
      "\n",
      "     fraude    images  images impressionnantes    impact  impact video  \\\n",
      "0  0.086246  0.086246                 0.086246  0.086246      0.086246   \n",
      "\n",
      "   impressionnantes  impressionnantes meteore  \\\n",
      "0          0.086246                  0.086246   \n",
      "\n",
      "   impressionnantesdumeteoreavantsonimpactvideo  \\\n",
      "0                                      0.086246   \n",
      "\n",
      "   impressionnantesdumeteoreavantsonimpactvideo vents      iran     jaune  \\\n",
      "0                                           0.086246   0.064685  0.107808   \n",
      "\n",
      "   jaune jeudi     jeudi  jeudi departementsplacesenvigilancejaunecejeudi  \\\n",
      "0     0.107808  0.129369                                         0.107808   \n",
      "\n",
      "    largent    livres  livres offrir    marine  marine pen      meme  \\\n",
      "0  0.064685  0.086246       0.086246  0.064685    0.064685  0.107808   \n",
      "\n",
      "   meme question  memequestionouvalargenttonnemarinelepen  \\\n",
      "0       0.064685                                 0.064685   \n",
      "\n",
      "   memequestionouvalargenttonnemarinelepen noel   meteore  meteore avant  \\\n",
      "0                                      0.064685  0.086246       0.086246   \n",
      "\n",
      "   mohammadi  mohammadi sort   motions    narges  narges mohammadi  \\\n",
      "0   0.064685        0.064685  0.086246  0.064685          0.064685   \n",
      "\n",
      "   nargesmohammadisorttemporairementdeprisonpour     nobel  nobel paix  \\\n",
      "0                                       0.064685  0.064685    0.064685   \n",
      "\n",
      "       noel  noel beaux    offrir  offrir fous  offrirauxfousdesport  \\\n",
      "0  0.086246    0.086246  0.086246     0.086246              0.086246   \n",
      "\n",
      "   offrirauxfousdesport asteroide      paix  paix narges      pays    places  \\\n",
      "0                        0.086246  0.064685     0.064685  0.086246  0.107808   \n",
      "\n",
      "   places vigilance      plus  politique  \\\n",
      "0          0.107808  0.194054   0.064685   \n",
      "\n",
      "   popuptaboolacomfrtemplatecolorboxutmsourcecnews  \\\n",
      "0                                         0.064685   \n",
      "\n",
      "   popuptaboolacomfrtemplatecolorboxutmsourcecnews cnewsutmmediumreferralutmcontentthumbnails  \\\n",
      "0                                           0.064685                                            \n",
      "\n",
      "     posent  posent tous  question largent   raisons  raisons sante     sante  \\\n",
      "0  0.064685     0.064685          0.064685  0.064685       0.064685  0.086246   \n",
      "\n",
      "     savoir  savoir plus   siberie  siberie images  skimming     sport  \\\n",
      "0  0.086246     0.086246  0.086246        0.086246  0.107808  0.129369   \n",
      "\n",
      "   sport offrirauxfousdesport  toulouse  \\\n",
      "0                    0.086246  0.086246   \n",
      "\n",
      "   utmsourcetbutmmediumcpcutmcampaigngutfdkutmtermcnews     vents  \\\n",
      "0                                           0.086246     0.086246   \n",
      "\n",
      "   vents violents     video  \\\n",
      "0        0.086246  0.129369   \n",
      "\n",
      "   video impressionnantesdumeteoreavantsonimpactvideo  vigilance  \\\n",
      "0                                           0.086246    0.107808   \n",
      "\n",
      "   vigilance jaune  violents  violents voici     voici  voici departements  \n",
      "0         0.107808  0.086246        0.086246  0.150931            0.107808  \n"
     ]
    }
   ],
   "source": [
    "# affichage de la frequence du IF-IDF par colonne\n",
    "pd.set_option(\"display.max_columns\", None)  \n",
    "pd.set_option(\"display.width\", None)       \n",
    "print(tfidf_df)"
   ]
  },
  {
   "cell_type": "markdown",
   "metadata": {},
   "source": [
    "Après le filtrage par TF-IDF , nous allons compter le nombre d'occurrence de chaque mots\n",
    "des mots importants retenu par colonne "
   ]
  },
  {
   "cell_type": "code",
   "execution_count": 47,
   "metadata": {},
   "outputs": [],
   "source": [
    "# Filtrons les mots-clés\n",
    "\n",
    "filtered_tfidf_df = tfidf_df[[col for col in tfidf_df.columns ]]\n",
    "\n",
    "\n"
   ]
  },
  {
   "cell_type": "markdown",
   "metadata": {},
   "source": [
    "Visualisation de la distribution des fréquences des mots "
   ]
  },
  {
   "cell_type": "code",
   "execution_count": 46,
   "metadata": {},
   "outputs": [
    {
     "data": {
      "application/vnd.plotly.v1+json": {
       "config": {
        "plotlyServerURL": "https://plot.ly"
       },
       "data": [
        {
         "alignmentgroup": "True",
         "hovertemplate": "<b>%{hovertext}</b><br><br>Mot=%{x}<br>Fréquence=%{marker.color}<extra></extra>",
         "hovertext": [
          "annuler",
          "bancaire",
          "bancaires",
          "carte",
          "copie",
          "departements",
          "donnees",
          "etre",
          "faits",
          "francais",
          "fraude",
          "images",
          "impact",
          "largent",
          "livres",
          "paix",
          "pays",
          "places",
          "politique",
          "raisons",
          "sante",
          "savoir",
          "skimming",
          "toulouse",
          "video",
          "vigilance",
          "violents"
         ],
         "legendgroup": "",
         "marker": {
          "color": [
           0.12936924547063017,
           0.21561540911771696,
           0.10780770455885848,
           0.30186157276480374,
           0.08624616364708679,
           0.10780770455885848,
           0.12936924547063017,
           0.10780770455885848,
           0.06468462273531508,
           0.12936924547063017,
           0.08624616364708679,
           0.08624616364708679,
           0.08624616364708679,
           0.06468462273531508,
           0.08624616364708679,
           0.06468462273531508,
           0.08624616364708679,
           0.10780770455885848,
           0.06468462273531508,
           0.06468462273531508,
           0.08624616364708679,
           0.08624616364708679,
           0.10780770455885848,
           0.08624616364708679,
           0.12936924547063017,
           0.10780770455885848,
           0.08624616364708679
          ],
          "coloraxis": "coloraxis",
          "pattern": {
           "shape": ""
          }
         },
         "name": "",
         "offsetgroup": "",
         "orientation": "v",
         "showlegend": false,
         "text": [
          0.12936924547063017,
          0.21561540911771696,
          0.10780770455885848,
          0.30186157276480374,
          0.08624616364708679,
          0.10780770455885848,
          0.12936924547063017,
          0.10780770455885848,
          0.06468462273531508,
          0.12936924547063017,
          0.08624616364708679,
          0.08624616364708679,
          0.08624616364708679,
          0.06468462273531508,
          0.08624616364708679,
          0.06468462273531508,
          0.08624616364708679,
          0.10780770455885848,
          0.06468462273531508,
          0.06468462273531508,
          0.08624616364708679,
          0.08624616364708679,
          0.10780770455885848,
          0.08624616364708679,
          0.12936924547063017,
          0.10780770455885848,
          0.08624616364708679
         ],
         "textposition": "outside",
         "type": "bar",
         "x": [
          "annuler",
          "bancaire",
          "bancaires",
          "carte",
          "copie",
          "departements",
          "donnees",
          "etre",
          "faits",
          "francais",
          "fraude",
          "images",
          "impact",
          "largent",
          "livres",
          "paix",
          "pays",
          "places",
          "politique",
          "raisons",
          "sante",
          "savoir",
          "skimming",
          "toulouse",
          "video",
          "vigilance",
          "violents"
         ],
         "xaxis": "x",
         "y": [
          0.12936924547063017,
          0.21561540911771696,
          0.10780770455885848,
          0.30186157276480374,
          0.08624616364708679,
          0.10780770455885848,
          0.12936924547063017,
          0.10780770455885848,
          0.06468462273531508,
          0.12936924547063017,
          0.08624616364708679,
          0.08624616364708679,
          0.08624616364708679,
          0.06468462273531508,
          0.08624616364708679,
          0.06468462273531508,
          0.08624616364708679,
          0.10780770455885848,
          0.06468462273531508,
          0.06468462273531508,
          0.08624616364708679,
          0.08624616364708679,
          0.10780770455885848,
          0.08624616364708679,
          0.12936924547063017,
          0.10780770455885848,
          0.08624616364708679
         ],
         "yaxis": "y"
        }
       ],
       "layout": {
        "barmode": "relative",
        "coloraxis": {
         "colorbar": {
          "title": {
           "text": "Fréquence"
          }
         },
         "colorscale": [
          [
           0,
           "#0d0887"
          ],
          [
           0.1111111111111111,
           "#46039f"
          ],
          [
           0.2222222222222222,
           "#7201a8"
          ],
          [
           0.3333333333333333,
           "#9c179e"
          ],
          [
           0.4444444444444444,
           "#bd3786"
          ],
          [
           0.5555555555555556,
           "#d8576b"
          ],
          [
           0.6666666666666666,
           "#ed7953"
          ],
          [
           0.7777777777777778,
           "#fb9f3a"
          ],
          [
           0.8888888888888888,
           "#fdca26"
          ],
          [
           1,
           "#f0f921"
          ]
         ]
        },
        "legend": {
         "tracegroupgap": 0
        },
        "margin": {
         "b": 120,
         "l": 40,
         "r": 20,
         "t": 40
        },
        "template": {
         "data": {
          "bar": [
           {
            "error_x": {
             "color": "#2a3f5f"
            },
            "error_y": {
             "color": "#2a3f5f"
            },
            "marker": {
             "line": {
              "color": "#E5ECF6",
              "width": 0.5
             },
             "pattern": {
              "fillmode": "overlay",
              "size": 10,
              "solidity": 0.2
             }
            },
            "type": "bar"
           }
          ],
          "barpolar": [
           {
            "marker": {
             "line": {
              "color": "#E5ECF6",
              "width": 0.5
             },
             "pattern": {
              "fillmode": "overlay",
              "size": 10,
              "solidity": 0.2
             }
            },
            "type": "barpolar"
           }
          ],
          "carpet": [
           {
            "aaxis": {
             "endlinecolor": "#2a3f5f",
             "gridcolor": "white",
             "linecolor": "white",
             "minorgridcolor": "white",
             "startlinecolor": "#2a3f5f"
            },
            "baxis": {
             "endlinecolor": "#2a3f5f",
             "gridcolor": "white",
             "linecolor": "white",
             "minorgridcolor": "white",
             "startlinecolor": "#2a3f5f"
            },
            "type": "carpet"
           }
          ],
          "choropleth": [
           {
            "colorbar": {
             "outlinewidth": 0,
             "ticks": ""
            },
            "type": "choropleth"
           }
          ],
          "contour": [
           {
            "colorbar": {
             "outlinewidth": 0,
             "ticks": ""
            },
            "colorscale": [
             [
              0,
              "#0d0887"
             ],
             [
              0.1111111111111111,
              "#46039f"
             ],
             [
              0.2222222222222222,
              "#7201a8"
             ],
             [
              0.3333333333333333,
              "#9c179e"
             ],
             [
              0.4444444444444444,
              "#bd3786"
             ],
             [
              0.5555555555555556,
              "#d8576b"
             ],
             [
              0.6666666666666666,
              "#ed7953"
             ],
             [
              0.7777777777777778,
              "#fb9f3a"
             ],
             [
              0.8888888888888888,
              "#fdca26"
             ],
             [
              1,
              "#f0f921"
             ]
            ],
            "type": "contour"
           }
          ],
          "contourcarpet": [
           {
            "colorbar": {
             "outlinewidth": 0,
             "ticks": ""
            },
            "type": "contourcarpet"
           }
          ],
          "heatmap": [
           {
            "colorbar": {
             "outlinewidth": 0,
             "ticks": ""
            },
            "colorscale": [
             [
              0,
              "#0d0887"
             ],
             [
              0.1111111111111111,
              "#46039f"
             ],
             [
              0.2222222222222222,
              "#7201a8"
             ],
             [
              0.3333333333333333,
              "#9c179e"
             ],
             [
              0.4444444444444444,
              "#bd3786"
             ],
             [
              0.5555555555555556,
              "#d8576b"
             ],
             [
              0.6666666666666666,
              "#ed7953"
             ],
             [
              0.7777777777777778,
              "#fb9f3a"
             ],
             [
              0.8888888888888888,
              "#fdca26"
             ],
             [
              1,
              "#f0f921"
             ]
            ],
            "type": "heatmap"
           }
          ],
          "heatmapgl": [
           {
            "colorbar": {
             "outlinewidth": 0,
             "ticks": ""
            },
            "colorscale": [
             [
              0,
              "#0d0887"
             ],
             [
              0.1111111111111111,
              "#46039f"
             ],
             [
              0.2222222222222222,
              "#7201a8"
             ],
             [
              0.3333333333333333,
              "#9c179e"
             ],
             [
              0.4444444444444444,
              "#bd3786"
             ],
             [
              0.5555555555555556,
              "#d8576b"
             ],
             [
              0.6666666666666666,
              "#ed7953"
             ],
             [
              0.7777777777777778,
              "#fb9f3a"
             ],
             [
              0.8888888888888888,
              "#fdca26"
             ],
             [
              1,
              "#f0f921"
             ]
            ],
            "type": "heatmapgl"
           }
          ],
          "histogram": [
           {
            "marker": {
             "pattern": {
              "fillmode": "overlay",
              "size": 10,
              "solidity": 0.2
             }
            },
            "type": "histogram"
           }
          ],
          "histogram2d": [
           {
            "colorbar": {
             "outlinewidth": 0,
             "ticks": ""
            },
            "colorscale": [
             [
              0,
              "#0d0887"
             ],
             [
              0.1111111111111111,
              "#46039f"
             ],
             [
              0.2222222222222222,
              "#7201a8"
             ],
             [
              0.3333333333333333,
              "#9c179e"
             ],
             [
              0.4444444444444444,
              "#bd3786"
             ],
             [
              0.5555555555555556,
              "#d8576b"
             ],
             [
              0.6666666666666666,
              "#ed7953"
             ],
             [
              0.7777777777777778,
              "#fb9f3a"
             ],
             [
              0.8888888888888888,
              "#fdca26"
             ],
             [
              1,
              "#f0f921"
             ]
            ],
            "type": "histogram2d"
           }
          ],
          "histogram2dcontour": [
           {
            "colorbar": {
             "outlinewidth": 0,
             "ticks": ""
            },
            "colorscale": [
             [
              0,
              "#0d0887"
             ],
             [
              0.1111111111111111,
              "#46039f"
             ],
             [
              0.2222222222222222,
              "#7201a8"
             ],
             [
              0.3333333333333333,
              "#9c179e"
             ],
             [
              0.4444444444444444,
              "#bd3786"
             ],
             [
              0.5555555555555556,
              "#d8576b"
             ],
             [
              0.6666666666666666,
              "#ed7953"
             ],
             [
              0.7777777777777778,
              "#fb9f3a"
             ],
             [
              0.8888888888888888,
              "#fdca26"
             ],
             [
              1,
              "#f0f921"
             ]
            ],
            "type": "histogram2dcontour"
           }
          ],
          "mesh3d": [
           {
            "colorbar": {
             "outlinewidth": 0,
             "ticks": ""
            },
            "type": "mesh3d"
           }
          ],
          "parcoords": [
           {
            "line": {
             "colorbar": {
              "outlinewidth": 0,
              "ticks": ""
             }
            },
            "type": "parcoords"
           }
          ],
          "pie": [
           {
            "automargin": true,
            "type": "pie"
           }
          ],
          "scatter": [
           {
            "fillpattern": {
             "fillmode": "overlay",
             "size": 10,
             "solidity": 0.2
            },
            "type": "scatter"
           }
          ],
          "scatter3d": [
           {
            "line": {
             "colorbar": {
              "outlinewidth": 0,
              "ticks": ""
             }
            },
            "marker": {
             "colorbar": {
              "outlinewidth": 0,
              "ticks": ""
             }
            },
            "type": "scatter3d"
           }
          ],
          "scattercarpet": [
           {
            "marker": {
             "colorbar": {
              "outlinewidth": 0,
              "ticks": ""
             }
            },
            "type": "scattercarpet"
           }
          ],
          "scattergeo": [
           {
            "marker": {
             "colorbar": {
              "outlinewidth": 0,
              "ticks": ""
             }
            },
            "type": "scattergeo"
           }
          ],
          "scattergl": [
           {
            "marker": {
             "colorbar": {
              "outlinewidth": 0,
              "ticks": ""
             }
            },
            "type": "scattergl"
           }
          ],
          "scattermapbox": [
           {
            "marker": {
             "colorbar": {
              "outlinewidth": 0,
              "ticks": ""
             }
            },
            "type": "scattermapbox"
           }
          ],
          "scatterpolar": [
           {
            "marker": {
             "colorbar": {
              "outlinewidth": 0,
              "ticks": ""
             }
            },
            "type": "scatterpolar"
           }
          ],
          "scatterpolargl": [
           {
            "marker": {
             "colorbar": {
              "outlinewidth": 0,
              "ticks": ""
             }
            },
            "type": "scatterpolargl"
           }
          ],
          "scatterternary": [
           {
            "marker": {
             "colorbar": {
              "outlinewidth": 0,
              "ticks": ""
             }
            },
            "type": "scatterternary"
           }
          ],
          "surface": [
           {
            "colorbar": {
             "outlinewidth": 0,
             "ticks": ""
            },
            "colorscale": [
             [
              0,
              "#0d0887"
             ],
             [
              0.1111111111111111,
              "#46039f"
             ],
             [
              0.2222222222222222,
              "#7201a8"
             ],
             [
              0.3333333333333333,
              "#9c179e"
             ],
             [
              0.4444444444444444,
              "#bd3786"
             ],
             [
              0.5555555555555556,
              "#d8576b"
             ],
             [
              0.6666666666666666,
              "#ed7953"
             ],
             [
              0.7777777777777778,
              "#fb9f3a"
             ],
             [
              0.8888888888888888,
              "#fdca26"
             ],
             [
              1,
              "#f0f921"
             ]
            ],
            "type": "surface"
           }
          ],
          "table": [
           {
            "cells": {
             "fill": {
              "color": "#EBF0F8"
             },
             "line": {
              "color": "white"
             }
            },
            "header": {
             "fill": {
              "color": "#C8D4E3"
             },
             "line": {
              "color": "white"
             }
            },
            "type": "table"
           }
          ]
         },
         "layout": {
          "annotationdefaults": {
           "arrowcolor": "#2a3f5f",
           "arrowhead": 0,
           "arrowwidth": 1
          },
          "autotypenumbers": "strict",
          "coloraxis": {
           "colorbar": {
            "outlinewidth": 0,
            "ticks": ""
           }
          },
          "colorscale": {
           "diverging": [
            [
             0,
             "#8e0152"
            ],
            [
             0.1,
             "#c51b7d"
            ],
            [
             0.2,
             "#de77ae"
            ],
            [
             0.3,
             "#f1b6da"
            ],
            [
             0.4,
             "#fde0ef"
            ],
            [
             0.5,
             "#f7f7f7"
            ],
            [
             0.6,
             "#e6f5d0"
            ],
            [
             0.7,
             "#b8e186"
            ],
            [
             0.8,
             "#7fbc41"
            ],
            [
             0.9,
             "#4d9221"
            ],
            [
             1,
             "#276419"
            ]
           ],
           "sequential": [
            [
             0,
             "#0d0887"
            ],
            [
             0.1111111111111111,
             "#46039f"
            ],
            [
             0.2222222222222222,
             "#7201a8"
            ],
            [
             0.3333333333333333,
             "#9c179e"
            ],
            [
             0.4444444444444444,
             "#bd3786"
            ],
            [
             0.5555555555555556,
             "#d8576b"
            ],
            [
             0.6666666666666666,
             "#ed7953"
            ],
            [
             0.7777777777777778,
             "#fb9f3a"
            ],
            [
             0.8888888888888888,
             "#fdca26"
            ],
            [
             1,
             "#f0f921"
            ]
           ],
           "sequentialminus": [
            [
             0,
             "#0d0887"
            ],
            [
             0.1111111111111111,
             "#46039f"
            ],
            [
             0.2222222222222222,
             "#7201a8"
            ],
            [
             0.3333333333333333,
             "#9c179e"
            ],
            [
             0.4444444444444444,
             "#bd3786"
            ],
            [
             0.5555555555555556,
             "#d8576b"
            ],
            [
             0.6666666666666666,
             "#ed7953"
            ],
            [
             0.7777777777777778,
             "#fb9f3a"
            ],
            [
             0.8888888888888888,
             "#fdca26"
            ],
            [
             1,
             "#f0f921"
            ]
           ]
          },
          "colorway": [
           "#636efa",
           "#EF553B",
           "#00cc96",
           "#ab63fa",
           "#FFA15A",
           "#19d3f3",
           "#FF6692",
           "#B6E880",
           "#FF97FF",
           "#FECB52"
          ],
          "font": {
           "color": "#2a3f5f"
          },
          "geo": {
           "bgcolor": "white",
           "lakecolor": "white",
           "landcolor": "#E5ECF6",
           "showlakes": true,
           "showland": true,
           "subunitcolor": "white"
          },
          "hoverlabel": {
           "align": "left"
          },
          "hovermode": "closest",
          "mapbox": {
           "style": "light"
          },
          "paper_bgcolor": "white",
          "plot_bgcolor": "#E5ECF6",
          "polar": {
           "angularaxis": {
            "gridcolor": "white",
            "linecolor": "white",
            "ticks": ""
           },
           "bgcolor": "#E5ECF6",
           "radialaxis": {
            "gridcolor": "white",
            "linecolor": "white",
            "ticks": ""
           }
          },
          "scene": {
           "xaxis": {
            "backgroundcolor": "#E5ECF6",
            "gridcolor": "white",
            "gridwidth": 2,
            "linecolor": "white",
            "showbackground": true,
            "ticks": "",
            "zerolinecolor": "white"
           },
           "yaxis": {
            "backgroundcolor": "#E5ECF6",
            "gridcolor": "white",
            "gridwidth": 2,
            "linecolor": "white",
            "showbackground": true,
            "ticks": "",
            "zerolinecolor": "white"
           },
           "zaxis": {
            "backgroundcolor": "#E5ECF6",
            "gridcolor": "white",
            "gridwidth": 2,
            "linecolor": "white",
            "showbackground": true,
            "ticks": "",
            "zerolinecolor": "white"
           }
          },
          "shapedefaults": {
           "line": {
            "color": "#2a3f5f"
           }
          },
          "ternary": {
           "aaxis": {
            "gridcolor": "white",
            "linecolor": "white",
            "ticks": ""
           },
           "baxis": {
            "gridcolor": "white",
            "linecolor": "white",
            "ticks": ""
           },
           "bgcolor": "#E5ECF6",
           "caxis": {
            "gridcolor": "white",
            "linecolor": "white",
            "ticks": ""
           }
          },
          "title": {
           "x": 0.05
          },
          "xaxis": {
           "automargin": true,
           "gridcolor": "white",
           "linecolor": "white",
           "ticks": "",
           "title": {
            "standoff": 15
           },
           "zerolinecolor": "white",
           "zerolinewidth": 2
          },
          "yaxis": {
           "automargin": true,
           "gridcolor": "white",
           "linecolor": "white",
           "ticks": "",
           "title": {
            "standoff": 15
           },
           "zerolinecolor": "white",
           "zerolinewidth": 2
          }
         }
        },
        "title": {
         "text": "Fréquence des mots pertinents (TF-IDF)"
        },
        "xaxis": {
         "anchor": "y",
         "domain": [
          0,
          1
         ],
         "tickangle": 45,
         "title": {
          "text": "Mots"
         }
        },
        "yaxis": {
         "anchor": "x",
         "domain": [
          0,
          1
         ],
         "title": {
          "text": "Fréquence"
         }
        }
       }
      }
     },
     "metadata": {},
     "output_type": "display_data"
    }
   ],
   "source": [
    "\n",
    "import plotly.express as px\n",
    "\n",
    "# Créer un graphique avec les mots pertinents\n",
    "fig = px.bar(filtered_tfidf_df, x='Mot', y='Fréquence', title=\"Fréquence des mots pertinents (TF-IDF)\",\n",
    "             text='Fréquence', color='Fréquence', hover_name='Mot')\n",
    "\n",
    "# Personnaliser le graphique\n",
    "fig.update_traces(textposition='outside')\n",
    "fig.update_layout(\n",
    "    xaxis_title='Mots', yaxis_title='Fréquence',\n",
    "    xaxis=dict(tickangle=45),\n",
    "    margin=dict(l=40, r=20, t=40, b=120)\n",
    ")\n",
    "\n",
    "# Afficher le graphique\n",
    "fig.show()\n",
    "\n"
   ]
  },
  {
   "cell_type": "code",
   "execution_count": 51,
   "metadata": {},
   "outputs": [
    {
     "data": {
      "application/vnd.plotly.v1+json": {
       "config": {
        "plotlyServerURL": "https://plot.ly"
       },
       "data": [
        {
         "hovertemplate": "x: %{x}<br>y: %{y}<br>color: [%{z[0]}, %{z[1]}, %{z[2]}]<extra></extra>",
         "name": "0",
         "source": "data:image/png;base64,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",
         "type": "image",
         "xaxis": "x",
         "yaxis": "y"
        }
       ],
       "layout": {
        "coloraxis": {
         "showscale": false
        },
        "margin": {
         "b": 0,
         "l": 0,
         "r": 0,
         "t": 0
        },
        "template": {
         "data": {
          "bar": [
           {
            "error_x": {
             "color": "#2a3f5f"
            },
            "error_y": {
             "color": "#2a3f5f"
            },
            "marker": {
             "line": {
              "color": "#E5ECF6",
              "width": 0.5
             },
             "pattern": {
              "fillmode": "overlay",
              "size": 10,
              "solidity": 0.2
             }
            },
            "type": "bar"
           }
          ],
          "barpolar": [
           {
            "marker": {
             "line": {
              "color": "#E5ECF6",
              "width": 0.5
             },
             "pattern": {
              "fillmode": "overlay",
              "size": 10,
              "solidity": 0.2
             }
            },
            "type": "barpolar"
           }
          ],
          "carpet": [
           {
            "aaxis": {
             "endlinecolor": "#2a3f5f",
             "gridcolor": "white",
             "linecolor": "white",
             "minorgridcolor": "white",
             "startlinecolor": "#2a3f5f"
            },
            "baxis": {
             "endlinecolor": "#2a3f5f",
             "gridcolor": "white",
             "linecolor": "white",
             "minorgridcolor": "white",
             "startlinecolor": "#2a3f5f"
            },
            "type": "carpet"
           }
          ],
          "choropleth": [
           {
            "colorbar": {
             "outlinewidth": 0,
             "ticks": ""
            },
            "type": "choropleth"
           }
          ],
          "contour": [
           {
            "colorbar": {
             "outlinewidth": 0,
             "ticks": ""
            },
            "colorscale": [
             [
              0,
              "#0d0887"
             ],
             [
              0.1111111111111111,
              "#46039f"
             ],
             [
              0.2222222222222222,
              "#7201a8"
             ],
             [
              0.3333333333333333,
              "#9c179e"
             ],
             [
              0.4444444444444444,
              "#bd3786"
             ],
             [
              0.5555555555555556,
              "#d8576b"
             ],
             [
              0.6666666666666666,
              "#ed7953"
             ],
             [
              0.7777777777777778,
              "#fb9f3a"
             ],
             [
              0.8888888888888888,
              "#fdca26"
             ],
             [
              1,
              "#f0f921"
             ]
            ],
            "type": "contour"
           }
          ],
          "contourcarpet": [
           {
            "colorbar": {
             "outlinewidth": 0,
             "ticks": ""
            },
            "type": "contourcarpet"
           }
          ],
          "heatmap": [
           {
            "colorbar": {
             "outlinewidth": 0,
             "ticks": ""
            },
            "colorscale": [
             [
              0,
              "#0d0887"
             ],
             [
              0.1111111111111111,
              "#46039f"
             ],
             [
              0.2222222222222222,
              "#7201a8"
             ],
             [
              0.3333333333333333,
              "#9c179e"
             ],
             [
              0.4444444444444444,
              "#bd3786"
             ],
             [
              0.5555555555555556,
              "#d8576b"
             ],
             [
              0.6666666666666666,
              "#ed7953"
             ],
             [
              0.7777777777777778,
              "#fb9f3a"
             ],
             [
              0.8888888888888888,
              "#fdca26"
             ],
             [
              1,
              "#f0f921"
             ]
            ],
            "type": "heatmap"
           }
          ],
          "heatmapgl": [
           {
            "colorbar": {
             "outlinewidth": 0,
             "ticks": ""
            },
            "colorscale": [
             [
              0,
              "#0d0887"
             ],
             [
              0.1111111111111111,
              "#46039f"
             ],
             [
              0.2222222222222222,
              "#7201a8"
             ],
             [
              0.3333333333333333,
              "#9c179e"
             ],
             [
              0.4444444444444444,
              "#bd3786"
             ],
             [
              0.5555555555555556,
              "#d8576b"
             ],
             [
              0.6666666666666666,
              "#ed7953"
             ],
             [
              0.7777777777777778,
              "#fb9f3a"
             ],
             [
              0.8888888888888888,
              "#fdca26"
             ],
             [
              1,
              "#f0f921"
             ]
            ],
            "type": "heatmapgl"
           }
          ],
          "histogram": [
           {
            "marker": {
             "pattern": {
              "fillmode": "overlay",
              "size": 10,
              "solidity": 0.2
             }
            },
            "type": "histogram"
           }
          ],
          "histogram2d": [
           {
            "colorbar": {
             "outlinewidth": 0,
             "ticks": ""
            },
            "colorscale": [
             [
              0,
              "#0d0887"
             ],
             [
              0.1111111111111111,
              "#46039f"
             ],
             [
              0.2222222222222222,
              "#7201a8"
             ],
             [
              0.3333333333333333,
              "#9c179e"
             ],
             [
              0.4444444444444444,
              "#bd3786"
             ],
             [
              0.5555555555555556,
              "#d8576b"
             ],
             [
              0.6666666666666666,
              "#ed7953"
             ],
             [
              0.7777777777777778,
              "#fb9f3a"
             ],
             [
              0.8888888888888888,
              "#fdca26"
             ],
             [
              1,
              "#f0f921"
             ]
            ],
            "type": "histogram2d"
           }
          ],
          "histogram2dcontour": [
           {
            "colorbar": {
             "outlinewidth": 0,
             "ticks": ""
            },
            "colorscale": [
             [
              0,
              "#0d0887"
             ],
             [
              0.1111111111111111,
              "#46039f"
             ],
             [
              0.2222222222222222,
              "#7201a8"
             ],
             [
              0.3333333333333333,
              "#9c179e"
             ],
             [
              0.4444444444444444,
              "#bd3786"
             ],
             [
              0.5555555555555556,
              "#d8576b"
             ],
             [
              0.6666666666666666,
              "#ed7953"
             ],
             [
              0.7777777777777778,
              "#fb9f3a"
             ],
             [
              0.8888888888888888,
              "#fdca26"
             ],
             [
              1,
              "#f0f921"
             ]
            ],
            "type": "histogram2dcontour"
           }
          ],
          "mesh3d": [
           {
            "colorbar": {
             "outlinewidth": 0,
             "ticks": ""
            },
            "type": "mesh3d"
           }
          ],
          "parcoords": [
           {
            "line": {
             "colorbar": {
              "outlinewidth": 0,
              "ticks": ""
             }
            },
            "type": "parcoords"
           }
          ],
          "pie": [
           {
            "automargin": true,
            "type": "pie"
           }
          ],
          "scatter": [
           {
            "fillpattern": {
             "fillmode": "overlay",
             "size": 10,
             "solidity": 0.2
            },
            "type": "scatter"
           }
          ],
          "scatter3d": [
           {
            "line": {
             "colorbar": {
              "outlinewidth": 0,
              "ticks": ""
             }
            },
            "marker": {
             "colorbar": {
              "outlinewidth": 0,
              "ticks": ""
             }
            },
            "type": "scatter3d"
           }
          ],
          "scattercarpet": [
           {
            "marker": {
             "colorbar": {
              "outlinewidth": 0,
              "ticks": ""
             }
            },
            "type": "scattercarpet"
           }
          ],
          "scattergeo": [
           {
            "marker": {
             "colorbar": {
              "outlinewidth": 0,
              "ticks": ""
             }
            },
            "type": "scattergeo"
           }
          ],
          "scattergl": [
           {
            "marker": {
             "colorbar": {
              "outlinewidth": 0,
              "ticks": ""
             }
            },
            "type": "scattergl"
           }
          ],
          "scattermapbox": [
           {
            "marker": {
             "colorbar": {
              "outlinewidth": 0,
              "ticks": ""
             }
            },
            "type": "scattermapbox"
           }
          ],
          "scatterpolar": [
           {
            "marker": {
             "colorbar": {
              "outlinewidth": 0,
              "ticks": ""
             }
            },
            "type": "scatterpolar"
           }
          ],
          "scatterpolargl": [
           {
            "marker": {
             "colorbar": {
              "outlinewidth": 0,
              "ticks": ""
             }
            },
            "type": "scatterpolargl"
           }
          ],
          "scatterternary": [
           {
            "marker": {
             "colorbar": {
              "outlinewidth": 0,
              "ticks": ""
             }
            },
            "type": "scatterternary"
           }
          ],
          "surface": [
           {
            "colorbar": {
             "outlinewidth": 0,
             "ticks": ""
            },
            "colorscale": [
             [
              0,
              "#0d0887"
             ],
             [
              0.1111111111111111,
              "#46039f"
             ],
             [
              0.2222222222222222,
              "#7201a8"
             ],
             [
              0.3333333333333333,
              "#9c179e"
             ],
             [
              0.4444444444444444,
              "#bd3786"
             ],
             [
              0.5555555555555556,
              "#d8576b"
             ],
             [
              0.6666666666666666,
              "#ed7953"
             ],
             [
              0.7777777777777778,
              "#fb9f3a"
             ],
             [
              0.8888888888888888,
              "#fdca26"
             ],
             [
              1,
              "#f0f921"
             ]
            ],
            "type": "surface"
           }
          ],
          "table": [
           {
            "cells": {
             "fill": {
              "color": "#EBF0F8"
             },
             "line": {
              "color": "white"
             }
            },
            "header": {
             "fill": {
              "color": "#C8D4E3"
             },
             "line": {
              "color": "white"
             }
            },
            "type": "table"
           }
          ]
         },
         "layout": {
          "annotationdefaults": {
           "arrowcolor": "#2a3f5f",
           "arrowhead": 0,
           "arrowwidth": 1
          },
          "autotypenumbers": "strict",
          "coloraxis": {
           "colorbar": {
            "outlinewidth": 0,
            "ticks": ""
           }
          },
          "colorscale": {
           "diverging": [
            [
             0,
             "#8e0152"
            ],
            [
             0.1,
             "#c51b7d"
            ],
            [
             0.2,
             "#de77ae"
            ],
            [
             0.3,
             "#f1b6da"
            ],
            [
             0.4,
             "#fde0ef"
            ],
            [
             0.5,
             "#f7f7f7"
            ],
            [
             0.6,
             "#e6f5d0"
            ],
            [
             0.7,
             "#b8e186"
            ],
            [
             0.8,
             "#7fbc41"
            ],
            [
             0.9,
             "#4d9221"
            ],
            [
             1,
             "#276419"
            ]
           ],
           "sequential": [
            [
             0,
             "#0d0887"
            ],
            [
             0.1111111111111111,
             "#46039f"
            ],
            [
             0.2222222222222222,
             "#7201a8"
            ],
            [
             0.3333333333333333,
             "#9c179e"
            ],
            [
             0.4444444444444444,
             "#bd3786"
            ],
            [
             0.5555555555555556,
             "#d8576b"
            ],
            [
             0.6666666666666666,
             "#ed7953"
            ],
            [
             0.7777777777777778,
             "#fb9f3a"
            ],
            [
             0.8888888888888888,
             "#fdca26"
            ],
            [
             1,
             "#f0f921"
            ]
           ],
           "sequentialminus": [
            [
             0,
             "#0d0887"
            ],
            [
             0.1111111111111111,
             "#46039f"
            ],
            [
             0.2222222222222222,
             "#7201a8"
            ],
            [
             0.3333333333333333,
             "#9c179e"
            ],
            [
             0.4444444444444444,
             "#bd3786"
            ],
            [
             0.5555555555555556,
             "#d8576b"
            ],
            [
             0.6666666666666666,
             "#ed7953"
            ],
            [
             0.7777777777777778,
             "#fb9f3a"
            ],
            [
             0.8888888888888888,
             "#fdca26"
            ],
            [
             1,
             "#f0f921"
            ]
           ]
          },
          "colorway": [
           "#636efa",
           "#EF553B",
           "#00cc96",
           "#ab63fa",
           "#FFA15A",
           "#19d3f3",
           "#FF6692",
           "#B6E880",
           "#FF97FF",
           "#FECB52"
          ],
          "font": {
           "color": "#2a3f5f"
          },
          "geo": {
           "bgcolor": "white",
           "lakecolor": "white",
           "landcolor": "#E5ECF6",
           "showlakes": true,
           "showland": true,
           "subunitcolor": "white"
          },
          "hoverlabel": {
           "align": "left"
          },
          "hovermode": "closest",
          "mapbox": {
           "style": "light"
          },
          "paper_bgcolor": "white",
          "plot_bgcolor": "#E5ECF6",
          "polar": {
           "angularaxis": {
            "gridcolor": "white",
            "linecolor": "white",
            "ticks": ""
           },
           "bgcolor": "#E5ECF6",
           "radialaxis": {
            "gridcolor": "white",
            "linecolor": "white",
            "ticks": ""
           }
          },
          "scene": {
           "xaxis": {
            "backgroundcolor": "#E5ECF6",
            "gridcolor": "white",
            "gridwidth": 2,
            "linecolor": "white",
            "showbackground": true,
            "ticks": "",
            "zerolinecolor": "white"
           },
           "yaxis": {
            "backgroundcolor": "#E5ECF6",
            "gridcolor": "white",
            "gridwidth": 2,
            "linecolor": "white",
            "showbackground": true,
            "ticks": "",
            "zerolinecolor": "white"
           },
           "zaxis": {
            "backgroundcolor": "#E5ECF6",
            "gridcolor": "white",
            "gridwidth": 2,
            "linecolor": "white",
            "showbackground": true,
            "ticks": "",
            "zerolinecolor": "white"
           }
          },
          "shapedefaults": {
           "line": {
            "color": "#2a3f5f"
           }
          },
          "ternary": {
           "aaxis": {
            "gridcolor": "white",
            "linecolor": "white",
            "ticks": ""
           },
           "baxis": {
            "gridcolor": "white",
            "linecolor": "white",
            "ticks": ""
           },
           "bgcolor": "#E5ECF6",
           "caxis": {
            "gridcolor": "white",
            "linecolor": "white",
            "ticks": ""
           }
          },
          "title": {
           "x": 0.05
          },
          "xaxis": {
           "automargin": true,
           "gridcolor": "white",
           "linecolor": "white",
           "ticks": "",
           "title": {
            "standoff": 15
           },
           "zerolinecolor": "white",
           "zerolinewidth": 2
          },
          "yaxis": {
           "automargin": true,
           "gridcolor": "white",
           "linecolor": "white",
           "ticks": "",
           "title": {
            "standoff": 15
           },
           "zerolinecolor": "white",
           "zerolinewidth": 2
          }
         }
        },
        "xaxis": {
         "anchor": "y",
         "domain": [
          0,
          1
         ],
         "showticklabels": false
        },
        "yaxis": {
         "anchor": "x",
         "domain": [
          0,
          1
         ],
         "showticklabels": false
        }
       }
      }
     },
     "metadata": {},
     "output_type": "display_data"
    }
   ],
   "source": [
    "from collections import defaultdict\n",
    "from wordcloud import WordCloud\n",
    "import plotly.express as px\n",
    "import pandas as pd\n",
    "\n",
    "\n",
    "# Génération du WordCloud avec les mots filtrés\n",
    "word_weights = dict(zip(filtered_tfidf_df['Mot'], filtered_tfidf_df['Fréquence']))\n",
    "\n",
    "wordcloud = WordCloud(\n",
    "    width=800,\n",
    "    height=400,\n",
    "    background_color='white',\n",
    "    colormap='viridis'\n",
    ").generate_from_frequencies(word_weights)\n",
    "\n",
    "# Conversion en image pour affichage avec Plotly\n",
    "wordcloud_image = wordcloud.to_array()\n",
    "\n",
    "# Affichage avec Plotly\n",
    "fig = px.imshow(\n",
    "    wordcloud_image,\n",
    "    \n",
    "    color_continuous_scale=\"viridis\"\n",
    ")\n",
    "\n",
    "# Suppression des marges et des bordures blanches\n",
    "fig.update_layout(\n",
    "    margin=dict(l=0, r=0, t=0, b=0),  # Suppression des marges\n",
    "    coloraxis_showscale=False  # Suppression de l'échelle des couleurs si non nécessaire\n",
    ")\n",
    "\n",
    "fig.update_xaxes(showticklabels=False)\n",
    "fig.update_yaxes(showticklabels=False)\n",
    "fig.show()\n"
   ]
  },
  {
   "cell_type": "markdown",
   "metadata": {},
   "source": [
    "\n",
    "analyse du resulat et recommandation\n",
    "\n",
    "Mon analyse\n",
    "\n",
    "\n",
    "Les résultats de mon WordCloud mettent en évidence les mots les plus significatifs en fonction de leur pondération (TF-IDF). Ils révèlent une forte concentration sur les problématiques de fraude bancaire, avec des thématiques majeures telles que le \"skimming\", une technique de fraude ciblant les données bancaires, ainsi que des notions comme \"vigilance\" et les \"impacts\" sur le pays.\n",
    "\n",
    "La présence de termes tels que \"vidéo\", \"copie\" et \"impressionnantes\" suggère une orientation vers des supports visuels pour sensibiliser les utilisateurs. Ces éléments pourraient indiquer que les campagnes de prévention axées sur des contenus visuels percutants sont particulièrement adaptées pour informer le public sur les risques et les méthodes liées aux fraudes bancaires.\n",
    "\n",
    "\n",
    "Ma recommandation\n",
    "\n",
    "- Mise en place de campagnes de prévention renforcées, appuyées par des supports vidéo éducatifs, afin d’expliquer les risques liés aux fraudes et de sensibiliser le public aux précautions à adopter. Ces campagnes pourraient être diffusées sur des plateformes clés telles que Facebook, Twitter et Instagram, pour toucher un large public de manière efficace et engageante.\n",
    "\n",
    "\n",
    "- Identification et renforcement des mesures  de  sécurité sur les zones les plus touchées par la fraude "
   ]
  },
  {
   "cell_type": "markdown",
   "metadata": {},
   "source": []
  }
 ],
 "metadata": {
  "kernelspec": {
   "display_name": "Python 3",
   "language": "python",
   "name": "python3"
  },
  "language_info": {
   "codemirror_mode": {
    "name": "ipython",
    "version": 3
   },
   "file_extension": ".py",
   "mimetype": "text/x-python",
   "name": "python",
   "nbconvert_exporter": "python",
   "pygments_lexer": "ipython3",
   "version": "3.12.6"
  }
 },
 "nbformat": 4,
 "nbformat_minor": 2
}
