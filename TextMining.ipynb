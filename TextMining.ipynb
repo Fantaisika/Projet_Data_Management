{
 "cells": [
  {
   "cell_type": "markdown",
   "metadata": {},
   "source": []
  },
  {
   "cell_type": "markdown",
   "metadata": {},
   "source": [
    "\n",
    "\n",
    "# Lien_article_Texte_Mining :\n",
    " https://www.cnews.fr/france/2024-12-03/arnaque-la-copie-de-cb-attention-cette-escroquerie-qui-touche-de-nombreux-francais\n",
    "\n",
    " # Date de publication:\n",
    " le 3 décembre 2024 \n",
    "\n",
    " # site de publication:\n",
    " CNEWS\n",
    "\n",
    " # Résumé de l'article:\n",
    " Cet article informe sur le démantèlement, en novembre 2024, d'un réseau de fraudeurs spécialisés dans le « skimming » à Toulouse. Cette technique permet de cloner des cartes bancaires en manipulant des terminaux de paiement pour accéder aux comptes des victimes. Les cartes clonées servent à des achats en ligne sur des sites à faible sécurité ou leurs données sont revendues. Malgré une baisse signalée du skimming en France, la Fédération bancaire recommande une vigilance accrue des comptes pour détecter toute fraude\n",
    "\n"
   ]
  },
  {
   "cell_type": "markdown",
   "metadata": {},
   "source": [
    "Etape du Texte_Mining de notre data_text"
   ]
  },
  {
   "cell_type": "markdown",
   "metadata": {},
   "source": [
    "Etape du Pré-processing\n",
    "\n",
    "Import des librairies utiles "
   ]
  },
  {
   "cell_type": "code",
   "execution_count": 22,
   "metadata": {},
   "outputs": [],
   "source": [
    "# Pour le data management \n",
    "import pandas as pd\n",
    "import numpy as np\n",
    "\n",
    "# Pour le pré processing\n",
    "from unidecode import unidecode\n",
    "import re\n",
    "from nltk.stem import SnowballStemmer\n",
    "from nltk.corpus import stopwords\n",
    "import nltk\n",
    "\n",
    "# Les bigrammes\n",
    "from collections import Counter\n",
    "from nltk.util import ngrams\n",
    "from collections import defaultdict\n",
    "\n",
    "# Pour la vectorisation\n",
    "from sklearn.feature_extraction.text import TfidfVectorizer \n",
    "\n",
    "# Pour la modélisation\n",
    "from sklearn.model_selection import train_test_split\n",
    "from sklearn.metrics import f1_score, recall_score, precision_score\n",
    "\n",
    "from sklearn.naive_bayes import GaussianNB"
   ]
  },
  {
   "cell_type": "markdown",
   "metadata": {},
   "source": [
    "1.Découverte et exploration des données\n",
    "  1.1. Import de la l'article à partir de telechargement en fichier text"
   ]
  },
  {
   "cell_type": "markdown",
   "metadata": {},
   "source": [
    "1.Extraction de la data_texte"
   ]
  },
  {
   "cell_type": "code",
   "execution_count": null,
   "metadata": {},
   "outputs": [
    {
     "name": "stdout",
     "output_type": "stream",
     "text": [
      "Texte extrait avec succès.\n"
     ]
    }
   ],
   "source": [
    "# Chemin du fichier texte\n",
    "file_path = \"articles/Arnaque à la copie de CB _ attention à cette escroquerie qui a touché de nombreux français.txt\"\n",
    "\n",
    "# Lecture du fichier texte\n",
    "with open(file_path, \"r\", encoding=\"utf-8\") as file:\n",
    "    article_text = file.read()\n",
    "print(\"Texte extrait avec succès.\")\n",
    "\n"
   ]
  },
  {
   "cell_type": "markdown",
   "metadata": {},
   "source": [
    "Exploration de nos données texte"
   ]
  },
  {
   "cell_type": "code",
   "execution_count": 24,
   "metadata": {},
   "outputs": [
    {
     "data": {
      "text/plain": [
       "22231"
      ]
     },
     "execution_count": 24,
     "metadata": {},
     "output_type": "execute_result"
    }
   ],
   "source": [
    "# determinons la longueur de data  brutes (sans traitement)\n",
    "len(article_text)\n",
    "\n",
    "# nos data texte contient 22 231 caractères(y compris espace , ponctuation etc)"
   ]
  },
  {
   "cell_type": "code",
   "execution_count": 25,
   "metadata": {},
   "outputs": [
    {
     "data": {
      "text/plain": [
       "['<https://www.cnews.fr/rechercher>',\n",
       " 'CNEWS',\n",
       " '|',\n",
       " 'Actualités,',\n",
       " 'Infos',\n",
       " 'et',\n",
       " 'News',\n",
       " 'en',\n",
       " 'direct',\n",
       " 'vidéo',\n",
       " 'et',\n",
       " 'replay',\n",
       " '<https://',\n",
       " 'www.cnews.fr/>',\n",
       " '*',\n",
       " 'Les',\n",
       " 'replays',\n",
       " '<https://www.cnews.fr/les-replays>',\n",
       " '*',\n",
       " 'Les',\n",
       " 'podcasts',\n",
       " '<https://www.cnews.fr/les-podcasts>',\n",
       " 'Thèmes',\n",
       " '*',\n",
       " 'Faits',\n",
       " 'divers',\n",
       " '<https://www.cnews.fr/faits-divers>',\n",
       " '*',\n",
       " 'Colère',\n",
       " 'des',\n",
       " 'agriculteurs',\n",
       " '<https://www.cnews.fr/agriculture>',\n",
       " '*',\n",
       " 'Proche-Orient',\n",
       " '<https://www.cnews.fr/proche-orient>',\n",
       " '*',\n",
       " 'Politique',\n",
       " '<https://www.cnews.fr/politique>',\n",
       " '*',\n",
       " 'France',\n",
       " '<https://www.cnews.fr/france>',\n",
       " '*',\n",
       " 'Monde',\n",
       " '<https://www.cnews.fr/monde>',\n",
       " '*',\n",
       " 'Paris',\n",
       " '<https://www.cnews.fr/paris>',\n",
       " '*',\n",
       " 'Culture',\n",
       " '<https://www.cnews.fr/culture>',\n",
       " '*',\n",
       " 'Divertissement',\n",
       " '<https://www.cnews.fr/divertissement>',\n",
       " '*',\n",
       " 'People',\n",
       " '<https://www.cnews.fr/people>',\n",
       " '*',\n",
       " 'Vie',\n",
       " 'numérique',\n",
       " '<https://www.cnews.fr/vie-numerique>',\n",
       " '*',\n",
       " 'Sport',\n",
       " '<https://www.cnews.fr/sport>',\n",
       " '*',\n",
       " 'Lifestyle',\n",
       " '<https://www.cnews.fr/lifestyle>',\n",
       " '*',\n",
       " 'Beauté',\n",
       " '<https://www.cnews.fr/beaute>',\n",
       " '*',\n",
       " 'Environnement',\n",
       " '<https://www.cnews.fr/environnement>',\n",
       " '*',\n",
       " 'Faits',\n",
       " 'divers',\n",
       " '<https://www.cnews.fr/faits-divers>',\n",
       " '*',\n",
       " 'Insolite',\n",
       " '<https://www.cnews.fr/insolite>',\n",
       " '*',\n",
       " 'Jeux',\n",
       " 'vidéo',\n",
       " '<https://www.cnews.fr/jeux-video>',\n",
       " '*',\n",
       " 'Nutrition',\n",
       " '<https://www.cnews.fr/nutrition>',\n",
       " '*',\n",
       " 'Santé',\n",
       " '<https://www.cnews.fr/sante>',\n",
       " '*',\n",
       " 'Science',\n",
       " '<https://www.cnews.fr/science>',\n",
       " '*',\n",
       " 'Le',\n",
       " 'corner',\n",
       " 'partenaires',\n",
       " '<https://www.cnews.fr/le-corner-partenaires>',\n",
       " '*',\n",
       " 'Météo',\n",
       " '<https://www.cnews.fr/meteo>',\n",
       " '*',\n",
       " 'Astrologie',\n",
       " '<https://www.cnews.fr/astrologie>',\n",
       " '*',\n",
       " 'Jeux',\n",
       " '<https://www.cnews.fr/jeux/tous-les-jeux>',\n",
       " '*',\n",
       " 'Loto',\n",
       " '<https://www.cnews.fr/loto>',\n",
       " '*',\n",
       " 'Programme',\n",
       " 'TV',\n",
       " 'TNT',\n",
       " '<https://www.cnews.fr/programme-tv-tnt>',\n",
       " '*',\n",
       " 'Facebook',\n",
       " '<https://www.facebook.com/CNEWSofficiel>',\n",
       " '*',\n",
       " 'Instagram',\n",
       " '<https://www.instagram.com/cnewsofficiel>',\n",
       " '*',\n",
       " 'Twitter',\n",
       " '<https://twitter.com/CNEWS>',\n",
       " 'Dernière',\n",
       " 'minute',\n",
       " '<https://www.cnews.fr/le-direct>',\n",
       " 'Previous',\n",
       " '17h26',\n",
       " 'Noël',\n",
       " '2024',\n",
       " ':',\n",
       " 'les',\n",
       " 'beaux',\n",
       " 'livres',\n",
       " 'à',\n",
       " 'offrir',\n",
       " 'aux',\n",
       " 'fous',\n",
       " 'de',\n",
       " 'sport',\n",
       " '<https://www.cnews.fr/culture/2024-12-04/noel-2024-les-beaux-livres-',\n",
       " 'offrir-aux-fous-de-sport-1586511>',\n",
       " '17h24',\n",
       " 'Astéroïde',\n",
       " 'en',\n",
       " 'Sibérie',\n",
       " ':',\n",
       " 'les',\n",
       " 'images',\n",
       " 'impressionnant']"
      ]
     },
     "execution_count": 25,
     "metadata": {},
     "output_type": "execute_result"
    }
   ],
   "source": [
    "article_text[:2000].split()"
   ]
  },
  {
   "cell_type": "code",
   "execution_count": 26,
   "metadata": {},
   "outputs": [
    {
     "data": {
      "text/plain": [
       "str"
      ]
     },
     "execution_count": 26,
     "metadata": {},
     "output_type": "execute_result"
    }
   ],
   "source": [
    "# verifions que le contenu de notre données est du type string\n",
    "\n",
    "type(article_text)"
   ]
  },
  {
   "cell_type": "markdown",
   "metadata": {},
   "source": [
    "Je selectionne les lignes "
   ]
  },
  {
   "cell_type": "markdown",
   "metadata": {},
   "source": [
    "2.Prétraitement du texte\n",
    "Nettoyage du texte pour supprimer les caractères inutiles, suppression des accents et des stopwords\n"
   ]
  },
  {
   "cell_type": "code",
   "execution_count": 27,
   "metadata": {},
   "outputs": [
    {
     "name": "stderr",
     "output_type": "stream",
     "text": [
      "[nltk_data] Downloading package stopwords to\n",
      "[nltk_data]     C:\\Users\\pc\\AppData\\Roaming\\nltk_data...\n",
      "[nltk_data]   Unzipping corpora\\stopwords.zip.\n"
     ]
    }
   ],
   "source": [
    "\n",
    "nltk.download('stopwords') # téléchargement du package depuis la bibliothèque NLTK(Natural language Toolkit)\n",
    "stop_words = set(stopwords.words('french'))  #  je charge la ligne des  stopwords pour la langue française\n"
   ]
  },
  {
   "cell_type": "code",
   "execution_count": 28,
   "metadata": {},
   "outputs": [
    {
     "name": "stdout",
     "output_type": "stream",
     "text": [
      "{'on', 'étais', 'son', 'eue', 'même', 'est', 'sommes', 'une', 'aux', 'me', 'fût', 'avons', 'les', 'et', 'ont', 'eut', 'serions', 'eûtes', 'aurez', 'serons', 'étions', 'ne', 'avez', 'ayons', 'je', 'auras', 'fûmes', 'êtes', 'eusses', 'ton', 'était', 'soyez', 'soyons', 'aurons', 'aies', 'se', 'ces', 'fussent', 'eux', 'qu', 'nous', 'ses', 'aviez', 't', 'avaient', 'votre', 'elle', 'as', 'aurai', 'ou', 'eusse', 'l', 'étés', 'eu', 'te', 'étaient', 'étée', 'qui', 'd', 'eûmes', 'des', 'sa', 'étiez', 'furent', 'seriez', 'ma', 'fut', 'j', 'ai', 'tes', 'mon', 'aie', 'dans', 'avais', 'pour', 'fusse', 'ayez', 'eussions', 'sera', 'sont', 'le', 'ta', 'fûtes', 'auriez', 'mes', 'avions', 'sur', 'au', 'seront', 'étante', 'ils', 'n', 'serez', 'leur', 'vos', 'étants', 'sois', 'étant', 'étantes', 'suis', 'été', 'seraient', 'la', 'auront', 'ayant', 'soient', 'de', 'eus', 'es', 'un', 'ait', 'il', 'du', 'notre', 'à', 'seras', 'serait', 'serai', 'eût', 'c', 'aurais', 'soit', 'ce', 'fusses', 'fus', 'auraient', 'avait', 'lui', 'eussiez', 'nos', 'eues', 'y', 'm', 'ayante', 'fussiez', 'que', 'aura', 'serais', 'eurent', 'pas', 'tu', 'en', 'vous', 'ayants', 'fussions', 'aient', 'avec', 'toi', 'mais', 'par', 'eussent', 'aurions', 'étées', 'moi', 'ayantes', 'aurait', 's'}\n"
     ]
    }
   ],
   "source": [
    "print(stop_words)"
   ]
  },
  {
   "cell_type": "markdown",
   "metadata": {},
   "source": [
    "Après le chargement de la liste des mots inutiles (stop_words) pour notre analyse textuelle, nous constatons qu'elle contient un total de 157 termes."
   ]
  },
  {
   "cell_type": "code",
   "execution_count": 29,
   "metadata": {},
   "outputs": [
    {
     "name": "stdout",
     "output_type": "stream",
     "text": [
      "157\n"
     ]
    }
   ],
   "source": [
    "print( len(stop_words))"
   ]
  },
  {
   "cell_type": "markdown",
   "metadata": {},
   "source": [
    "3. passons à  l'étape du pré-procéssing de notre data_texte"
   ]
  },
  {
   "cell_type": "code",
   "execution_count": 30,
   "metadata": {},
   "outputs": [
    {
     "name": "stdout",
     "output_type": "stream",
     "text": [
      "Texte nettoyé avec succès.\n"
     ]
    }
   ],
   "source": [
    "# étape du pré-processing\n",
    "\n",
    "\n",
    "def preprocess_text(text):\n",
    "    text = text.lower()  # Conversion en minuscules\n",
    "    text = unidecode(text)  # Suppression des accents\n",
    "    text = re.sub(r'http\\S+', '', text)  # Suppression des URL\n",
    "    text = re.sub(r'[^a-z\\s]', '', text)  # Suppression des caractères spéciaux\n",
    "    text = re.sub(r'\\b\\w{1,2}\\b', '', text)  # Suppression des mots très courts (1-2 lettres)\n",
    "    text = re.sub(r'\\s+', ' ', text)  # Suppression des espaces multiples\n",
    "    words = text.split()  # Tokenisation\n",
    "    words = [word for word in words if word not in stop_words]  # Suppression des stopwords\n",
    "    return ' '.join(words).split()\n",
    "\n",
    "# Appliquer le nettoyage avancé\n",
    "cleaned_text = preprocess_text(article_text)\n",
    "print(\"Texte nettoyé avec succès.\")\n",
    "\n"
   ]
  },
  {
   "cell_type": "code",
   "execution_count": 31,
   "metadata": {},
   "outputs": [
    {
     "data": {
      "text/plain": [
       "['cnews',\n",
       " 'actualites',\n",
       " 'infos',\n",
       " 'news',\n",
       " 'direct',\n",
       " 'video',\n",
       " 'replay',\n",
       " 'wwwcnewsfr',\n",
       " 'replays',\n",
       " 'podcasts',\n",
       " 'themes',\n",
       " 'faits',\n",
       " 'divers',\n",
       " 'colere',\n",
       " 'agriculteurs',\n",
       " 'procheorient',\n",
       " 'politique',\n",
       " 'france',\n",
       " 'monde',\n",
       " 'paris',\n",
       " 'culture',\n",
       " 'divertissement',\n",
       " 'people',\n",
       " 'vie',\n",
       " 'numerique',\n",
       " 'sport',\n",
       " 'lifestyle',\n",
       " 'beaute',\n",
       " 'environnement',\n",
       " 'faits',\n",
       " 'divers',\n",
       " 'insolite',\n",
       " 'jeux',\n",
       " 'video',\n",
       " 'nutrition',\n",
       " 'sante',\n",
       " 'science',\n",
       " 'corner',\n",
       " 'partenaires',\n",
       " 'meteo',\n",
       " 'astrologie',\n",
       " 'jeux',\n",
       " 'loto',\n",
       " 'programme',\n",
       " 'tnt',\n",
       " 'facebook',\n",
       " 'instagram',\n",
       " 'twitter',\n",
       " 'derniere',\n",
       " 'minute',\n",
       " 'previous',\n",
       " 'noel',\n",
       " 'beaux',\n",
       " 'livres',\n",
       " 'offrir',\n",
       " 'fous',\n",
       " 'sport',\n",
       " 'offrirauxfousdesport',\n",
       " 'asteroide',\n",
       " 'siberie',\n",
       " 'images',\n",
       " 'impressionnantes',\n",
       " 'meteore',\n",
       " 'avant',\n",
       " 'impact',\n",
       " 'video',\n",
       " 'impressionnantesdumeteoreavantsonimpactvideo',\n",
       " 'vents',\n",
       " 'violents',\n",
       " 'voici',\n",
       " 'departements',\n",
       " 'places',\n",
       " 'vigilance',\n",
       " 'jaune',\n",
       " 'jeudi',\n",
       " 'departementsplacesenvigilancejaunecejeudi',\n",
       " 'iran',\n",
       " 'prix',\n",
       " 'nobel',\n",
       " 'paix',\n",
       " 'narges',\n",
       " 'mohammadi',\n",
       " 'sort',\n",
       " 'temporairement',\n",
       " 'prison',\n",
       " 'raisons',\n",
       " 'sante',\n",
       " 'nargesmohammadisorttemporairementdeprisonpour',\n",
       " 'francais',\n",
       " 'posent',\n",
       " 'tous',\n",
       " 'meme',\n",
       " 'question',\n",
       " 'largent',\n",
       " 'tonne',\n",
       " 'marine',\n",
       " 'pen',\n",
       " 'avant',\n",
       " 'vote',\n",
       " 'motions',\n",
       " 'memequestionouvalargenttonnemarinelepen',\n",
       " 'noel',\n",
       " 'beaux',\n",
       " 'livres',\n",
       " 'offrir',\n",
       " 'fous',\n",
       " 'sport',\n",
       " 'offrirauxfousdesport',\n",
       " 'asteroide',\n",
       " 'siberie',\n",
       " 'images',\n",
       " 'impressionnantes',\n",
       " 'meteore',\n",
       " 'avant',\n",
       " 'impact',\n",
       " 'video',\n",
       " 'impressionnantesdumeteoreavantsonimpactvideo',\n",
       " 'vents',\n",
       " 'violents',\n",
       " 'voici',\n",
       " 'departements',\n",
       " 'places',\n",
       " 'vigilance',\n",
       " 'jaune',\n",
       " 'jeudi',\n",
       " 'departementsplacesenvigilancejaunecejeudi',\n",
       " 'iran',\n",
       " 'prix',\n",
       " 'nobel',\n",
       " 'paix',\n",
       " 'narges',\n",
       " 'mohammadi',\n",
       " 'sort',\n",
       " 'temporairement',\n",
       " 'prison',\n",
       " 'raisons',\n",
       " 'sante',\n",
       " 'nargesmohammadisorttemporairementdeprisonpour',\n",
       " 'francais',\n",
       " 'posent',\n",
       " 'tous',\n",
       " 'meme',\n",
       " 'question',\n",
       " 'largent',\n",
       " 'tonne',\n",
       " 'marine',\n",
       " 'pen',\n",
       " 'avant',\n",
       " 'vote',\n",
       " 'motions',\n",
       " 'memequestionouvalargenttonnemarinelepen',\n",
       " 'noel',\n",
       " 'beaux',\n",
       " 'livres',\n",
       " 'offrir',\n",
       " 'fous',\n",
       " 'sport',\n",
       " 'offrirauxfousdesport',\n",
       " 'asteroide',\n",
       " 'siberie',\n",
       " 'images',\n",
       " 'impressionnantes',\n",
       " 'meteore',\n",
       " 'avant',\n",
       " 'impact',\n",
       " 'video',\n",
       " 'impressionnantesdumeteoreavantsonimpactvideo',\n",
       " 'vents',\n",
       " 'violents',\n",
       " 'voici',\n",
       " 'departements',\n",
       " 'places',\n",
       " 'vigilance',\n",
       " 'jaune',\n",
       " 'jeudi',\n",
       " 'departementsplacesenvigilancejaunecejeudi',\n",
       " 'next',\n",
       " 'direct',\n",
       " 'midi',\n",
       " 'news',\n",
       " 'minutes',\n",
       " 'info',\n",
       " 'punchline',\n",
       " 'face',\n",
       " 'linfo',\n",
       " 'derniere',\n",
       " 'minute',\n",
       " 'direct',\n",
       " 'suivre',\n",
       " 'motions',\n",
       " 'censure',\n",
       " 'faits',\n",
       " 'divers',\n",
       " 'politique',\n",
       " 'procheorient',\n",
       " 'france',\n",
       " 'paris',\n",
       " 'sport',\n",
       " 'football',\n",
       " 'divertissement',\n",
       " 'partager',\n",
       " 'wwwcnewsfrfrancearnaquelacopiedecbattentioncette',\n",
       " 'escroqueriequitouchedenombreux',\n",
       " 'francaistarnaquecalacopiedecbaattentioncacetteescroqueriequiatouchcadenombreuxfrancaais',\n",
       " 'tweet',\n",
       " 'arnaque',\n",
       " 'copie',\n",
       " 'attention',\n",
       " 'cette',\n",
       " 'escroquerie',\n",
       " 'touche',\n",
       " 'nombreux',\n",
       " 'francais',\n",
       " 'terminal',\n",
       " 'carte',\n",
       " 'bancaire',\n",
       " 'donnees',\n",
       " 'bancaires',\n",
       " 'peuvent',\n",
       " 'etre',\n",
       " 'fois',\n",
       " 'volees',\n",
       " 'revendues',\n",
       " 'tomek',\n",
       " 'pixabay',\n",
       " 'partager',\n",
       " 'wwwfacebookcomsharersharerphpu',\n",
       " 'francearnaquelacopiedecbattentioncetteescroquerie',\n",
       " 'quitouchedenombreux',\n",
       " 'francaistarnaquecalacopiedecbaattentioncacetteescroqueriequiatouchcadenombreuxfrancaais',\n",
       " 'tweet',\n",
       " 'cnews',\n",
       " 'publie',\n",
       " 'mis',\n",
       " 'jour',\n",
       " 'region',\n",
       " 'toulouse',\n",
       " 'trois',\n",
       " 'individus',\n",
       " 'ete',\n",
       " 'arretes',\n",
       " 'courant',\n",
       " 'novembre',\n",
       " 'pratique',\n",
       " 'skimming',\n",
       " 'methode',\n",
       " 'fraude',\n",
       " 'bancaire',\n",
       " 'touche',\n",
       " 'beaucoup',\n",
       " 'francais',\n",
       " 'dernieres',\n",
       " 'annees',\n",
       " 'quoi',\n",
       " 'consistet',\n",
       " 'operation',\n",
       " 'reussie',\n",
       " 'cote',\n",
       " 'toulouse',\n",
       " 'lantenne',\n",
       " 'cyber',\n",
       " 'section',\n",
       " 'recherches',\n",
       " 'demantele',\n",
       " 'reseau',\n",
       " 'descroquerie',\n",
       " 'carte',\n",
       " 'bancaire',\n",
       " 'annonce',\n",
       " 'gendarmerie',\n",
       " 'samedi',\n",
       " 'novembre',\n",
       " 'accuses',\n",
       " 'etaient',\n",
       " 'passes',\n",
       " 'expert',\n",
       " 'pratique',\n",
       " 'skimming',\n",
       " 'apres',\n",
       " 'larrestation',\n",
       " 'trois',\n",
       " 'ressortissants',\n",
       " 'lest',\n",
       " 'region',\n",
       " 'toulouse',\n",
       " 'fraude',\n",
       " 'carte',\n",
       " 'bancaire',\n",
       " 'autorites',\n",
       " 'alertent',\n",
       " 'skimming',\n",
       " 'toulouse',\n",
       " 'actu',\n",
       " 'toulouseunreseaudeskimmingdemantelecestquoicetteescroquerie',\n",
       " 'surlescartesbancaireshtml',\n",
       " 'lescroquerie',\n",
       " 'skimming',\n",
       " 'consiste',\n",
       " 'cloner',\n",
       " 'carte',\n",
       " 'bancaire',\n",
       " 'trafiquant',\n",
       " 'piratant',\n",
       " 'terminaux',\n",
       " 'paiement',\n",
       " 'lesquels',\n",
       " 'cette',\n",
       " 'carte',\n",
       " 'peut',\n",
       " 'etre',\n",
       " 'inseree',\n",
       " 'comme',\n",
       " 'distributeurs',\n",
       " 'billets',\n",
       " 'automates',\n",
       " 'stationservice',\n",
       " 'explique',\n",
       " 'gendarmerie',\n",
       " 'nationale',\n",
       " 'donnees',\n",
       " 'ensuite',\n",
       " 'dupliquees',\n",
       " 'autre',\n",
       " 'carte',\n",
       " 'puce',\n",
       " 'permettant',\n",
       " 'ainsi',\n",
       " 'dacceder',\n",
       " 'comptes',\n",
       " 'bancaires',\n",
       " 'relies',\n",
       " 'carte',\n",
       " 'majorite',\n",
       " 'cas',\n",
       " 'fraudeurs',\n",
       " 'trafiquent',\n",
       " 'terminaux',\n",
       " 'paiements',\n",
       " 'comme',\n",
       " 'distributeurs',\n",
       " 'billets',\n",
       " 'encore',\n",
       " 'automates',\n",
       " 'installes',\n",
       " 'stationsservices',\n",
       " 'afin',\n",
       " 'copier',\n",
       " 'donnees',\n",
       " 'bancaires',\n",
       " 'bande',\n",
       " 'magnetique',\n",
       " 'elles',\n",
       " 'ensuite',\n",
       " 'transferees',\n",
       " 'autre',\n",
       " 'puce',\n",
       " 'agit',\n",
       " 'comme',\n",
       " 'copie',\n",
       " 'carte',\n",
       " 'skimmer',\n",
       " 'materiel',\n",
       " 'glissant',\n",
       " 'fente',\n",
       " 'dun',\n",
       " 'automate',\n",
       " 'tout',\n",
       " 'laissant',\n",
       " 'lespace',\n",
       " 'quune',\n",
       " 'carte',\n",
       " 'bancaire',\n",
       " 'puisse',\n",
       " 'etre',\n",
       " 'glissee',\n",
       " 'naturellement',\n",
       " 'indiquaient',\n",
       " 'lobservatoire',\n",
       " 'securite',\n",
       " 'moyens',\n",
       " 'paiement',\n",
       " 'osmp',\n",
       " 'copie',\n",
       " 'donnees',\n",
       " 'bancaires',\n",
       " 'nempeche',\n",
       " 'bon',\n",
       " 'fonctionnement',\n",
       " 'carte',\n",
       " 'donnees',\n",
       " 'revendues',\n",
       " 'cartes',\n",
       " 'copiees',\n",
       " 'peuvent',\n",
       " 'etre',\n",
       " 'utilisees',\n",
       " 'distances',\n",
       " 'sites',\n",
       " 'commerces',\n",
       " 'plus',\n",
       " 'souvent',\n",
       " 'noneuropeens',\n",
       " 'pays',\n",
       " 'systeme',\n",
       " 'dauthentification',\n",
       " 'titulaire',\n",
       " 'carte',\n",
       " 'nest',\n",
       " 'actif',\n",
       " 'donnees',\n",
       " 'peuvent',\n",
       " 'egalement',\n",
       " 'etre',\n",
       " 'revendues',\n",
       " 'lespayslesplusconcerneseneurope',\n",
       " 'meme',\n",
       " 'sujetfraude',\n",
       " 'carte',\n",
       " 'bancaire',\n",
       " 'voici',\n",
       " 'pays',\n",
       " 'plus',\n",
       " 'concernes',\n",
       " 'europelire',\n",
       " 'lacartebancairevoicilespayslesplusconcerneseneurope',\n",
       " 'meme',\n",
       " 'federation',\n",
       " 'francaise',\n",
       " 'bancaire',\n",
       " 'fbf',\n",
       " 'indique',\n",
       " 'skimming',\n",
       " 'baisse',\n",
       " 'france',\n",
       " 'conseille',\n",
       " 'surveiller',\n",
       " 'comptes',\n",
       " 'bancaires',\n",
       " 'frequemment',\n",
       " 'prevenir',\n",
       " 'fraudes',\n",
       " 'fraude',\n",
       " 'bancaire',\n",
       " 'wwwcnewsfrcartebancairevol',\n",
       " 'suivre',\n",
       " 'aussi',\n",
       " 'enedis',\n",
       " 'attention',\n",
       " 'compteurs',\n",
       " 'linky',\n",
       " 'feront',\n",
       " 'lobjet',\n",
       " 'controles',\n",
       " 'surprises',\n",
       " 'compteurslinkyferontlobjetdecontrolessurprises',\n",
       " 'carte',\n",
       " 'vitale',\n",
       " 'tout',\n",
       " 'changer',\n",
       " 'changeren',\n",
       " 'fraude',\n",
       " 'millions',\n",
       " 'deuros',\n",
       " 'insolvable',\n",
       " 'couple',\n",
       " 'touchait',\n",
       " 'aides',\n",
       " 'sociales',\n",
       " 'etait',\n",
       " 'millionnaire',\n",
       " 'insolvablelecouplequitouchaitdesaidessociales',\n",
       " 'francearnaquelacopiedecbattentioncetteescroquerie',\n",
       " 'quitouchedenombreux',\n",
       " 'francaistarnaquecalacopiedecbaattentioncacetteescroqueriequiatouchcadenombreuxfrancaais',\n",
       " 'ailleurs',\n",
       " 'web',\n",
       " 'contenus',\n",
       " 'sponsorises',\n",
       " 'templatecolorboxutmsourcecnews',\n",
       " 'cnewsutmmediumreferralutmcontentthumbnails',\n",
       " 'bbelowarticlethumbnailsunitcontenus',\n",
       " 'sponsorises',\n",
       " 'popuptaboolacomfrtemplatecolorboxutmsourcecnews',\n",
       " 'cnewsutmmediumreferralutmcontentthumbnails',\n",
       " 'bbelowarticlethumbnailsunit',\n",
       " 'contenus',\n",
       " 'selectionnes',\n",
       " 'templatecolorboxutmsourcecnews',\n",
       " 'cnewsutmmediumreferralutmcontentthumbnails',\n",
       " 'bbelowarticlethumbnailsunitcontenus',\n",
       " 'selectionnes',\n",
       " 'popuptaboolacomfrtemplatecolorboxutmsourcecnews',\n",
       " 'cnewsutmmediumreferralutmcontentthumbnails',\n",
       " 'bbelowarticlethumbnailsunit',\n",
       " 'utmsourcetbutmmediumcpcutmcampaigngutfdkutmtermcnews',\n",
       " 'cnewsutmcontenttgibnnbdigwshmpfiaiylgdqywdzkvrieycrruyotwnvppwlmlivsgatbtblcigibnnbdigwshmpfiaiylgdqywdzkvrieycrruyotwnvppwlmlivsgtblcigibnnbdigwshmpfiaiylgdqywdzkvrieycrruyotwnvppwlmlivsgnutritionnistes',\n",
       " 'astuce',\n",
       " 'eliminer',\n",
       " 'graisse',\n",
       " 'abdominale',\n",
       " 'prendre',\n",
       " 'avant',\n",
       " 'petitdejeunernva',\n",
       " 'savoir',\n",
       " 'plus',\n",
       " 'utmsourcetbutmmediumcpcutmcampaigngutfdkutmtermcnews',\n",
       " 'cnewsutmcontenttgibnnbdigwshmpfiaiylgdqywdzkvrieycrruyotwnvppwlmlivsgatbtblcigibnnbdigwshmpfiaiylgdqywdzkvrieycrruyotwnvppwlmlivsgtblcigibnnbdigwshmpfiaiylgdqywdzkvrieycrruyotwnvppwlmlivsg',\n",
       " 'annuler',\n",
       " 'utmsourcetbutmcampaigntbdkfutmtermcnews',\n",
       " 'cnewsutmcontenttgibnnbdigwshmpfiaiylgdqywdzkvrieycsfwopjsmtnkcmlivsgatbtblcigibnnbdigwshmpfiaiylgdqywdzkvrieycsfwopjsmtnkcmlivsgtblcigibnnbdigwshmpfiaiylgdqywdzkvrieycsfwopjsmtnkcmlivsgneuropathie',\n",
       " 'insupportable',\n",
       " 'essayez',\n",
       " 'cette',\n",
       " 'astuce',\n",
       " 'simple',\n",
       " 'change',\n",
       " 'toutsb',\n",
       " 'savoir',\n",
       " 'plus',\n",
       " 'utmsourcetbutmcampaigntbdkfutmtermcnews',\n",
       " 'cnewsutmcontenttgibnnbdigwshmpfiaiylgdqywdzkvrieycsfwopjsmtnkcmlivsgatbtblcigibnnbdigwshmpfiaiylgdqywdzkvrieycsfwopjsmtnkcmlivsgtblcigibnnbdigwshmpfiaiylgdqywdzkvrieycsfwopjsmtnkcmlivsg',\n",
       " 'annuler',\n",
       " 'utmsourcetbutmmediumcpcutmcampaigngutfdkutmtermcnews',\n",
       " 'cnewsutmcontenttgibnnbdigwshmpfiaiylgdqywdzkvrieycrruyoicbotldhrsvmlivsgatbtblcigibnnbdigwshmpfiaiylgdqywdzkvrieycrruyoicbotldhrsvmlivsgtblcigibnnbdigwshmpfiaiylgdqywdzkvrieycrruyoicbotldhrsvmlivsgtrop',\n",
       " 'graisse',\n",
       " 'ventre',\n",
       " 'geste',\n",
       " 'simple',\n",
       " 'avant',\n",
       " 'petit',\n",
       " 'dejeunernutravya',\n",
       " 'savoir',\n",
       " 'plus',\n",
       " 'utmsourcetbutmmediumcpcutmcampaigngutfdkutmtermcnews',\n",
       " 'cnewsutmcontenttgibnnbdigwshmpfiaiylgdqywdzkvrieycrruyoicbotldhrsvmlivsgatbtblcigibnnbdigwshmpfiaiylgdqywdzkvrieycrruyoicbotldhrsvmlivsgtblcigibnnbdigwshmpfiaiylgdqywdzkvrieycrruyoicbotldhrsvmlivsg',\n",
       " 'annuler',\n",
       " 'dasoptfpoposlapsllonatsptabkididkpsalescodecvdposnattabotbclickidgibnnbdigwshmpfiaiylgdqywdzkvrieycireoiyeyjbhtyamlivsgtblcigibnnbdigwshmpfiaiylgdqywdzkvrieycireoiyeyjbhtyamlivsgtblcigibnnbdigwshmpfiaiylgdqywdzkvrieycireoiyeyjbhtyamlivsgdurdur',\n",
       " 'daller',\n",
       " 'toilettes',\n",
       " 'faites',\n",
       " 'ceci',\n",
       " 'jour',\n",
       " 'avant',\n",
       " 'petit',\n",
       " 'dejeunerscience',\n",
       " 'actualite',\n",
       " 'annuler',\n",
       " 'sitecnews',\n",
       " 'cnewssiteidtitleplusdepiqcbbresdedoigtfrcaquentespourlasurveillancedelaglyccamieplatformdesktopcampaignidcampaignitemidthumbnail',\n",
       " 'piqures',\n",
       " 'doigt',\n",
       " 'frequentes',\n",
       " 'surveillance',\n",
       " 'glycemiesherum',\n",
       " 'savoir',\n",
       " 'plus',\n",
       " 'sitecnews',\n",
       " 'cnewssiteidtitleplusdepiqcbbresdedoigtfrcaquentespourlasurveillancedelaglyccamieplatformdesktopcampaignidcampaignitemidthumbnail',\n",
       " 'annuler',\n",
       " 'clickidgibnnbdigwshmpfiaiylgdqywdzkvrieyduogcoryqyymvcgwatcrositecnewscnewsthumbnail',\n",
       " 'seniors',\n",
       " 'sarrachent',\n",
       " 'chaussures',\n",
       " 'concues',\n",
       " 'articulations',\n",
       " 'revue',\n",
       " 'confort',\n",
       " 'annuler',\n",
       " 'taboola',\n",
       " 'templatecolorboxutmsourcecnews',\n",
       " 'cnewsutmmediumreferralutmcontentthumbnails',\n",
       " 'bbelowarticlethumbnailsunitpar',\n",
       " 'taboola',\n",
       " 'popuptaboolacomfrtemplatecolorboxutmsourcecnews',\n",
       " 'cnewsutmmediumreferralutmcontentthumbnails',\n",
       " 'bbelowarticlethumbnailsunit',\n",
       " 'dernieres',\n",
       " 'actualites',\n",
       " 'iran',\n",
       " 'prix',\n",
       " 'nobel',\n",
       " 'paix',\n",
       " 'narges',\n",
       " 'mohammadi',\n",
       " 'sort',\n",
       " 'temporairement',\n",
       " 'prison',\n",
       " 'raisons',\n",
       " 'sante',\n",
       " 'nargesmohammadisorttemporairementdeprisonpour',\n",
       " 'francais',\n",
       " 'posent',\n",
       " 'tous',\n",
       " 'meme',\n",
       " 'question',\n",
       " 'largent',\n",
       " 'tonne',\n",
       " 'marine',\n",
       " 'pen',\n",
       " 'avant',\n",
       " 'vote',\n",
       " 'motions',\n",
       " 'censure',\n",
       " 'memequestionouvalargenttonnemarinelepen',\n",
       " 'noel',\n",
       " 'beaux',\n",
       " 'livres',\n",
       " 'offrir',\n",
       " 'fous',\n",
       " 'sport',\n",
       " 'offrirauxfousdesport',\n",
       " 'asteroide',\n",
       " 'siberie',\n",
       " 'images',\n",
       " 'impressionnantes',\n",
       " 'meteore',\n",
       " 'avant',\n",
       " 'impact',\n",
       " 'video',\n",
       " 'impressionnantesdumeteoreavantsonimpactvideo',\n",
       " 'vents',\n",
       " 'violents',\n",
       " 'voici',\n",
       " 'departements',\n",
       " 'places',\n",
       " 'vigilance',\n",
       " 'jaune',\n",
       " 'jeudi',\n",
       " 'departementsplacesenvigilancejaunecejeudi',\n",
       " 'neigeverglas',\n",
       " 'voici',\n",
       " 'departements',\n",
       " 'places',\n",
       " 'vigilance',\n",
       " 'jaune',\n",
       " 'jeudi',\n",
       " 'departementsplacesenvigilancejaunecejeudi',\n",
       " 'prince',\n",
       " 'andrew',\n",
       " 'duc',\n",
       " 'dyork',\n",
       " 'plus',\n",
       " 'isole',\n",
       " 'jamais',\n",
       " 'depuis',\n",
       " 'frere',\n",
       " 'charles',\n",
       " 'iii',\n",
       " 'coupe',\n",
       " 'allocation',\n",
       " 'annuelle',\n",
       " 'isolequejamaisdepuisquesonfrerecharlesiii',\n",
       " 'plus',\n",
       " 'darticles',\n",
       " 'belgique',\n",
       " 'devient',\n",
       " 'premier',\n",
       " 'pays',\n",
       " 'monde',\n",
       " 'permettre',\n",
       " 'travailleurs',\n",
       " 'travailleuses',\n",
       " 'sexe',\n",
       " 'signer',\n",
       " 'contrat',\n",
       " 'travail',\n",
       " 'paysaumondepermettreauxtravailleurset',\n",
       " 'terminal',\n",
       " 'carte',\n",
       " 'bancaire',\n",
       " 'arnaque',\n",
       " 'copie',\n",
       " 'attention',\n",
       " 'cette',\n",
       " 'escroquerie',\n",
       " 'touche',\n",
       " 'nombreux',\n",
       " 'francais',\n",
       " 'attentioncetteescroqueriequitouchedenombreuxfrancais',\n",
       " 'voici',\n",
       " 'pays',\n",
       " 'plus',\n",
       " 'endettes',\n",
       " 'monde',\n",
       " 'endettesaumonde',\n",
       " 'tout',\n",
       " 'parti',\n",
       " 'dune',\n",
       " 'decision',\n",
       " 'larbitre',\n",
       " 'morgue',\n",
       " 'pleine',\n",
       " 'moins',\n",
       " 'morts',\n",
       " 'match',\n",
       " 'foot',\n",
       " 'tourne',\n",
       " 'carnage',\n",
       " 'guinee',\n",
       " 'larbitrelamorgueestpleineaumoinsmortsun',\n",
       " 'greve',\n",
       " 'decembre',\n",
       " 'ecoles',\n",
       " 'hopitaux',\n",
       " 'transports',\n",
       " 'perturbations',\n",
       " 'prevoir',\n",
       " 'jeudi',\n",
       " 'hopitauxtransportscesperturbationsprevoircejeudi',\n",
       " 'accueil',\n",
       " 'suiveznous',\n",
       " 'facebook',\n",
       " 'instagram',\n",
       " 'twitter',\n",
       " 'tiktok',\n",
       " 'mentions',\n",
       " 'legales',\n",
       " 'politique',\n",
       " 'cookies',\n",
       " 'gestion',\n",
       " 'cookies',\n",
       " 'javascriptdidomipreferencesshow',\n",
       " 'cgu',\n",
       " 'actualite',\n",
       " 'mots',\n",
       " 'croises',\n",
       " 'mots',\n",
       " 'fleches',\n",
       " 'solitaire',\n",
       " 'sudoku',\n",
       " 'programme',\n",
       " 'devenir',\n",
       " 'annonceur',\n",
       " 'devenirannonceurcommuniquersurcnews',\n",
       " 'flux',\n",
       " 'rss',\n",
       " 'resultats',\n",
       " 'elections',\n",
       " 'legislatives',\n",
       " 'electionsresultatslegislatives']"
      ]
     },
     "execution_count": 31,
     "metadata": {},
     "output_type": "execute_result"
    }
   ],
   "source": [
    "cleaned_text"
   ]
  },
  {
   "cell_type": "markdown",
   "metadata": {},
   "source": [
    "Après la phase du pré_processing, le texte a été considérablement nettoyé, passant de 22231 termes bruts à seulement 740 mots significatifs prêts pour l'analyse."
   ]
  },
  {
   "cell_type": "code",
   "execution_count": 32,
   "metadata": {},
   "outputs": [
    {
     "name": "stdout",
     "output_type": "stream",
     "text": [
      "Longueur des données brutes (concaténées) : 22231 caractères.\n",
      "Nombre de mots après prétraitement : 740 mots.\n"
     ]
    }
   ],
   "source": [
    "\n",
    "print(f\"Longueur des données brutes (concaténées) : {len(article_text)} caractères.\")\n",
    "print(f\"Nombre de mots après prétraitement : {len(cleaned_text)} mots.\")"
   ]
  },
  {
   "cell_type": "markdown",
   "metadata": {},
   "source": [
    "4.Phase de vectorisation\n",
    "\n",
    " Nous avons opter pour la technique de vectorisation tf-idf(Term-Frequency-Inverse Document Frequency), elle va nous permet de pondérer la fréquence de nos tokens en fonction de son importance relative . \n",
    "\n",
    " On calculera donc le score de chacun des mots dans notre (cleaned_text)\n"
   ]
  },
  {
   "cell_type": "code",
   "execution_count": 33,
   "metadata": {},
   "outputs": [],
   "source": [
    "from sklearn.feature_extraction.text import TfidfVectorizer\n",
    "\n",
    "\n",
    "tfidf_vectorizer = TfidfVectorizer(max_features=100,ngram_range=(1,2))\n",
    "tfidf_matrix = tfidf_vectorizer.fit_transform([' '.join(cleaned_text)])\n",
    "tfidf_df = pd.DataFrame(\n",
    "    tfidf_matrix.toarray(),\n",
    "    columns=tfidf_vectorizer.get_feature_names_out()\n",
    ")\n"
   ]
  },
  {
   "cell_type": "code",
   "execution_count": 34,
   "metadata": {},
   "outputs": [
    {
     "name": "stdout",
     "output_type": "stream",
     "text": [
      "['annuler' 'asteroide' 'asteroide siberie' 'avant' 'avant impact'\n",
      " 'bancaire' 'bancaires' 'beaux' 'beaux livres' 'carte' 'carte bancaire'\n",
      " 'cette' 'cnewsutmmediumreferralutmcontentthumbnails'\n",
      " 'cnewsutmmediumreferralutmcontentthumbnails bbelowarticlethumbnailsunit'\n",
      " 'comme' 'copie' 'departements' 'departements places'\n",
      " 'departementsplacesenvigilancejaunecejeudi' 'donnees' 'donnees bancaires'\n",
      " 'etre' 'fous' 'fous sport' 'francais' 'france' 'fraude' 'images'\n",
      " 'images impressionnantes' 'impact' 'impact video' 'impressionnantes'\n",
      " 'impressionnantes meteore' 'impressionnantesdumeteoreavantsonimpactvideo'\n",
      " 'impressionnantesdumeteoreavantsonimpactvideo vents' 'jaune'\n",
      " 'jaune jeudi' 'jeudi' 'jeudi departementsplacesenvigilancejaunecejeudi'\n",
      " 'largent' 'livres' 'livres offrir' 'marine pen' 'meme'\n",
      " 'memequestionouvalargenttonnemarinelepen'\n",
      " 'memequestionouvalargenttonnemarinelepen noel' 'meteore' 'meteore avant'\n",
      " 'motions' 'nargesmohammadisorttemporairementdeprisonpour' 'nobel' 'noel'\n",
      " 'noel beaux' 'offrir' 'offrir fous' 'offrirauxfousdesport'\n",
      " 'offrirauxfousdesport asteroide' 'paix' 'paix narges' 'pays' 'peuvent'\n",
      " 'places' 'places vigilance' 'plus' 'politique'\n",
      " 'popuptaboolacomfrtemplatecolorboxutmsourcecnews'\n",
      " 'popuptaboolacomfrtemplatecolorboxutmsourcecnews cnewsutmmediumreferralutmcontentthumbnails'\n",
      " 'posent' 'posent tous' 'prix nobel' 'revendues' 'sante'\n",
      " 'sante nargesmohammadisorttemporairementdeprisonpour' 'savoir'\n",
      " 'savoir plus' 'siberie' 'siberie images' 'skimming' 'sort'\n",
      " 'sort temporairement' 'sport' 'sport offrirauxfousdesport'\n",
      " 'templatecolorboxutmsourcecnews'\n",
      " 'templatecolorboxutmsourcecnews cnewsutmmediumreferralutmcontentthumbnails'\n",
      " 'temporairement' 'temporairement prison' 'toulouse'\n",
      " 'utmsourcetbutmmediumcpcutmcampaigngutfdkutmtermcnews' 'vents'\n",
      " 'vents violents' 'video'\n",
      " 'video impressionnantesdumeteoreavantsonimpactvideo' 'vigilance'\n",
      " 'vigilance jaune' 'violents' 'violents voici' 'voici'\n",
      " 'voici departements' 'vote' 'vote motions']\n"
     ]
    }
   ],
   "source": [
    "print(tfidf_vectorizer.get_feature_names_out())"
   ]
  },
  {
   "cell_type": "code",
   "execution_count": 35,
   "metadata": {},
   "outputs": [
    {
     "name": "stdout",
     "output_type": "stream",
     "text": [
      "                 Mot  Fréquence\n",
      "0            annuler   0.129369\n",
      "1          asteroide   0.086246\n",
      "2  asteroide siberie   0.086246\n",
      "3              avant   0.215615\n",
      "4       avant impact   0.086246\n"
     ]
    }
   ],
   "source": [
    "# Conversion en DataFrame avec les mots comme lignes et leurs fréquences\n",
    "tfidf_df = pd.DataFrame(tfidf_df.sum(axis=0), columns=['Fréquence']).reset_index()\n",
    "tfidf_df.rename(columns={'index': 'Mot'}, inplace=True)\n",
    "\n",
    "# Vérification des colonnes\n",
    "print(tfidf_df.head())\n"
   ]
  },
  {
   "cell_type": "code",
   "execution_count": 36,
   "metadata": {},
   "outputs": [],
   "source": [
    "\n",
    "stop_words = list(stop_words)\n",
    "# Liste des stop words à exclure\n",
    "stop_words.extend([\n",
    "    'voici', 'vents', 'sport', 'siberie', 'posent', 'offrir', 'noel', \n",
    "    'nobel', 'narges', 'motions', 'mohammadi', 'meteore', 'meme', \n",
    "    'marine', 'livresjaune', 'iran', 'jeudi', 'fous', 'comme', \n",
    "    'cette', 'avant', 'asteroide','jaune','plus','beaux'\n",
    "])\n",
    "\n",
    "# Filtrage des mots pertinents\n",
    "filtered_tfidf_df = tfidf_df[\n",
    "    (tfidf_df['Fréquence'] > 0.05) &  # Fréquence minimale\n",
    "    (tfidf_df['Fréquence'] < 0.5) &  # Fréquence maximale\n",
    "    (tfidf_df['Mot'].str.len().between(4, 15)) &  # Longueur des mots\n",
    "    (~tfidf_df['Mot'].str.contains(r'[^a-zA-Zéèêàùç]', regex=True)) &  # Exclusion des mots avec caractères spéciaux\n",
    "    (~tfidf_df['Mot'].isin(stop_words))  # Exclusion des stopwords\n",
    "]\n"
   ]
  },
  {
   "cell_type": "code",
   "execution_count": 37,
   "metadata": {},
   "outputs": [
    {
     "name": "stdout",
     "output_type": "stream",
     "text": [
      "               Mot  Fréquence\n",
      "0          annuler   0.129369\n",
      "5         bancaire   0.215615\n",
      "6        bancaires   0.107808\n",
      "9            carte   0.301862\n",
      "15           copie   0.086246\n",
      "16    departements   0.107808\n",
      "19         donnees   0.129369\n",
      "21            etre   0.107808\n",
      "24        francais   0.129369\n",
      "25          france   0.064685\n",
      "26          fraude   0.086246\n",
      "27          images   0.086246\n",
      "29          impact   0.086246\n",
      "39         largent   0.064685\n",
      "40          livres   0.086246\n",
      "57            paix   0.064685\n",
      "59            pays   0.086246\n",
      "60         peuvent   0.064685\n",
      "61          places   0.107808\n",
      "64       politique   0.064685\n",
      "70       revendues   0.064685\n",
      "71           sante   0.086246\n",
      "73          savoir   0.086246\n",
      "77        skimming   0.107808\n",
      "78            sort   0.064685\n",
      "84  temporairement   0.064685\n",
      "86        toulouse   0.086246\n",
      "90           video   0.129369\n",
      "92       vigilance   0.107808\n",
      "94        violents   0.086246\n",
      "98            vote   0.064685\n"
     ]
    }
   ],
   "source": [
    "# affichage de la frequence du IF-IDF par colonne\n",
    "pd.set_option(\"display.max_columns\", None)  \n",
    "pd.set_option(\"display.width\", None)       \n",
    "print(filtered_tfidf_df)"
   ]
  },
  {
   "cell_type": "markdown",
   "metadata": {},
   "source": [
    "Après le filtrage par TF-IDF , nous allons compter le nombre d'occurrence de chaque mots\n",
    "des mots importants retenu par colonne "
   ]
  },
  {
   "cell_type": "markdown",
   "metadata": {},
   "source": [
    "Visualisation de la distribution des fréquences des mots "
   ]
  },
  {
   "cell_type": "code",
   "execution_count": 38,
   "metadata": {},
   "outputs": [
    {
     "data": {
      "application/vnd.plotly.v1+json": {
       "config": {
        "plotlyServerURL": "https://plot.ly"
       },
       "data": [
        {
         "alignmentgroup": "True",
         "hovertemplate": "<b>%{hovertext}</b><br><br>Mot=%{x}<br>Fréquence=%{marker.color}<extra></extra>",
         "hovertext": [
          "annuler",
          "bancaire",
          "bancaires",
          "carte",
          "copie",
          "departements",
          "donnees",
          "etre",
          "francais",
          "france",
          "fraude",
          "images",
          "impact",
          "largent",
          "livres",
          "paix",
          "pays",
          "peuvent",
          "places",
          "politique",
          "revendues",
          "sante",
          "savoir",
          "skimming",
          "sort",
          "temporairement",
          "toulouse",
          "video",
          "vigilance",
          "violents",
          "vote"
         ],
         "legendgroup": "",
         "marker": {
          "color": [
           0.12936924547063017,
           0.21561540911771696,
           0.10780770455885848,
           0.30186157276480374,
           0.08624616364708679,
           0.10780770455885848,
           0.12936924547063017,
           0.10780770455885848,
           0.12936924547063017,
           0.06468462273531508,
           0.08624616364708679,
           0.08624616364708679,
           0.08624616364708679,
           0.06468462273531508,
           0.08624616364708679,
           0.06468462273531508,
           0.08624616364708679,
           0.06468462273531508,
           0.10780770455885848,
           0.06468462273531508,
           0.06468462273531508,
           0.08624616364708679,
           0.08624616364708679,
           0.10780770455885848,
           0.06468462273531508,
           0.06468462273531508,
           0.08624616364708679,
           0.12936924547063017,
           0.10780770455885848,
           0.08624616364708679,
           0.06468462273531508
          ],
          "coloraxis": "coloraxis",
          "pattern": {
           "shape": ""
          }
         },
         "name": "",
         "offsetgroup": "",
         "orientation": "v",
         "showlegend": false,
         "text": [
          0.12936924547063017,
          0.21561540911771696,
          0.10780770455885848,
          0.30186157276480374,
          0.08624616364708679,
          0.10780770455885848,
          0.12936924547063017,
          0.10780770455885848,
          0.12936924547063017,
          0.06468462273531508,
          0.08624616364708679,
          0.08624616364708679,
          0.08624616364708679,
          0.06468462273531508,
          0.08624616364708679,
          0.06468462273531508,
          0.08624616364708679,
          0.06468462273531508,
          0.10780770455885848,
          0.06468462273531508,
          0.06468462273531508,
          0.08624616364708679,
          0.08624616364708679,
          0.10780770455885848,
          0.06468462273531508,
          0.06468462273531508,
          0.08624616364708679,
          0.12936924547063017,
          0.10780770455885848,
          0.08624616364708679,
          0.06468462273531508
         ],
         "textposition": "outside",
         "type": "bar",
         "x": [
          "annuler",
          "bancaire",
          "bancaires",
          "carte",
          "copie",
          "departements",
          "donnees",
          "etre",
          "francais",
          "france",
          "fraude",
          "images",
          "impact",
          "largent",
          "livres",
          "paix",
          "pays",
          "peuvent",
          "places",
          "politique",
          "revendues",
          "sante",
          "savoir",
          "skimming",
          "sort",
          "temporairement",
          "toulouse",
          "video",
          "vigilance",
          "violents",
          "vote"
         ],
         "xaxis": "x",
         "y": [
          0.12936924547063017,
          0.21561540911771696,
          0.10780770455885848,
          0.30186157276480374,
          0.08624616364708679,
          0.10780770455885848,
          0.12936924547063017,
          0.10780770455885848,
          0.12936924547063017,
          0.06468462273531508,
          0.08624616364708679,
          0.08624616364708679,
          0.08624616364708679,
          0.06468462273531508,
          0.08624616364708679,
          0.06468462273531508,
          0.08624616364708679,
          0.06468462273531508,
          0.10780770455885848,
          0.06468462273531508,
          0.06468462273531508,
          0.08624616364708679,
          0.08624616364708679,
          0.10780770455885848,
          0.06468462273531508,
          0.06468462273531508,
          0.08624616364708679,
          0.12936924547063017,
          0.10780770455885848,
          0.08624616364708679,
          0.06468462273531508
         ],
         "yaxis": "y"
        }
       ],
       "layout": {
        "barmode": "relative",
        "coloraxis": {
         "colorbar": {
          "title": {
           "text": "Fréquence"
          }
         },
         "colorscale": [
          [
           0,
           "#0d0887"
          ],
          [
           0.1111111111111111,
           "#46039f"
          ],
          [
           0.2222222222222222,
           "#7201a8"
          ],
          [
           0.3333333333333333,
           "#9c179e"
          ],
          [
           0.4444444444444444,
           "#bd3786"
          ],
          [
           0.5555555555555556,
           "#d8576b"
          ],
          [
           0.6666666666666666,
           "#ed7953"
          ],
          [
           0.7777777777777778,
           "#fb9f3a"
          ],
          [
           0.8888888888888888,
           "#fdca26"
          ],
          [
           1,
           "#f0f921"
          ]
         ]
        },
        "legend": {
         "tracegroupgap": 0
        },
        "margin": {
         "b": 120,
         "l": 40,
         "r": 20,
         "t": 40
        },
        "template": {
         "data": {
          "bar": [
           {
            "error_x": {
             "color": "#2a3f5f"
            },
            "error_y": {
             "color": "#2a3f5f"
            },
            "marker": {
             "line": {
              "color": "#E5ECF6",
              "width": 0.5
             },
             "pattern": {
              "fillmode": "overlay",
              "size": 10,
              "solidity": 0.2
             }
            },
            "type": "bar"
           }
          ],
          "barpolar": [
           {
            "marker": {
             "line": {
              "color": "#E5ECF6",
              "width": 0.5
             },
             "pattern": {
              "fillmode": "overlay",
              "size": 10,
              "solidity": 0.2
             }
            },
            "type": "barpolar"
           }
          ],
          "carpet": [
           {
            "aaxis": {
             "endlinecolor": "#2a3f5f",
             "gridcolor": "white",
             "linecolor": "white",
             "minorgridcolor": "white",
             "startlinecolor": "#2a3f5f"
            },
            "baxis": {
             "endlinecolor": "#2a3f5f",
             "gridcolor": "white",
             "linecolor": "white",
             "minorgridcolor": "white",
             "startlinecolor": "#2a3f5f"
            },
            "type": "carpet"
           }
          ],
          "choropleth": [
           {
            "colorbar": {
             "outlinewidth": 0,
             "ticks": ""
            },
            "type": "choropleth"
           }
          ],
          "contour": [
           {
            "colorbar": {
             "outlinewidth": 0,
             "ticks": ""
            },
            "colorscale": [
             [
              0,
              "#0d0887"
             ],
             [
              0.1111111111111111,
              "#46039f"
             ],
             [
              0.2222222222222222,
              "#7201a8"
             ],
             [
              0.3333333333333333,
              "#9c179e"
             ],
             [
              0.4444444444444444,
              "#bd3786"
             ],
             [
              0.5555555555555556,
              "#d8576b"
             ],
             [
              0.6666666666666666,
              "#ed7953"
             ],
             [
              0.7777777777777778,
              "#fb9f3a"
             ],
             [
              0.8888888888888888,
              "#fdca26"
             ],
             [
              1,
              "#f0f921"
             ]
            ],
            "type": "contour"
           }
          ],
          "contourcarpet": [
           {
            "colorbar": {
             "outlinewidth": 0,
             "ticks": ""
            },
            "type": "contourcarpet"
           }
          ],
          "heatmap": [
           {
            "colorbar": {
             "outlinewidth": 0,
             "ticks": ""
            },
            "colorscale": [
             [
              0,
              "#0d0887"
             ],
             [
              0.1111111111111111,
              "#46039f"
             ],
             [
              0.2222222222222222,
              "#7201a8"
             ],
             [
              0.3333333333333333,
              "#9c179e"
             ],
             [
              0.4444444444444444,
              "#bd3786"
             ],
             [
              0.5555555555555556,
              "#d8576b"
             ],
             [
              0.6666666666666666,
              "#ed7953"
             ],
             [
              0.7777777777777778,
              "#fb9f3a"
             ],
             [
              0.8888888888888888,
              "#fdca26"
             ],
             [
              1,
              "#f0f921"
             ]
            ],
            "type": "heatmap"
           }
          ],
          "heatmapgl": [
           {
            "colorbar": {
             "outlinewidth": 0,
             "ticks": ""
            },
            "colorscale": [
             [
              0,
              "#0d0887"
             ],
             [
              0.1111111111111111,
              "#46039f"
             ],
             [
              0.2222222222222222,
              "#7201a8"
             ],
             [
              0.3333333333333333,
              "#9c179e"
             ],
             [
              0.4444444444444444,
              "#bd3786"
             ],
             [
              0.5555555555555556,
              "#d8576b"
             ],
             [
              0.6666666666666666,
              "#ed7953"
             ],
             [
              0.7777777777777778,
              "#fb9f3a"
             ],
             [
              0.8888888888888888,
              "#fdca26"
             ],
             [
              1,
              "#f0f921"
             ]
            ],
            "type": "heatmapgl"
           }
          ],
          "histogram": [
           {
            "marker": {
             "pattern": {
              "fillmode": "overlay",
              "size": 10,
              "solidity": 0.2
             }
            },
            "type": "histogram"
           }
          ],
          "histogram2d": [
           {
            "colorbar": {
             "outlinewidth": 0,
             "ticks": ""
            },
            "colorscale": [
             [
              0,
              "#0d0887"
             ],
             [
              0.1111111111111111,
              "#46039f"
             ],
             [
              0.2222222222222222,
              "#7201a8"
             ],
             [
              0.3333333333333333,
              "#9c179e"
             ],
             [
              0.4444444444444444,
              "#bd3786"
             ],
             [
              0.5555555555555556,
              "#d8576b"
             ],
             [
              0.6666666666666666,
              "#ed7953"
             ],
             [
              0.7777777777777778,
              "#fb9f3a"
             ],
             [
              0.8888888888888888,
              "#fdca26"
             ],
             [
              1,
              "#f0f921"
             ]
            ],
            "type": "histogram2d"
           }
          ],
          "histogram2dcontour": [
           {
            "colorbar": {
             "outlinewidth": 0,
             "ticks": ""
            },
            "colorscale": [
             [
              0,
              "#0d0887"
             ],
             [
              0.1111111111111111,
              "#46039f"
             ],
             [
              0.2222222222222222,
              "#7201a8"
             ],
             [
              0.3333333333333333,
              "#9c179e"
             ],
             [
              0.4444444444444444,
              "#bd3786"
             ],
             [
              0.5555555555555556,
              "#d8576b"
             ],
             [
              0.6666666666666666,
              "#ed7953"
             ],
             [
              0.7777777777777778,
              "#fb9f3a"
             ],
             [
              0.8888888888888888,
              "#fdca26"
             ],
             [
              1,
              "#f0f921"
             ]
            ],
            "type": "histogram2dcontour"
           }
          ],
          "mesh3d": [
           {
            "colorbar": {
             "outlinewidth": 0,
             "ticks": ""
            },
            "type": "mesh3d"
           }
          ],
          "parcoords": [
           {
            "line": {
             "colorbar": {
              "outlinewidth": 0,
              "ticks": ""
             }
            },
            "type": "parcoords"
           }
          ],
          "pie": [
           {
            "automargin": true,
            "type": "pie"
           }
          ],
          "scatter": [
           {
            "fillpattern": {
             "fillmode": "overlay",
             "size": 10,
             "solidity": 0.2
            },
            "type": "scatter"
           }
          ],
          "scatter3d": [
           {
            "line": {
             "colorbar": {
              "outlinewidth": 0,
              "ticks": ""
             }
            },
            "marker": {
             "colorbar": {
              "outlinewidth": 0,
              "ticks": ""
             }
            },
            "type": "scatter3d"
           }
          ],
          "scattercarpet": [
           {
            "marker": {
             "colorbar": {
              "outlinewidth": 0,
              "ticks": ""
             }
            },
            "type": "scattercarpet"
           }
          ],
          "scattergeo": [
           {
            "marker": {
             "colorbar": {
              "outlinewidth": 0,
              "ticks": ""
             }
            },
            "type": "scattergeo"
           }
          ],
          "scattergl": [
           {
            "marker": {
             "colorbar": {
              "outlinewidth": 0,
              "ticks": ""
             }
            },
            "type": "scattergl"
           }
          ],
          "scattermapbox": [
           {
            "marker": {
             "colorbar": {
              "outlinewidth": 0,
              "ticks": ""
             }
            },
            "type": "scattermapbox"
           }
          ],
          "scatterpolar": [
           {
            "marker": {
             "colorbar": {
              "outlinewidth": 0,
              "ticks": ""
             }
            },
            "type": "scatterpolar"
           }
          ],
          "scatterpolargl": [
           {
            "marker": {
             "colorbar": {
              "outlinewidth": 0,
              "ticks": ""
             }
            },
            "type": "scatterpolargl"
           }
          ],
          "scatterternary": [
           {
            "marker": {
             "colorbar": {
              "outlinewidth": 0,
              "ticks": ""
             }
            },
            "type": "scatterternary"
           }
          ],
          "surface": [
           {
            "colorbar": {
             "outlinewidth": 0,
             "ticks": ""
            },
            "colorscale": [
             [
              0,
              "#0d0887"
             ],
             [
              0.1111111111111111,
              "#46039f"
             ],
             [
              0.2222222222222222,
              "#7201a8"
             ],
             [
              0.3333333333333333,
              "#9c179e"
             ],
             [
              0.4444444444444444,
              "#bd3786"
             ],
             [
              0.5555555555555556,
              "#d8576b"
             ],
             [
              0.6666666666666666,
              "#ed7953"
             ],
             [
              0.7777777777777778,
              "#fb9f3a"
             ],
             [
              0.8888888888888888,
              "#fdca26"
             ],
             [
              1,
              "#f0f921"
             ]
            ],
            "type": "surface"
           }
          ],
          "table": [
           {
            "cells": {
             "fill": {
              "color": "#EBF0F8"
             },
             "line": {
              "color": "white"
             }
            },
            "header": {
             "fill": {
              "color": "#C8D4E3"
             },
             "line": {
              "color": "white"
             }
            },
            "type": "table"
           }
          ]
         },
         "layout": {
          "annotationdefaults": {
           "arrowcolor": "#2a3f5f",
           "arrowhead": 0,
           "arrowwidth": 1
          },
          "autotypenumbers": "strict",
          "coloraxis": {
           "colorbar": {
            "outlinewidth": 0,
            "ticks": ""
           }
          },
          "colorscale": {
           "diverging": [
            [
             0,
             "#8e0152"
            ],
            [
             0.1,
             "#c51b7d"
            ],
            [
             0.2,
             "#de77ae"
            ],
            [
             0.3,
             "#f1b6da"
            ],
            [
             0.4,
             "#fde0ef"
            ],
            [
             0.5,
             "#f7f7f7"
            ],
            [
             0.6,
             "#e6f5d0"
            ],
            [
             0.7,
             "#b8e186"
            ],
            [
             0.8,
             "#7fbc41"
            ],
            [
             0.9,
             "#4d9221"
            ],
            [
             1,
             "#276419"
            ]
           ],
           "sequential": [
            [
             0,
             "#0d0887"
            ],
            [
             0.1111111111111111,
             "#46039f"
            ],
            [
             0.2222222222222222,
             "#7201a8"
            ],
            [
             0.3333333333333333,
             "#9c179e"
            ],
            [
             0.4444444444444444,
             "#bd3786"
            ],
            [
             0.5555555555555556,
             "#d8576b"
            ],
            [
             0.6666666666666666,
             "#ed7953"
            ],
            [
             0.7777777777777778,
             "#fb9f3a"
            ],
            [
             0.8888888888888888,
             "#fdca26"
            ],
            [
             1,
             "#f0f921"
            ]
           ],
           "sequentialminus": [
            [
             0,
             "#0d0887"
            ],
            [
             0.1111111111111111,
             "#46039f"
            ],
            [
             0.2222222222222222,
             "#7201a8"
            ],
            [
             0.3333333333333333,
             "#9c179e"
            ],
            [
             0.4444444444444444,
             "#bd3786"
            ],
            [
             0.5555555555555556,
             "#d8576b"
            ],
            [
             0.6666666666666666,
             "#ed7953"
            ],
            [
             0.7777777777777778,
             "#fb9f3a"
            ],
            [
             0.8888888888888888,
             "#fdca26"
            ],
            [
             1,
             "#f0f921"
            ]
           ]
          },
          "colorway": [
           "#636efa",
           "#EF553B",
           "#00cc96",
           "#ab63fa",
           "#FFA15A",
           "#19d3f3",
           "#FF6692",
           "#B6E880",
           "#FF97FF",
           "#FECB52"
          ],
          "font": {
           "color": "#2a3f5f"
          },
          "geo": {
           "bgcolor": "white",
           "lakecolor": "white",
           "landcolor": "#E5ECF6",
           "showlakes": true,
           "showland": true,
           "subunitcolor": "white"
          },
          "hoverlabel": {
           "align": "left"
          },
          "hovermode": "closest",
          "mapbox": {
           "style": "light"
          },
          "paper_bgcolor": "white",
          "plot_bgcolor": "#E5ECF6",
          "polar": {
           "angularaxis": {
            "gridcolor": "white",
            "linecolor": "white",
            "ticks": ""
           },
           "bgcolor": "#E5ECF6",
           "radialaxis": {
            "gridcolor": "white",
            "linecolor": "white",
            "ticks": ""
           }
          },
          "scene": {
           "xaxis": {
            "backgroundcolor": "#E5ECF6",
            "gridcolor": "white",
            "gridwidth": 2,
            "linecolor": "white",
            "showbackground": true,
            "ticks": "",
            "zerolinecolor": "white"
           },
           "yaxis": {
            "backgroundcolor": "#E5ECF6",
            "gridcolor": "white",
            "gridwidth": 2,
            "linecolor": "white",
            "showbackground": true,
            "ticks": "",
            "zerolinecolor": "white"
           },
           "zaxis": {
            "backgroundcolor": "#E5ECF6",
            "gridcolor": "white",
            "gridwidth": 2,
            "linecolor": "white",
            "showbackground": true,
            "ticks": "",
            "zerolinecolor": "white"
           }
          },
          "shapedefaults": {
           "line": {
            "color": "#2a3f5f"
           }
          },
          "ternary": {
           "aaxis": {
            "gridcolor": "white",
            "linecolor": "white",
            "ticks": ""
           },
           "baxis": {
            "gridcolor": "white",
            "linecolor": "white",
            "ticks": ""
           },
           "bgcolor": "#E5ECF6",
           "caxis": {
            "gridcolor": "white",
            "linecolor": "white",
            "ticks": ""
           }
          },
          "title": {
           "x": 0.05
          },
          "xaxis": {
           "automargin": true,
           "gridcolor": "white",
           "linecolor": "white",
           "ticks": "",
           "title": {
            "standoff": 15
           },
           "zerolinecolor": "white",
           "zerolinewidth": 2
          },
          "yaxis": {
           "automargin": true,
           "gridcolor": "white",
           "linecolor": "white",
           "ticks": "",
           "title": {
            "standoff": 15
           },
           "zerolinecolor": "white",
           "zerolinewidth": 2
          }
         }
        },
        "title": {
         "text": "Fréquence des mots pertinents (TF-IDF)"
        },
        "xaxis": {
         "anchor": "y",
         "domain": [
          0,
          1
         ],
         "tickangle": 45,
         "title": {
          "text": "Mots"
         }
        },
        "yaxis": {
         "anchor": "x",
         "domain": [
          0,
          1
         ],
         "title": {
          "text": "Fréquence"
         }
        }
       }
      }
     },
     "metadata": {},
     "output_type": "display_data"
    }
   ],
   "source": [
    "\n",
    "import plotly.express as px\n",
    "\n",
    "# Créer un graphique avec les mots pertinents\n",
    "fig = px.bar(filtered_tfidf_df, x='Mot', y='Fréquence', title=\"Fréquence des mots pertinents (TF-IDF)\",\n",
    "             text='Fréquence', color='Fréquence', hover_name='Mot')\n",
    "\n",
    "# Personnaliser le graphique\n",
    "fig.update_traces(textposition='outside')\n",
    "fig.update_layout(\n",
    "    xaxis_title='Mots', yaxis_title='Fréquence',\n",
    "    xaxis=dict(tickangle=45),\n",
    "    margin=dict(l=40, r=20, t=40, b=120)\n",
    ")\n",
    "\n",
    "# Afficher le graphique\n",
    "fig.show()\n",
    "\n"
   ]
  },
  {
   "cell_type": "code",
   "execution_count": 39,
   "metadata": {},
   "outputs": [
    {
     "data": {
      "application/vnd.plotly.v1+json": {
       "config": {
        "plotlyServerURL": "https://plot.ly"
       },
       "data": [
        {
         "hovertemplate": "x: %{x}<br>y: %{y}<br>color: [%{z[0]}, %{z[1]}, %{z[2]}]<extra></extra>",
         "name": "0",
         "source": "data:image/png;base64,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",
         "type": "image",
         "xaxis": "x",
         "yaxis": "y"
        }
       ],
       "layout": {
        "coloraxis": {
         "showscale": false
        },
        "margin": {
         "b": 0,
         "l": 0,
         "r": 0,
         "t": 0
        },
        "template": {
         "data": {
          "bar": [
           {
            "error_x": {
             "color": "#2a3f5f"
            },
            "error_y": {
             "color": "#2a3f5f"
            },
            "marker": {
             "line": {
              "color": "#E5ECF6",
              "width": 0.5
             },
             "pattern": {
              "fillmode": "overlay",
              "size": 10,
              "solidity": 0.2
             }
            },
            "type": "bar"
           }
          ],
          "barpolar": [
           {
            "marker": {
             "line": {
              "color": "#E5ECF6",
              "width": 0.5
             },
             "pattern": {
              "fillmode": "overlay",
              "size": 10,
              "solidity": 0.2
             }
            },
            "type": "barpolar"
           }
          ],
          "carpet": [
           {
            "aaxis": {
             "endlinecolor": "#2a3f5f",
             "gridcolor": "white",
             "linecolor": "white",
             "minorgridcolor": "white",
             "startlinecolor": "#2a3f5f"
            },
            "baxis": {
             "endlinecolor": "#2a3f5f",
             "gridcolor": "white",
             "linecolor": "white",
             "minorgridcolor": "white",
             "startlinecolor": "#2a3f5f"
            },
            "type": "carpet"
           }
          ],
          "choropleth": [
           {
            "colorbar": {
             "outlinewidth": 0,
             "ticks": ""
            },
            "type": "choropleth"
           }
          ],
          "contour": [
           {
            "colorbar": {
             "outlinewidth": 0,
             "ticks": ""
            },
            "colorscale": [
             [
              0,
              "#0d0887"
             ],
             [
              0.1111111111111111,
              "#46039f"
             ],
             [
              0.2222222222222222,
              "#7201a8"
             ],
             [
              0.3333333333333333,
              "#9c179e"
             ],
             [
              0.4444444444444444,
              "#bd3786"
             ],
             [
              0.5555555555555556,
              "#d8576b"
             ],
             [
              0.6666666666666666,
              "#ed7953"
             ],
             [
              0.7777777777777778,
              "#fb9f3a"
             ],
             [
              0.8888888888888888,
              "#fdca26"
             ],
             [
              1,
              "#f0f921"
             ]
            ],
            "type": "contour"
           }
          ],
          "contourcarpet": [
           {
            "colorbar": {
             "outlinewidth": 0,
             "ticks": ""
            },
            "type": "contourcarpet"
           }
          ],
          "heatmap": [
           {
            "colorbar": {
             "outlinewidth": 0,
             "ticks": ""
            },
            "colorscale": [
             [
              0,
              "#0d0887"
             ],
             [
              0.1111111111111111,
              "#46039f"
             ],
             [
              0.2222222222222222,
              "#7201a8"
             ],
             [
              0.3333333333333333,
              "#9c179e"
             ],
             [
              0.4444444444444444,
              "#bd3786"
             ],
             [
              0.5555555555555556,
              "#d8576b"
             ],
             [
              0.6666666666666666,
              "#ed7953"
             ],
             [
              0.7777777777777778,
              "#fb9f3a"
             ],
             [
              0.8888888888888888,
              "#fdca26"
             ],
             [
              1,
              "#f0f921"
             ]
            ],
            "type": "heatmap"
           }
          ],
          "heatmapgl": [
           {
            "colorbar": {
             "outlinewidth": 0,
             "ticks": ""
            },
            "colorscale": [
             [
              0,
              "#0d0887"
             ],
             [
              0.1111111111111111,
              "#46039f"
             ],
             [
              0.2222222222222222,
              "#7201a8"
             ],
             [
              0.3333333333333333,
              "#9c179e"
             ],
             [
              0.4444444444444444,
              "#bd3786"
             ],
             [
              0.5555555555555556,
              "#d8576b"
             ],
             [
              0.6666666666666666,
              "#ed7953"
             ],
             [
              0.7777777777777778,
              "#fb9f3a"
             ],
             [
              0.8888888888888888,
              "#fdca26"
             ],
             [
              1,
              "#f0f921"
             ]
            ],
            "type": "heatmapgl"
           }
          ],
          "histogram": [
           {
            "marker": {
             "pattern": {
              "fillmode": "overlay",
              "size": 10,
              "solidity": 0.2
             }
            },
            "type": "histogram"
           }
          ],
          "histogram2d": [
           {
            "colorbar": {
             "outlinewidth": 0,
             "ticks": ""
            },
            "colorscale": [
             [
              0,
              "#0d0887"
             ],
             [
              0.1111111111111111,
              "#46039f"
             ],
             [
              0.2222222222222222,
              "#7201a8"
             ],
             [
              0.3333333333333333,
              "#9c179e"
             ],
             [
              0.4444444444444444,
              "#bd3786"
             ],
             [
              0.5555555555555556,
              "#d8576b"
             ],
             [
              0.6666666666666666,
              "#ed7953"
             ],
             [
              0.7777777777777778,
              "#fb9f3a"
             ],
             [
              0.8888888888888888,
              "#fdca26"
             ],
             [
              1,
              "#f0f921"
             ]
            ],
            "type": "histogram2d"
           }
          ],
          "histogram2dcontour": [
           {
            "colorbar": {
             "outlinewidth": 0,
             "ticks": ""
            },
            "colorscale": [
             [
              0,
              "#0d0887"
             ],
             [
              0.1111111111111111,
              "#46039f"
             ],
             [
              0.2222222222222222,
              "#7201a8"
             ],
             [
              0.3333333333333333,
              "#9c179e"
             ],
             [
              0.4444444444444444,
              "#bd3786"
             ],
             [
              0.5555555555555556,
              "#d8576b"
             ],
             [
              0.6666666666666666,
              "#ed7953"
             ],
             [
              0.7777777777777778,
              "#fb9f3a"
             ],
             [
              0.8888888888888888,
              "#fdca26"
             ],
             [
              1,
              "#f0f921"
             ]
            ],
            "type": "histogram2dcontour"
           }
          ],
          "mesh3d": [
           {
            "colorbar": {
             "outlinewidth": 0,
             "ticks": ""
            },
            "type": "mesh3d"
           }
          ],
          "parcoords": [
           {
            "line": {
             "colorbar": {
              "outlinewidth": 0,
              "ticks": ""
             }
            },
            "type": "parcoords"
           }
          ],
          "pie": [
           {
            "automargin": true,
            "type": "pie"
           }
          ],
          "scatter": [
           {
            "fillpattern": {
             "fillmode": "overlay",
             "size": 10,
             "solidity": 0.2
            },
            "type": "scatter"
           }
          ],
          "scatter3d": [
           {
            "line": {
             "colorbar": {
              "outlinewidth": 0,
              "ticks": ""
             }
            },
            "marker": {
             "colorbar": {
              "outlinewidth": 0,
              "ticks": ""
             }
            },
            "type": "scatter3d"
           }
          ],
          "scattercarpet": [
           {
            "marker": {
             "colorbar": {
              "outlinewidth": 0,
              "ticks": ""
             }
            },
            "type": "scattercarpet"
           }
          ],
          "scattergeo": [
           {
            "marker": {
             "colorbar": {
              "outlinewidth": 0,
              "ticks": ""
             }
            },
            "type": "scattergeo"
           }
          ],
          "scattergl": [
           {
            "marker": {
             "colorbar": {
              "outlinewidth": 0,
              "ticks": ""
             }
            },
            "type": "scattergl"
           }
          ],
          "scattermapbox": [
           {
            "marker": {
             "colorbar": {
              "outlinewidth": 0,
              "ticks": ""
             }
            },
            "type": "scattermapbox"
           }
          ],
          "scatterpolar": [
           {
            "marker": {
             "colorbar": {
              "outlinewidth": 0,
              "ticks": ""
             }
            },
            "type": "scatterpolar"
           }
          ],
          "scatterpolargl": [
           {
            "marker": {
             "colorbar": {
              "outlinewidth": 0,
              "ticks": ""
             }
            },
            "type": "scatterpolargl"
           }
          ],
          "scatterternary": [
           {
            "marker": {
             "colorbar": {
              "outlinewidth": 0,
              "ticks": ""
             }
            },
            "type": "scatterternary"
           }
          ],
          "surface": [
           {
            "colorbar": {
             "outlinewidth": 0,
             "ticks": ""
            },
            "colorscale": [
             [
              0,
              "#0d0887"
             ],
             [
              0.1111111111111111,
              "#46039f"
             ],
             [
              0.2222222222222222,
              "#7201a8"
             ],
             [
              0.3333333333333333,
              "#9c179e"
             ],
             [
              0.4444444444444444,
              "#bd3786"
             ],
             [
              0.5555555555555556,
              "#d8576b"
             ],
             [
              0.6666666666666666,
              "#ed7953"
             ],
             [
              0.7777777777777778,
              "#fb9f3a"
             ],
             [
              0.8888888888888888,
              "#fdca26"
             ],
             [
              1,
              "#f0f921"
             ]
            ],
            "type": "surface"
           }
          ],
          "table": [
           {
            "cells": {
             "fill": {
              "color": "#EBF0F8"
             },
             "line": {
              "color": "white"
             }
            },
            "header": {
             "fill": {
              "color": "#C8D4E3"
             },
             "line": {
              "color": "white"
             }
            },
            "type": "table"
           }
          ]
         },
         "layout": {
          "annotationdefaults": {
           "arrowcolor": "#2a3f5f",
           "arrowhead": 0,
           "arrowwidth": 1
          },
          "autotypenumbers": "strict",
          "coloraxis": {
           "colorbar": {
            "outlinewidth": 0,
            "ticks": ""
           }
          },
          "colorscale": {
           "diverging": [
            [
             0,
             "#8e0152"
            ],
            [
             0.1,
             "#c51b7d"
            ],
            [
             0.2,
             "#de77ae"
            ],
            [
             0.3,
             "#f1b6da"
            ],
            [
             0.4,
             "#fde0ef"
            ],
            [
             0.5,
             "#f7f7f7"
            ],
            [
             0.6,
             "#e6f5d0"
            ],
            [
             0.7,
             "#b8e186"
            ],
            [
             0.8,
             "#7fbc41"
            ],
            [
             0.9,
             "#4d9221"
            ],
            [
             1,
             "#276419"
            ]
           ],
           "sequential": [
            [
             0,
             "#0d0887"
            ],
            [
             0.1111111111111111,
             "#46039f"
            ],
            [
             0.2222222222222222,
             "#7201a8"
            ],
            [
             0.3333333333333333,
             "#9c179e"
            ],
            [
             0.4444444444444444,
             "#bd3786"
            ],
            [
             0.5555555555555556,
             "#d8576b"
            ],
            [
             0.6666666666666666,
             "#ed7953"
            ],
            [
             0.7777777777777778,
             "#fb9f3a"
            ],
            [
             0.8888888888888888,
             "#fdca26"
            ],
            [
             1,
             "#f0f921"
            ]
           ],
           "sequentialminus": [
            [
             0,
             "#0d0887"
            ],
            [
             0.1111111111111111,
             "#46039f"
            ],
            [
             0.2222222222222222,
             "#7201a8"
            ],
            [
             0.3333333333333333,
             "#9c179e"
            ],
            [
             0.4444444444444444,
             "#bd3786"
            ],
            [
             0.5555555555555556,
             "#d8576b"
            ],
            [
             0.6666666666666666,
             "#ed7953"
            ],
            [
             0.7777777777777778,
             "#fb9f3a"
            ],
            [
             0.8888888888888888,
             "#fdca26"
            ],
            [
             1,
             "#f0f921"
            ]
           ]
          },
          "colorway": [
           "#636efa",
           "#EF553B",
           "#00cc96",
           "#ab63fa",
           "#FFA15A",
           "#19d3f3",
           "#FF6692",
           "#B6E880",
           "#FF97FF",
           "#FECB52"
          ],
          "font": {
           "color": "#2a3f5f"
          },
          "geo": {
           "bgcolor": "white",
           "lakecolor": "white",
           "landcolor": "#E5ECF6",
           "showlakes": true,
           "showland": true,
           "subunitcolor": "white"
          },
          "hoverlabel": {
           "align": "left"
          },
          "hovermode": "closest",
          "mapbox": {
           "style": "light"
          },
          "paper_bgcolor": "white",
          "plot_bgcolor": "#E5ECF6",
          "polar": {
           "angularaxis": {
            "gridcolor": "white",
            "linecolor": "white",
            "ticks": ""
           },
           "bgcolor": "#E5ECF6",
           "radialaxis": {
            "gridcolor": "white",
            "linecolor": "white",
            "ticks": ""
           }
          },
          "scene": {
           "xaxis": {
            "backgroundcolor": "#E5ECF6",
            "gridcolor": "white",
            "gridwidth": 2,
            "linecolor": "white",
            "showbackground": true,
            "ticks": "",
            "zerolinecolor": "white"
           },
           "yaxis": {
            "backgroundcolor": "#E5ECF6",
            "gridcolor": "white",
            "gridwidth": 2,
            "linecolor": "white",
            "showbackground": true,
            "ticks": "",
            "zerolinecolor": "white"
           },
           "zaxis": {
            "backgroundcolor": "#E5ECF6",
            "gridcolor": "white",
            "gridwidth": 2,
            "linecolor": "white",
            "showbackground": true,
            "ticks": "",
            "zerolinecolor": "white"
           }
          },
          "shapedefaults": {
           "line": {
            "color": "#2a3f5f"
           }
          },
          "ternary": {
           "aaxis": {
            "gridcolor": "white",
            "linecolor": "white",
            "ticks": ""
           },
           "baxis": {
            "gridcolor": "white",
            "linecolor": "white",
            "ticks": ""
           },
           "bgcolor": "#E5ECF6",
           "caxis": {
            "gridcolor": "white",
            "linecolor": "white",
            "ticks": ""
           }
          },
          "title": {
           "x": 0.05
          },
          "xaxis": {
           "automargin": true,
           "gridcolor": "white",
           "linecolor": "white",
           "ticks": "",
           "title": {
            "standoff": 15
           },
           "zerolinecolor": "white",
           "zerolinewidth": 2
          },
          "yaxis": {
           "automargin": true,
           "gridcolor": "white",
           "linecolor": "white",
           "ticks": "",
           "title": {
            "standoff": 15
           },
           "zerolinecolor": "white",
           "zerolinewidth": 2
          }
         }
        },
        "xaxis": {
         "anchor": "y",
         "domain": [
          0,
          1
         ],
         "showticklabels": false
        },
        "yaxis": {
         "anchor": "x",
         "domain": [
          0,
          1
         ],
         "showticklabels": false
        }
       }
      }
     },
     "metadata": {},
     "output_type": "display_data"
    }
   ],
   "source": [
    "from collections import defaultdict\n",
    "from wordcloud import WordCloud\n",
    "import plotly.express as px\n",
    "import pandas as pd\n",
    "\n",
    "\n",
    "# Génération du WordCloud avec les mots filtrés\n",
    "word_weights = dict(zip(filtered_tfidf_df['Mot'], filtered_tfidf_df['Fréquence']))\n",
    "\n",
    "wordcloud = WordCloud(\n",
    "    width=800,\n",
    "    height=400,\n",
    "    background_color='white',\n",
    "    colormap='viridis'\n",
    ").generate_from_frequencies(word_weights)\n",
    "\n",
    "# Conversion en image pour affichage avec Plotly\n",
    "wordcloud_image = wordcloud.to_array()\n",
    "\n",
    "# Affichage avec Plotly\n",
    "fig = px.imshow(\n",
    "    wordcloud_image,\n",
    "    \n",
    "    color_continuous_scale=\"viridis\"\n",
    ")\n",
    "# Suppression des marges et des bordures blanches\n",
    "fig.update_layout(\n",
    "    margin=dict(l=0, r=0, t=0, b=0),  # Suppression des marges\n",
    "    coloraxis_showscale=False  # Suppression de l'échelle des couleurs si non nécessaire\n",
    ")\n",
    "\n",
    "\n",
    "fig.update_xaxes(showticklabels=False)\n",
    "fig.update_yaxes(showticklabels=False)\n",
    "fig.show()\n"
   ]
  },
  {
   "cell_type": "markdown",
   "metadata": {},
   "source": [
    "\n",
    "analyse du resulat et recommandation\n",
    "\n",
    "Mon analyse\n",
    "\n",
    "\n",
    "Les résultats de mon WordCloud mettent en évidence les mots les plus significatifs en fonction de leur pondération (TF-IDF). Ils révèlent une forte concentration sur les problématiques de fraude bancaire, avec des thématiques majeures telles que le \"skimming\", une technique de fraude ciblant les données bancaires, ainsi que des notions comme \"vigilance\" et les \"impacts\" sur le pays.\n",
    "\n",
    "La présence de termes tels que \"vidéo\", \"copie\" et \"impressionnantes\" suggère une orientation vers des supports visuels pour sensibiliser les utilisateurs. Ces éléments pourraient indiquer que les campagnes de prévention axées sur des contenus visuels percutants sont particulièrement adaptées pour informer le public sur les risques et les méthodes liées aux fraudes bancaires.\n",
    "\n",
    "\n",
    "Ma recommandation\n",
    "\n",
    "- Mise en place de campagnes de prévention renforcées, appuyées par des supports vidéo éducatifs, afin d’expliquer les risques liés aux fraudes et de sensibiliser le public aux précautions à adopter. Ces campagnes pourraient être diffusées sur des plateformes clés telles que Facebook, Twitter et Instagram, pour toucher un large public de manière efficace et engageante.\n",
    "\n",
    "\n",
    "- Identification et renforcement des mesures  de  sécurité sur les zones les plus touchées par la fraude "
   ]
  },
  {
   "cell_type": "markdown",
   "metadata": {},
   "source": []
  },
  {
   "cell_type": "markdown",
   "metadata": {},
   "source": [
    "text_mining article La dangereuse dynamique des soldes des cartes de crédit aux États-Unis"
   ]
  },
  {
   "cell_type": "markdown",
   "metadata": {},
   "source": [
    "reation WordCould avec Article de Robin \n",
    "\n",
    "https://www.lafinancepourtous.com/2024/09/12/la-dangereuse-dynamique-des-soldes-des-cartes-de-credit-aux-etats-unis/\n"
   ]
  },
  {
   "cell_type": "code",
   "execution_count": null,
   "metadata": {},
   "outputs": [
    {
     "name": "stdout",
     "output_type": "stream",
     "text": [
      "Texte extrait avec succès.\n"
     ]
    }
   ],
   "source": [
    "from bs4 import BeautifulSoup\n",
    "# Chemin du fichier html \n",
    "\n",
    "file_path1= \"articles/La dangereuse dynamique des soldes des cartes de crédit aux États-Unis - La finance pour tous.html\"\n",
    "# Lecture du fichier texte\n",
    "with open(file_path1, \"r\", encoding=\"utf-8\") as file:\n",
    "    html_content= file.read()\n",
    "\n",
    "# Extraction du texte avec BeautifulSoup\n",
    "soup = BeautifulSoup(html_content, \"html.parser\")\n",
    "article_text1 = soup.get_text()\n",
    "\n",
    "print(\"Texte extrait avec succès.\")"
   ]
  },
  {
   "cell_type": "markdown",
   "metadata": {},
   "source": [
    "Exploration de nos données extrait"
   ]
  },
  {
   "cell_type": "code",
   "execution_count": 41,
   "metadata": {},
   "outputs": [
    {
     "data": {
      "text/plain": [
       "15141"
      ]
     },
     "execution_count": 41,
     "metadata": {},
     "output_type": "execute_result"
    }
   ],
   "source": [
    "len(article_text1)"
   ]
  },
  {
   "cell_type": "code",
   "execution_count": 42,
   "metadata": {},
   "outputs": [
    {
     "data": {
      "text/plain": [
       "['La',\n",
       " 'dangereuse',\n",
       " 'dynamique',\n",
       " 'des',\n",
       " 'soldes',\n",
       " 'des',\n",
       " 'cartes',\n",
       " 'de',\n",
       " 'crédit',\n",
       " 'aux',\n",
       " 'États-Unis',\n",
       " '-',\n",
       " 'La',\n",
       " 'finance',\n",
       " 'pour',\n",
       " 'tous',\n",
       " 'Aller',\n",
       " 'au',\n",
       " 'menu',\n",
       " 'Aller',\n",
       " 'au',\n",
       " 'contenu',\n",
       " 'Aller',\n",
       " 'à',\n",
       " 'la',\n",
       " 'recherche',\n",
       " 'Accéder',\n",
       " 'à',\n",
       " 'la',\n",
       " 'navigation',\n",
       " 'La',\n",
       " 'finance',\n",
       " 'pour',\n",
       " 'tous',\n",
       " 'Accéder',\n",
       " 'à',\n",
       " 'la',\n",
       " 'recherche',\n",
       " 'Pratique',\n",
       " 'Décryptages',\n",
       " 'Enseignants',\n",
       " 'Juniors',\n",
       " 'Boutique',\n",
       " 'Accueil',\n",
       " 'Actualités',\n",
       " 'Rechercher',\n",
       " 'Rechercher',\n",
       " 'La',\n",
       " 'finance',\n",
       " 'pour',\n",
       " 'tous',\n",
       " 'sur',\n",
       " 'facebook',\n",
       " 'La',\n",
       " 'finance',\n",
       " 'pour',\n",
       " 'tous',\n",
       " 'sur',\n",
       " 'twitter',\n",
       " 'La',\n",
       " 'finance',\n",
       " 'pour',\n",
       " 'tous',\n",
       " 'sur',\n",
       " 'linkedin',\n",
       " 'La',\n",
       " 'finance',\n",
       " 'pour',\n",
       " 'tous',\n",
       " 'sur',\n",
       " 'instagram',\n",
       " 'La',\n",
       " 'finance',\n",
       " 'pour',\n",
       " 'tous',\n",
       " 'sur',\n",
       " 'youtube',\n",
       " 'La',\n",
       " 'finance',\n",
       " 'pour',\n",
       " 'tous',\n",
       " 'sur',\n",
       " 'tiktok',\n",
       " 'La',\n",
       " 'finance',\n",
       " 'pour',\n",
       " 'tous',\n",
       " '-',\n",
       " 'Le',\n",
       " 'site',\n",
       " 'pédagogique',\n",
       " 'sur',\n",
       " \"l'argent\",\n",
       " 'et',\n",
       " 'la',\n",
       " 'finance',\n",
       " 'La',\n",
       " 'finance',\n",
       " 'pour',\n",
       " 'tous',\n",
       " 'est',\n",
       " 'une',\n",
       " 'association',\n",
       " 'd’intérêt',\n",
       " 'général,',\n",
       " 'créée',\n",
       " 'pour']"
      ]
     },
     "execution_count": 42,
     "metadata": {},
     "output_type": "execute_result"
    }
   ],
   "source": [
    "article_text1[:1000].split()"
   ]
  },
  {
   "cell_type": "code",
   "execution_count": 43,
   "metadata": {},
   "outputs": [
    {
     "data": {
      "text/plain": [
       "str"
      ]
     },
     "execution_count": 43,
     "metadata": {},
     "output_type": "execute_result"
    }
   ],
   "source": [
    "# verifions que le contenu de nos données extrait est du type string\n",
    "type(article_text1)"
   ]
  },
  {
   "cell_type": "markdown",
   "metadata": {},
   "source": [
    "2.Prétraitement du texte\n",
    "Nettoyage du texte pour supprimer les caractères inutiles, suppression des accents et des stopwords\n"
   ]
  },
  {
   "cell_type": "code",
   "execution_count": 44,
   "metadata": {},
   "outputs": [
    {
     "name": "stderr",
     "output_type": "stream",
     "text": [
      "[nltk_data] Downloading package stopwords to\n",
      "[nltk_data]     C:\\Users\\pc\\AppData\\Roaming\\nltk_data...\n",
      "[nltk_data]   Package stopwords is already up-to-date!\n"
     ]
    }
   ],
   "source": [
    "nltk.download('stopwords') # téléchargement du package depuis la bibliothèque NLTK(Natural language Toolkit)\n",
    "stop_words1 = set(stopwords.words('french'))  #  je charge la ligne des  stopwords pour la langue française"
   ]
  },
  {
   "cell_type": "code",
   "execution_count": 45,
   "metadata": {},
   "outputs": [
    {
     "name": "stdout",
     "output_type": "stream",
     "text": [
      "{'on', 'étais', 'son', 'eue', 'même', 'est', 'sommes', 'une', 'aux', 'me', 'fût', 'avons', 'les', 'et', 'ont', 'eut', 'serions', 'eûtes', 'aurez', 'serons', 'étions', 'ne', 'avez', 'ayons', 'je', 'auras', 'fûmes', 'êtes', 'eusses', 'ton', 'était', 'soyez', 'soyons', 'aurons', 'aies', 'se', 'ces', 'fussent', 'eux', 'qu', 'nous', 'ses', 'aviez', 't', 'avaient', 'votre', 'elle', 'as', 'aurai', 'ou', 'eusse', 'l', 'étés', 'eu', 'te', 'étaient', 'étée', 'qui', 'd', 'eûmes', 'des', 'sa', 'étiez', 'furent', 'seriez', 'ma', 'fut', 'j', 'ai', 'tes', 'mon', 'aie', 'dans', 'avais', 'pour', 'fusse', 'ayez', 'eussions', 'sera', 'sont', 'le', 'ta', 'fûtes', 'auriez', 'mes', 'avions', 'sur', 'au', 'seront', 'étante', 'ils', 'n', 'serez', 'leur', 'vos', 'étants', 'sois', 'étant', 'étantes', 'suis', 'été', 'seraient', 'la', 'auront', 'ayant', 'soient', 'de', 'eus', 'es', 'un', 'ait', 'il', 'du', 'notre', 'à', 'seras', 'serait', 'serai', 'eût', 'c', 'aurais', 'soit', 'ce', 'fusses', 'fus', 'auraient', 'avait', 'lui', 'eussiez', 'nos', 'eues', 'y', 'm', 'ayante', 'fussiez', 'que', 'aura', 'serais', 'eurent', 'pas', 'tu', 'en', 'vous', 'ayants', 'fussions', 'aient', 'avec', 'toi', 'mais', 'par', 'eussent', 'aurions', 'étées', 'moi', 'ayantes', 'aurait', 's'}\n"
     ]
    }
   ],
   "source": [
    "print(stop_words1)"
   ]
  },
  {
   "cell_type": "code",
   "execution_count": 46,
   "metadata": {},
   "outputs": [
    {
     "name": "stdout",
     "output_type": "stream",
     "text": [
      "157\n"
     ]
    }
   ],
   "source": [
    "print(len(stop_words1))"
   ]
  },
  {
   "cell_type": "markdown",
   "metadata": {},
   "source": [
    "3. passons à  l'étape du pré-procéssing de notre data_texte"
   ]
  },
  {
   "cell_type": "code",
   "execution_count": 47,
   "metadata": {},
   "outputs": [
    {
     "name": "stdout",
     "output_type": "stream",
     "text": [
      "Texte nettoyé avec succès.\n"
     ]
    }
   ],
   "source": [
    "def preprocess_text(text):\n",
    "    text = text.lower()  # Conversion en minuscules\n",
    "    text = unidecode(text)  # Suppression des accents\n",
    "    text = re.sub(r'http\\S+', '', text)  # Suppression des URL\n",
    "    text = re.sub(r'[^a-z\\s]', '', text)  # Suppression des caractères spéciaux\n",
    "    text = re.sub(r'\\b\\w{1,2}\\b', '', text)  # Suppression des mots très courts (1-2 lettres)\n",
    "    text = re.sub(r'\\s+', ' ', text)  # Suppression des espaces multiples\n",
    "    words = text.split()  # Tokenisation\n",
    "    words = [word for word in words if word not in stop_words1]  # Suppression des stopwords\n",
    "    return ' '.join(words).split()\n",
    "\n",
    "# Appliquer le nettoyage avancé\n",
    "text_cleaned = preprocess_text(article_text1)\n",
    "print(\"Texte nettoyé avec succès.\")"
   ]
  },
  {
   "cell_type": "code",
   "execution_count": 48,
   "metadata": {},
   "outputs": [
    {
     "data": {
      "text/plain": [
       "['dangereuse',\n",
       " 'dynamique',\n",
       " 'soldes',\n",
       " 'cartes',\n",
       " 'credit',\n",
       " 'etatsunis',\n",
       " 'finance',\n",
       " 'tous',\n",
       " 'aller',\n",
       " 'menu',\n",
       " 'aller',\n",
       " 'contenu',\n",
       " 'aller',\n",
       " 'recherche',\n",
       " 'acceder',\n",
       " 'navigation',\n",
       " 'finance',\n",
       " 'tous',\n",
       " 'acceder',\n",
       " 'recherche',\n",
       " 'pratique',\n",
       " 'decryptages',\n",
       " 'enseignants',\n",
       " 'juniors',\n",
       " 'boutique',\n",
       " 'accueil',\n",
       " 'actualites',\n",
       " 'rechercher',\n",
       " 'rechercher',\n",
       " 'finance',\n",
       " 'tous',\n",
       " 'facebook',\n",
       " 'finance',\n",
       " 'tous',\n",
       " 'twitter',\n",
       " 'finance',\n",
       " 'tous',\n",
       " 'linkedin',\n",
       " 'finance',\n",
       " 'tous',\n",
       " 'instagram',\n",
       " 'finance',\n",
       " 'tous',\n",
       " 'youtube',\n",
       " 'finance',\n",
       " 'tous',\n",
       " 'tiktok',\n",
       " 'finance',\n",
       " 'tous',\n",
       " 'site',\n",
       " 'pedagogique',\n",
       " 'largent',\n",
       " 'finance',\n",
       " 'finance',\n",
       " 'tous',\n",
       " 'association',\n",
       " 'dinteret',\n",
       " 'general',\n",
       " 'creee',\n",
       " 'aider',\n",
       " 'chacun',\n",
       " 'sentir',\n",
       " 'plus',\n",
       " 'laise',\n",
       " 'questions',\n",
       " 'economiques',\n",
       " 'financieres',\n",
       " 'rechercher',\n",
       " 'rechercher',\n",
       " 'fermer',\n",
       " 'fermer',\n",
       " 'resultats',\n",
       " 'recherche',\n",
       " 'actualites',\n",
       " 'decryptages',\n",
       " 'dangereuse',\n",
       " 'dynamique',\n",
       " 'soldes',\n",
       " 'cartes',\n",
       " 'credit',\n",
       " 'etatsunis',\n",
       " 'dangereuse',\n",
       " 'dynamique',\n",
       " 'soldes',\n",
       " 'cartes',\n",
       " 'credit',\n",
       " 'etatsunis',\n",
       " 'septembre',\n",
       " 'finance',\n",
       " 'tous',\n",
       " 'facebook',\n",
       " 'facebook',\n",
       " 'messenger',\n",
       " 'linkedin',\n",
       " 'whatsapp',\n",
       " 'twitter',\n",
       " 'copier',\n",
       " 'lien',\n",
       " 'depuis',\n",
       " 'fin',\n",
       " 'lannee',\n",
       " 'plusieurs',\n",
       " 'voix',\n",
       " 'lindustrie',\n",
       " 'economique',\n",
       " 'financiere',\n",
       " 'salarment',\n",
       " 'dynamique',\n",
       " 'prets',\n",
       " 'consommation',\n",
       " 'etatsunis',\n",
       " 'bien',\n",
       " 'quune',\n",
       " 'nouvelle',\n",
       " 'crise',\n",
       " 'financiere',\n",
       " 'origine',\n",
       " 'prets',\n",
       " 'menages',\n",
       " 'joue',\n",
       " 'larlesienne',\n",
       " 'depuis',\n",
       " 'dizaine',\n",
       " 'dannees',\n",
       " 'dernieres',\n",
       " 'evolutions',\n",
       " 'laissent',\n",
       " 'presager',\n",
       " 'certain',\n",
       " 'nombre',\n",
       " 'difficultes',\n",
       " 'venir',\n",
       " 'laugmentation',\n",
       " 'taux',\n",
       " 'dimpayes',\n",
       " 'soldes',\n",
       " 'cartes',\n",
       " 'credit',\n",
       " 'particulier',\n",
       " 'coeur',\n",
       " 'inquietudes',\n",
       " 'petit',\n",
       " 'tour',\n",
       " 'dhorizon',\n",
       " 'fonctionnement',\n",
       " 'credit',\n",
       " 'consommation',\n",
       " 'usa',\n",
       " 'premiere',\n",
       " 'economie',\n",
       " 'monde',\n",
       " 'etatsunis',\n",
       " 'bien',\n",
       " 'plus',\n",
       " 'quen',\n",
       " 'france',\n",
       " 'credit',\n",
       " 'integre',\n",
       " 'habitudes',\n",
       " 'consommation',\n",
       " 'menages',\n",
       " 'marche',\n",
       " 'credit',\n",
       " 'immobilier',\n",
       " 'bien',\n",
       " 'entendu',\n",
       " 'tres',\n",
       " 'profond',\n",
       " 'difference',\n",
       " 'plus',\n",
       " 'notable',\n",
       " 'pays',\n",
       " 'deurope',\n",
       " 'concerne',\n",
       " 'credits',\n",
       " 'consommation',\n",
       " 'montant',\n",
       " 'depasse',\n",
       " 'present',\n",
       " 'milliards',\n",
       " 'dollars',\n",
       " 'environ',\n",
       " 'pib',\n",
       " 'americain',\n",
       " 'france',\n",
       " 'represente',\n",
       " 'environ',\n",
       " 'pib',\n",
       " 'parmi',\n",
       " 'credits',\n",
       " 'consommation',\n",
       " 'environ',\n",
       " 'milliards',\n",
       " 'soldes',\n",
       " 'carte',\n",
       " 'credit',\n",
       " 'comment',\n",
       " 'fonctionnent',\n",
       " 'cartes',\n",
       " 'credit',\n",
       " 'usa',\n",
       " 'lon',\n",
       " 'appelle',\n",
       " 'couramment',\n",
       " 'cartes',\n",
       " 'credit',\n",
       " 'france',\n",
       " 'fait',\n",
       " 'plupart',\n",
       " 'temps',\n",
       " 'cartes',\n",
       " 'debit',\n",
       " 'chaque',\n",
       " 'paiement',\n",
       " 'realise',\n",
       " 'montant',\n",
       " 'transaction',\n",
       " 'ponctionne',\n",
       " 'compte',\n",
       " 'courant',\n",
       " 'associe',\n",
       " 'carte',\n",
       " 'existe',\n",
       " 'bien',\n",
       " 'cartes',\n",
       " 'debit',\n",
       " 'differe',\n",
       " 'lon',\n",
       " 'appelle',\n",
       " 'cartes',\n",
       " 'credit',\n",
       " 'permettent',\n",
       " 'netre',\n",
       " 'ponctionne',\n",
       " 'montants',\n",
       " 'toutes',\n",
       " 'transactions',\n",
       " 'qua',\n",
       " 'fin',\n",
       " 'mois',\n",
       " 'voire',\n",
       " 'mois',\n",
       " 'suivant',\n",
       " 'cartes',\n",
       " 'credit',\n",
       " 'renouvelable',\n",
       " 'utilisees',\n",
       " 'etatsunis',\n",
       " 'bien',\n",
       " 'plus',\n",
       " 'rares',\n",
       " 'france',\n",
       " 'meme',\n",
       " 'elles',\n",
       " 'existent',\n",
       " 'souvent',\n",
       " 'associees',\n",
       " 'enseigne',\n",
       " 'commerciale',\n",
       " 'lire',\n",
       " 'aussi',\n",
       " 'siteles',\n",
       " 'cartes',\n",
       " 'ligne',\n",
       " 'creditune',\n",
       " 'carte',\n",
       " 'bancaire',\n",
       " 'credit',\n",
       " 'permet',\n",
       " 'retirer',\n",
       " 'especes',\n",
       " 'regler',\n",
       " 'achats',\n",
       " 'cartes',\n",
       " 'debit',\n",
       " 'differe',\n",
       " 'permettent',\n",
       " 'retarder',\n",
       " 'prelevement',\n",
       " 'cartes',\n",
       " 'credit',\n",
       " 'renouvelable',\n",
       " 'permettent',\n",
       " 'particuliers',\n",
       " 'demprunter',\n",
       " 'tirant',\n",
       " 'ligne',\n",
       " 'credit',\n",
       " 'dont',\n",
       " 'plafond',\n",
       " 'fixe',\n",
       " 'lavance',\n",
       " 'detenteur',\n",
       " 'peut',\n",
       " 'rembourser',\n",
       " 'credit',\n",
       " 'possible',\n",
       " 'peut',\n",
       " 'egalement',\n",
       " 'faire',\n",
       " 'courir',\n",
       " 'plusieurs',\n",
       " 'semaines',\n",
       " 'voire',\n",
       " 'plusieurs',\n",
       " 'mois',\n",
       " 'doit',\n",
       " 'simplement',\n",
       " 'sacquitter',\n",
       " 'dun',\n",
       " 'montant',\n",
       " 'mensuel',\n",
       " 'minimum',\n",
       " 'general',\n",
       " 'assez',\n",
       " 'faible',\n",
       " 'interets',\n",
       " 'alors',\n",
       " 'appliques',\n",
       " 'solde',\n",
       " 'restant',\n",
       " 'somme',\n",
       " 'cartes',\n",
       " 'credit',\n",
       " 'renouvelable',\n",
       " 'equivalentes',\n",
       " 'credits',\n",
       " 'consommation',\n",
       " 'flexibles',\n",
       " 'non',\n",
       " 'affectes',\n",
       " 'vers',\n",
       " 'depenses',\n",
       " 'particulier',\n",
       " 'elles',\n",
       " 'font',\n",
       " 'partie',\n",
       " 'habitudes',\n",
       " 'consommation',\n",
       " 'beaucoup',\n",
       " 'damericains',\n",
       " 'elles',\n",
       " 'permettent',\n",
       " 'plus',\n",
       " 'dune',\n",
       " 'flexibilite',\n",
       " 'remboursements',\n",
       " 'donc',\n",
       " 'depenses',\n",
       " 'beneficier',\n",
       " 'remises',\n",
       " 'achats',\n",
       " 'via',\n",
       " 'service',\n",
       " 'cashback',\n",
       " 'miles',\n",
       " 'aeriens',\n",
       " 'services',\n",
       " 'protection',\n",
       " 'achats',\n",
       " 'dassurances',\n",
       " 'voyages',\n",
       " 'nombreux',\n",
       " 'avantages',\n",
       " 'additionnels',\n",
       " 'contribuent',\n",
       " 'lutilisation',\n",
       " 'massive',\n",
       " 'cartes',\n",
       " 'credit',\n",
       " 'meme',\n",
       " 'chez',\n",
       " 'menages',\n",
       " 'modestes',\n",
       " 'comprenant',\n",
       " 'fonctionnement',\n",
       " 'interets',\n",
       " 'composes',\n",
       " 'quelles',\n",
       " 'dernieres',\n",
       " 'evolutions',\n",
       " 'concernant',\n",
       " 'cartes',\n",
       " 'credit',\n",
       " 'etatsunis',\n",
       " 'periode',\n",
       " 'postcovid',\n",
       " 'justement',\n",
       " 'marquee',\n",
       " 'forte',\n",
       " 'augmentation',\n",
       " 'soldes',\n",
       " 'carte',\n",
       " 'credit',\n",
       " 'faut',\n",
       " 'retourner',\n",
       " 'milieu',\n",
       " 'annees',\n",
       " 'retrouver',\n",
       " 'croissance',\n",
       " 'aussi',\n",
       " 'soutenue',\n",
       " 'source',\n",
       " 'principale',\n",
       " 'cette',\n",
       " 'hausse',\n",
       " 'bien',\n",
       " 'entendu',\n",
       " 'linflation',\n",
       " 'augmente',\n",
       " 'cout',\n",
       " 'vie',\n",
       " 'menages',\n",
       " 'dont',\n",
       " 'salaire',\n",
       " 'suit',\n",
       " 'souvent',\n",
       " 'retard',\n",
       " 'prix',\n",
       " 'entre',\n",
       " 'janvier',\n",
       " 'avril',\n",
       " 'prix',\n",
       " 'nourriture',\n",
       " 'augmente',\n",
       " 'cout',\n",
       " 'logement',\n",
       " 'salaires',\n",
       " 'seulement',\n",
       " 'souscrire',\n",
       " 'carte',\n",
       " 'credit',\n",
       " 'renouvelable',\n",
       " 'augmenter',\n",
       " 'solde',\n",
       " 'donc',\n",
       " 'court',\n",
       " 'terme',\n",
       " 'meilleur',\n",
       " 'moyen',\n",
       " 'faire',\n",
       " 'face',\n",
       " 'difficultes',\n",
       " 'tant',\n",
       " 'telle',\n",
       " 'croissance',\n",
       " 'credit',\n",
       " 'nest',\n",
       " 'toujours',\n",
       " 'signe',\n",
       " 'dun',\n",
       " 'emballement',\n",
       " 'cependant',\n",
       " 'ici',\n",
       " 'cette',\n",
       " 'hausse',\n",
       " 'correlee',\n",
       " 'forte',\n",
       " 'augmentation',\n",
       " 'taux',\n",
       " 'dinteret',\n",
       " 'associes',\n",
       " 'soldes',\n",
       " 'cartes',\n",
       " 'credit',\n",
       " 'derniers',\n",
       " 'maintenant',\n",
       " 'audela',\n",
       " 'peut',\n",
       " 'mener',\n",
       " 'menage',\n",
       " 'imprudent',\n",
       " 'voir',\n",
       " 'dettes',\n",
       " 'exploser',\n",
       " 'toute',\n",
       " 'vitesse',\n",
       " 'cette',\n",
       " 'hausse',\n",
       " 'taux',\n",
       " 'dinteret',\n",
       " 'suit',\n",
       " 'bien',\n",
       " 'tendance',\n",
       " 'generale',\n",
       " 'marches',\n",
       " 'impulsee',\n",
       " 'politique',\n",
       " 'monetaire',\n",
       " 'restrictive',\n",
       " 'reserve',\n",
       " 'federale',\n",
       " 'laisse',\n",
       " 'egalement',\n",
       " 'presager',\n",
       " 'solidite',\n",
       " 'financiere',\n",
       " 'menages',\n",
       " 'carte',\n",
       " 'credit',\n",
       " 'degrade',\n",
       " 'cette',\n",
       " 'degradation',\n",
       " 'peut',\n",
       " 'avoir',\n",
       " 'origine',\n",
       " 'conjoncture',\n",
       " 'economique',\n",
       " 'egalement',\n",
       " 'reflet',\n",
       " 'choix',\n",
       " 'banques',\n",
       " 'americaines',\n",
       " 'acceptent',\n",
       " 'financer',\n",
       " 'menages',\n",
       " 'plus',\n",
       " 'pauvres',\n",
       " 'fois',\n",
       " 'revenu',\n",
       " 'patrimoine',\n",
       " 'cartes',\n",
       " 'credit',\n",
       " 'cycle',\n",
       " 'dangereux',\n",
       " 'impayes',\n",
       " 'alarme',\n",
       " 'veritablement',\n",
       " 'commentateurs',\n",
       " 'cest',\n",
       " 'hausse',\n",
       " 'soutenue',\n",
       " 'taux',\n",
       " 'dimpayes',\n",
       " 'soldes',\n",
       " 'cartes',\n",
       " 'credit',\n",
       " 'sagit',\n",
       " 'pourcentage',\n",
       " 'demprunteurs',\n",
       " 'nayant',\n",
       " 'procede',\n",
       " 'versement',\n",
       " 'minimum',\n",
       " 'exige',\n",
       " 'souvent',\n",
       " 'mensuel',\n",
       " 'depasse',\n",
       " 'maintenant',\n",
       " 'lensemble',\n",
       " 'menages',\n",
       " 'jusqua',\n",
       " 'banques',\n",
       " 'plus',\n",
       " 'petites',\n",
       " 'taux',\n",
       " 'dimpayes',\n",
       " 'peut',\n",
       " 'sembler',\n",
       " 'raisonnable',\n",
       " 'cependant',\n",
       " 'plusieurs',\n",
       " 'points',\n",
       " 'negliger',\n",
       " 'tout',\n",
       " 'dabord',\n",
       " 'taux',\n",
       " 'nest',\n",
       " 'stabilise',\n",
       " 'peut',\n",
       " 'attendre',\n",
       " 'futures',\n",
       " 'hausses',\n",
       " 'surtout',\n",
       " 'taux',\n",
       " 'doit',\n",
       " 'etre',\n",
       " 'interprete',\n",
       " 'comme',\n",
       " 'signal',\n",
       " 'dinsolvabilite',\n",
       " 'certains',\n",
       " 'menages',\n",
       " 'meme',\n",
       " 'faible',\n",
       " 'nombre',\n",
       " 'menages',\n",
       " 'remboursant',\n",
       " 'leurs',\n",
       " 'dettes',\n",
       " 'peut',\n",
       " 'entrainer',\n",
       " 'chute',\n",
       " 'beaucoup',\n",
       " 'dautres',\n",
       " 'effet',\n",
       " 'domino',\n",
       " 'schematiser',\n",
       " 'menages',\n",
       " 'soldent',\n",
       " 'compte',\n",
       " 'alors',\n",
       " 'banques',\n",
       " 'augmenteraient',\n",
       " 'fortement',\n",
       " 'taux',\n",
       " 'dinteret',\n",
       " 'couvrir',\n",
       " 'pertes',\n",
       " 'desinciter',\n",
       " 'autres',\n",
       " 'menages',\n",
       " 'surendetter',\n",
       " 'cette',\n",
       " 'hausse',\n",
       " 'taux',\n",
       " 'rendrait',\n",
       " 'situation',\n",
       " 'nouveaux',\n",
       " 'menages',\n",
       " 'intenable',\n",
       " 'ainsi',\n",
       " 'suite',\n",
       " 'maniere',\n",
       " 'generale',\n",
       " 'monde',\n",
       " 'financier',\n",
       " 'effets',\n",
       " 'dominos',\n",
       " 'legion',\n",
       " 'convient',\n",
       " 'sousestimer',\n",
       " 'difficultes',\n",
       " 'acteurs',\n",
       " 'meme',\n",
       " 'elles',\n",
       " 'peuvent',\n",
       " 'apparaitre',\n",
       " 'comme',\n",
       " 'goutte',\n",
       " 'deau',\n",
       " 'locean',\n",
       " 'regulateurs',\n",
       " 'americains',\n",
       " 'semblent',\n",
       " 'linstant',\n",
       " 'considerer',\n",
       " 'situation',\n",
       " 'comme',\n",
       " 'stabilisee',\n",
       " 'choc',\n",
       " 'exterieur',\n",
       " 'menerait',\n",
       " 'exemple',\n",
       " 'nouvelle',\n",
       " 'hausse',\n",
       " 'prix',\n",
       " 'hausse',\n",
       " 'chomage',\n",
       " 'pourrait',\n",
       " 'rapidement',\n",
       " 'degrader',\n",
       " 'dailleurs',\n",
       " 'interessant',\n",
       " 'noter',\n",
       " 'taux',\n",
       " 'dimpayes',\n",
       " 'soldes',\n",
       " 'cartes',\n",
       " 'credit',\n",
       " 'nest',\n",
       " 'seul',\n",
       " 'inquieter',\n",
       " 'taux',\n",
       " 'defaillance',\n",
       " 'titres',\n",
       " 'adosses',\n",
       " 'creances',\n",
       " 'hypothecaires',\n",
       " 'commerciales',\n",
       " 'passe',\n",
       " 'audela',\n",
       " 'cet',\n",
       " 'ete',\n",
       " 'rappellerons',\n",
       " 'crise',\n",
       " 'subprimes',\n",
       " 'origine',\n",
       " 'nonremboursement',\n",
       " 'titres',\n",
       " 'adosses',\n",
       " 'creances',\n",
       " 'hypothecaires',\n",
       " 'residentielles',\n",
       " 'aller',\n",
       " 'plus',\n",
       " 'loin',\n",
       " 'juniors',\n",
       " 'crise',\n",
       " 'subprimes',\n",
       " 'declenchee',\n",
       " 'etatsunis',\n",
       " 'crise',\n",
       " 'subprimes',\n",
       " 'trouve',\n",
       " 'origine',\n",
       " 'exces',\n",
       " 'dendettement',\n",
       " 'particuliers',\n",
       " 'decryptages',\n",
       " 'risque',\n",
       " 'systemique',\n",
       " 'appelle',\n",
       " 'risque',\n",
       " 'systemique',\n",
       " 'risque',\n",
       " 'quun',\n",
       " 'evenement',\n",
       " 'particulier',\n",
       " 'entraine',\n",
       " 'reactions',\n",
       " 'chaine',\n",
       " 'effets',\n",
       " 'negatifs',\n",
       " 'considerables',\n",
       " 'decryptages',\n",
       " 'federal',\n",
       " 'reserve',\n",
       " 'system',\n",
       " 'fed',\n",
       " 'creee',\n",
       " 'decembre',\n",
       " 'federal',\n",
       " 'reserve',\n",
       " 'act',\n",
       " 'reaction',\n",
       " 'crise',\n",
       " 'financiere',\n",
       " 'autres',\n",
       " 'liens',\n",
       " 'bank',\n",
       " 'credit',\n",
       " 'risk',\n",
       " 'pdf',\n",
       " 'calculateurs',\n",
       " 'calculateur',\n",
       " 'tva',\n",
       " 'quiz',\n",
       " 'pourquoi',\n",
       " 'investir',\n",
       " 'long',\n",
       " 'terme',\n",
       " 'grand',\n",
       " 'prix',\n",
       " 'finance',\n",
       " 'tous',\n",
       " 'etudiants',\n",
       " 'participez',\n",
       " 'tenter',\n",
       " 'gagner',\n",
       " 'jusqua',\n",
       " 'envoyeznous',\n",
       " 'production',\n",
       " 'video',\n",
       " 'poesie',\n",
       " 'article',\n",
       " 'avant',\n",
       " 'mars',\n",
       " 'toutes',\n",
       " 'infos',\n",
       " 'grand',\n",
       " 'prix',\n",
       " 'newsletter',\n",
       " 'recevez',\n",
       " 'lettre',\n",
       " 'dinformation',\n",
       " 'mensuelle',\n",
       " 'completant',\n",
       " 'formulaire',\n",
       " 'acceptez',\n",
       " 'lassociation',\n",
       " 'iefp',\n",
       " 'traite',\n",
       " 'donnees',\n",
       " 'personnelles',\n",
       " 'seule',\n",
       " 'fin',\n",
       " 'permettre',\n",
       " 'recevoir',\n",
       " 'lettre',\n",
       " 'dinformation',\n",
       " 'mensuelle',\n",
       " 'savoir',\n",
       " 'plus',\n",
       " 'droits',\n",
       " 'pratiques',\n",
       " 'matiere',\n",
       " 'protection',\n",
       " 'donnees',\n",
       " 'personnelles',\n",
       " 'mentions',\n",
       " 'legales',\n",
       " 'adresse',\n",
       " 'email',\n",
       " 'navons',\n",
       " 'confirmer',\n",
       " 'inscription',\n",
       " 'inscription',\n",
       " 'confirmee',\n",
       " 'outils',\n",
       " 'questions',\n",
       " 'reponses',\n",
       " 'quiz',\n",
       " 'calculateurs',\n",
       " 'videotheque',\n",
       " 'infographies',\n",
       " 'bibliotheque',\n",
       " 'dictionnaire',\n",
       " 'propos',\n",
       " 'site',\n",
       " 'lafinancepourtouscom',\n",
       " 'edite',\n",
       " 'linstitut',\n",
       " 'leducation',\n",
       " 'financiere',\n",
       " 'public',\n",
       " 'iefp',\n",
       " 'association',\n",
       " 'dinteret',\n",
       " 'general',\n",
       " 'eligible',\n",
       " 'mecenat',\n",
       " 'agreee',\n",
       " 'ministere',\n",
       " 'leducation',\n",
       " 'nationale',\n",
       " 'liefp',\n",
       " 'ete',\n",
       " 'cree',\n",
       " 'aider',\n",
       " 'chacun',\n",
       " 'acquerir',\n",
       " 'bases',\n",
       " 'connaissances',\n",
       " 'necessaires',\n",
       " 'sentir',\n",
       " 'plus',\n",
       " 'laise',\n",
       " 'questions',\n",
       " 'financieres',\n",
       " 'comprendre',\n",
       " 'enjeux',\n",
       " 'economiques',\n",
       " 'monde',\n",
       " 'lequel',\n",
       " 'vivons',\n",
       " 'prendre',\n",
       " 'toute',\n",
       " 'connaissance',\n",
       " 'cause',\n",
       " 'decisions',\n",
       " 'concernent',\n",
       " 'savoir',\n",
       " 'sommesnous',\n",
       " 'partenaires',\n",
       " 'espace',\n",
       " 'presse',\n",
       " 'plan',\n",
       " 'site',\n",
       " 'contact',\n",
       " 'mentions',\n",
       " 'legales',\n",
       " 'gestion',\n",
       " 'cookies',\n",
       " 'finance',\n",
       " 'tous',\n",
       " 'facebook',\n",
       " 'finance',\n",
       " 'tous',\n",
       " 'twitter',\n",
       " 'finance',\n",
       " 'tous',\n",
       " 'linkedin',\n",
       " 'finance',\n",
       " 'tous',\n",
       " 'instagram',\n",
       " 'finance',\n",
       " 'tous',\n",
       " 'youtube',\n",
       " 'finance',\n",
       " 'tous',\n",
       " 'tiktok',\n",
       " 'pratique',\n",
       " 'accueil',\n",
       " 'actualites',\n",
       " 'offline',\n",
       " 'contact',\n",
       " 'fetchdictionary',\n",
       " 'mentions',\n",
       " 'legales',\n",
       " 'sitemap',\n",
       " 'plan',\n",
       " 'site',\n",
       " 'posez',\n",
       " 'question',\n",
       " 'quelques',\n",
       " 'chiffres',\n",
       " 'lepargne',\n",
       " 'salariale',\n",
       " 'pratique',\n",
       " 'decryptages',\n",
       " 'enseignants',\n",
       " 'juniors',\n",
       " 'boutique',\n",
       " 'sommesnous',\n",
       " 'outils',\n",
       " 'decryptages',\n",
       " 'accueil',\n",
       " 'actualites',\n",
       " 'offline',\n",
       " 'contact',\n",
       " 'fetchdictionary',\n",
       " 'mentions',\n",
       " 'legales',\n",
       " 'sitemap',\n",
       " 'plan',\n",
       " 'site',\n",
       " 'posez',\n",
       " 'question',\n",
       " 'quelques',\n",
       " 'chiffres',\n",
       " 'lepargne',\n",
       " 'salariale',\n",
       " 'pratique',\n",
       " 'decryptages',\n",
       " 'enseignants',\n",
       " 'juniors',\n",
       " 'boutique',\n",
       " 'sommesnous',\n",
       " 'outils',\n",
       " 'enseignants',\n",
       " 'accueil',\n",
       " 'actualites',\n",
       " 'offline',\n",
       " 'contact',\n",
       " 'fetchdictionary',\n",
       " 'mentions',\n",
       " 'legales',\n",
       " 'sitemap',\n",
       " 'plan',\n",
       " 'site',\n",
       " 'posez',\n",
       " 'question',\n",
       " 'quelques',\n",
       " 'chiffres',\n",
       " 'lepargne',\n",
       " 'salariale',\n",
       " 'pratique',\n",
       " 'decryptages',\n",
       " 'enseignants',\n",
       " 'juniors',\n",
       " 'boutique',\n",
       " 'sommesnous',\n",
       " 'outils',\n",
       " 'juniors',\n",
       " 'accueil',\n",
       " 'actualites',\n",
       " 'offline',\n",
       " 'contact',\n",
       " 'fetchdictionary',\n",
       " 'mentions',\n",
       " 'legales',\n",
       " 'sitemap',\n",
       " 'plan',\n",
       " 'site',\n",
       " 'posez',\n",
       " 'question',\n",
       " 'quelques',\n",
       " 'chiffres',\n",
       " 'lepargne',\n",
       " 'salariale',\n",
       " 'pratique',\n",
       " 'decryptages',\n",
       " 'enseignants',\n",
       " 'juniors',\n",
       " 'boutique',\n",
       " 'sommesnous',\n",
       " 'outils',\n",
       " 'boutique',\n",
       " 'accueil',\n",
       " 'actualites',\n",
       " 'offline',\n",
       " 'contact',\n",
       " 'fetchdictionary',\n",
       " 'mentions',\n",
       " 'legales',\n",
       " 'sitemap',\n",
       " 'plan',\n",
       " 'site',\n",
       " 'posez',\n",
       " ...]"
      ]
     },
     "execution_count": 48,
     "metadata": {},
     "output_type": "execute_result"
    }
   ],
   "source": [
    "text_cleaned"
   ]
  },
  {
   "cell_type": "markdown",
   "metadata": {},
   "source": [
    "Après la phase du pré_processing, le texte a été considérablement nettoyé, passant de 15141 termes bruts à seulement 1223 mots significatifs prêts pour l'analyse."
   ]
  },
  {
   "cell_type": "code",
   "execution_count": 49,
   "metadata": {},
   "outputs": [
    {
     "name": "stdout",
     "output_type": "stream",
     "text": [
      "Longueur des données brutes (concaténées) : 15141 caractères.\n",
      "Nombre de mots après prétraitement : 1223 mots.\n"
     ]
    }
   ],
   "source": [
    "print(f\"Longueur des données brutes (concaténées) : {len(article_text1)} caractères.\")\n",
    "print(f\"Nombre de mots après prétraitement : {len(text_cleaned)} mots.\")"
   ]
  },
  {
   "cell_type": "markdown",
   "metadata": {},
   "source": [
    "4.Phase de vectorisation\n",
    "\n",
    " Nous avons opter pour la technique de vectorisation tf-idf(Term-Frequency-Inverse Document Frequency), elle va nous permet de pondérer la fréquence de nos tokens en fonction de son importance relative . \n",
    "\n",
    " On calculera donc le score de chacun des mots dans notre (text_cleaned)"
   ]
  },
  {
   "cell_type": "code",
   "execution_count": 50,
   "metadata": {},
   "outputs": [],
   "source": [
    "from sklearn.feature_extraction.text import TfidfVectorizer\n",
    "\n",
    "\n",
    "tfidf_vectorizer = TfidfVectorizer(max_features=100,ngram_range=(1,2))\n",
    "tfidf_matrix = tfidf_vectorizer.fit_transform([' '.join(text_cleaned)])\n",
    "tdidf_df = pd.DataFrame(\n",
    "    tfidf_matrix.toarray(),\n",
    "    columns=tfidf_vectorizer.get_feature_names_out()\n",
    ")\n"
   ]
  },
  {
   "cell_type": "code",
   "execution_count": 51,
   "metadata": {},
   "outputs": [
    {
     "name": "stdout",
     "output_type": "stream",
     "text": [
      "['accueil' 'accueil actualites' 'actualites' 'actualites offline' 'aucun'\n",
      " 'aucun cookie' 'autoriser' 'autoriser refuser' 'bien' 'boutique'\n",
      " 'boutique sommesnous' 'carte' 'carte credit' 'cartes' 'cartes credit'\n",
      " 'cette' 'chiffres' 'chiffres lepargne' 'consommation' 'contact'\n",
      " 'contact fetchdictionary' 'contenu' 'cookie' 'cookie savoir' 'cookies'\n",
      " 'credit' 'crise' 'decryptages' 'decryptages enseignants' 'depose'\n",
      " 'depose aucun' 'dimpayes' 'dinteret' 'dynamique' 'elles' 'enseignants'\n",
      " 'enseignants juniors' 'etatsunis' 'facebook' 'fetchdictionary'\n",
      " 'fetchdictionary mentions' 'finance' 'finance tous' 'financiere' 'france'\n",
      " 'hausse' 'juniors' 'juniors boutique' 'legales' 'legales sitemap'\n",
      " 'lepargne' 'lepargne salariale' 'meme' 'menages' 'mentions'\n",
      " 'mentions legales' 'officiel' 'officiel autoriser' 'offline'\n",
      " 'offline contact' 'outils' 'permettent' 'peut' 'plan' 'plan site' 'plus'\n",
      " 'plus voir' 'posez' 'posez question' 'pratique' 'pratique decryptages'\n",
      " 'prix' 'quelques' 'quelques chiffres' 'question' 'question quelques'\n",
      " 'recherche' 'rechercher' 'refuser' 'renouvelable' 'salariale'\n",
      " 'salariale pratique' 'savoir' 'savoir plus' 'service' 'service depose'\n",
      " 'services' 'site' 'site officiel' 'site posez' 'sitemap' 'sitemap plan'\n",
      " 'soldes' 'soldes cartes' 'sommesnous' 'sommesnous outils' 'taux' 'tous'\n",
      " 'voir' 'voir site']\n"
     ]
    }
   ],
   "source": [
    "print(tfidf_vectorizer.get_feature_names_out())"
   ]
  },
  {
   "cell_type": "code",
   "execution_count": 52,
   "metadata": {},
   "outputs": [
    {
     "name": "stdout",
     "output_type": "stream",
     "text": [
      "                  Mot  Fréquence\n",
      "0             accueil   0.074029\n",
      "1  accueil actualites   0.074029\n",
      "2          actualites   0.098705\n",
      "3  actualites offline   0.061691\n",
      "4               aucun   0.061691\n"
     ]
    }
   ],
   "source": [
    "# Conversion en DataFrame avec les mots comme lignes et leurs fréquences\n",
    "tdidf_df = pd.DataFrame(tdidf_df.sum(axis=0), columns=['Fréquence']).reset_index()\n",
    "tdidf_df.rename(columns={'index': 'Mot'}, inplace=True)\n",
    "\n",
    "# Vérification des colonnes\n",
    "print(tdidf_df.head())"
   ]
  },
  {
   "cell_type": "code",
   "execution_count": 53,
   "metadata": {},
   "outputs": [],
   "source": [
    "stop_words = list(stop_words1)\n",
    "# Liste des stop words à exclure\n",
    "stop_words.extend([\n",
    "    'accueil actualites','actualites offline','aucun','aucun cookie', 'bien','boutique sommesnous','cette','chiffres lepargne',\n",
    "   'contact fetchdictionary', 'cookie','cookie savoir', 'cookies', 'decryptages enseignants','depose','depose aucun','dimpayes',\n",
    "   'enseignants juniors' ,'fetchdictionary' ,'fetchdictionary mentions' ,'finance tous', 'juniors','juniors boutique',\n",
    "    'legales sitemap', 'mentions','mentions legales','officiel autoriser','offline contact','permettent' ,\n",
    "    'plus', 'plus voir', 'posez', 'posez question' ,'quelques', 'question quelques', 'salariale pratique', 'savoir' ,'savoir plus',\n",
    "      'service', 'service depose','site posez' ,'sitemap' ,'sitemap plan', 'sommesnous', 'sommesnous outils',\n",
    "      'taux dimpayes', 'tous', 'voir' ,'voir site','plan'\n",
    "])\n",
    "\n",
    "# Filtrage des mots pertinents\n",
    "filtered_tdidf_df = tdidf_df[\n",
    "    (tdidf_df['Fréquence'] > 0.05) &  # Fréquence minimale\n",
    "    (tdidf_df['Fréquence'] < 0.5) &  # Fréquence maximale\n",
    "    (tdidf_df['Mot'].str.len().between(4, 15)) &  # Longueur des mots\n",
    "    (~tdidf_df['Mot'].str.contains(r'[^a-zA-Zéèêàùç]', regex=True)) &  # Exclusion des mots avec caractères spéciaux\n",
    "    (~tdidf_df['Mot'].isin(stop_words1))  # Exclusion des stopwords\n",
    "]"
   ]
  },
  {
   "cell_type": "code",
   "execution_count": 54,
   "metadata": {},
   "outputs": [
    {
     "name": "stdout",
     "output_type": "stream",
     "text": [
      "                Mot  Fréquence\n",
      "0           accueil   0.074029\n",
      "2        actualites   0.098705\n",
      "4             aucun   0.061691\n",
      "6         autoriser   0.074029\n",
      "8              bien   0.086367\n",
      "9          boutique   0.086367\n",
      "11            carte   0.074029\n",
      "13           cartes   0.246763\n",
      "15            cette   0.061691\n",
      "16         chiffres   0.061691\n",
      "18     consommation   0.086367\n",
      "19          contact   0.086367\n",
      "22           cookie   0.061691\n",
      "24          cookies   0.098705\n",
      "25           credit   0.345468\n",
      "26            crise   0.061691\n",
      "27      decryptages   0.123382\n",
      "29           depose   0.061691\n",
      "32         dinteret   0.061691\n",
      "35      enseignants   0.086367\n",
      "37        etatsunis   0.098705\n",
      "38         facebook   0.061691\n",
      "39  fetchdictionary   0.061691\n",
      "41          finance   0.234425\n",
      "43       financiere   0.061691\n",
      "45           hausse   0.086367\n",
      "46          juniors   0.098705\n",
      "48          legales   0.086367\n",
      "50         lepargne   0.061691\n",
      "53          menages   0.148058\n",
      "54         mentions   0.086367\n",
      "56         officiel   0.061691\n",
      "58          offline   0.061691\n",
      "60           outils   0.074029\n",
      "61       permettent   0.123382\n",
      "62             peut   0.086367\n",
      "63             plan   0.074029\n",
      "65             plus   0.185072\n",
      "67            posez   0.061691\n",
      "69         pratique   0.086367\n",
      "71             prix   0.061691\n",
      "72         quelques   0.061691\n",
      "74         question   0.061691\n",
      "78          refuser   0.086367\n",
      "80        salariale   0.061691\n",
      "82           savoir   0.086367\n",
      "84          service   0.074029\n",
      "86         services   0.086367\n",
      "87             site   0.259101\n",
      "90          sitemap   0.061691\n",
      "92           soldes   0.111043\n",
      "94       sommesnous   0.074029\n",
      "96             taux   0.135720\n",
      "97             tous   0.271440\n",
      "98             voir   0.074029\n"
     ]
    }
   ],
   "source": [
    "# affichage de la frequence du IF-IDF par colonne\n",
    "pd.set_option(\"display.max_columns\", None)  \n",
    "pd.set_option(\"display.width\", None)       \n",
    "print(filtered_tdidf_df)"
   ]
  },
  {
   "cell_type": "code",
   "execution_count": 55,
   "metadata": {},
   "outputs": [
    {
     "data": {
      "application/vnd.plotly.v1+json": {
       "config": {
        "plotlyServerURL": "https://plot.ly"
       },
       "data": [
        {
         "alignmentgroup": "True",
         "hovertemplate": "<b>%{hovertext}</b><br><br>Mot=%{x}<br>Fréquence=%{marker.color}<extra></extra>",
         "hovertext": [
          "accueil",
          "actualites",
          "aucun",
          "autoriser",
          "bien",
          "boutique",
          "carte",
          "cartes",
          "cette",
          "chiffres",
          "consommation",
          "contact",
          "cookie",
          "cookies",
          "credit",
          "crise",
          "decryptages",
          "depose",
          "dinteret",
          "enseignants",
          "etatsunis",
          "facebook",
          "fetchdictionary",
          "finance",
          "financiere",
          "hausse",
          "juniors",
          "legales",
          "lepargne",
          "menages",
          "mentions",
          "officiel",
          "offline",
          "outils",
          "permettent",
          "peut",
          "plan",
          "plus",
          "posez",
          "pratique",
          "prix",
          "quelques",
          "question",
          "refuser",
          "salariale",
          "savoir",
          "service",
          "services",
          "site",
          "sitemap",
          "soldes",
          "sommesnous",
          "taux",
          "tous",
          "voir"
         ],
         "legendgroup": "",
         "marker": {
          "color": [
           0.07402895509679572,
           0.0987052734623943,
           0.061690795913996434,
           0.07402895509679572,
           0.08636711427959501,
           0.08636711427959501,
           0.07402895509679572,
           0.24676318365598574,
           0.061690795913996434,
           0.061690795913996434,
           0.08636711427959501,
           0.08636711427959501,
           0.061690795913996434,
           0.0987052734623943,
           0.34546845711838003,
           0.061690795913996434,
           0.12338159182799287,
           0.061690795913996434,
           0.061690795913996434,
           0.08636711427959501,
           0.0987052734623943,
           0.061690795913996434,
           0.061690795913996434,
           0.23442502447318644,
           0.061690795913996434,
           0.08636711427959501,
           0.0987052734623943,
           0.08636711427959501,
           0.061690795913996434,
           0.14805791019359144,
           0.08636711427959501,
           0.061690795913996434,
           0.061690795913996434,
           0.07402895509679572,
           0.12338159182799287,
           0.08636711427959501,
           0.07402895509679572,
           0.1850723877419893,
           0.061690795913996434,
           0.08636711427959501,
           0.061690795913996434,
           0.061690795913996434,
           0.061690795913996434,
           0.08636711427959501,
           0.061690795913996434,
           0.08636711427959501,
           0.07402895509679572,
           0.08636711427959501,
           0.259101342838785,
           0.061690795913996434,
           0.11104343264519358,
           0.07402895509679572,
           0.13571975101079214,
           0.2714395020215843,
           0.07402895509679572
          ],
          "coloraxis": "coloraxis",
          "pattern": {
           "shape": ""
          }
         },
         "name": "",
         "offsetgroup": "",
         "orientation": "v",
         "showlegend": false,
         "text": [
          0.07402895509679572,
          0.0987052734623943,
          0.061690795913996434,
          0.07402895509679572,
          0.08636711427959501,
          0.08636711427959501,
          0.07402895509679572,
          0.24676318365598574,
          0.061690795913996434,
          0.061690795913996434,
          0.08636711427959501,
          0.08636711427959501,
          0.061690795913996434,
          0.0987052734623943,
          0.34546845711838003,
          0.061690795913996434,
          0.12338159182799287,
          0.061690795913996434,
          0.061690795913996434,
          0.08636711427959501,
          0.0987052734623943,
          0.061690795913996434,
          0.061690795913996434,
          0.23442502447318644,
          0.061690795913996434,
          0.08636711427959501,
          0.0987052734623943,
          0.08636711427959501,
          0.061690795913996434,
          0.14805791019359144,
          0.08636711427959501,
          0.061690795913996434,
          0.061690795913996434,
          0.07402895509679572,
          0.12338159182799287,
          0.08636711427959501,
          0.07402895509679572,
          0.1850723877419893,
          0.061690795913996434,
          0.08636711427959501,
          0.061690795913996434,
          0.061690795913996434,
          0.061690795913996434,
          0.08636711427959501,
          0.061690795913996434,
          0.08636711427959501,
          0.07402895509679572,
          0.08636711427959501,
          0.259101342838785,
          0.061690795913996434,
          0.11104343264519358,
          0.07402895509679572,
          0.13571975101079214,
          0.2714395020215843,
          0.07402895509679572
         ],
         "textposition": "outside",
         "type": "bar",
         "x": [
          "accueil",
          "actualites",
          "aucun",
          "autoriser",
          "bien",
          "boutique",
          "carte",
          "cartes",
          "cette",
          "chiffres",
          "consommation",
          "contact",
          "cookie",
          "cookies",
          "credit",
          "crise",
          "decryptages",
          "depose",
          "dinteret",
          "enseignants",
          "etatsunis",
          "facebook",
          "fetchdictionary",
          "finance",
          "financiere",
          "hausse",
          "juniors",
          "legales",
          "lepargne",
          "menages",
          "mentions",
          "officiel",
          "offline",
          "outils",
          "permettent",
          "peut",
          "plan",
          "plus",
          "posez",
          "pratique",
          "prix",
          "quelques",
          "question",
          "refuser",
          "salariale",
          "savoir",
          "service",
          "services",
          "site",
          "sitemap",
          "soldes",
          "sommesnous",
          "taux",
          "tous",
          "voir"
         ],
         "xaxis": "x",
         "y": [
          0.07402895509679572,
          0.0987052734623943,
          0.061690795913996434,
          0.07402895509679572,
          0.08636711427959501,
          0.08636711427959501,
          0.07402895509679572,
          0.24676318365598574,
          0.061690795913996434,
          0.061690795913996434,
          0.08636711427959501,
          0.08636711427959501,
          0.061690795913996434,
          0.0987052734623943,
          0.34546845711838003,
          0.061690795913996434,
          0.12338159182799287,
          0.061690795913996434,
          0.061690795913996434,
          0.08636711427959501,
          0.0987052734623943,
          0.061690795913996434,
          0.061690795913996434,
          0.23442502447318644,
          0.061690795913996434,
          0.08636711427959501,
          0.0987052734623943,
          0.08636711427959501,
          0.061690795913996434,
          0.14805791019359144,
          0.08636711427959501,
          0.061690795913996434,
          0.061690795913996434,
          0.07402895509679572,
          0.12338159182799287,
          0.08636711427959501,
          0.07402895509679572,
          0.1850723877419893,
          0.061690795913996434,
          0.08636711427959501,
          0.061690795913996434,
          0.061690795913996434,
          0.061690795913996434,
          0.08636711427959501,
          0.061690795913996434,
          0.08636711427959501,
          0.07402895509679572,
          0.08636711427959501,
          0.259101342838785,
          0.061690795913996434,
          0.11104343264519358,
          0.07402895509679572,
          0.13571975101079214,
          0.2714395020215843,
          0.07402895509679572
         ],
         "yaxis": "y"
        }
       ],
       "layout": {
        "barmode": "relative",
        "coloraxis": {
         "colorbar": {
          "title": {
           "text": "Fréquence"
          }
         },
         "colorscale": [
          [
           0,
           "#0d0887"
          ],
          [
           0.1111111111111111,
           "#46039f"
          ],
          [
           0.2222222222222222,
           "#7201a8"
          ],
          [
           0.3333333333333333,
           "#9c179e"
          ],
          [
           0.4444444444444444,
           "#bd3786"
          ],
          [
           0.5555555555555556,
           "#d8576b"
          ],
          [
           0.6666666666666666,
           "#ed7953"
          ],
          [
           0.7777777777777778,
           "#fb9f3a"
          ],
          [
           0.8888888888888888,
           "#fdca26"
          ],
          [
           1,
           "#f0f921"
          ]
         ]
        },
        "legend": {
         "tracegroupgap": 0
        },
        "margin": {
         "b": 120,
         "l": 40,
         "r": 20,
         "t": 40
        },
        "template": {
         "data": {
          "bar": [
           {
            "error_x": {
             "color": "#2a3f5f"
            },
            "error_y": {
             "color": "#2a3f5f"
            },
            "marker": {
             "line": {
              "color": "#E5ECF6",
              "width": 0.5
             },
             "pattern": {
              "fillmode": "overlay",
              "size": 10,
              "solidity": 0.2
             }
            },
            "type": "bar"
           }
          ],
          "barpolar": [
           {
            "marker": {
             "line": {
              "color": "#E5ECF6",
              "width": 0.5
             },
             "pattern": {
              "fillmode": "overlay",
              "size": 10,
              "solidity": 0.2
             }
            },
            "type": "barpolar"
           }
          ],
          "carpet": [
           {
            "aaxis": {
             "endlinecolor": "#2a3f5f",
             "gridcolor": "white",
             "linecolor": "white",
             "minorgridcolor": "white",
             "startlinecolor": "#2a3f5f"
            },
            "baxis": {
             "endlinecolor": "#2a3f5f",
             "gridcolor": "white",
             "linecolor": "white",
             "minorgridcolor": "white",
             "startlinecolor": "#2a3f5f"
            },
            "type": "carpet"
           }
          ],
          "choropleth": [
           {
            "colorbar": {
             "outlinewidth": 0,
             "ticks": ""
            },
            "type": "choropleth"
           }
          ],
          "contour": [
           {
            "colorbar": {
             "outlinewidth": 0,
             "ticks": ""
            },
            "colorscale": [
             [
              0,
              "#0d0887"
             ],
             [
              0.1111111111111111,
              "#46039f"
             ],
             [
              0.2222222222222222,
              "#7201a8"
             ],
             [
              0.3333333333333333,
              "#9c179e"
             ],
             [
              0.4444444444444444,
              "#bd3786"
             ],
             [
              0.5555555555555556,
              "#d8576b"
             ],
             [
              0.6666666666666666,
              "#ed7953"
             ],
             [
              0.7777777777777778,
              "#fb9f3a"
             ],
             [
              0.8888888888888888,
              "#fdca26"
             ],
             [
              1,
              "#f0f921"
             ]
            ],
            "type": "contour"
           }
          ],
          "contourcarpet": [
           {
            "colorbar": {
             "outlinewidth": 0,
             "ticks": ""
            },
            "type": "contourcarpet"
           }
          ],
          "heatmap": [
           {
            "colorbar": {
             "outlinewidth": 0,
             "ticks": ""
            },
            "colorscale": [
             [
              0,
              "#0d0887"
             ],
             [
              0.1111111111111111,
              "#46039f"
             ],
             [
              0.2222222222222222,
              "#7201a8"
             ],
             [
              0.3333333333333333,
              "#9c179e"
             ],
             [
              0.4444444444444444,
              "#bd3786"
             ],
             [
              0.5555555555555556,
              "#d8576b"
             ],
             [
              0.6666666666666666,
              "#ed7953"
             ],
             [
              0.7777777777777778,
              "#fb9f3a"
             ],
             [
              0.8888888888888888,
              "#fdca26"
             ],
             [
              1,
              "#f0f921"
             ]
            ],
            "type": "heatmap"
           }
          ],
          "heatmapgl": [
           {
            "colorbar": {
             "outlinewidth": 0,
             "ticks": ""
            },
            "colorscale": [
             [
              0,
              "#0d0887"
             ],
             [
              0.1111111111111111,
              "#46039f"
             ],
             [
              0.2222222222222222,
              "#7201a8"
             ],
             [
              0.3333333333333333,
              "#9c179e"
             ],
             [
              0.4444444444444444,
              "#bd3786"
             ],
             [
              0.5555555555555556,
              "#d8576b"
             ],
             [
              0.6666666666666666,
              "#ed7953"
             ],
             [
              0.7777777777777778,
              "#fb9f3a"
             ],
             [
              0.8888888888888888,
              "#fdca26"
             ],
             [
              1,
              "#f0f921"
             ]
            ],
            "type": "heatmapgl"
           }
          ],
          "histogram": [
           {
            "marker": {
             "pattern": {
              "fillmode": "overlay",
              "size": 10,
              "solidity": 0.2
             }
            },
            "type": "histogram"
           }
          ],
          "histogram2d": [
           {
            "colorbar": {
             "outlinewidth": 0,
             "ticks": ""
            },
            "colorscale": [
             [
              0,
              "#0d0887"
             ],
             [
              0.1111111111111111,
              "#46039f"
             ],
             [
              0.2222222222222222,
              "#7201a8"
             ],
             [
              0.3333333333333333,
              "#9c179e"
             ],
             [
              0.4444444444444444,
              "#bd3786"
             ],
             [
              0.5555555555555556,
              "#d8576b"
             ],
             [
              0.6666666666666666,
              "#ed7953"
             ],
             [
              0.7777777777777778,
              "#fb9f3a"
             ],
             [
              0.8888888888888888,
              "#fdca26"
             ],
             [
              1,
              "#f0f921"
             ]
            ],
            "type": "histogram2d"
           }
          ],
          "histogram2dcontour": [
           {
            "colorbar": {
             "outlinewidth": 0,
             "ticks": ""
            },
            "colorscale": [
             [
              0,
              "#0d0887"
             ],
             [
              0.1111111111111111,
              "#46039f"
             ],
             [
              0.2222222222222222,
              "#7201a8"
             ],
             [
              0.3333333333333333,
              "#9c179e"
             ],
             [
              0.4444444444444444,
              "#bd3786"
             ],
             [
              0.5555555555555556,
              "#d8576b"
             ],
             [
              0.6666666666666666,
              "#ed7953"
             ],
             [
              0.7777777777777778,
              "#fb9f3a"
             ],
             [
              0.8888888888888888,
              "#fdca26"
             ],
             [
              1,
              "#f0f921"
             ]
            ],
            "type": "histogram2dcontour"
           }
          ],
          "mesh3d": [
           {
            "colorbar": {
             "outlinewidth": 0,
             "ticks": ""
            },
            "type": "mesh3d"
           }
          ],
          "parcoords": [
           {
            "line": {
             "colorbar": {
              "outlinewidth": 0,
              "ticks": ""
             }
            },
            "type": "parcoords"
           }
          ],
          "pie": [
           {
            "automargin": true,
            "type": "pie"
           }
          ],
          "scatter": [
           {
            "fillpattern": {
             "fillmode": "overlay",
             "size": 10,
             "solidity": 0.2
            },
            "type": "scatter"
           }
          ],
          "scatter3d": [
           {
            "line": {
             "colorbar": {
              "outlinewidth": 0,
              "ticks": ""
             }
            },
            "marker": {
             "colorbar": {
              "outlinewidth": 0,
              "ticks": ""
             }
            },
            "type": "scatter3d"
           }
          ],
          "scattercarpet": [
           {
            "marker": {
             "colorbar": {
              "outlinewidth": 0,
              "ticks": ""
             }
            },
            "type": "scattercarpet"
           }
          ],
          "scattergeo": [
           {
            "marker": {
             "colorbar": {
              "outlinewidth": 0,
              "ticks": ""
             }
            },
            "type": "scattergeo"
           }
          ],
          "scattergl": [
           {
            "marker": {
             "colorbar": {
              "outlinewidth": 0,
              "ticks": ""
             }
            },
            "type": "scattergl"
           }
          ],
          "scattermapbox": [
           {
            "marker": {
             "colorbar": {
              "outlinewidth": 0,
              "ticks": ""
             }
            },
            "type": "scattermapbox"
           }
          ],
          "scatterpolar": [
           {
            "marker": {
             "colorbar": {
              "outlinewidth": 0,
              "ticks": ""
             }
            },
            "type": "scatterpolar"
           }
          ],
          "scatterpolargl": [
           {
            "marker": {
             "colorbar": {
              "outlinewidth": 0,
              "ticks": ""
             }
            },
            "type": "scatterpolargl"
           }
          ],
          "scatterternary": [
           {
            "marker": {
             "colorbar": {
              "outlinewidth": 0,
              "ticks": ""
             }
            },
            "type": "scatterternary"
           }
          ],
          "surface": [
           {
            "colorbar": {
             "outlinewidth": 0,
             "ticks": ""
            },
            "colorscale": [
             [
              0,
              "#0d0887"
             ],
             [
              0.1111111111111111,
              "#46039f"
             ],
             [
              0.2222222222222222,
              "#7201a8"
             ],
             [
              0.3333333333333333,
              "#9c179e"
             ],
             [
              0.4444444444444444,
              "#bd3786"
             ],
             [
              0.5555555555555556,
              "#d8576b"
             ],
             [
              0.6666666666666666,
              "#ed7953"
             ],
             [
              0.7777777777777778,
              "#fb9f3a"
             ],
             [
              0.8888888888888888,
              "#fdca26"
             ],
             [
              1,
              "#f0f921"
             ]
            ],
            "type": "surface"
           }
          ],
          "table": [
           {
            "cells": {
             "fill": {
              "color": "#EBF0F8"
             },
             "line": {
              "color": "white"
             }
            },
            "header": {
             "fill": {
              "color": "#C8D4E3"
             },
             "line": {
              "color": "white"
             }
            },
            "type": "table"
           }
          ]
         },
         "layout": {
          "annotationdefaults": {
           "arrowcolor": "#2a3f5f",
           "arrowhead": 0,
           "arrowwidth": 1
          },
          "autotypenumbers": "strict",
          "coloraxis": {
           "colorbar": {
            "outlinewidth": 0,
            "ticks": ""
           }
          },
          "colorscale": {
           "diverging": [
            [
             0,
             "#8e0152"
            ],
            [
             0.1,
             "#c51b7d"
            ],
            [
             0.2,
             "#de77ae"
            ],
            [
             0.3,
             "#f1b6da"
            ],
            [
             0.4,
             "#fde0ef"
            ],
            [
             0.5,
             "#f7f7f7"
            ],
            [
             0.6,
             "#e6f5d0"
            ],
            [
             0.7,
             "#b8e186"
            ],
            [
             0.8,
             "#7fbc41"
            ],
            [
             0.9,
             "#4d9221"
            ],
            [
             1,
             "#276419"
            ]
           ],
           "sequential": [
            [
             0,
             "#0d0887"
            ],
            [
             0.1111111111111111,
             "#46039f"
            ],
            [
             0.2222222222222222,
             "#7201a8"
            ],
            [
             0.3333333333333333,
             "#9c179e"
            ],
            [
             0.4444444444444444,
             "#bd3786"
            ],
            [
             0.5555555555555556,
             "#d8576b"
            ],
            [
             0.6666666666666666,
             "#ed7953"
            ],
            [
             0.7777777777777778,
             "#fb9f3a"
            ],
            [
             0.8888888888888888,
             "#fdca26"
            ],
            [
             1,
             "#f0f921"
            ]
           ],
           "sequentialminus": [
            [
             0,
             "#0d0887"
            ],
            [
             0.1111111111111111,
             "#46039f"
            ],
            [
             0.2222222222222222,
             "#7201a8"
            ],
            [
             0.3333333333333333,
             "#9c179e"
            ],
            [
             0.4444444444444444,
             "#bd3786"
            ],
            [
             0.5555555555555556,
             "#d8576b"
            ],
            [
             0.6666666666666666,
             "#ed7953"
            ],
            [
             0.7777777777777778,
             "#fb9f3a"
            ],
            [
             0.8888888888888888,
             "#fdca26"
            ],
            [
             1,
             "#f0f921"
            ]
           ]
          },
          "colorway": [
           "#636efa",
           "#EF553B",
           "#00cc96",
           "#ab63fa",
           "#FFA15A",
           "#19d3f3",
           "#FF6692",
           "#B6E880",
           "#FF97FF",
           "#FECB52"
          ],
          "font": {
           "color": "#2a3f5f"
          },
          "geo": {
           "bgcolor": "white",
           "lakecolor": "white",
           "landcolor": "#E5ECF6",
           "showlakes": true,
           "showland": true,
           "subunitcolor": "white"
          },
          "hoverlabel": {
           "align": "left"
          },
          "hovermode": "closest",
          "mapbox": {
           "style": "light"
          },
          "paper_bgcolor": "white",
          "plot_bgcolor": "#E5ECF6",
          "polar": {
           "angularaxis": {
            "gridcolor": "white",
            "linecolor": "white",
            "ticks": ""
           },
           "bgcolor": "#E5ECF6",
           "radialaxis": {
            "gridcolor": "white",
            "linecolor": "white",
            "ticks": ""
           }
          },
          "scene": {
           "xaxis": {
            "backgroundcolor": "#E5ECF6",
            "gridcolor": "white",
            "gridwidth": 2,
            "linecolor": "white",
            "showbackground": true,
            "ticks": "",
            "zerolinecolor": "white"
           },
           "yaxis": {
            "backgroundcolor": "#E5ECF6",
            "gridcolor": "white",
            "gridwidth": 2,
            "linecolor": "white",
            "showbackground": true,
            "ticks": "",
            "zerolinecolor": "white"
           },
           "zaxis": {
            "backgroundcolor": "#E5ECF6",
            "gridcolor": "white",
            "gridwidth": 2,
            "linecolor": "white",
            "showbackground": true,
            "ticks": "",
            "zerolinecolor": "white"
           }
          },
          "shapedefaults": {
           "line": {
            "color": "#2a3f5f"
           }
          },
          "ternary": {
           "aaxis": {
            "gridcolor": "white",
            "linecolor": "white",
            "ticks": ""
           },
           "baxis": {
            "gridcolor": "white",
            "linecolor": "white",
            "ticks": ""
           },
           "bgcolor": "#E5ECF6",
           "caxis": {
            "gridcolor": "white",
            "linecolor": "white",
            "ticks": ""
           }
          },
          "title": {
           "x": 0.05
          },
          "xaxis": {
           "automargin": true,
           "gridcolor": "white",
           "linecolor": "white",
           "ticks": "",
           "title": {
            "standoff": 15
           },
           "zerolinecolor": "white",
           "zerolinewidth": 2
          },
          "yaxis": {
           "automargin": true,
           "gridcolor": "white",
           "linecolor": "white",
           "ticks": "",
           "title": {
            "standoff": 15
           },
           "zerolinecolor": "white",
           "zerolinewidth": 2
          }
         }
        },
        "title": {
         "text": "Fréquence des mots pertinents (TF-IDF)"
        },
        "xaxis": {
         "anchor": "y",
         "domain": [
          0,
          1
         ],
         "tickangle": 45,
         "title": {
          "text": "Mots"
         }
        },
        "yaxis": {
         "anchor": "x",
         "domain": [
          0,
          1
         ],
         "title": {
          "text": "Fréquence"
         }
        }
       }
      }
     },
     "metadata": {},
     "output_type": "display_data"
    }
   ],
   "source": [
    "import plotly.express as px\n",
    "\n",
    "# Créer un graphique avec les mots pertinents\n",
    "fig = px.bar(filtered_tdidf_df, x='Mot', y='Fréquence', title=\"Fréquence des mots pertinents (TF-IDF)\",\n",
    "             text='Fréquence', color='Fréquence', hover_name='Mot')\n",
    "\n",
    "# Personnaliser le graphique\n",
    "fig.update_traces(textposition='outside')\n",
    "fig.update_layout(\n",
    "    xaxis_title='Mots', yaxis_title='Fréquence',\n",
    "    xaxis=dict(tickangle=45),\n",
    "    margin=dict(l=40, r=20, t=40, b=120)\n",
    ")\n",
    "\n",
    "# Afficher le graphique\n",
    "fig.show()\n"
   ]
  },
  {
   "cell_type": "code",
   "execution_count": 56,
   "metadata": {},
   "outputs": [
    {
     "data": {
      "application/vnd.plotly.v1+json": {
       "config": {
        "plotlyServerURL": "https://plot.ly"
       },
       "data": [
        {
         "hovertemplate": "x: %{x}<br>y: %{y}<br>color: [%{z[0]}, %{z[1]}, %{z[2]}]<extra></extra>",
         "name": "0",
         "source": "data:image/png;base64,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",
         "type": "image",
         "xaxis": "x",
         "yaxis": "y"
        }
       ],
       "layout": {
        "coloraxis": {
         "showscale": false
        },
        "margin": {
         "b": 0,
         "l": 0,
         "r": 0,
         "t": 0
        },
        "template": {
         "data": {
          "bar": [
           {
            "error_x": {
             "color": "#2a3f5f"
            },
            "error_y": {
             "color": "#2a3f5f"
            },
            "marker": {
             "line": {
              "color": "#E5ECF6",
              "width": 0.5
             },
             "pattern": {
              "fillmode": "overlay",
              "size": 10,
              "solidity": 0.2
             }
            },
            "type": "bar"
           }
          ],
          "barpolar": [
           {
            "marker": {
             "line": {
              "color": "#E5ECF6",
              "width": 0.5
             },
             "pattern": {
              "fillmode": "overlay",
              "size": 10,
              "solidity": 0.2
             }
            },
            "type": "barpolar"
           }
          ],
          "carpet": [
           {
            "aaxis": {
             "endlinecolor": "#2a3f5f",
             "gridcolor": "white",
             "linecolor": "white",
             "minorgridcolor": "white",
             "startlinecolor": "#2a3f5f"
            },
            "baxis": {
             "endlinecolor": "#2a3f5f",
             "gridcolor": "white",
             "linecolor": "white",
             "minorgridcolor": "white",
             "startlinecolor": "#2a3f5f"
            },
            "type": "carpet"
           }
          ],
          "choropleth": [
           {
            "colorbar": {
             "outlinewidth": 0,
             "ticks": ""
            },
            "type": "choropleth"
           }
          ],
          "contour": [
           {
            "colorbar": {
             "outlinewidth": 0,
             "ticks": ""
            },
            "colorscale": [
             [
              0,
              "#0d0887"
             ],
             [
              0.1111111111111111,
              "#46039f"
             ],
             [
              0.2222222222222222,
              "#7201a8"
             ],
             [
              0.3333333333333333,
              "#9c179e"
             ],
             [
              0.4444444444444444,
              "#bd3786"
             ],
             [
              0.5555555555555556,
              "#d8576b"
             ],
             [
              0.6666666666666666,
              "#ed7953"
             ],
             [
              0.7777777777777778,
              "#fb9f3a"
             ],
             [
              0.8888888888888888,
              "#fdca26"
             ],
             [
              1,
              "#f0f921"
             ]
            ],
            "type": "contour"
           }
          ],
          "contourcarpet": [
           {
            "colorbar": {
             "outlinewidth": 0,
             "ticks": ""
            },
            "type": "contourcarpet"
           }
          ],
          "heatmap": [
           {
            "colorbar": {
             "outlinewidth": 0,
             "ticks": ""
            },
            "colorscale": [
             [
              0,
              "#0d0887"
             ],
             [
              0.1111111111111111,
              "#46039f"
             ],
             [
              0.2222222222222222,
              "#7201a8"
             ],
             [
              0.3333333333333333,
              "#9c179e"
             ],
             [
              0.4444444444444444,
              "#bd3786"
             ],
             [
              0.5555555555555556,
              "#d8576b"
             ],
             [
              0.6666666666666666,
              "#ed7953"
             ],
             [
              0.7777777777777778,
              "#fb9f3a"
             ],
             [
              0.8888888888888888,
              "#fdca26"
             ],
             [
              1,
              "#f0f921"
             ]
            ],
            "type": "heatmap"
           }
          ],
          "heatmapgl": [
           {
            "colorbar": {
             "outlinewidth": 0,
             "ticks": ""
            },
            "colorscale": [
             [
              0,
              "#0d0887"
             ],
             [
              0.1111111111111111,
              "#46039f"
             ],
             [
              0.2222222222222222,
              "#7201a8"
             ],
             [
              0.3333333333333333,
              "#9c179e"
             ],
             [
              0.4444444444444444,
              "#bd3786"
             ],
             [
              0.5555555555555556,
              "#d8576b"
             ],
             [
              0.6666666666666666,
              "#ed7953"
             ],
             [
              0.7777777777777778,
              "#fb9f3a"
             ],
             [
              0.8888888888888888,
              "#fdca26"
             ],
             [
              1,
              "#f0f921"
             ]
            ],
            "type": "heatmapgl"
           }
          ],
          "histogram": [
           {
            "marker": {
             "pattern": {
              "fillmode": "overlay",
              "size": 10,
              "solidity": 0.2
             }
            },
            "type": "histogram"
           }
          ],
          "histogram2d": [
           {
            "colorbar": {
             "outlinewidth": 0,
             "ticks": ""
            },
            "colorscale": [
             [
              0,
              "#0d0887"
             ],
             [
              0.1111111111111111,
              "#46039f"
             ],
             [
              0.2222222222222222,
              "#7201a8"
             ],
             [
              0.3333333333333333,
              "#9c179e"
             ],
             [
              0.4444444444444444,
              "#bd3786"
             ],
             [
              0.5555555555555556,
              "#d8576b"
             ],
             [
              0.6666666666666666,
              "#ed7953"
             ],
             [
              0.7777777777777778,
              "#fb9f3a"
             ],
             [
              0.8888888888888888,
              "#fdca26"
             ],
             [
              1,
              "#f0f921"
             ]
            ],
            "type": "histogram2d"
           }
          ],
          "histogram2dcontour": [
           {
            "colorbar": {
             "outlinewidth": 0,
             "ticks": ""
            },
            "colorscale": [
             [
              0,
              "#0d0887"
             ],
             [
              0.1111111111111111,
              "#46039f"
             ],
             [
              0.2222222222222222,
              "#7201a8"
             ],
             [
              0.3333333333333333,
              "#9c179e"
             ],
             [
              0.4444444444444444,
              "#bd3786"
             ],
             [
              0.5555555555555556,
              "#d8576b"
             ],
             [
              0.6666666666666666,
              "#ed7953"
             ],
             [
              0.7777777777777778,
              "#fb9f3a"
             ],
             [
              0.8888888888888888,
              "#fdca26"
             ],
             [
              1,
              "#f0f921"
             ]
            ],
            "type": "histogram2dcontour"
           }
          ],
          "mesh3d": [
           {
            "colorbar": {
             "outlinewidth": 0,
             "ticks": ""
            },
            "type": "mesh3d"
           }
          ],
          "parcoords": [
           {
            "line": {
             "colorbar": {
              "outlinewidth": 0,
              "ticks": ""
             }
            },
            "type": "parcoords"
           }
          ],
          "pie": [
           {
            "automargin": true,
            "type": "pie"
           }
          ],
          "scatter": [
           {
            "fillpattern": {
             "fillmode": "overlay",
             "size": 10,
             "solidity": 0.2
            },
            "type": "scatter"
           }
          ],
          "scatter3d": [
           {
            "line": {
             "colorbar": {
              "outlinewidth": 0,
              "ticks": ""
             }
            },
            "marker": {
             "colorbar": {
              "outlinewidth": 0,
              "ticks": ""
             }
            },
            "type": "scatter3d"
           }
          ],
          "scattercarpet": [
           {
            "marker": {
             "colorbar": {
              "outlinewidth": 0,
              "ticks": ""
             }
            },
            "type": "scattercarpet"
           }
          ],
          "scattergeo": [
           {
            "marker": {
             "colorbar": {
              "outlinewidth": 0,
              "ticks": ""
             }
            },
            "type": "scattergeo"
           }
          ],
          "scattergl": [
           {
            "marker": {
             "colorbar": {
              "outlinewidth": 0,
              "ticks": ""
             }
            },
            "type": "scattergl"
           }
          ],
          "scattermapbox": [
           {
            "marker": {
             "colorbar": {
              "outlinewidth": 0,
              "ticks": ""
             }
            },
            "type": "scattermapbox"
           }
          ],
          "scatterpolar": [
           {
            "marker": {
             "colorbar": {
              "outlinewidth": 0,
              "ticks": ""
             }
            },
            "type": "scatterpolar"
           }
          ],
          "scatterpolargl": [
           {
            "marker": {
             "colorbar": {
              "outlinewidth": 0,
              "ticks": ""
             }
            },
            "type": "scatterpolargl"
           }
          ],
          "scatterternary": [
           {
            "marker": {
             "colorbar": {
              "outlinewidth": 0,
              "ticks": ""
             }
            },
            "type": "scatterternary"
           }
          ],
          "surface": [
           {
            "colorbar": {
             "outlinewidth": 0,
             "ticks": ""
            },
            "colorscale": [
             [
              0,
              "#0d0887"
             ],
             [
              0.1111111111111111,
              "#46039f"
             ],
             [
              0.2222222222222222,
              "#7201a8"
             ],
             [
              0.3333333333333333,
              "#9c179e"
             ],
             [
              0.4444444444444444,
              "#bd3786"
             ],
             [
              0.5555555555555556,
              "#d8576b"
             ],
             [
              0.6666666666666666,
              "#ed7953"
             ],
             [
              0.7777777777777778,
              "#fb9f3a"
             ],
             [
              0.8888888888888888,
              "#fdca26"
             ],
             [
              1,
              "#f0f921"
             ]
            ],
            "type": "surface"
           }
          ],
          "table": [
           {
            "cells": {
             "fill": {
              "color": "#EBF0F8"
             },
             "line": {
              "color": "white"
             }
            },
            "header": {
             "fill": {
              "color": "#C8D4E3"
             },
             "line": {
              "color": "white"
             }
            },
            "type": "table"
           }
          ]
         },
         "layout": {
          "annotationdefaults": {
           "arrowcolor": "#2a3f5f",
           "arrowhead": 0,
           "arrowwidth": 1
          },
          "autotypenumbers": "strict",
          "coloraxis": {
           "colorbar": {
            "outlinewidth": 0,
            "ticks": ""
           }
          },
          "colorscale": {
           "diverging": [
            [
             0,
             "#8e0152"
            ],
            [
             0.1,
             "#c51b7d"
            ],
            [
             0.2,
             "#de77ae"
            ],
            [
             0.3,
             "#f1b6da"
            ],
            [
             0.4,
             "#fde0ef"
            ],
            [
             0.5,
             "#f7f7f7"
            ],
            [
             0.6,
             "#e6f5d0"
            ],
            [
             0.7,
             "#b8e186"
            ],
            [
             0.8,
             "#7fbc41"
            ],
            [
             0.9,
             "#4d9221"
            ],
            [
             1,
             "#276419"
            ]
           ],
           "sequential": [
            [
             0,
             "#0d0887"
            ],
            [
             0.1111111111111111,
             "#46039f"
            ],
            [
             0.2222222222222222,
             "#7201a8"
            ],
            [
             0.3333333333333333,
             "#9c179e"
            ],
            [
             0.4444444444444444,
             "#bd3786"
            ],
            [
             0.5555555555555556,
             "#d8576b"
            ],
            [
             0.6666666666666666,
             "#ed7953"
            ],
            [
             0.7777777777777778,
             "#fb9f3a"
            ],
            [
             0.8888888888888888,
             "#fdca26"
            ],
            [
             1,
             "#f0f921"
            ]
           ],
           "sequentialminus": [
            [
             0,
             "#0d0887"
            ],
            [
             0.1111111111111111,
             "#46039f"
            ],
            [
             0.2222222222222222,
             "#7201a8"
            ],
            [
             0.3333333333333333,
             "#9c179e"
            ],
            [
             0.4444444444444444,
             "#bd3786"
            ],
            [
             0.5555555555555556,
             "#d8576b"
            ],
            [
             0.6666666666666666,
             "#ed7953"
            ],
            [
             0.7777777777777778,
             "#fb9f3a"
            ],
            [
             0.8888888888888888,
             "#fdca26"
            ],
            [
             1,
             "#f0f921"
            ]
           ]
          },
          "colorway": [
           "#636efa",
           "#EF553B",
           "#00cc96",
           "#ab63fa",
           "#FFA15A",
           "#19d3f3",
           "#FF6692",
           "#B6E880",
           "#FF97FF",
           "#FECB52"
          ],
          "font": {
           "color": "#2a3f5f"
          },
          "geo": {
           "bgcolor": "white",
           "lakecolor": "white",
           "landcolor": "#E5ECF6",
           "showlakes": true,
           "showland": true,
           "subunitcolor": "white"
          },
          "hoverlabel": {
           "align": "left"
          },
          "hovermode": "closest",
          "mapbox": {
           "style": "light"
          },
          "paper_bgcolor": "white",
          "plot_bgcolor": "#E5ECF6",
          "polar": {
           "angularaxis": {
            "gridcolor": "white",
            "linecolor": "white",
            "ticks": ""
           },
           "bgcolor": "#E5ECF6",
           "radialaxis": {
            "gridcolor": "white",
            "linecolor": "white",
            "ticks": ""
           }
          },
          "scene": {
           "xaxis": {
            "backgroundcolor": "#E5ECF6",
            "gridcolor": "white",
            "gridwidth": 2,
            "linecolor": "white",
            "showbackground": true,
            "ticks": "",
            "zerolinecolor": "white"
           },
           "yaxis": {
            "backgroundcolor": "#E5ECF6",
            "gridcolor": "white",
            "gridwidth": 2,
            "linecolor": "white",
            "showbackground": true,
            "ticks": "",
            "zerolinecolor": "white"
           },
           "zaxis": {
            "backgroundcolor": "#E5ECF6",
            "gridcolor": "white",
            "gridwidth": 2,
            "linecolor": "white",
            "showbackground": true,
            "ticks": "",
            "zerolinecolor": "white"
           }
          },
          "shapedefaults": {
           "line": {
            "color": "#2a3f5f"
           }
          },
          "ternary": {
           "aaxis": {
            "gridcolor": "white",
            "linecolor": "white",
            "ticks": ""
           },
           "baxis": {
            "gridcolor": "white",
            "linecolor": "white",
            "ticks": ""
           },
           "bgcolor": "#E5ECF6",
           "caxis": {
            "gridcolor": "white",
            "linecolor": "white",
            "ticks": ""
           }
          },
          "title": {
           "x": 0.05
          },
          "xaxis": {
           "automargin": true,
           "gridcolor": "white",
           "linecolor": "white",
           "ticks": "",
           "title": {
            "standoff": 15
           },
           "zerolinecolor": "white",
           "zerolinewidth": 2
          },
          "yaxis": {
           "automargin": true,
           "gridcolor": "white",
           "linecolor": "white",
           "ticks": "",
           "title": {
            "standoff": 15
           },
           "zerolinecolor": "white",
           "zerolinewidth": 2
          }
         }
        },
        "xaxis": {
         "anchor": "y",
         "domain": [
          0,
          1
         ],
         "showticklabels": false
        },
        "yaxis": {
         "anchor": "x",
         "domain": [
          0,
          1
         ],
         "showticklabels": false
        }
       }
      }
     },
     "metadata": {},
     "output_type": "display_data"
    }
   ],
   "source": [
    "from collections import defaultdict\n",
    "from wordcloud import WordCloud\n",
    "import plotly.express as px\n",
    "import pandas as pd\n",
    "\n",
    "\n",
    "# Génération du WordCloud avec les mots filtrés\n",
    "word_weights = dict(zip(filtered_tdidf_df['Mot'], filtered_tdidf_df['Fréquence']))\n",
    "\n",
    "wordcloud = WordCloud(\n",
    "    width=800,\n",
    "    height=400,\n",
    "    background_color='white',\n",
    "    colormap='viridis'\n",
    ").generate_from_frequencies(word_weights)\n",
    "\n",
    "# Conversion en image pour affichage avec Plotly\n",
    "wordcloud_image = wordcloud.to_array()\n",
    "\n",
    "# Affichage avec Plotly\n",
    "fig = px.imshow(\n",
    "    wordcloud_image,\n",
    "    \n",
    "    color_continuous_scale=\"viridis\"\n",
    ")\n",
    "\n",
    "# Suppression des marges et des bordures blanches\n",
    "fig.update_layout(\n",
    "    margin=dict(l=0, r=0, t=0, b=0),  # Suppression des marges\n",
    "    coloraxis_showscale=False  # Suppression de l'échelle des couleurs si non nécessaire\n",
    ")\n",
    "\n",
    "fig.update_xaxes(showticklabels=False)\n",
    "fig.update_yaxes(showticklabels=False)\n",
    "fig.show()\n"
   ]
  },
  {
   "cell_type": "markdown",
   "metadata": {},
   "source": [
    "Concatenation des deux wordCloud en combinant le fitrage des dataFrame"
   ]
  },
  {
   "cell_type": "code",
   "execution_count": 57,
   "metadata": {},
   "outputs": [],
   "source": [
    "import pickle  # Importer pickle pour la sérialisation\n",
    "from wordcloud import WordCloud\n",
    "import pandas as pd\n",
    "import plotly.express as px\n",
    "\n",
    "def save_wordcloud(filtered_tfidf_df, filtered_tdidf_df): # liaison avec notre streamlit\n",
    "    \"\"\"\n",
    "    Génère et sauvegarde un Word Cloud combiné dans un fichier Pickle.\n",
    "    \"\"\"\n",
    "    # Fusionner les DataFrames sur la colonne 'Mot'\n",
    "    combined_df = pd.concat([filtered_tfidf_df, filtered_tdidf_df])\n",
    "    combined_df = combined_df.groupby('Mot', as_index=False).sum()  # Additionner les fréquences des mots communs\n",
    "\n",
    "    # Convertir en dictionnaire pour le Word Cloud\n",
    "    word_weights = dict(zip(combined_df['Mot'], combined_df['Fréquence']))\n",
    "\n",
    "    # Générer le Word Cloud combiné\n",
    "    wordcloud = WordCloud(\n",
    "        width=800,\n",
    "        height=400,\n",
    "        background_color='white',\n",
    "        colormap='cool'\n",
    "    ).generate_from_frequencies(word_weights)\n",
    "\n",
    "    # Sauvegarder le Word Cloud en fichier Pickle\n",
    "    with open(\"wordcloud.pkl\", \"wb\") as f:\n",
    "        pickle.dump(wordcloud, f)\n",
    "\n",
    "    print(\"Word Cloud sauvegardé avec succès.\")\n"
   ]
  },
  {
   "cell_type": "code",
   "execution_count": 58,
   "metadata": {},
   "outputs": [
    {
     "name": "stdout",
     "output_type": "stream",
     "text": [
      "Word Cloud sauvegardé avec succès.\n"
     ]
    }
   ],
   "source": [
    "# pour generer le WordCloud combiner dans le repertoire\n",
    "save_wordcloud(filtered_tfidf_df, filtered_tdidf_df)\n"
   ]
  }
 ],
 "metadata": {
  "kernelspec": {
   "display_name": "env",
   "language": "python",
   "name": "python3"
  },
  "language_info": {
   "codemirror_mode": {
    "name": "ipython",
    "version": 3
   },
   "file_extension": ".py",
   "mimetype": "text/x-python",
   "name": "python",
   "nbconvert_exporter": "python",
   "pygments_lexer": "ipython3",
   "version": "3.13.0"
  }
 },
 "nbformat": 4,
 "nbformat_minor": 2
}
