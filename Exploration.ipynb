{
 "cells": [
  {
   "cell_type": "markdown",
   "metadata": {},
   "source": [
    "# Projet:  \n",
    "- Réalisation d'une ApplicationDasboard avec Streamlit  \n",
    "à partir de base de données open source sur les transactions \n",
    "de cartes de crédits."
   ]
  },
  {
   "cell_type": "markdown",
   "metadata": {},
   "source": [
    "- Lien web vers la source des données:  \n",
    "[credits_cards_transactions](https://www.kaggle.com/datasets/priyamchoksi/credit-card-transactions-dataset)"
   ]
  },
  {
   "cell_type": "markdown",
   "metadata": {},
   "source": [
    "## Importation des librairies"
   ]
  },
  {
   "cell_type": "markdown",
   "metadata": {},
   "source": [
    "- Installation des librairies:  \n",
    "Exécuter dans la cellule:  %pip install -r requirements.txt  \n",
    "ou  \n",
    "Exécuter dans le terminal (prompt ou powershell):  pip install -r requirements.txt"
   ]
  },
  {
   "cell_type": "markdown",
   "metadata": {},
   "source": [
    "- Importation des librairies"
   ]
  },
  {
   "cell_type": "code",
   "execution_count": null,
   "metadata": {},
   "outputs": [],
   "source": [
    "import pandas as pd\n",
    "import numpy as np\n",
    "import matplotlib.pyplot as plt\n",
    "%matplotlib inline\n",
    "import seaborn as sns\n",
    "import plotly.express as px\n",
    "import random\n",
    "import warnings \n",
    "warnings.filterwarnings(\"ignore\")\n",
    "pd.set_option(\"display.max_columns\",None)\n",
    "random.seed(123)"
   ]
  },
  {
   "cell_type": "markdown",
   "metadata": {},
   "source": [
    "## Chargement des données"
   ]
  },
  {
   "cell_type": "code",
   "execution_count": null,
   "metadata": {},
   "outputs": [],
   "source": [
    "# Fonction pour charger les données\n",
    "\n",
    "def load(file:str, size:int = 10**5, sep:str = ','):\n",
    "    \"\"\"--Docstring--\n",
    "    fonction pour charger les données csv\n",
    "    tout en optimisant la mémoire du système\n",
    "    avec les fichiers volumineux. L'option\n",
    "    size permet de charger les données par\n",
    "    partition.\n",
    "    Args:\n",
    "        file: (string, file.csv or path )\n",
    "        size: taille de la partition (integer, default = 100000)\n",
    "              si la mémoire est insuffisante pour importer en un\n",
    "              bloc.\n",
    "        sep: séparateur (string, default = <,>)\n",
    "    \"\"\"\n",
    "\n",
    "    try:\n",
    "\n",
    "        data = pd.read_csv(file, sep=sep, index_col=0)\n",
    "    \n",
    "    except MemoryError:\n",
    "\n",
    "        data = pd.read_csv(file, sep=sep, index_col=0,\n",
    "                            chunksize = size)\n",
    "    \n",
    "    data.index.name = 'index'\n",
    "    \n",
    "    return data\n"
   ]
  },
  {
   "cell_type": "code",
   "execution_count": null,
   "metadata": {},
   "outputs": [],
   "source": [
    "# Chargement des données\n",
    "path = \"credit_card_transactions.csv\"\n",
    "financial_data = load(path) "
   ]
  },
  {
   "cell_type": "markdown",
   "metadata": {},
   "source": [
    "## Exploration des données"
   ]
  },
  {
   "cell_type": "markdown",
   "metadata": {},
   "source": [
    "### affichage des données"
   ]
  },
  {
   "cell_type": "code",
   "execution_count": null,
   "metadata": {},
   "outputs": [],
   "source": [
    "financial_data.head(5)"
   ]
  },
  {
   "cell_type": "markdown",
   "metadata": {},
   "source": [
    "### description sur les types de variables"
   ]
  },
  {
   "cell_type": "code",
   "execution_count": null,
   "metadata": {},
   "outputs": [],
   "source": [
    "financial_data.columns"
   ]
  },
  {
   "cell_type": "code",
   "execution_count": null,
   "metadata": {},
   "outputs": [],
   "source": [
    "# Fonction pour décrire le dataframe\n",
    "\n",
    "def info(data):\n",
    "\n",
    "    Information = pd.DataFrame({\n",
    "        'Variables': data.columns,\n",
    "        'Type': data.dtypes,\n",
    "        'Unique_values': data.nunique(),\n",
    "        'NA_counts': data.isna().sum(),\n",
    "        'NA_percent%':data.isna().mean().round(4)*100\n",
    "        }).reset_index(drop=True)\n",
    "\n",
    "    return Information\n",
    "\n",
    "# Application sur financial_data\n",
    "info(financial_data)"
   ]
  },
  {
   "cell_type": "markdown",
   "metadata": {},
   "source": [
    "### mise en forme du type des variables"
   ]
  },
  {
   "cell_type": "code",
   "execution_count": null,
   "metadata": {},
   "outputs": [],
   "source": [
    "# fonction pour mettre en forme\n",
    "\n",
    "def conversion(var):\n",
    "\n",
    "    # conversion des variables de type = <date>\n",
    "    date_vars = ('trans_date_trans_time', 'dob')\n",
    "\n",
    "    if var.name in date_vars:\n",
    "        \n",
    "        return pd.to_datetime(var, infer_datetime_format = True)\n",
    "\n",
    "\n",
    "    # conversion des variables type = <objet>\n",
    "    if (var.dtype=='object') and (var.name not in date_vars):\n",
    "\n",
    "        # conversion en string\n",
    "        if var.nunique() > 20:\n",
    "            return var.astype('string')\n",
    "\n",
    "        # conversion en catégorie \n",
    "        else:\n",
    "            return var.astype('category')\n",
    "    \n",
    "    else:\n",
    "        return var \n"
   ]
  },
  {
   "cell_type": "code",
   "execution_count": null,
   "metadata": {},
   "outputs": [],
   "source": [
    "# appication de la fonction sur les variables \n",
    "financial_data = financial_data.apply(conversion, axis = 0)\n",
    "info(financial_data)"
   ]
  },
  {
   "cell_type": "markdown",
   "metadata": {},
   "source": [
    "### Création de nouvelles variables"
   ]
  },
  {
   "cell_type": "markdown",
   "metadata": {},
   "source": [
    "- Variables dates"
   ]
  },
  {
   "cell_type": "code",
   "execution_count": null,
   "metadata": {},
   "outputs": [],
   "source": [
    "# mettre la variable trans_date_... au format 'jan-01-2020'\n",
    "# avec une nouvelle variable\n",
    "\n",
    "financial_data['date_transaction'] = pd.to_datetime(financial_data['trans_date_trans_time']\n",
    "                                                                  .dt.strftime('%d-%b-%Y'))\n",
    "\n",
    "# Extraire des informations sur la transaction : jour, mois, heure\n",
    "\n",
    "financial_data['year_transaction'] = (financial_data['trans_date_trans_time']\n",
    "                                                   .dt.year)\n",
    "\n",
    "financial_data['day_transaction'] = (financial_data['trans_date_trans_time']\n",
    "                                                   .dt.day.astype(int))\n",
    "\n",
    "financial_data['month_transaction'] = (financial_data['trans_date_trans_time']\n",
    "                                                   .dt.month_name().astype('category'))\n",
    "\n",
    "financial_data['hour_transaction'] = (financial_data['trans_date_trans_time']\n",
    "                                                   .dt.strftime('%H.%M')).astype(float)\n",
    "\n",
    "# Créer une variable moment de la journée à partir de heure_transaction\n",
    "\n",
    "condlist = [financial_data['hour_transaction'].between(6,12.59),\n",
    "            financial_data['hour_transaction'].between(13,18.59),\n",
    "            financial_data['hour_transaction'].between(19,23.59),\n",
    "            financial_data['hour_transaction'].between(0,5.59)\n",
    "            ]\n",
    "choicelist = ['Morning: 6h-12h59',\n",
    "              'Afternoon: 13h-18h59',\n",
    "              'Evening: 19h-23h59',\n",
    "              'Night: 00h-5h59'\n",
    "              ]\n",
    "\n",
    "financial_data['moment_transaction'] = np.select(condlist, choicelist, default=None)\n",
    "financial_data['moment_transaction'] = financial_data['moment_transaction'].astype('category')"
   ]
  },
  {
   "cell_type": "markdown",
   "metadata": {},
   "source": [
    "- Variables Âge, Nom, is_fraud"
   ]
  },
  {
   "cell_type": "code",
   "execution_count": null,
   "metadata": {},
   "outputs": [],
   "source": [
    "# Définir la date de référence pour le calcul de l'âge\n",
    "reference_date = pd.to_datetime('2020-12-31')\n",
    "\n",
    "# Calcul de l'âge de l'individu à partir de la date de naissance (dob) \n",
    "financial_data['age'] = ((reference_date - financial_data['dob']).dt.days/365).astype('int')\n",
    "\n",
    "# Création de la variable groupe d'âge\n",
    "financial_data['group_age']=pd.cut(financial_data['age'],\n",
    "                                   bins=[14,31,46,60,100],\n",
    "                                   labels=['15-30 ans', '31-45 ans','46-60 ans' ,'+60 ans']\n",
    "                                  ).astype('category')\n",
    "\n",
    "# Concaténer first(prénom) et last(nom_de_famille) pour avoir\n",
    "# nom complet\n",
    "financial_data['fullname'] = (financial_data['first'] +' '+ financial_data['last']).astype('string')\n",
    "\n",
    "# Récoder la variable is_fraud 'oui'| 'non' en créant une nouvelle\n",
    "financial_data['fraud'] = financial_data['is_fraud'].map({1:'oui',0:'non'}).astype('category')\n"
   ]
  },
  {
   "cell_type": "code",
   "execution_count": null,
   "metadata": {},
   "outputs": [],
   "source": [
    "info(financial_data)"
   ]
  },
  {
   "cell_type": "markdown",
   "metadata": {},
   "source": [
    "### reorganisation des colonnes et exportation des données finales"
   ]
  },
  {
   "cell_type": "code",
   "execution_count": null,
   "metadata": {},
   "outputs": [],
   "source": [
    "# Réorganisation des columns\n",
    "\n",
    "financial_data.rename(columns={'category':'business_sector',\n",
    "                               'cc_num':'card_number',\n",
    "                               'amt':'amount_USD'}, inplace = True)\n",
    "\n",
    "list_vars = ['card_number', 'date_transaction','year_transaction' ,'month_transaction',\n",
    "             'day_transaction', 'hour_transaction', 'moment_transaction','amount_USD',\n",
    "             'fullname', 'gender', 'age', 'group_age', 'job', 'business_sector',\n",
    "             'city', 'city_pop', 'state', 'lat', 'long', 'fraud', 'trans_num']\n",
    "\n",
    "final_data = financial_data[list_vars].sort_values(by = 'date_transaction',\n",
    "                                      ascending = True,\n",
    "                                      ignore_index=True)"
   ]
  },
  {
   "cell_type": "markdown",
   "metadata": {},
   "source": [
    "## Analyse Statistique des données"
   ]
  },
  {
   "cell_type": "markdown",
   "metadata": {},
   "source": [
    "- fonction pour tableau Croisé de Statistiques descriptives"
   ]
  },
  {
   "cell_type": "code",
   "execution_count": null,
   "metadata": {},
   "outputs": [],
   "source": []
  }
 ],
 "metadata": {
  "kernelspec": {
   "display_name": "env",
   "language": "python",
   "name": "python3"
  },
  "language_info": {
   "codemirror_mode": {
    "name": "ipython",
    "version": 3
   },
   "file_extension": ".py",
   "mimetype": "text/x-python",
   "name": "python",
   "nbconvert_exporter": "python",
   "pygments_lexer": "ipython3",
   "version": "3.13.0"
  }
 },
 "nbformat": 4,
 "nbformat_minor": 2
}
